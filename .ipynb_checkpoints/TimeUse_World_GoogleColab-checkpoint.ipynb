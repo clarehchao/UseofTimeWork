{
 "cells": [
  {
   "cell_type": "markdown",
   "id": "98565536-a4dd-4e00-94bc-750c63907c31",
   "metadata": {
    "id": "98565536-a4dd-4e00-94bc-750c63907c31"
   },
   "source": [
    "# **How American People Use Their Time**\n",
    "- Data source: [How People Spend their time Article](https://ourworldindata.org/time-use#who-do-we-spend-time-with-across-our-lifetime)\n",
    "- Learn how to create interactive visualization similar to the ones shown in the article using Plotly visualization package\n",
    "- Explore data to see what visualizatio works or not and include details to further enhance the visualization\n"
   ]
  },
  {
   "cell_type": "code",
   "execution_count": null,
   "id": "b6647f15-6989-4692-8513-2c372044e647",
   "metadata": {
    "colab": {
     "base_uri": "https://localhost:8080/",
     "height": 34
    },
    "id": "b6647f15-6989-4692-8513-2c372044e647",
    "outputId": "c65a566a-dd76-4f0e-9e2a-89e3fb557e39"
   },
   "outputs": [
    {
     "data": {
      "text/html": [
       "        <script type=\"text/javascript\">\n",
       "        window.PlotlyConfig = {MathJaxConfig: 'local'};\n",
       "        if (window.MathJax && window.MathJax.Hub && window.MathJax.Hub.Config) {window.MathJax.Hub.Config({SVG: {font: \"STIX-Web\"}});}\n",
       "        if (typeof require !== 'undefined') {\n",
       "        require.undef(\"plotly\");\n",
       "        requirejs.config({\n",
       "            paths: {\n",
       "                'plotly': ['https://cdn.plot.ly/plotly-2.35.2.min']\n",
       "            }\n",
       "        });\n",
       "        require(['plotly'], function(Plotly) {\n",
       "            window._Plotly = Plotly;\n",
       "        });\n",
       "        }\n",
       "        </script>\n",
       "        "
      ]
     },
     "metadata": {},
     "output_type": "display_data"
    },
    {
     "name": "stdout",
     "output_type": "stream",
     "text": [
      "Drive already mounted at /content/drive; to attempt to forcibly remount, call drive.mount(\"/content/drive\", force_remount=True).\n"
     ]
    }
   ],
   "source": [
    "import pandas as pd\n",
    "import seaborn as sns\n",
    "import matplotlib.pyplot as plt\n",
    "import numpy as np\n",
    "import plotly.express as px\n",
    "from plotly.offline import plot, iplot, init_notebook_mode\n",
    "init_notebook_mode(connected=True)\n",
    "# import plotly.io as pio\n",
    "\n",
    "\n",
    "# mount google drive\n",
    "from google.colab import drive\n",
    "drive.mount('/content/drive')"
   ]
  },
  {
   "cell_type": "code",
   "execution_count": null,
   "id": "63b2b113-3884-4922-bb4a-e761f381d229",
   "metadata": {
    "id": "63b2b113-3884-4922-bb4a-e761f381d229"
   },
   "outputs": [],
   "source": [
    "fdir = '/content/drive/MyDrive/UseofTimeWork'\n",
    "fname1 = '{}/time-spent-with-relationships-by-age-us.csv'.format(fdir)\n",
    "df1 = pd.read_csv(fname1)\n",
    "# df1.head()"
   ]
  },
  {
   "cell_type": "code",
   "execution_count": null,
   "id": "d65044cb-5126-4b55-9222-bf3ae831fad7",
   "metadata": {
    "id": "d65044cb-5126-4b55-9222-bf3ae831fad7"
   },
   "outputs": [],
   "source": [
    "# convert to long form data\n",
    "col_name_change_dict = {'Time spent alone, by age of respondent (United States)': 'Alone',\n",
    "            'Time spent with friends, by age of respondent (United States)': 'Friends',\n",
    "            'Time spent with children, by age of respondent (United States)': 'Children',\n",
    "            'Time spent with with parents, siblings and other family, by age of respondent (United States)': 'Parents, siblings, families',\n",
    "            'Time spent with partner, by age of respondent (United States)': 'Partner',\n",
    "            'Time spent with coworkers, by age of respondent (United States)': 'Coworkers'}\n",
    "df1.rename(columns = col_name_change_dict, inplace = True)\n",
    "\n",
    "col = df1.columns\n",
    "id_vars = ['Entity','Code','Year']\n",
    "val_vars = set(col) - set(id_vars)\n",
    "df1_long = pd.melt(df1, id_vars=id_vars, value_vars=val_vars,var_name='People type',value_name='Time_mins')\n",
    "# df1_long.head(10)"
   ]
  },
  {
   "cell_type": "code",
   "execution_count": null,
   "id": "9e988636-5b8e-45ae-bd1a-340c9f75063f",
   "metadata": {
    "id": "9e988636-5b8e-45ae-bd1a-340c9f75063f"
   },
   "outputs": [],
   "source": [
    "# define a function for plotting line plots for multiple categories\n",
    "# with custom hover and annotations\n",
    "\n",
    "def LinePlot_TimevsAge(df, xx, yy, cc):\n",
    "    # df: input dataframe\n",
    "    # xx: column name of x-axis data\n",
    "    # yy: column name of y-axis data\n",
    "    # cc: name of categorical data ('color' field of Plotly Line plot)\n",
    "    fig = px.line(df, x=xx, y=yy, color=cc,\n",
    "                 color_discrete_sequence=px.colors.qualitative.Plotly)\n",
    "    fig.update_layout(\n",
    "        width = 1000,\n",
    "        height=750,\n",
    "        xaxis_title={\n",
    "            'text': '<b>Age</b>',\n",
    "            'font': {'size': 13, 'family': 'Arial'}\n",
    "        },\n",
    "        yaxis_title={'text':'<b>Time spent with the people (mins)</b>',\n",
    "                    'font':{'size': 13, 'family': 'Arial'}\n",
    "        },\n",
    "        title={'text':'<b>Who American People Spend Time with by Age </b>',\n",
    "                    'font':{'size': 15, 'family': 'Arial'}\n",
    "        },\n",
    "        title_x=0.45, #ceneter the title to the middle, title_x btw 0 and 1\n",
    "    ) # to bold font, use <b> </b> like HTML\n",
    "\n",
    "    # edit hover info or template\n",
    "    group_dict = {}\n",
    "    for d in fig.data:\n",
    "        # print('{}, {}'.format(d.legendgroup, d.line['color']))\n",
    "        group_dict[d.legendgroup] = {'color':d.line['color'],'x_last':d.x[-1],'y_last':d.y[-1]}\n",
    "        if d.name:\n",
    "            tmp = '<b>With {}:</b> {}{{y:.2f}} mins<extra></extra>'.format(d.name,'%')\n",
    "            d.hovertemplate = tmp\n",
    "\n",
    "    # add text suffix y.o. so hover label shows '9 y.o.' instead of '9'\n",
    "    # this is the closest way to change hover title when using x unified mode\n",
    "    # look and see if more options come out in the future in Plotly package\n",
    "    xaxis_format = {\n",
    "        'ticksuffix': ' y.o.'\n",
    "    }\n",
    "    fig.update_layout(hovermode='x unified',\n",
    "                      xaxis=xaxis_format,\n",
    "                      showlegend=False)\n",
    "\n",
    "    # instead of legend, add annotation for each group\n",
    "    for k, val in group_dict.items():\n",
    "        if k == 'Parents, siblings, families':\n",
    "            txt = 'With Families'\n",
    "        elif k == 'Alone':\n",
    "            txt = k\n",
    "        else:\n",
    "            txt = 'With {}'.format(k)\n",
    "        fig.add_annotation(\n",
    "            x=val['x_last']+0.5\n",
    "            , y=val['y_last']\n",
    "            , text= txt\n",
    "            , yanchor='auto'\n",
    "            , showarrow=True\n",
    "            , arrowhead=1\n",
    "            , arrowsize=0.8\n",
    "            , arrowwidth=1.5\n",
    "            , arrowcolor=val['color']\n",
    "            , ax=80\n",
    "            , ay=0\n",
    "            , font=dict(size=13, color=val['color'], family=\"Arial\")\n",
    "            , align=\"left\")\n",
    "    fig.show()"
   ]
  },
  {
   "cell_type": "code",
   "execution_count": null,
   "id": "c0376fad-5aaa-4e3d-b1bb-a1729b607295",
   "metadata": {
    "colab": {
     "base_uri": "https://localhost:8080/",
     "height": 767
    },
    "id": "c0376fad-5aaa-4e3d-b1bb-a1729b607295",
    "outputId": "0def60b0-c1c2-44ee-8228-907c55509aed"
   },
   "outputs": [
    {
     "data": {
      "application/vnd.plotly.v1+json": {
       "config": {
        "plotlyServerURL": "https://plot.ly"
       },
       "data": [
        {
         "hovertemplate": "<b>With Partner:</b> %{y:.2f} mins<extra></extra>",
         "legendgroup": "Partner",
         "line": {
          "color": "#636EFA",
          "dash": "solid"
         },
         "marker": {
          "symbol": "circle"
         },
         "mode": "lines",
         "name": "Partner",
         "orientation": "v",
         "showlegend": true,
         "type": "scatter",
         "x": [
          15,
          16,
          17,
          18,
          19,
          20,
          21,
          22,
          23,
          24,
          25,
          26,
          27,
          28,
          29,
          30,
          31,
          32,
          33,
          34,
          35,
          36,
          37,
          38,
          39,
          40,
          41,
          42,
          43,
          44,
          45,
          46,
          47,
          48,
          49,
          50,
          51,
          52,
          53,
          54,
          55,
          56,
          57,
          58,
          59,
          60,
          61,
          62,
          63,
          64,
          65,
          66,
          67,
          68,
          69,
          70,
          71,
          72,
          73,
          74,
          75,
          76,
          77,
          78,
          79,
          80
         ],
         "xaxis": "x",
         "y": [
          0,
          0.030690858,
          1.1228406,
          5.6972671,
          19.341291,
          26.35417,
          59.897781,
          55.767094,
          78.188667,
          99.44416,
          121.25083,
          139.91745,
          151.88562,
          168.24556,
          176.19919,
          180.02309,
          203.71202,
          192.00175,
          200.02365,
          199.23759,
          198.27702,
          197.55948,
          204.00514,
          203.30919,
          212.07637,
          201.94627,
          194.68652,
          182.25496,
          181.83145,
          191.94835,
          183.99062,
          186.65195,
          181.05563,
          197.96497,
          194.11002,
          174.92821,
          187.80592,
          190.51634,
          188.71446,
          182.8898,
          184.38846,
          195.93608,
          185.31619,
          186.54398,
          199.87039,
          204.63687,
          205.22923,
          224.05167,
          232.44521,
          231.84886,
          242.53215,
          255.86,
          258.14743,
          260.36365,
          270.69342,
          261.86359,
          266.694,
          261.05215,
          276.13379,
          254.44495,
          252.93309,
          266.23712,
          272.73013,
          256.41376,
          235.3701,
          227.04634
         ],
         "yaxis": "y"
        },
        {
         "hovertemplate": "<b>With Friends:</b> %{y:.2f} mins<extra></extra>",
         "legendgroup": "Friends",
         "line": {
          "color": "#EF553B",
          "dash": "solid"
         },
         "marker": {
          "symbol": "circle"
         },
         "mode": "lines",
         "name": "Friends",
         "orientation": "v",
         "showlegend": true,
         "type": "scatter",
         "x": [
          15,
          16,
          17,
          18,
          19,
          20,
          21,
          22,
          23,
          24,
          25,
          26,
          27,
          28,
          29,
          30,
          31,
          32,
          33,
          34,
          35,
          36,
          37,
          38,
          39,
          40,
          41,
          42,
          43,
          44,
          45,
          46,
          47,
          48,
          49,
          50,
          51,
          52,
          53,
          54,
          55,
          56,
          57,
          58,
          59,
          60,
          61,
          62,
          63,
          64,
          65,
          66,
          67,
          68,
          69,
          70,
          71,
          72,
          73,
          74,
          75,
          76,
          77,
          78,
          79,
          80
         ],
         "xaxis": "x",
         "y": [
          109.4145,
          110.7418,
          120.41887,
          137.75107,
          129.85716,
          122.7402,
          122.40627,
          100.16862,
          101.07177,
          96.786346,
          77.543015,
          77.856834,
          74.140686,
          62.491688,
          55.084454,
          53.478016,
          50.925926,
          49.464462,
          49.731628,
          42.650288,
          41.661636,
          40.120937,
          43.362503,
          42.101093,
          33.611919,
          36.197014,
          38.729492,
          38.695633,
          39.107994,
          38.859802,
          36.090996,
          37.459354,
          39.243477,
          33.357357,
          37.315029,
          28.917883,
          35.627602,
          33.961197,
          31.585169,
          34.837147,
          33.079144,
          36.820248,
          31.479084,
          35.2756,
          29.068735,
          35.94643,
          32.807606,
          34.453568,
          36.147518,
          35.180847,
          35.90049,
          40.828274,
          38.98082,
          41.382526,
          42.001629,
          45.80217,
          44.433987,
          44.234802,
          36.592476,
          40.508751,
          39.079994,
          41.503906,
          33.595589,
          39.297825,
          41.975792,
          35.589745
         ],
         "yaxis": "y"
        },
        {
         "hovertemplate": "<b>With Parents, siblings, families:</b> %{y:.2f} mins<extra></extra>",
         "legendgroup": "Parents, siblings, families",
         "line": {
          "color": "#00CC96",
          "dash": "solid"
         },
         "marker": {
          "symbol": "circle"
         },
         "mode": "lines",
         "name": "Parents, siblings, families",
         "orientation": "v",
         "showlegend": true,
         "type": "scatter",
         "x": [
          15,
          16,
          17,
          18,
          19,
          20,
          21,
          22,
          23,
          24,
          25,
          26,
          27,
          28,
          29,
          30,
          31,
          32,
          33,
          34,
          35,
          36,
          37,
          38,
          39,
          40,
          41,
          42,
          43,
          44,
          45,
          46,
          47,
          48,
          49,
          50,
          51,
          52,
          53,
          54,
          55,
          56,
          57,
          58,
          59,
          60,
          61,
          62,
          63,
          64,
          65,
          66,
          67,
          68,
          69,
          70,
          71,
          72,
          73,
          74,
          75,
          76,
          77,
          78,
          79,
          80
         ],
         "xaxis": "x",
         "y": [
          267.12091,
          254.3381,
          229.81561,
          236.35201,
          201.2766,
          173.13503,
          152.67331,
          135.8266,
          125.79333,
          103.75845,
          101.02744,
          87.654915,
          85.956535,
          80.147217,
          81.6101,
          72.476334,
          69.526543,
          61.336475,
          66.359383,
          65.723053,
          62.107143,
          64.809921,
          56.446011,
          54.001514,
          52.701588,
          54.638985,
          55.611694,
          50.690075,
          55.288914,
          54.224209,
          58.068977,
          54.798512,
          60.089104,
          58.556328,
          58.63641,
          65.362938,
          62.211754,
          65.243996,
          59.573872,
          60.021786,
          60.739655,
          66.083549,
          58.831005,
          65.851311,
          67.322807,
          65.528786,
          60.896008,
          56.583904,
          73.459251,
          63.962303,
          65.28495,
          69.281334,
          58.832348,
          53.716782,
          61.424671,
          47.977863,
          58.145714,
          57.166805,
          56.550076,
          66.20977,
          56.281876,
          51.955276,
          67.455605,
          59.704296,
          51.944447,
          66.100365
         ],
         "yaxis": "y"
        },
        {
         "hovertemplate": "<b>With Children:</b> %{y:.2f} mins<extra></extra>",
         "legendgroup": "Children",
         "line": {
          "color": "#AB63FA",
          "dash": "solid"
         },
         "marker": {
          "symbol": "circle"
         },
         "mode": "lines",
         "name": "Children",
         "orientation": "v",
         "showlegend": true,
         "type": "scatter",
         "x": [
          15,
          16,
          17,
          18,
          19,
          20,
          21,
          22,
          23,
          24,
          25,
          26,
          27,
          28,
          29,
          30,
          31,
          32,
          33,
          34,
          35,
          36,
          37,
          38,
          39,
          40,
          41,
          42,
          43,
          44,
          45,
          46,
          47,
          48,
          49,
          50,
          51,
          52,
          53,
          54,
          55,
          56,
          57,
          58,
          59,
          60,
          61,
          62,
          63,
          64,
          65,
          66,
          67,
          68,
          69,
          70,
          71,
          72,
          73,
          74,
          75,
          76,
          77,
          78,
          79,
          80
         ],
         "xaxis": "x",
         "y": [
          23.463852,
          28.609867,
          26.089708,
          27.387308,
          36.445004,
          54.630512,
          69.293869,
          72.302246,
          96.935883,
          99.394424,
          119.50971,
          128.59393,
          153.33383,
          175.83809,
          194.49931,
          199.76436,
          225.92371,
          230.71593,
          256.41312,
          261.18497,
          248.93806,
          256.59799,
          256.37634,
          254.45975,
          266.07874,
          242.43935,
          237.29298,
          222.96886,
          207.65651,
          207.01961,
          199.21028,
          177.52652,
          168.4313,
          157.297,
          132.68301,
          132.44537,
          123.67976,
          102.66885,
          102.3604,
          89.755821,
          88.129921,
          78.608688,
          73.898285,
          68.309761,
          70.334312,
          61.933525,
          71.07634,
          57.484367,
          62.510818,
          55.407318,
          57.586105,
          59.682854,
          62.771469,
          53.818981,
          68.845222,
          52.782196,
          59.073078,
          46.338203,
          56.115063,
          48.986588,
          48.644051,
          44.339306,
          46.719131,
          42.985035,
          38.609028,
          45.010258
         ],
         "yaxis": "y"
        },
        {
         "hovertemplate": "<b>With Alone:</b> %{y:.2f} mins<extra></extra>",
         "legendgroup": "Alone",
         "line": {
          "color": "#FFA15A",
          "dash": "solid"
         },
         "marker": {
          "symbol": "circle"
         },
         "mode": "lines",
         "name": "Alone",
         "orientation": "v",
         "showlegend": true,
         "type": "scatter",
         "x": [
          15,
          16,
          17,
          18,
          19,
          20,
          21,
          22,
          23,
          24,
          25,
          26,
          27,
          28,
          29,
          30,
          31,
          32,
          33,
          34,
          35,
          36,
          37,
          38,
          39,
          40,
          41,
          42,
          43,
          44,
          45,
          46,
          47,
          48,
          49,
          50,
          51,
          52,
          53,
          54,
          55,
          56,
          57,
          58,
          59,
          60,
          61,
          62,
          63,
          64,
          65,
          66,
          67,
          68,
          69,
          70,
          71,
          72,
          73,
          74,
          75,
          76,
          77,
          78,
          79,
          80
         ],
         "xaxis": "x",
         "y": [
          193.30588,
          206.37056,
          224.17331,
          242.69839,
          267.79385,
          277.60379,
          270.21817,
          283.56686,
          270.93015,
          265.81378,
          275.12906,
          281.63202,
          259.3331,
          261.13989,
          253.66589,
          250.02524,
          253.16542,
          255.07323,
          244.90091,
          263.59116,
          262.62488,
          273.27942,
          267.09787,
          258.99704,
          281.98877,
          278.25668,
          292.07227,
          297.90939,
          321.74783,
          312.69861,
          309.03583,
          326.78207,
          338.24756,
          332.5762,
          339.72601,
          361.14328,
          368.59146,
          380.84085,
          372.17041,
          377.70459,
          384.14532,
          387.00711,
          399.18466,
          409.77731,
          411.51978,
          413.32019,
          414.82727,
          425.2204,
          430.51068,
          449.01306,
          444.02954,
          431.98727,
          433.85413,
          448.22601,
          443.00061,
          448.85193,
          444.47784,
          474.45526,
          451.40637,
          458.6745,
          463.43195,
          456.49493,
          454.3125,
          461.63959,
          485.83075,
          476.76736
         ],
         "yaxis": "y"
        },
        {
         "hovertemplate": "<b>With Coworkers:</b> %{y:.2f} mins<extra></extra>",
         "legendgroup": "Coworkers",
         "line": {
          "color": "#19D3F3",
          "dash": "solid"
         },
         "marker": {
          "symbol": "circle"
         },
         "mode": "lines",
         "name": "Coworkers",
         "orientation": "v",
         "showlegend": true,
         "type": "scatter",
         "x": [
          15,
          16,
          17,
          18,
          19,
          20,
          21,
          22,
          23,
          24,
          25,
          26,
          27,
          28,
          29,
          30,
          31,
          32,
          33,
          34,
          35,
          36,
          37,
          38,
          39,
          40,
          41,
          42,
          43,
          44,
          45,
          46,
          47,
          48,
          49,
          50,
          51,
          52,
          53,
          54,
          55,
          56,
          57,
          58,
          59,
          60,
          61,
          62,
          63,
          64,
          65,
          66,
          67,
          68,
          69,
          70,
          71,
          72,
          73,
          74,
          75,
          76,
          77,
          78,
          79,
          80
         ],
         "xaxis": "x",
         "y": [
          8.3420067,
          23.529137,
          43.809685,
          81.633575,
          124.85052,
          143.9003,
          154.20972,
          173.0473,
          190.10524,
          206.05486,
          199.20917,
          190.09406,
          211.48781,
          212.14497,
          199.11349,
          215.61365,
          199.06003,
          202.76134,
          186.96373,
          179.36411,
          190.68065,
          178.94667,
          188.47969,
          197.09261,
          172.79756,
          187.34126,
          179.37498,
          189.4864,
          169.79688,
          182.13411,
          182.52716,
          179.01489,
          171.43033,
          170.06847,
          187.72957,
          168.1844,
          172.19505,
          176.08771,
          168.29805,
          184.43581,
          162.92227,
          154.11407,
          157.73422,
          140.36014,
          140.17371,
          125.92768,
          126.77782,
          96.651878,
          78.317001,
          78.246071,
          62.186493,
          50.919098,
          44.558029,
          39.273418,
          27.190746,
          26.851473,
          21.892221,
          20.653986,
          18.386124,
          14.613341,
          16.36656,
          19.662245,
          12.47935,
          3.2494414,
          4.5325632,
          5.2152042
         ],
         "yaxis": "y"
        }
       ],
       "layout": {
        "annotations": [
         {
          "align": "left",
          "arrowcolor": "#636EFA",
          "arrowhead": 1,
          "arrowsize": 0.8,
          "arrowwidth": 1.5,
          "ax": 80,
          "ay": 0,
          "font": {
           "color": "#636EFA",
           "family": "Arial",
           "size": 13
          },
          "showarrow": true,
          "text": "With Partner",
          "x": 80.5,
          "y": 227.04634,
          "yanchor": "auto"
         },
         {
          "align": "left",
          "arrowcolor": "#EF553B",
          "arrowhead": 1,
          "arrowsize": 0.8,
          "arrowwidth": 1.5,
          "ax": 80,
          "ay": 0,
          "font": {
           "color": "#EF553B",
           "family": "Arial",
           "size": 13
          },
          "showarrow": true,
          "text": "With Friends",
          "x": 80.5,
          "y": 35.589745,
          "yanchor": "auto"
         },
         {
          "align": "left",
          "arrowcolor": "#00CC96",
          "arrowhead": 1,
          "arrowsize": 0.8,
          "arrowwidth": 1.5,
          "ax": 80,
          "ay": 0,
          "font": {
           "color": "#00CC96",
           "family": "Arial",
           "size": 13
          },
          "showarrow": true,
          "text": "With Families",
          "x": 80.5,
          "y": 66.100365,
          "yanchor": "auto"
         },
         {
          "align": "left",
          "arrowcolor": "#AB63FA",
          "arrowhead": 1,
          "arrowsize": 0.8,
          "arrowwidth": 1.5,
          "ax": 80,
          "ay": 0,
          "font": {
           "color": "#AB63FA",
           "family": "Arial",
           "size": 13
          },
          "showarrow": true,
          "text": "With Children",
          "x": 80.5,
          "y": 45.010258,
          "yanchor": "auto"
         },
         {
          "align": "left",
          "arrowcolor": "#FFA15A",
          "arrowhead": 1,
          "arrowsize": 0.8,
          "arrowwidth": 1.5,
          "ax": 80,
          "ay": 0,
          "font": {
           "color": "#FFA15A",
           "family": "Arial",
           "size": 13
          },
          "showarrow": true,
          "text": "Alone",
          "x": 80.5,
          "y": 476.76736,
          "yanchor": "auto"
         },
         {
          "align": "left",
          "arrowcolor": "#19D3F3",
          "arrowhead": 1,
          "arrowsize": 0.8,
          "arrowwidth": 1.5,
          "ax": 80,
          "ay": 0,
          "font": {
           "color": "#19D3F3",
           "family": "Arial",
           "size": 13
          },
          "showarrow": true,
          "text": "With Coworkers",
          "x": 80.5,
          "y": 5.2152042,
          "yanchor": "auto"
         }
        ],
        "height": 750,
        "hovermode": "x unified",
        "legend": {
         "title": {
          "text": "People type"
         },
         "tracegroupgap": 0
        },
        "margin": {
         "t": 60
        },
        "showlegend": false,
        "template": {
         "data": {
          "bar": [
           {
            "error_x": {
             "color": "#2a3f5f"
            },
            "error_y": {
             "color": "#2a3f5f"
            },
            "marker": {
             "line": {
              "color": "#E5ECF6",
              "width": 0.5
             },
             "pattern": {
              "fillmode": "overlay",
              "size": 10,
              "solidity": 0.2
             }
            },
            "type": "bar"
           }
          ],
          "barpolar": [
           {
            "marker": {
             "line": {
              "color": "#E5ECF6",
              "width": 0.5
             },
             "pattern": {
              "fillmode": "overlay",
              "size": 10,
              "solidity": 0.2
             }
            },
            "type": "barpolar"
           }
          ],
          "carpet": [
           {
            "aaxis": {
             "endlinecolor": "#2a3f5f",
             "gridcolor": "white",
             "linecolor": "white",
             "minorgridcolor": "white",
             "startlinecolor": "#2a3f5f"
            },
            "baxis": {
             "endlinecolor": "#2a3f5f",
             "gridcolor": "white",
             "linecolor": "white",
             "minorgridcolor": "white",
             "startlinecolor": "#2a3f5f"
            },
            "type": "carpet"
           }
          ],
          "choropleth": [
           {
            "colorbar": {
             "outlinewidth": 0,
             "ticks": ""
            },
            "type": "choropleth"
           }
          ],
          "contour": [
           {
            "colorbar": {
             "outlinewidth": 0,
             "ticks": ""
            },
            "colorscale": [
             [
              0,
              "#0d0887"
             ],
             [
              0.1111111111111111,
              "#46039f"
             ],
             [
              0.2222222222222222,
              "#7201a8"
             ],
             [
              0.3333333333333333,
              "#9c179e"
             ],
             [
              0.4444444444444444,
              "#bd3786"
             ],
             [
              0.5555555555555556,
              "#d8576b"
             ],
             [
              0.6666666666666666,
              "#ed7953"
             ],
             [
              0.7777777777777778,
              "#fb9f3a"
             ],
             [
              0.8888888888888888,
              "#fdca26"
             ],
             [
              1,
              "#f0f921"
             ]
            ],
            "type": "contour"
           }
          ],
          "contourcarpet": [
           {
            "colorbar": {
             "outlinewidth": 0,
             "ticks": ""
            },
            "type": "contourcarpet"
           }
          ],
          "heatmap": [
           {
            "colorbar": {
             "outlinewidth": 0,
             "ticks": ""
            },
            "colorscale": [
             [
              0,
              "#0d0887"
             ],
             [
              0.1111111111111111,
              "#46039f"
             ],
             [
              0.2222222222222222,
              "#7201a8"
             ],
             [
              0.3333333333333333,
              "#9c179e"
             ],
             [
              0.4444444444444444,
              "#bd3786"
             ],
             [
              0.5555555555555556,
              "#d8576b"
             ],
             [
              0.6666666666666666,
              "#ed7953"
             ],
             [
              0.7777777777777778,
              "#fb9f3a"
             ],
             [
              0.8888888888888888,
              "#fdca26"
             ],
             [
              1,
              "#f0f921"
             ]
            ],
            "type": "heatmap"
           }
          ],
          "heatmapgl": [
           {
            "colorbar": {
             "outlinewidth": 0,
             "ticks": ""
            },
            "colorscale": [
             [
              0,
              "#0d0887"
             ],
             [
              0.1111111111111111,
              "#46039f"
             ],
             [
              0.2222222222222222,
              "#7201a8"
             ],
             [
              0.3333333333333333,
              "#9c179e"
             ],
             [
              0.4444444444444444,
              "#bd3786"
             ],
             [
              0.5555555555555556,
              "#d8576b"
             ],
             [
              0.6666666666666666,
              "#ed7953"
             ],
             [
              0.7777777777777778,
              "#fb9f3a"
             ],
             [
              0.8888888888888888,
              "#fdca26"
             ],
             [
              1,
              "#f0f921"
             ]
            ],
            "type": "heatmapgl"
           }
          ],
          "histogram": [
           {
            "marker": {
             "pattern": {
              "fillmode": "overlay",
              "size": 10,
              "solidity": 0.2
             }
            },
            "type": "histogram"
           }
          ],
          "histogram2d": [
           {
            "colorbar": {
             "outlinewidth": 0,
             "ticks": ""
            },
            "colorscale": [
             [
              0,
              "#0d0887"
             ],
             [
              0.1111111111111111,
              "#46039f"
             ],
             [
              0.2222222222222222,
              "#7201a8"
             ],
             [
              0.3333333333333333,
              "#9c179e"
             ],
             [
              0.4444444444444444,
              "#bd3786"
             ],
             [
              0.5555555555555556,
              "#d8576b"
             ],
             [
              0.6666666666666666,
              "#ed7953"
             ],
             [
              0.7777777777777778,
              "#fb9f3a"
             ],
             [
              0.8888888888888888,
              "#fdca26"
             ],
             [
              1,
              "#f0f921"
             ]
            ],
            "type": "histogram2d"
           }
          ],
          "histogram2dcontour": [
           {
            "colorbar": {
             "outlinewidth": 0,
             "ticks": ""
            },
            "colorscale": [
             [
              0,
              "#0d0887"
             ],
             [
              0.1111111111111111,
              "#46039f"
             ],
             [
              0.2222222222222222,
              "#7201a8"
             ],
             [
              0.3333333333333333,
              "#9c179e"
             ],
             [
              0.4444444444444444,
              "#bd3786"
             ],
             [
              0.5555555555555556,
              "#d8576b"
             ],
             [
              0.6666666666666666,
              "#ed7953"
             ],
             [
              0.7777777777777778,
              "#fb9f3a"
             ],
             [
              0.8888888888888888,
              "#fdca26"
             ],
             [
              1,
              "#f0f921"
             ]
            ],
            "type": "histogram2dcontour"
           }
          ],
          "mesh3d": [
           {
            "colorbar": {
             "outlinewidth": 0,
             "ticks": ""
            },
            "type": "mesh3d"
           }
          ],
          "parcoords": [
           {
            "line": {
             "colorbar": {
              "outlinewidth": 0,
              "ticks": ""
             }
            },
            "type": "parcoords"
           }
          ],
          "pie": [
           {
            "automargin": true,
            "type": "pie"
           }
          ],
          "scatter": [
           {
            "fillpattern": {
             "fillmode": "overlay",
             "size": 10,
             "solidity": 0.2
            },
            "type": "scatter"
           }
          ],
          "scatter3d": [
           {
            "line": {
             "colorbar": {
              "outlinewidth": 0,
              "ticks": ""
             }
            },
            "marker": {
             "colorbar": {
              "outlinewidth": 0,
              "ticks": ""
             }
            },
            "type": "scatter3d"
           }
          ],
          "scattercarpet": [
           {
            "marker": {
             "colorbar": {
              "outlinewidth": 0,
              "ticks": ""
             }
            },
            "type": "scattercarpet"
           }
          ],
          "scattergeo": [
           {
            "marker": {
             "colorbar": {
              "outlinewidth": 0,
              "ticks": ""
             }
            },
            "type": "scattergeo"
           }
          ],
          "scattergl": [
           {
            "marker": {
             "colorbar": {
              "outlinewidth": 0,
              "ticks": ""
             }
            },
            "type": "scattergl"
           }
          ],
          "scattermapbox": [
           {
            "marker": {
             "colorbar": {
              "outlinewidth": 0,
              "ticks": ""
             }
            },
            "type": "scattermapbox"
           }
          ],
          "scatterpolar": [
           {
            "marker": {
             "colorbar": {
              "outlinewidth": 0,
              "ticks": ""
             }
            },
            "type": "scatterpolar"
           }
          ],
          "scatterpolargl": [
           {
            "marker": {
             "colorbar": {
              "outlinewidth": 0,
              "ticks": ""
             }
            },
            "type": "scatterpolargl"
           }
          ],
          "scatterternary": [
           {
            "marker": {
             "colorbar": {
              "outlinewidth": 0,
              "ticks": ""
             }
            },
            "type": "scatterternary"
           }
          ],
          "surface": [
           {
            "colorbar": {
             "outlinewidth": 0,
             "ticks": ""
            },
            "colorscale": [
             [
              0,
              "#0d0887"
             ],
             [
              0.1111111111111111,
              "#46039f"
             ],
             [
              0.2222222222222222,
              "#7201a8"
             ],
             [
              0.3333333333333333,
              "#9c179e"
             ],
             [
              0.4444444444444444,
              "#bd3786"
             ],
             [
              0.5555555555555556,
              "#d8576b"
             ],
             [
              0.6666666666666666,
              "#ed7953"
             ],
             [
              0.7777777777777778,
              "#fb9f3a"
             ],
             [
              0.8888888888888888,
              "#fdca26"
             ],
             [
              1,
              "#f0f921"
             ]
            ],
            "type": "surface"
           }
          ],
          "table": [
           {
            "cells": {
             "fill": {
              "color": "#EBF0F8"
             },
             "line": {
              "color": "white"
             }
            },
            "header": {
             "fill": {
              "color": "#C8D4E3"
             },
             "line": {
              "color": "white"
             }
            },
            "type": "table"
           }
          ]
         },
         "layout": {
          "annotationdefaults": {
           "arrowcolor": "#2a3f5f",
           "arrowhead": 0,
           "arrowwidth": 1
          },
          "autotypenumbers": "strict",
          "coloraxis": {
           "colorbar": {
            "outlinewidth": 0,
            "ticks": ""
           }
          },
          "colorscale": {
           "diverging": [
            [
             0,
             "#8e0152"
            ],
            [
             0.1,
             "#c51b7d"
            ],
            [
             0.2,
             "#de77ae"
            ],
            [
             0.3,
             "#f1b6da"
            ],
            [
             0.4,
             "#fde0ef"
            ],
            [
             0.5,
             "#f7f7f7"
            ],
            [
             0.6,
             "#e6f5d0"
            ],
            [
             0.7,
             "#b8e186"
            ],
            [
             0.8,
             "#7fbc41"
            ],
            [
             0.9,
             "#4d9221"
            ],
            [
             1,
             "#276419"
            ]
           ],
           "sequential": [
            [
             0,
             "#0d0887"
            ],
            [
             0.1111111111111111,
             "#46039f"
            ],
            [
             0.2222222222222222,
             "#7201a8"
            ],
            [
             0.3333333333333333,
             "#9c179e"
            ],
            [
             0.4444444444444444,
             "#bd3786"
            ],
            [
             0.5555555555555556,
             "#d8576b"
            ],
            [
             0.6666666666666666,
             "#ed7953"
            ],
            [
             0.7777777777777778,
             "#fb9f3a"
            ],
            [
             0.8888888888888888,
             "#fdca26"
            ],
            [
             1,
             "#f0f921"
            ]
           ],
           "sequentialminus": [
            [
             0,
             "#0d0887"
            ],
            [
             0.1111111111111111,
             "#46039f"
            ],
            [
             0.2222222222222222,
             "#7201a8"
            ],
            [
             0.3333333333333333,
             "#9c179e"
            ],
            [
             0.4444444444444444,
             "#bd3786"
            ],
            [
             0.5555555555555556,
             "#d8576b"
            ],
            [
             0.6666666666666666,
             "#ed7953"
            ],
            [
             0.7777777777777778,
             "#fb9f3a"
            ],
            [
             0.8888888888888888,
             "#fdca26"
            ],
            [
             1,
             "#f0f921"
            ]
           ]
          },
          "colorway": [
           "#636efa",
           "#EF553B",
           "#00cc96",
           "#ab63fa",
           "#FFA15A",
           "#19d3f3",
           "#FF6692",
           "#B6E880",
           "#FF97FF",
           "#FECB52"
          ],
          "font": {
           "color": "#2a3f5f"
          },
          "geo": {
           "bgcolor": "white",
           "lakecolor": "white",
           "landcolor": "#E5ECF6",
           "showlakes": true,
           "showland": true,
           "subunitcolor": "white"
          },
          "hoverlabel": {
           "align": "left"
          },
          "hovermode": "closest",
          "mapbox": {
           "style": "light"
          },
          "paper_bgcolor": "white",
          "plot_bgcolor": "#E5ECF6",
          "polar": {
           "angularaxis": {
            "gridcolor": "white",
            "linecolor": "white",
            "ticks": ""
           },
           "bgcolor": "#E5ECF6",
           "radialaxis": {
            "gridcolor": "white",
            "linecolor": "white",
            "ticks": ""
           }
          },
          "scene": {
           "xaxis": {
            "backgroundcolor": "#E5ECF6",
            "gridcolor": "white",
            "gridwidth": 2,
            "linecolor": "white",
            "showbackground": true,
            "ticks": "",
            "zerolinecolor": "white"
           },
           "yaxis": {
            "backgroundcolor": "#E5ECF6",
            "gridcolor": "white",
            "gridwidth": 2,
            "linecolor": "white",
            "showbackground": true,
            "ticks": "",
            "zerolinecolor": "white"
           },
           "zaxis": {
            "backgroundcolor": "#E5ECF6",
            "gridcolor": "white",
            "gridwidth": 2,
            "linecolor": "white",
            "showbackground": true,
            "ticks": "",
            "zerolinecolor": "white"
           }
          },
          "shapedefaults": {
           "line": {
            "color": "#2a3f5f"
           }
          },
          "ternary": {
           "aaxis": {
            "gridcolor": "white",
            "linecolor": "white",
            "ticks": ""
           },
           "baxis": {
            "gridcolor": "white",
            "linecolor": "white",
            "ticks": ""
           },
           "bgcolor": "#E5ECF6",
           "caxis": {
            "gridcolor": "white",
            "linecolor": "white",
            "ticks": ""
           }
          },
          "title": {
           "x": 0.05
          },
          "xaxis": {
           "automargin": true,
           "gridcolor": "white",
           "linecolor": "white",
           "ticks": "",
           "title": {
            "standoff": 15
           },
           "zerolinecolor": "white",
           "zerolinewidth": 2
          },
          "yaxis": {
           "automargin": true,
           "gridcolor": "white",
           "linecolor": "white",
           "ticks": "",
           "title": {
            "standoff": 15
           },
           "zerolinecolor": "white",
           "zerolinewidth": 2
          }
         }
        },
        "title": {
         "font": {
          "family": "Arial",
          "size": 15
         },
         "text": "<b>Who American People Spend Time with by Age </b>",
         "x": 0.45
        },
        "width": 1000,
        "xaxis": {
         "anchor": "y",
         "domain": [
          0,
          1
         ],
         "ticksuffix": " y.o.",
         "title": {
          "font": {
           "family": "Arial",
           "size": 13
          },
          "text": "<b>Age</b>"
         }
        },
        "yaxis": {
         "anchor": "x",
         "domain": [
          0,
          1
         ],
         "title": {
          "font": {
           "family": "Arial",
           "size": 13
          },
          "text": "<b>Time spent with the people (mins)</b>"
         }
        }
       }
      },
      "text/html": [
       "<div>                            <div id=\"2ab28d3f-45fb-4c85-92ab-5d175f23e09b\" class=\"plotly-graph-div\" style=\"height:750px; width:1000px;\"></div>            <script type=\"text/javascript\">                require([\"plotly\"], function(Plotly) {                    window.PLOTLYENV=window.PLOTLYENV || {};                                    if (document.getElementById(\"2ab28d3f-45fb-4c85-92ab-5d175f23e09b\")) {                    Plotly.newPlot(                        \"2ab28d3f-45fb-4c85-92ab-5d175f23e09b\",                        [{\"hovertemplate\":\"\\u003cb\\u003eWith Partner:\\u003c\\u002fb\\u003e %{y:.2f} mins\\u003cextra\\u003e\\u003c\\u002fextra\\u003e\",\"legendgroup\":\"Partner\",\"line\":{\"color\":\"#636EFA\",\"dash\":\"solid\"},\"marker\":{\"symbol\":\"circle\"},\"mode\":\"lines\",\"name\":\"Partner\",\"orientation\":\"v\",\"showlegend\":true,\"x\":[15,16,17,18,19,20,21,22,23,24,25,26,27,28,29,30,31,32,33,34,35,36,37,38,39,40,41,42,43,44,45,46,47,48,49,50,51,52,53,54,55,56,57,58,59,60,61,62,63,64,65,66,67,68,69,70,71,72,73,74,75,76,77,78,79,80],\"xaxis\":\"x\",\"y\":[0.0,0.030690858,1.1228406,5.6972671,19.341291,26.35417,59.897781,55.767094,78.188667,99.44416,121.25083,139.91745,151.88562,168.24556,176.19919,180.02309,203.71202,192.00175,200.02365,199.23759,198.27702,197.55948,204.00514,203.30919,212.07637,201.94627,194.68652,182.25496,181.83145,191.94835,183.99062,186.65195,181.05563,197.96497,194.11002,174.92821,187.80592,190.51634,188.71446,182.8898,184.38846,195.93608,185.31619,186.54398,199.87039,204.63687,205.22923,224.05167,232.44521,231.84886,242.53215,255.86,258.14743,260.36365,270.69342,261.86359,266.694,261.05215,276.13379,254.44495,252.93309,266.23712,272.73013,256.41376,235.3701,227.04634],\"yaxis\":\"y\",\"type\":\"scatter\"},{\"hovertemplate\":\"\\u003cb\\u003eWith Friends:\\u003c\\u002fb\\u003e %{y:.2f} mins\\u003cextra\\u003e\\u003c\\u002fextra\\u003e\",\"legendgroup\":\"Friends\",\"line\":{\"color\":\"#EF553B\",\"dash\":\"solid\"},\"marker\":{\"symbol\":\"circle\"},\"mode\":\"lines\",\"name\":\"Friends\",\"orientation\":\"v\",\"showlegend\":true,\"x\":[15,16,17,18,19,20,21,22,23,24,25,26,27,28,29,30,31,32,33,34,35,36,37,38,39,40,41,42,43,44,45,46,47,48,49,50,51,52,53,54,55,56,57,58,59,60,61,62,63,64,65,66,67,68,69,70,71,72,73,74,75,76,77,78,79,80],\"xaxis\":\"x\",\"y\":[109.4145,110.7418,120.41887,137.75107,129.85716,122.7402,122.40627,100.16862,101.07177,96.786346,77.543015,77.856834,74.140686,62.491688,55.084454,53.478016,50.925926,49.464462,49.731628,42.650288,41.661636,40.120937,43.362503,42.101093,33.611919,36.197014,38.729492,38.695633,39.107994,38.859802,36.090996,37.459354,39.243477,33.357357,37.315029,28.917883,35.627602,33.961197,31.585169,34.837147,33.079144,36.820248,31.479084,35.2756,29.068735,35.94643,32.807606,34.453568,36.147518,35.180847,35.90049,40.828274,38.98082,41.382526,42.001629,45.80217,44.433987,44.234802,36.592476,40.508751,39.079994,41.503906,33.595589,39.297825,41.975792,35.589745],\"yaxis\":\"y\",\"type\":\"scatter\"},{\"hovertemplate\":\"\\u003cb\\u003eWith Parents, siblings, families:\\u003c\\u002fb\\u003e %{y:.2f} mins\\u003cextra\\u003e\\u003c\\u002fextra\\u003e\",\"legendgroup\":\"Parents, siblings, families\",\"line\":{\"color\":\"#00CC96\",\"dash\":\"solid\"},\"marker\":{\"symbol\":\"circle\"},\"mode\":\"lines\",\"name\":\"Parents, siblings, families\",\"orientation\":\"v\",\"showlegend\":true,\"x\":[15,16,17,18,19,20,21,22,23,24,25,26,27,28,29,30,31,32,33,34,35,36,37,38,39,40,41,42,43,44,45,46,47,48,49,50,51,52,53,54,55,56,57,58,59,60,61,62,63,64,65,66,67,68,69,70,71,72,73,74,75,76,77,78,79,80],\"xaxis\":\"x\",\"y\":[267.12091,254.3381,229.81561,236.35201,201.2766,173.13503,152.67331,135.8266,125.79333,103.75845,101.02744,87.654915,85.956535,80.147217,81.6101,72.476334,69.526543,61.336475,66.359383,65.723053,62.107143,64.809921,56.446011,54.001514,52.701588,54.638985,55.611694,50.690075,55.288914,54.224209,58.068977,54.798512,60.089104,58.556328,58.63641,65.362938,62.211754,65.243996,59.573872,60.021786,60.739655,66.083549,58.831005,65.851311,67.322807,65.528786,60.896008,56.583904,73.459251,63.962303,65.28495,69.281334,58.832348,53.716782,61.424671,47.977863,58.145714,57.166805,56.550076,66.20977,56.281876,51.955276,67.455605,59.704296,51.944447,66.100365],\"yaxis\":\"y\",\"type\":\"scatter\"},{\"hovertemplate\":\"\\u003cb\\u003eWith Children:\\u003c\\u002fb\\u003e %{y:.2f} mins\\u003cextra\\u003e\\u003c\\u002fextra\\u003e\",\"legendgroup\":\"Children\",\"line\":{\"color\":\"#AB63FA\",\"dash\":\"solid\"},\"marker\":{\"symbol\":\"circle\"},\"mode\":\"lines\",\"name\":\"Children\",\"orientation\":\"v\",\"showlegend\":true,\"x\":[15,16,17,18,19,20,21,22,23,24,25,26,27,28,29,30,31,32,33,34,35,36,37,38,39,40,41,42,43,44,45,46,47,48,49,50,51,52,53,54,55,56,57,58,59,60,61,62,63,64,65,66,67,68,69,70,71,72,73,74,75,76,77,78,79,80],\"xaxis\":\"x\",\"y\":[23.463852,28.609867,26.089708,27.387308,36.445004,54.630512,69.293869,72.302246,96.935883,99.394424,119.50971,128.59393,153.33383,175.83809,194.49931,199.76436,225.92371,230.71593,256.41312,261.18497,248.93806,256.59799,256.37634,254.45975,266.07874,242.43935,237.29298,222.96886,207.65651,207.01961,199.21028,177.52652,168.4313,157.297,132.68301,132.44537,123.67976,102.66885,102.3604,89.755821,88.129921,78.608688,73.898285,68.309761,70.334312,61.933525,71.07634,57.484367,62.510818,55.407318,57.586105,59.682854,62.771469,53.818981,68.845222,52.782196,59.073078,46.338203,56.115063,48.986588,48.644051,44.339306,46.719131,42.985035,38.609028,45.010258],\"yaxis\":\"y\",\"type\":\"scatter\"},{\"hovertemplate\":\"\\u003cb\\u003eWith Alone:\\u003c\\u002fb\\u003e %{y:.2f} mins\\u003cextra\\u003e\\u003c\\u002fextra\\u003e\",\"legendgroup\":\"Alone\",\"line\":{\"color\":\"#FFA15A\",\"dash\":\"solid\"},\"marker\":{\"symbol\":\"circle\"},\"mode\":\"lines\",\"name\":\"Alone\",\"orientation\":\"v\",\"showlegend\":true,\"x\":[15,16,17,18,19,20,21,22,23,24,25,26,27,28,29,30,31,32,33,34,35,36,37,38,39,40,41,42,43,44,45,46,47,48,49,50,51,52,53,54,55,56,57,58,59,60,61,62,63,64,65,66,67,68,69,70,71,72,73,74,75,76,77,78,79,80],\"xaxis\":\"x\",\"y\":[193.30588,206.37056,224.17331,242.69839,267.79385,277.60379,270.21817,283.56686,270.93015,265.81378,275.12906,281.63202,259.3331,261.13989,253.66589,250.02524,253.16542,255.07323,244.90091,263.59116,262.62488,273.27942,267.09787,258.99704,281.98877,278.25668,292.07227,297.90939,321.74783,312.69861,309.03583,326.78207,338.24756,332.5762,339.72601,361.14328,368.59146,380.84085,372.17041,377.70459,384.14532,387.00711,399.18466,409.77731,411.51978,413.32019,414.82727,425.2204,430.51068,449.01306,444.02954,431.98727,433.85413,448.22601,443.00061,448.85193,444.47784,474.45526,451.40637,458.6745,463.43195,456.49493,454.3125,461.63959,485.83075,476.76736],\"yaxis\":\"y\",\"type\":\"scatter\"},{\"hovertemplate\":\"\\u003cb\\u003eWith Coworkers:\\u003c\\u002fb\\u003e %{y:.2f} mins\\u003cextra\\u003e\\u003c\\u002fextra\\u003e\",\"legendgroup\":\"Coworkers\",\"line\":{\"color\":\"#19D3F3\",\"dash\":\"solid\"},\"marker\":{\"symbol\":\"circle\"},\"mode\":\"lines\",\"name\":\"Coworkers\",\"orientation\":\"v\",\"showlegend\":true,\"x\":[15,16,17,18,19,20,21,22,23,24,25,26,27,28,29,30,31,32,33,34,35,36,37,38,39,40,41,42,43,44,45,46,47,48,49,50,51,52,53,54,55,56,57,58,59,60,61,62,63,64,65,66,67,68,69,70,71,72,73,74,75,76,77,78,79,80],\"xaxis\":\"x\",\"y\":[8.3420067,23.529137,43.809685,81.633575,124.85052,143.9003,154.20972,173.0473,190.10524,206.05486,199.20917,190.09406,211.48781,212.14497,199.11349,215.61365,199.06003,202.76134,186.96373,179.36411,190.68065,178.94667,188.47969,197.09261,172.79756,187.34126,179.37498,189.4864,169.79688,182.13411,182.52716,179.01489,171.43033,170.06847,187.72957,168.1844,172.19505,176.08771,168.29805,184.43581,162.92227,154.11407,157.73422,140.36014,140.17371,125.92768,126.77782,96.651878,78.317001,78.246071,62.186493,50.919098,44.558029,39.273418,27.190746,26.851473,21.892221,20.653986,18.386124,14.613341,16.36656,19.662245,12.47935,3.2494414,4.5325632,5.2152042],\"yaxis\":\"y\",\"type\":\"scatter\"}],                        {\"template\":{\"data\":{\"histogram2dcontour\":[{\"type\":\"histogram2dcontour\",\"colorbar\":{\"outlinewidth\":0,\"ticks\":\"\"},\"colorscale\":[[0.0,\"#0d0887\"],[0.1111111111111111,\"#46039f\"],[0.2222222222222222,\"#7201a8\"],[0.3333333333333333,\"#9c179e\"],[0.4444444444444444,\"#bd3786\"],[0.5555555555555556,\"#d8576b\"],[0.6666666666666666,\"#ed7953\"],[0.7777777777777778,\"#fb9f3a\"],[0.8888888888888888,\"#fdca26\"],[1.0,\"#f0f921\"]]}],\"choropleth\":[{\"type\":\"choropleth\",\"colorbar\":{\"outlinewidth\":0,\"ticks\":\"\"}}],\"histogram2d\":[{\"type\":\"histogram2d\",\"colorbar\":{\"outlinewidth\":0,\"ticks\":\"\"},\"colorscale\":[[0.0,\"#0d0887\"],[0.1111111111111111,\"#46039f\"],[0.2222222222222222,\"#7201a8\"],[0.3333333333333333,\"#9c179e\"],[0.4444444444444444,\"#bd3786\"],[0.5555555555555556,\"#d8576b\"],[0.6666666666666666,\"#ed7953\"],[0.7777777777777778,\"#fb9f3a\"],[0.8888888888888888,\"#fdca26\"],[1.0,\"#f0f921\"]]}],\"heatmap\":[{\"type\":\"heatmap\",\"colorbar\":{\"outlinewidth\":0,\"ticks\":\"\"},\"colorscale\":[[0.0,\"#0d0887\"],[0.1111111111111111,\"#46039f\"],[0.2222222222222222,\"#7201a8\"],[0.3333333333333333,\"#9c179e\"],[0.4444444444444444,\"#bd3786\"],[0.5555555555555556,\"#d8576b\"],[0.6666666666666666,\"#ed7953\"],[0.7777777777777778,\"#fb9f3a\"],[0.8888888888888888,\"#fdca26\"],[1.0,\"#f0f921\"]]}],\"heatmapgl\":[{\"type\":\"heatmapgl\",\"colorbar\":{\"outlinewidth\":0,\"ticks\":\"\"},\"colorscale\":[[0.0,\"#0d0887\"],[0.1111111111111111,\"#46039f\"],[0.2222222222222222,\"#7201a8\"],[0.3333333333333333,\"#9c179e\"],[0.4444444444444444,\"#bd3786\"],[0.5555555555555556,\"#d8576b\"],[0.6666666666666666,\"#ed7953\"],[0.7777777777777778,\"#fb9f3a\"],[0.8888888888888888,\"#fdca26\"],[1.0,\"#f0f921\"]]}],\"contourcarpet\":[{\"type\":\"contourcarpet\",\"colorbar\":{\"outlinewidth\":0,\"ticks\":\"\"}}],\"contour\":[{\"type\":\"contour\",\"colorbar\":{\"outlinewidth\":0,\"ticks\":\"\"},\"colorscale\":[[0.0,\"#0d0887\"],[0.1111111111111111,\"#46039f\"],[0.2222222222222222,\"#7201a8\"],[0.3333333333333333,\"#9c179e\"],[0.4444444444444444,\"#bd3786\"],[0.5555555555555556,\"#d8576b\"],[0.6666666666666666,\"#ed7953\"],[0.7777777777777778,\"#fb9f3a\"],[0.8888888888888888,\"#fdca26\"],[1.0,\"#f0f921\"]]}],\"surface\":[{\"type\":\"surface\",\"colorbar\":{\"outlinewidth\":0,\"ticks\":\"\"},\"colorscale\":[[0.0,\"#0d0887\"],[0.1111111111111111,\"#46039f\"],[0.2222222222222222,\"#7201a8\"],[0.3333333333333333,\"#9c179e\"],[0.4444444444444444,\"#bd3786\"],[0.5555555555555556,\"#d8576b\"],[0.6666666666666666,\"#ed7953\"],[0.7777777777777778,\"#fb9f3a\"],[0.8888888888888888,\"#fdca26\"],[1.0,\"#f0f921\"]]}],\"mesh3d\":[{\"type\":\"mesh3d\",\"colorbar\":{\"outlinewidth\":0,\"ticks\":\"\"}}],\"scatter\":[{\"fillpattern\":{\"fillmode\":\"overlay\",\"size\":10,\"solidity\":0.2},\"type\":\"scatter\"}],\"parcoords\":[{\"type\":\"parcoords\",\"line\":{\"colorbar\":{\"outlinewidth\":0,\"ticks\":\"\"}}}],\"scatterpolargl\":[{\"type\":\"scatterpolargl\",\"marker\":{\"colorbar\":{\"outlinewidth\":0,\"ticks\":\"\"}}}],\"bar\":[{\"error_x\":{\"color\":\"#2a3f5f\"},\"error_y\":{\"color\":\"#2a3f5f\"},\"marker\":{\"line\":{\"color\":\"#E5ECF6\",\"width\":0.5},\"pattern\":{\"fillmode\":\"overlay\",\"size\":10,\"solidity\":0.2}},\"type\":\"bar\"}],\"scattergeo\":[{\"type\":\"scattergeo\",\"marker\":{\"colorbar\":{\"outlinewidth\":0,\"ticks\":\"\"}}}],\"scatterpolar\":[{\"type\":\"scatterpolar\",\"marker\":{\"colorbar\":{\"outlinewidth\":0,\"ticks\":\"\"}}}],\"histogram\":[{\"marker\":{\"pattern\":{\"fillmode\":\"overlay\",\"size\":10,\"solidity\":0.2}},\"type\":\"histogram\"}],\"scattergl\":[{\"type\":\"scattergl\",\"marker\":{\"colorbar\":{\"outlinewidth\":0,\"ticks\":\"\"}}}],\"scatter3d\":[{\"type\":\"scatter3d\",\"line\":{\"colorbar\":{\"outlinewidth\":0,\"ticks\":\"\"}},\"marker\":{\"colorbar\":{\"outlinewidth\":0,\"ticks\":\"\"}}}],\"scattermapbox\":[{\"type\":\"scattermapbox\",\"marker\":{\"colorbar\":{\"outlinewidth\":0,\"ticks\":\"\"}}}],\"scatterternary\":[{\"type\":\"scatterternary\",\"marker\":{\"colorbar\":{\"outlinewidth\":0,\"ticks\":\"\"}}}],\"scattercarpet\":[{\"type\":\"scattercarpet\",\"marker\":{\"colorbar\":{\"outlinewidth\":0,\"ticks\":\"\"}}}],\"carpet\":[{\"aaxis\":{\"endlinecolor\":\"#2a3f5f\",\"gridcolor\":\"white\",\"linecolor\":\"white\",\"minorgridcolor\":\"white\",\"startlinecolor\":\"#2a3f5f\"},\"baxis\":{\"endlinecolor\":\"#2a3f5f\",\"gridcolor\":\"white\",\"linecolor\":\"white\",\"minorgridcolor\":\"white\",\"startlinecolor\":\"#2a3f5f\"},\"type\":\"carpet\"}],\"table\":[{\"cells\":{\"fill\":{\"color\":\"#EBF0F8\"},\"line\":{\"color\":\"white\"}},\"header\":{\"fill\":{\"color\":\"#C8D4E3\"},\"line\":{\"color\":\"white\"}},\"type\":\"table\"}],\"barpolar\":[{\"marker\":{\"line\":{\"color\":\"#E5ECF6\",\"width\":0.5},\"pattern\":{\"fillmode\":\"overlay\",\"size\":10,\"solidity\":0.2}},\"type\":\"barpolar\"}],\"pie\":[{\"automargin\":true,\"type\":\"pie\"}]},\"layout\":{\"autotypenumbers\":\"strict\",\"colorway\":[\"#636efa\",\"#EF553B\",\"#00cc96\",\"#ab63fa\",\"#FFA15A\",\"#19d3f3\",\"#FF6692\",\"#B6E880\",\"#FF97FF\",\"#FECB52\"],\"font\":{\"color\":\"#2a3f5f\"},\"hovermode\":\"closest\",\"hoverlabel\":{\"align\":\"left\"},\"paper_bgcolor\":\"white\",\"plot_bgcolor\":\"#E5ECF6\",\"polar\":{\"bgcolor\":\"#E5ECF6\",\"angularaxis\":{\"gridcolor\":\"white\",\"linecolor\":\"white\",\"ticks\":\"\"},\"radialaxis\":{\"gridcolor\":\"white\",\"linecolor\":\"white\",\"ticks\":\"\"}},\"ternary\":{\"bgcolor\":\"#E5ECF6\",\"aaxis\":{\"gridcolor\":\"white\",\"linecolor\":\"white\",\"ticks\":\"\"},\"baxis\":{\"gridcolor\":\"white\",\"linecolor\":\"white\",\"ticks\":\"\"},\"caxis\":{\"gridcolor\":\"white\",\"linecolor\":\"white\",\"ticks\":\"\"}},\"coloraxis\":{\"colorbar\":{\"outlinewidth\":0,\"ticks\":\"\"}},\"colorscale\":{\"sequential\":[[0.0,\"#0d0887\"],[0.1111111111111111,\"#46039f\"],[0.2222222222222222,\"#7201a8\"],[0.3333333333333333,\"#9c179e\"],[0.4444444444444444,\"#bd3786\"],[0.5555555555555556,\"#d8576b\"],[0.6666666666666666,\"#ed7953\"],[0.7777777777777778,\"#fb9f3a\"],[0.8888888888888888,\"#fdca26\"],[1.0,\"#f0f921\"]],\"sequentialminus\":[[0.0,\"#0d0887\"],[0.1111111111111111,\"#46039f\"],[0.2222222222222222,\"#7201a8\"],[0.3333333333333333,\"#9c179e\"],[0.4444444444444444,\"#bd3786\"],[0.5555555555555556,\"#d8576b\"],[0.6666666666666666,\"#ed7953\"],[0.7777777777777778,\"#fb9f3a\"],[0.8888888888888888,\"#fdca26\"],[1.0,\"#f0f921\"]],\"diverging\":[[0,\"#8e0152\"],[0.1,\"#c51b7d\"],[0.2,\"#de77ae\"],[0.3,\"#f1b6da\"],[0.4,\"#fde0ef\"],[0.5,\"#f7f7f7\"],[0.6,\"#e6f5d0\"],[0.7,\"#b8e186\"],[0.8,\"#7fbc41\"],[0.9,\"#4d9221\"],[1,\"#276419\"]]},\"xaxis\":{\"gridcolor\":\"white\",\"linecolor\":\"white\",\"ticks\":\"\",\"title\":{\"standoff\":15},\"zerolinecolor\":\"white\",\"automargin\":true,\"zerolinewidth\":2},\"yaxis\":{\"gridcolor\":\"white\",\"linecolor\":\"white\",\"ticks\":\"\",\"title\":{\"standoff\":15},\"zerolinecolor\":\"white\",\"automargin\":true,\"zerolinewidth\":2},\"scene\":{\"xaxis\":{\"backgroundcolor\":\"#E5ECF6\",\"gridcolor\":\"white\",\"linecolor\":\"white\",\"showbackground\":true,\"ticks\":\"\",\"zerolinecolor\":\"white\",\"gridwidth\":2},\"yaxis\":{\"backgroundcolor\":\"#E5ECF6\",\"gridcolor\":\"white\",\"linecolor\":\"white\",\"showbackground\":true,\"ticks\":\"\",\"zerolinecolor\":\"white\",\"gridwidth\":2},\"zaxis\":{\"backgroundcolor\":\"#E5ECF6\",\"gridcolor\":\"white\",\"linecolor\":\"white\",\"showbackground\":true,\"ticks\":\"\",\"zerolinecolor\":\"white\",\"gridwidth\":2}},\"shapedefaults\":{\"line\":{\"color\":\"#2a3f5f\"}},\"annotationdefaults\":{\"arrowcolor\":\"#2a3f5f\",\"arrowhead\":0,\"arrowwidth\":1},\"geo\":{\"bgcolor\":\"white\",\"landcolor\":\"#E5ECF6\",\"subunitcolor\":\"white\",\"showland\":true,\"showlakes\":true,\"lakecolor\":\"white\"},\"title\":{\"x\":0.05},\"mapbox\":{\"style\":\"light\"}}},\"xaxis\":{\"anchor\":\"y\",\"domain\":[0.0,1.0],\"title\":{\"text\":\"\\u003cb\\u003eAge\\u003c\\u002fb\\u003e\",\"font\":{\"size\":13,\"family\":\"Arial\"}},\"ticksuffix\":\" y.o.\"},\"yaxis\":{\"anchor\":\"x\",\"domain\":[0.0,1.0],\"title\":{\"text\":\"\\u003cb\\u003eTime spent with the people (mins)\\u003c\\u002fb\\u003e\",\"font\":{\"size\":13,\"family\":\"Arial\"}}},\"legend\":{\"title\":{\"text\":\"People type\"},\"tracegroupgap\":0},\"margin\":{\"t\":60},\"title\":{\"font\":{\"size\":15,\"family\":\"Arial\"},\"text\":\"\\u003cb\\u003eWho American People Spend Time with by Age \\u003c\\u002fb\\u003e\",\"x\":0.45},\"width\":1000,\"height\":750,\"hovermode\":\"x unified\",\"showlegend\":false,\"annotations\":[{\"align\":\"left\",\"arrowcolor\":\"#636EFA\",\"arrowhead\":1,\"arrowsize\":0.8,\"arrowwidth\":1.5,\"ax\":80,\"ay\":0,\"font\":{\"color\":\"#636EFA\",\"family\":\"Arial\",\"size\":13},\"showarrow\":true,\"text\":\"With Partner\",\"x\":80.5,\"y\":227.04634,\"yanchor\":\"auto\"},{\"align\":\"left\",\"arrowcolor\":\"#EF553B\",\"arrowhead\":1,\"arrowsize\":0.8,\"arrowwidth\":1.5,\"ax\":80,\"ay\":0,\"font\":{\"color\":\"#EF553B\",\"family\":\"Arial\",\"size\":13},\"showarrow\":true,\"text\":\"With Friends\",\"x\":80.5,\"y\":35.589745,\"yanchor\":\"auto\"},{\"align\":\"left\",\"arrowcolor\":\"#00CC96\",\"arrowhead\":1,\"arrowsize\":0.8,\"arrowwidth\":1.5,\"ax\":80,\"ay\":0,\"font\":{\"color\":\"#00CC96\",\"family\":\"Arial\",\"size\":13},\"showarrow\":true,\"text\":\"With Families\",\"x\":80.5,\"y\":66.100365,\"yanchor\":\"auto\"},{\"align\":\"left\",\"arrowcolor\":\"#AB63FA\",\"arrowhead\":1,\"arrowsize\":0.8,\"arrowwidth\":1.5,\"ax\":80,\"ay\":0,\"font\":{\"color\":\"#AB63FA\",\"family\":\"Arial\",\"size\":13},\"showarrow\":true,\"text\":\"With Children\",\"x\":80.5,\"y\":45.010258,\"yanchor\":\"auto\"},{\"align\":\"left\",\"arrowcolor\":\"#FFA15A\",\"arrowhead\":1,\"arrowsize\":0.8,\"arrowwidth\":1.5,\"ax\":80,\"ay\":0,\"font\":{\"color\":\"#FFA15A\",\"family\":\"Arial\",\"size\":13},\"showarrow\":true,\"text\":\"Alone\",\"x\":80.5,\"y\":476.76736,\"yanchor\":\"auto\"},{\"align\":\"left\",\"arrowcolor\":\"#19D3F3\",\"arrowhead\":1,\"arrowsize\":0.8,\"arrowwidth\":1.5,\"ax\":80,\"ay\":0,\"font\":{\"color\":\"#19D3F3\",\"family\":\"Arial\",\"size\":13},\"showarrow\":true,\"text\":\"With Coworkers\",\"x\":80.5,\"y\":5.2152042,\"yanchor\":\"auto\"}]},                        {\"responsive\": true}                    ).then(function(){\n",
       "                            \n",
       "var gd = document.getElementById('2ab28d3f-45fb-4c85-92ab-5d175f23e09b');\n",
       "var x = new MutationObserver(function (mutations, observer) {{\n",
       "        var display = window.getComputedStyle(gd).display;\n",
       "        if (!display || display === 'none') {{\n",
       "            console.log([gd, 'removed!']);\n",
       "            Plotly.purge(gd);\n",
       "            observer.disconnect();\n",
       "        }}\n",
       "}});\n",
       "\n",
       "// Listen for the removal of the full notebook cells\n",
       "var notebookContainer = gd.closest('#notebook-container');\n",
       "if (notebookContainer) {{\n",
       "    x.observe(notebookContainer, {childList: true});\n",
       "}}\n",
       "\n",
       "// Listen for the clearing of the current output cell\n",
       "var outputEl = gd.closest('.output');\n",
       "if (outputEl) {{\n",
       "    x.observe(outputEl, {childList: true});\n",
       "}}\n",
       "\n",
       "                        })                };                });            </script>        </div>"
      ]
     },
     "metadata": {},
     "output_type": "display_data"
    }
   ],
   "source": [
    "# line plot or area plot of the time data\n",
    "\n",
    "# sort Time by descending order\n",
    "# df1_sort = df1_long.sort_values(by='Time_mins',ascending=False)\n",
    "# print(df1_sort)\n",
    "\n",
    "LinePlot_TimevsAge(df1_long, 'Year', 'Time_mins', 'People type')"
   ]
  },
  {
   "cell_type": "code",
   "execution_count": null,
   "id": "6c1bc938-293f-4741-b346-714a18f6af8c",
   "metadata": {
    "colab": {
     "base_uri": "https://localhost:8080/",
     "height": 767
    },
    "id": "6c1bc938-293f-4741-b346-714a18f6af8c",
    "outputId": "93fba63b-a9c0-44e7-d213-4eaf4d9e3634"
   },
   "outputs": [
    {
     "data": {
      "application/vnd.plotly.v1+json": {
       "config": {
        "plotlyServerURL": "https://plot.ly"
       },
       "data": [
        {
         "hovertemplate": "<b>With Partner:</b> %{y:.2f} mins<extra></extra>",
         "legendgroup": "Partner",
         "line": {
          "color": "#636EFA",
          "dash": "solid"
         },
         "marker": {
          "symbol": "circle"
         },
         "mode": "lines",
         "name": "Partner",
         "orientation": "v",
         "showlegend": true,
         "type": "scatter",
         "x": [
          15,
          16,
          17,
          18,
          19,
          20,
          21,
          22,
          23,
          24,
          25,
          26,
          27,
          28,
          29,
          30,
          31,
          32,
          33,
          34,
          35,
          36,
          37,
          38,
          39,
          40,
          41,
          42,
          43,
          44,
          45,
          46,
          47,
          48,
          49,
          50,
          51,
          52,
          53,
          54,
          55,
          56,
          57,
          58,
          59,
          60,
          61,
          62,
          63,
          64,
          65,
          66,
          67,
          68,
          69,
          70,
          71,
          72,
          73,
          74,
          75,
          76,
          77,
          78,
          79,
          80
         ],
         "xaxis": "x",
         "y": [
          0,
          0.030690858,
          1.1228406,
          5.6972671,
          19.341291,
          26.35417,
          59.897781,
          55.767094,
          78.188667,
          99.44416,
          121.25083,
          139.91745,
          151.88562,
          168.24556,
          176.19919,
          180.02309,
          203.71202,
          192.00175,
          200.02365,
          199.23759,
          198.27702,
          197.55948,
          204.00514,
          203.30919,
          212.07637,
          201.94627,
          194.68652,
          182.25496,
          181.83145,
          191.94835,
          183.99062,
          186.65195,
          181.05563,
          197.96497,
          194.11002,
          174.92821,
          187.80592,
          190.51634,
          188.71446,
          182.8898,
          184.38846,
          195.93608,
          185.31619,
          186.54398,
          199.87039,
          204.63687,
          205.22923,
          224.05167,
          232.44521,
          231.84886,
          242.53215,
          255.86,
          258.14743,
          260.36365,
          270.69342,
          261.86359,
          266.694,
          261.05215,
          276.13379,
          254.44495,
          252.93309,
          266.23712,
          272.73013,
          256.41376,
          235.3701,
          227.04634
         ],
         "yaxis": "y"
        },
        {
         "hovertemplate": "<b>With Friends:</b> %{y:.2f} mins<extra></extra>",
         "legendgroup": "Friends",
         "line": {
          "color": "#EF553B",
          "dash": "solid"
         },
         "marker": {
          "symbol": "circle"
         },
         "mode": "lines",
         "name": "Friends",
         "orientation": "v",
         "showlegend": true,
         "type": "scatter",
         "x": [
          15,
          16,
          17,
          18,
          19,
          20,
          21,
          22,
          23,
          24,
          25,
          26,
          27,
          28,
          29,
          30,
          31,
          32,
          33,
          34,
          35,
          36,
          37,
          38,
          39,
          40,
          41,
          42,
          43,
          44,
          45,
          46,
          47,
          48,
          49,
          50,
          51,
          52,
          53,
          54,
          55,
          56,
          57,
          58,
          59,
          60,
          61,
          62,
          63,
          64,
          65,
          66,
          67,
          68,
          69,
          70,
          71,
          72,
          73,
          74,
          75,
          76,
          77,
          78,
          79,
          80
         ],
         "xaxis": "x",
         "y": [
          109.4145,
          110.7418,
          120.41887,
          137.75107,
          129.85716,
          122.7402,
          122.40627,
          100.16862,
          101.07177,
          96.786346,
          77.543015,
          77.856834,
          74.140686,
          62.491688,
          55.084454,
          53.478016,
          50.925926,
          49.464462,
          49.731628,
          42.650288,
          41.661636,
          40.120937,
          43.362503,
          42.101093,
          33.611919,
          36.197014,
          38.729492,
          38.695633,
          39.107994,
          38.859802,
          36.090996,
          37.459354,
          39.243477,
          33.357357,
          37.315029,
          28.917883,
          35.627602,
          33.961197,
          31.585169,
          34.837147,
          33.079144,
          36.820248,
          31.479084,
          35.2756,
          29.068735,
          35.94643,
          32.807606,
          34.453568,
          36.147518,
          35.180847,
          35.90049,
          40.828274,
          38.98082,
          41.382526,
          42.001629,
          45.80217,
          44.433987,
          44.234802,
          36.592476,
          40.508751,
          39.079994,
          41.503906,
          33.595589,
          39.297825,
          41.975792,
          35.589745
         ],
         "yaxis": "y"
        },
        {
         "hovertemplate": "<b>With Children:</b> %{y:.2f} mins<extra></extra>",
         "legendgroup": "Children",
         "line": {
          "color": "#00CC96",
          "dash": "solid"
         },
         "marker": {
          "symbol": "circle"
         },
         "mode": "lines",
         "name": "Children",
         "orientation": "v",
         "showlegend": true,
         "type": "scatter",
         "x": [
          15,
          16,
          17,
          18,
          19,
          20,
          21,
          22,
          23,
          24,
          25,
          26,
          27,
          28,
          29,
          30,
          31,
          32,
          33,
          34,
          35,
          36,
          37,
          38,
          39,
          40,
          41,
          42,
          43,
          44,
          45,
          46,
          47,
          48,
          49,
          50,
          51,
          52,
          53,
          54,
          55,
          56,
          57,
          58,
          59,
          60,
          61,
          62,
          63,
          64,
          65,
          66,
          67,
          68,
          69,
          70,
          71,
          72,
          73,
          74,
          75,
          76,
          77,
          78,
          79,
          80
         ],
         "xaxis": "x",
         "y": [
          23.463852,
          28.609867,
          26.089708,
          27.387308,
          36.445004,
          54.630512,
          69.293869,
          72.302246,
          96.935883,
          99.394424,
          119.50971,
          128.59393,
          153.33383,
          175.83809,
          194.49931,
          199.76436,
          225.92371,
          230.71593,
          256.41312,
          261.18497,
          248.93806,
          256.59799,
          256.37634,
          254.45975,
          266.07874,
          242.43935,
          237.29298,
          222.96886,
          207.65651,
          207.01961,
          199.21028,
          177.52652,
          168.4313,
          157.297,
          132.68301,
          132.44537,
          123.67976,
          102.66885,
          102.3604,
          89.755821,
          88.129921,
          78.608688,
          73.898285,
          68.309761,
          70.334312,
          61.933525,
          71.07634,
          57.484367,
          62.510818,
          55.407318,
          57.586105,
          59.682854,
          62.771469,
          53.818981,
          68.845222,
          52.782196,
          59.073078,
          46.338203,
          56.115063,
          48.986588,
          48.644051,
          44.339306,
          46.719131,
          42.985035,
          38.609028,
          45.010258
         ],
         "yaxis": "y"
        },
        {
         "hovertemplate": "<b>With Coworkers:</b> %{y:.2f} mins<extra></extra>",
         "legendgroup": "Coworkers",
         "line": {
          "color": "#AB63FA",
          "dash": "solid"
         },
         "marker": {
          "symbol": "circle"
         },
         "mode": "lines",
         "name": "Coworkers",
         "orientation": "v",
         "showlegend": true,
         "type": "scatter",
         "x": [
          15,
          16,
          17,
          18,
          19,
          20,
          21,
          22,
          23,
          24,
          25,
          26,
          27,
          28,
          29,
          30,
          31,
          32,
          33,
          34,
          35,
          36,
          37,
          38,
          39,
          40,
          41,
          42,
          43,
          44,
          45,
          46,
          47,
          48,
          49,
          50,
          51,
          52,
          53,
          54,
          55,
          56,
          57,
          58,
          59,
          60,
          61,
          62,
          63,
          64,
          65,
          66,
          67,
          68,
          69,
          70,
          71,
          72,
          73,
          74,
          75,
          76,
          77,
          78,
          79,
          80
         ],
         "xaxis": "x",
         "y": [
          8.3420067,
          23.529137,
          43.809685,
          81.633575,
          124.85052,
          143.9003,
          154.20972,
          173.0473,
          190.10524,
          206.05486,
          199.20917,
          190.09406,
          211.48781,
          212.14497,
          199.11349,
          215.61365,
          199.06003,
          202.76134,
          186.96373,
          179.36411,
          190.68065,
          178.94667,
          188.47969,
          197.09261,
          172.79756,
          187.34126,
          179.37498,
          189.4864,
          169.79688,
          182.13411,
          182.52716,
          179.01489,
          171.43033,
          170.06847,
          187.72957,
          168.1844,
          172.19505,
          176.08771,
          168.29805,
          184.43581,
          162.92227,
          154.11407,
          157.73422,
          140.36014,
          140.17371,
          125.92768,
          126.77782,
          96.651878,
          78.317001,
          78.246071,
          62.186493,
          50.919098,
          44.558029,
          39.273418,
          27.190746,
          26.851473,
          21.892221,
          20.653986,
          18.386124,
          14.613341,
          16.36656,
          19.662245,
          12.47935,
          3.2494414,
          4.5325632,
          5.2152042
         ],
         "yaxis": "y"
        }
       ],
       "layout": {
        "annotations": [
         {
          "align": "left",
          "arrowcolor": "#636EFA",
          "arrowhead": 1,
          "arrowsize": 0.8,
          "arrowwidth": 1.5,
          "ax": 80,
          "ay": 0,
          "font": {
           "color": "#636EFA",
           "family": "Arial",
           "size": 13
          },
          "showarrow": true,
          "text": "With Partner",
          "x": 80.5,
          "y": 227.04634,
          "yanchor": "auto"
         },
         {
          "align": "left",
          "arrowcolor": "#EF553B",
          "arrowhead": 1,
          "arrowsize": 0.8,
          "arrowwidth": 1.5,
          "ax": 80,
          "ay": 0,
          "font": {
           "color": "#EF553B",
           "family": "Arial",
           "size": 13
          },
          "showarrow": true,
          "text": "With Friends",
          "x": 80.5,
          "y": 35.589745,
          "yanchor": "auto"
         },
         {
          "align": "left",
          "arrowcolor": "#00CC96",
          "arrowhead": 1,
          "arrowsize": 0.8,
          "arrowwidth": 1.5,
          "ax": 80,
          "ay": 0,
          "font": {
           "color": "#00CC96",
           "family": "Arial",
           "size": 13
          },
          "showarrow": true,
          "text": "With Children",
          "x": 80.5,
          "y": 45.010258,
          "yanchor": "auto"
         },
         {
          "align": "left",
          "arrowcolor": "#AB63FA",
          "arrowhead": 1,
          "arrowsize": 0.8,
          "arrowwidth": 1.5,
          "ax": 80,
          "ay": 0,
          "font": {
           "color": "#AB63FA",
           "family": "Arial",
           "size": 13
          },
          "showarrow": true,
          "text": "With Coworkers",
          "x": 80.5,
          "y": 5.2152042,
          "yanchor": "auto"
         }
        ],
        "height": 750,
        "hovermode": "x unified",
        "legend": {
         "title": {
          "text": "People type"
         },
         "tracegroupgap": 0
        },
        "margin": {
         "t": 60
        },
        "showlegend": false,
        "template": {
         "data": {
          "bar": [
           {
            "error_x": {
             "color": "#2a3f5f"
            },
            "error_y": {
             "color": "#2a3f5f"
            },
            "marker": {
             "line": {
              "color": "#E5ECF6",
              "width": 0.5
             },
             "pattern": {
              "fillmode": "overlay",
              "size": 10,
              "solidity": 0.2
             }
            },
            "type": "bar"
           }
          ],
          "barpolar": [
           {
            "marker": {
             "line": {
              "color": "#E5ECF6",
              "width": 0.5
             },
             "pattern": {
              "fillmode": "overlay",
              "size": 10,
              "solidity": 0.2
             }
            },
            "type": "barpolar"
           }
          ],
          "carpet": [
           {
            "aaxis": {
             "endlinecolor": "#2a3f5f",
             "gridcolor": "white",
             "linecolor": "white",
             "minorgridcolor": "white",
             "startlinecolor": "#2a3f5f"
            },
            "baxis": {
             "endlinecolor": "#2a3f5f",
             "gridcolor": "white",
             "linecolor": "white",
             "minorgridcolor": "white",
             "startlinecolor": "#2a3f5f"
            },
            "type": "carpet"
           }
          ],
          "choropleth": [
           {
            "colorbar": {
             "outlinewidth": 0,
             "ticks": ""
            },
            "type": "choropleth"
           }
          ],
          "contour": [
           {
            "colorbar": {
             "outlinewidth": 0,
             "ticks": ""
            },
            "colorscale": [
             [
              0,
              "#0d0887"
             ],
             [
              0.1111111111111111,
              "#46039f"
             ],
             [
              0.2222222222222222,
              "#7201a8"
             ],
             [
              0.3333333333333333,
              "#9c179e"
             ],
             [
              0.4444444444444444,
              "#bd3786"
             ],
             [
              0.5555555555555556,
              "#d8576b"
             ],
             [
              0.6666666666666666,
              "#ed7953"
             ],
             [
              0.7777777777777778,
              "#fb9f3a"
             ],
             [
              0.8888888888888888,
              "#fdca26"
             ],
             [
              1,
              "#f0f921"
             ]
            ],
            "type": "contour"
           }
          ],
          "contourcarpet": [
           {
            "colorbar": {
             "outlinewidth": 0,
             "ticks": ""
            },
            "type": "contourcarpet"
           }
          ],
          "heatmap": [
           {
            "colorbar": {
             "outlinewidth": 0,
             "ticks": ""
            },
            "colorscale": [
             [
              0,
              "#0d0887"
             ],
             [
              0.1111111111111111,
              "#46039f"
             ],
             [
              0.2222222222222222,
              "#7201a8"
             ],
             [
              0.3333333333333333,
              "#9c179e"
             ],
             [
              0.4444444444444444,
              "#bd3786"
             ],
             [
              0.5555555555555556,
              "#d8576b"
             ],
             [
              0.6666666666666666,
              "#ed7953"
             ],
             [
              0.7777777777777778,
              "#fb9f3a"
             ],
             [
              0.8888888888888888,
              "#fdca26"
             ],
             [
              1,
              "#f0f921"
             ]
            ],
            "type": "heatmap"
           }
          ],
          "heatmapgl": [
           {
            "colorbar": {
             "outlinewidth": 0,
             "ticks": ""
            },
            "colorscale": [
             [
              0,
              "#0d0887"
             ],
             [
              0.1111111111111111,
              "#46039f"
             ],
             [
              0.2222222222222222,
              "#7201a8"
             ],
             [
              0.3333333333333333,
              "#9c179e"
             ],
             [
              0.4444444444444444,
              "#bd3786"
             ],
             [
              0.5555555555555556,
              "#d8576b"
             ],
             [
              0.6666666666666666,
              "#ed7953"
             ],
             [
              0.7777777777777778,
              "#fb9f3a"
             ],
             [
              0.8888888888888888,
              "#fdca26"
             ],
             [
              1,
              "#f0f921"
             ]
            ],
            "type": "heatmapgl"
           }
          ],
          "histogram": [
           {
            "marker": {
             "pattern": {
              "fillmode": "overlay",
              "size": 10,
              "solidity": 0.2
             }
            },
            "type": "histogram"
           }
          ],
          "histogram2d": [
           {
            "colorbar": {
             "outlinewidth": 0,
             "ticks": ""
            },
            "colorscale": [
             [
              0,
              "#0d0887"
             ],
             [
              0.1111111111111111,
              "#46039f"
             ],
             [
              0.2222222222222222,
              "#7201a8"
             ],
             [
              0.3333333333333333,
              "#9c179e"
             ],
             [
              0.4444444444444444,
              "#bd3786"
             ],
             [
              0.5555555555555556,
              "#d8576b"
             ],
             [
              0.6666666666666666,
              "#ed7953"
             ],
             [
              0.7777777777777778,
              "#fb9f3a"
             ],
             [
              0.8888888888888888,
              "#fdca26"
             ],
             [
              1,
              "#f0f921"
             ]
            ],
            "type": "histogram2d"
           }
          ],
          "histogram2dcontour": [
           {
            "colorbar": {
             "outlinewidth": 0,
             "ticks": ""
            },
            "colorscale": [
             [
              0,
              "#0d0887"
             ],
             [
              0.1111111111111111,
              "#46039f"
             ],
             [
              0.2222222222222222,
              "#7201a8"
             ],
             [
              0.3333333333333333,
              "#9c179e"
             ],
             [
              0.4444444444444444,
              "#bd3786"
             ],
             [
              0.5555555555555556,
              "#d8576b"
             ],
             [
              0.6666666666666666,
              "#ed7953"
             ],
             [
              0.7777777777777778,
              "#fb9f3a"
             ],
             [
              0.8888888888888888,
              "#fdca26"
             ],
             [
              1,
              "#f0f921"
             ]
            ],
            "type": "histogram2dcontour"
           }
          ],
          "mesh3d": [
           {
            "colorbar": {
             "outlinewidth": 0,
             "ticks": ""
            },
            "type": "mesh3d"
           }
          ],
          "parcoords": [
           {
            "line": {
             "colorbar": {
              "outlinewidth": 0,
              "ticks": ""
             }
            },
            "type": "parcoords"
           }
          ],
          "pie": [
           {
            "automargin": true,
            "type": "pie"
           }
          ],
          "scatter": [
           {
            "fillpattern": {
             "fillmode": "overlay",
             "size": 10,
             "solidity": 0.2
            },
            "type": "scatter"
           }
          ],
          "scatter3d": [
           {
            "line": {
             "colorbar": {
              "outlinewidth": 0,
              "ticks": ""
             }
            },
            "marker": {
             "colorbar": {
              "outlinewidth": 0,
              "ticks": ""
             }
            },
            "type": "scatter3d"
           }
          ],
          "scattercarpet": [
           {
            "marker": {
             "colorbar": {
              "outlinewidth": 0,
              "ticks": ""
             }
            },
            "type": "scattercarpet"
           }
          ],
          "scattergeo": [
           {
            "marker": {
             "colorbar": {
              "outlinewidth": 0,
              "ticks": ""
             }
            },
            "type": "scattergeo"
           }
          ],
          "scattergl": [
           {
            "marker": {
             "colorbar": {
              "outlinewidth": 0,
              "ticks": ""
             }
            },
            "type": "scattergl"
           }
          ],
          "scattermapbox": [
           {
            "marker": {
             "colorbar": {
              "outlinewidth": 0,
              "ticks": ""
             }
            },
            "type": "scattermapbox"
           }
          ],
          "scatterpolar": [
           {
            "marker": {
             "colorbar": {
              "outlinewidth": 0,
              "ticks": ""
             }
            },
            "type": "scatterpolar"
           }
          ],
          "scatterpolargl": [
           {
            "marker": {
             "colorbar": {
              "outlinewidth": 0,
              "ticks": ""
             }
            },
            "type": "scatterpolargl"
           }
          ],
          "scatterternary": [
           {
            "marker": {
             "colorbar": {
              "outlinewidth": 0,
              "ticks": ""
             }
            },
            "type": "scatterternary"
           }
          ],
          "surface": [
           {
            "colorbar": {
             "outlinewidth": 0,
             "ticks": ""
            },
            "colorscale": [
             [
              0,
              "#0d0887"
             ],
             [
              0.1111111111111111,
              "#46039f"
             ],
             [
              0.2222222222222222,
              "#7201a8"
             ],
             [
              0.3333333333333333,
              "#9c179e"
             ],
             [
              0.4444444444444444,
              "#bd3786"
             ],
             [
              0.5555555555555556,
              "#d8576b"
             ],
             [
              0.6666666666666666,
              "#ed7953"
             ],
             [
              0.7777777777777778,
              "#fb9f3a"
             ],
             [
              0.8888888888888888,
              "#fdca26"
             ],
             [
              1,
              "#f0f921"
             ]
            ],
            "type": "surface"
           }
          ],
          "table": [
           {
            "cells": {
             "fill": {
              "color": "#EBF0F8"
             },
             "line": {
              "color": "white"
             }
            },
            "header": {
             "fill": {
              "color": "#C8D4E3"
             },
             "line": {
              "color": "white"
             }
            },
            "type": "table"
           }
          ]
         },
         "layout": {
          "annotationdefaults": {
           "arrowcolor": "#2a3f5f",
           "arrowhead": 0,
           "arrowwidth": 1
          },
          "autotypenumbers": "strict",
          "coloraxis": {
           "colorbar": {
            "outlinewidth": 0,
            "ticks": ""
           }
          },
          "colorscale": {
           "diverging": [
            [
             0,
             "#8e0152"
            ],
            [
             0.1,
             "#c51b7d"
            ],
            [
             0.2,
             "#de77ae"
            ],
            [
             0.3,
             "#f1b6da"
            ],
            [
             0.4,
             "#fde0ef"
            ],
            [
             0.5,
             "#f7f7f7"
            ],
            [
             0.6,
             "#e6f5d0"
            ],
            [
             0.7,
             "#b8e186"
            ],
            [
             0.8,
             "#7fbc41"
            ],
            [
             0.9,
             "#4d9221"
            ],
            [
             1,
             "#276419"
            ]
           ],
           "sequential": [
            [
             0,
             "#0d0887"
            ],
            [
             0.1111111111111111,
             "#46039f"
            ],
            [
             0.2222222222222222,
             "#7201a8"
            ],
            [
             0.3333333333333333,
             "#9c179e"
            ],
            [
             0.4444444444444444,
             "#bd3786"
            ],
            [
             0.5555555555555556,
             "#d8576b"
            ],
            [
             0.6666666666666666,
             "#ed7953"
            ],
            [
             0.7777777777777778,
             "#fb9f3a"
            ],
            [
             0.8888888888888888,
             "#fdca26"
            ],
            [
             1,
             "#f0f921"
            ]
           ],
           "sequentialminus": [
            [
             0,
             "#0d0887"
            ],
            [
             0.1111111111111111,
             "#46039f"
            ],
            [
             0.2222222222222222,
             "#7201a8"
            ],
            [
             0.3333333333333333,
             "#9c179e"
            ],
            [
             0.4444444444444444,
             "#bd3786"
            ],
            [
             0.5555555555555556,
             "#d8576b"
            ],
            [
             0.6666666666666666,
             "#ed7953"
            ],
            [
             0.7777777777777778,
             "#fb9f3a"
            ],
            [
             0.8888888888888888,
             "#fdca26"
            ],
            [
             1,
             "#f0f921"
            ]
           ]
          },
          "colorway": [
           "#636efa",
           "#EF553B",
           "#00cc96",
           "#ab63fa",
           "#FFA15A",
           "#19d3f3",
           "#FF6692",
           "#B6E880",
           "#FF97FF",
           "#FECB52"
          ],
          "font": {
           "color": "#2a3f5f"
          },
          "geo": {
           "bgcolor": "white",
           "lakecolor": "white",
           "landcolor": "#E5ECF6",
           "showlakes": true,
           "showland": true,
           "subunitcolor": "white"
          },
          "hoverlabel": {
           "align": "left"
          },
          "hovermode": "closest",
          "mapbox": {
           "style": "light"
          },
          "paper_bgcolor": "white",
          "plot_bgcolor": "#E5ECF6",
          "polar": {
           "angularaxis": {
            "gridcolor": "white",
            "linecolor": "white",
            "ticks": ""
           },
           "bgcolor": "#E5ECF6",
           "radialaxis": {
            "gridcolor": "white",
            "linecolor": "white",
            "ticks": ""
           }
          },
          "scene": {
           "xaxis": {
            "backgroundcolor": "#E5ECF6",
            "gridcolor": "white",
            "gridwidth": 2,
            "linecolor": "white",
            "showbackground": true,
            "ticks": "",
            "zerolinecolor": "white"
           },
           "yaxis": {
            "backgroundcolor": "#E5ECF6",
            "gridcolor": "white",
            "gridwidth": 2,
            "linecolor": "white",
            "showbackground": true,
            "ticks": "",
            "zerolinecolor": "white"
           },
           "zaxis": {
            "backgroundcolor": "#E5ECF6",
            "gridcolor": "white",
            "gridwidth": 2,
            "linecolor": "white",
            "showbackground": true,
            "ticks": "",
            "zerolinecolor": "white"
           }
          },
          "shapedefaults": {
           "line": {
            "color": "#2a3f5f"
           }
          },
          "ternary": {
           "aaxis": {
            "gridcolor": "white",
            "linecolor": "white",
            "ticks": ""
           },
           "baxis": {
            "gridcolor": "white",
            "linecolor": "white",
            "ticks": ""
           },
           "bgcolor": "#E5ECF6",
           "caxis": {
            "gridcolor": "white",
            "linecolor": "white",
            "ticks": ""
           }
          },
          "title": {
           "x": 0.05
          },
          "xaxis": {
           "automargin": true,
           "gridcolor": "white",
           "linecolor": "white",
           "ticks": "",
           "title": {
            "standoff": 15
           },
           "zerolinecolor": "white",
           "zerolinewidth": 2
          },
          "yaxis": {
           "automargin": true,
           "gridcolor": "white",
           "linecolor": "white",
           "ticks": "",
           "title": {
            "standoff": 15
           },
           "zerolinecolor": "white",
           "zerolinewidth": 2
          }
         }
        },
        "title": {
         "font": {
          "family": "Arial",
          "size": 15
         },
         "text": "<b>Who American People Spend Time with by Age </b>",
         "x": 0.45
        },
        "width": 1000,
        "xaxis": {
         "anchor": "y",
         "domain": [
          0,
          1
         ],
         "ticksuffix": " y.o.",
         "title": {
          "font": {
           "family": "Arial",
           "size": 13
          },
          "text": "<b>Age</b>"
         }
        },
        "yaxis": {
         "anchor": "x",
         "domain": [
          0,
          1
         ],
         "title": {
          "font": {
           "family": "Arial",
           "size": 13
          },
          "text": "<b>Time spent with the people (mins)</b>"
         }
        }
       }
      },
      "text/html": [
       "<div>                            <div id=\"fc5d3b11-e45e-44d6-843d-99f000f75650\" class=\"plotly-graph-div\" style=\"height:750px; width:1000px;\"></div>            <script type=\"text/javascript\">                require([\"plotly\"], function(Plotly) {                    window.PLOTLYENV=window.PLOTLYENV || {};                                    if (document.getElementById(\"fc5d3b11-e45e-44d6-843d-99f000f75650\")) {                    Plotly.newPlot(                        \"fc5d3b11-e45e-44d6-843d-99f000f75650\",                        [{\"hovertemplate\":\"\\u003cb\\u003eWith Partner:\\u003c\\u002fb\\u003e %{y:.2f} mins\\u003cextra\\u003e\\u003c\\u002fextra\\u003e\",\"legendgroup\":\"Partner\",\"line\":{\"color\":\"#636EFA\",\"dash\":\"solid\"},\"marker\":{\"symbol\":\"circle\"},\"mode\":\"lines\",\"name\":\"Partner\",\"orientation\":\"v\",\"showlegend\":true,\"x\":[15,16,17,18,19,20,21,22,23,24,25,26,27,28,29,30,31,32,33,34,35,36,37,38,39,40,41,42,43,44,45,46,47,48,49,50,51,52,53,54,55,56,57,58,59,60,61,62,63,64,65,66,67,68,69,70,71,72,73,74,75,76,77,78,79,80],\"xaxis\":\"x\",\"y\":[0.0,0.030690858,1.1228406,5.6972671,19.341291,26.35417,59.897781,55.767094,78.188667,99.44416,121.25083,139.91745,151.88562,168.24556,176.19919,180.02309,203.71202,192.00175,200.02365,199.23759,198.27702,197.55948,204.00514,203.30919,212.07637,201.94627,194.68652,182.25496,181.83145,191.94835,183.99062,186.65195,181.05563,197.96497,194.11002,174.92821,187.80592,190.51634,188.71446,182.8898,184.38846,195.93608,185.31619,186.54398,199.87039,204.63687,205.22923,224.05167,232.44521,231.84886,242.53215,255.86,258.14743,260.36365,270.69342,261.86359,266.694,261.05215,276.13379,254.44495,252.93309,266.23712,272.73013,256.41376,235.3701,227.04634],\"yaxis\":\"y\",\"type\":\"scatter\"},{\"hovertemplate\":\"\\u003cb\\u003eWith Friends:\\u003c\\u002fb\\u003e %{y:.2f} mins\\u003cextra\\u003e\\u003c\\u002fextra\\u003e\",\"legendgroup\":\"Friends\",\"line\":{\"color\":\"#EF553B\",\"dash\":\"solid\"},\"marker\":{\"symbol\":\"circle\"},\"mode\":\"lines\",\"name\":\"Friends\",\"orientation\":\"v\",\"showlegend\":true,\"x\":[15,16,17,18,19,20,21,22,23,24,25,26,27,28,29,30,31,32,33,34,35,36,37,38,39,40,41,42,43,44,45,46,47,48,49,50,51,52,53,54,55,56,57,58,59,60,61,62,63,64,65,66,67,68,69,70,71,72,73,74,75,76,77,78,79,80],\"xaxis\":\"x\",\"y\":[109.4145,110.7418,120.41887,137.75107,129.85716,122.7402,122.40627,100.16862,101.07177,96.786346,77.543015,77.856834,74.140686,62.491688,55.084454,53.478016,50.925926,49.464462,49.731628,42.650288,41.661636,40.120937,43.362503,42.101093,33.611919,36.197014,38.729492,38.695633,39.107994,38.859802,36.090996,37.459354,39.243477,33.357357,37.315029,28.917883,35.627602,33.961197,31.585169,34.837147,33.079144,36.820248,31.479084,35.2756,29.068735,35.94643,32.807606,34.453568,36.147518,35.180847,35.90049,40.828274,38.98082,41.382526,42.001629,45.80217,44.433987,44.234802,36.592476,40.508751,39.079994,41.503906,33.595589,39.297825,41.975792,35.589745],\"yaxis\":\"y\",\"type\":\"scatter\"},{\"hovertemplate\":\"\\u003cb\\u003eWith Children:\\u003c\\u002fb\\u003e %{y:.2f} mins\\u003cextra\\u003e\\u003c\\u002fextra\\u003e\",\"legendgroup\":\"Children\",\"line\":{\"color\":\"#00CC96\",\"dash\":\"solid\"},\"marker\":{\"symbol\":\"circle\"},\"mode\":\"lines\",\"name\":\"Children\",\"orientation\":\"v\",\"showlegend\":true,\"x\":[15,16,17,18,19,20,21,22,23,24,25,26,27,28,29,30,31,32,33,34,35,36,37,38,39,40,41,42,43,44,45,46,47,48,49,50,51,52,53,54,55,56,57,58,59,60,61,62,63,64,65,66,67,68,69,70,71,72,73,74,75,76,77,78,79,80],\"xaxis\":\"x\",\"y\":[23.463852,28.609867,26.089708,27.387308,36.445004,54.630512,69.293869,72.302246,96.935883,99.394424,119.50971,128.59393,153.33383,175.83809,194.49931,199.76436,225.92371,230.71593,256.41312,261.18497,248.93806,256.59799,256.37634,254.45975,266.07874,242.43935,237.29298,222.96886,207.65651,207.01961,199.21028,177.52652,168.4313,157.297,132.68301,132.44537,123.67976,102.66885,102.3604,89.755821,88.129921,78.608688,73.898285,68.309761,70.334312,61.933525,71.07634,57.484367,62.510818,55.407318,57.586105,59.682854,62.771469,53.818981,68.845222,52.782196,59.073078,46.338203,56.115063,48.986588,48.644051,44.339306,46.719131,42.985035,38.609028,45.010258],\"yaxis\":\"y\",\"type\":\"scatter\"},{\"hovertemplate\":\"\\u003cb\\u003eWith Coworkers:\\u003c\\u002fb\\u003e %{y:.2f} mins\\u003cextra\\u003e\\u003c\\u002fextra\\u003e\",\"legendgroup\":\"Coworkers\",\"line\":{\"color\":\"#AB63FA\",\"dash\":\"solid\"},\"marker\":{\"symbol\":\"circle\"},\"mode\":\"lines\",\"name\":\"Coworkers\",\"orientation\":\"v\",\"showlegend\":true,\"x\":[15,16,17,18,19,20,21,22,23,24,25,26,27,28,29,30,31,32,33,34,35,36,37,38,39,40,41,42,43,44,45,46,47,48,49,50,51,52,53,54,55,56,57,58,59,60,61,62,63,64,65,66,67,68,69,70,71,72,73,74,75,76,77,78,79,80],\"xaxis\":\"x\",\"y\":[8.3420067,23.529137,43.809685,81.633575,124.85052,143.9003,154.20972,173.0473,190.10524,206.05486,199.20917,190.09406,211.48781,212.14497,199.11349,215.61365,199.06003,202.76134,186.96373,179.36411,190.68065,178.94667,188.47969,197.09261,172.79756,187.34126,179.37498,189.4864,169.79688,182.13411,182.52716,179.01489,171.43033,170.06847,187.72957,168.1844,172.19505,176.08771,168.29805,184.43581,162.92227,154.11407,157.73422,140.36014,140.17371,125.92768,126.77782,96.651878,78.317001,78.246071,62.186493,50.919098,44.558029,39.273418,27.190746,26.851473,21.892221,20.653986,18.386124,14.613341,16.36656,19.662245,12.47935,3.2494414,4.5325632,5.2152042],\"yaxis\":\"y\",\"type\":\"scatter\"}],                        {\"template\":{\"data\":{\"histogram2dcontour\":[{\"type\":\"histogram2dcontour\",\"colorbar\":{\"outlinewidth\":0,\"ticks\":\"\"},\"colorscale\":[[0.0,\"#0d0887\"],[0.1111111111111111,\"#46039f\"],[0.2222222222222222,\"#7201a8\"],[0.3333333333333333,\"#9c179e\"],[0.4444444444444444,\"#bd3786\"],[0.5555555555555556,\"#d8576b\"],[0.6666666666666666,\"#ed7953\"],[0.7777777777777778,\"#fb9f3a\"],[0.8888888888888888,\"#fdca26\"],[1.0,\"#f0f921\"]]}],\"choropleth\":[{\"type\":\"choropleth\",\"colorbar\":{\"outlinewidth\":0,\"ticks\":\"\"}}],\"histogram2d\":[{\"type\":\"histogram2d\",\"colorbar\":{\"outlinewidth\":0,\"ticks\":\"\"},\"colorscale\":[[0.0,\"#0d0887\"],[0.1111111111111111,\"#46039f\"],[0.2222222222222222,\"#7201a8\"],[0.3333333333333333,\"#9c179e\"],[0.4444444444444444,\"#bd3786\"],[0.5555555555555556,\"#d8576b\"],[0.6666666666666666,\"#ed7953\"],[0.7777777777777778,\"#fb9f3a\"],[0.8888888888888888,\"#fdca26\"],[1.0,\"#f0f921\"]]}],\"heatmap\":[{\"type\":\"heatmap\",\"colorbar\":{\"outlinewidth\":0,\"ticks\":\"\"},\"colorscale\":[[0.0,\"#0d0887\"],[0.1111111111111111,\"#46039f\"],[0.2222222222222222,\"#7201a8\"],[0.3333333333333333,\"#9c179e\"],[0.4444444444444444,\"#bd3786\"],[0.5555555555555556,\"#d8576b\"],[0.6666666666666666,\"#ed7953\"],[0.7777777777777778,\"#fb9f3a\"],[0.8888888888888888,\"#fdca26\"],[1.0,\"#f0f921\"]]}],\"heatmapgl\":[{\"type\":\"heatmapgl\",\"colorbar\":{\"outlinewidth\":0,\"ticks\":\"\"},\"colorscale\":[[0.0,\"#0d0887\"],[0.1111111111111111,\"#46039f\"],[0.2222222222222222,\"#7201a8\"],[0.3333333333333333,\"#9c179e\"],[0.4444444444444444,\"#bd3786\"],[0.5555555555555556,\"#d8576b\"],[0.6666666666666666,\"#ed7953\"],[0.7777777777777778,\"#fb9f3a\"],[0.8888888888888888,\"#fdca26\"],[1.0,\"#f0f921\"]]}],\"contourcarpet\":[{\"type\":\"contourcarpet\",\"colorbar\":{\"outlinewidth\":0,\"ticks\":\"\"}}],\"contour\":[{\"type\":\"contour\",\"colorbar\":{\"outlinewidth\":0,\"ticks\":\"\"},\"colorscale\":[[0.0,\"#0d0887\"],[0.1111111111111111,\"#46039f\"],[0.2222222222222222,\"#7201a8\"],[0.3333333333333333,\"#9c179e\"],[0.4444444444444444,\"#bd3786\"],[0.5555555555555556,\"#d8576b\"],[0.6666666666666666,\"#ed7953\"],[0.7777777777777778,\"#fb9f3a\"],[0.8888888888888888,\"#fdca26\"],[1.0,\"#f0f921\"]]}],\"surface\":[{\"type\":\"surface\",\"colorbar\":{\"outlinewidth\":0,\"ticks\":\"\"},\"colorscale\":[[0.0,\"#0d0887\"],[0.1111111111111111,\"#46039f\"],[0.2222222222222222,\"#7201a8\"],[0.3333333333333333,\"#9c179e\"],[0.4444444444444444,\"#bd3786\"],[0.5555555555555556,\"#d8576b\"],[0.6666666666666666,\"#ed7953\"],[0.7777777777777778,\"#fb9f3a\"],[0.8888888888888888,\"#fdca26\"],[1.0,\"#f0f921\"]]}],\"mesh3d\":[{\"type\":\"mesh3d\",\"colorbar\":{\"outlinewidth\":0,\"ticks\":\"\"}}],\"scatter\":[{\"fillpattern\":{\"fillmode\":\"overlay\",\"size\":10,\"solidity\":0.2},\"type\":\"scatter\"}],\"parcoords\":[{\"type\":\"parcoords\",\"line\":{\"colorbar\":{\"outlinewidth\":0,\"ticks\":\"\"}}}],\"scatterpolargl\":[{\"type\":\"scatterpolargl\",\"marker\":{\"colorbar\":{\"outlinewidth\":0,\"ticks\":\"\"}}}],\"bar\":[{\"error_x\":{\"color\":\"#2a3f5f\"},\"error_y\":{\"color\":\"#2a3f5f\"},\"marker\":{\"line\":{\"color\":\"#E5ECF6\",\"width\":0.5},\"pattern\":{\"fillmode\":\"overlay\",\"size\":10,\"solidity\":0.2}},\"type\":\"bar\"}],\"scattergeo\":[{\"type\":\"scattergeo\",\"marker\":{\"colorbar\":{\"outlinewidth\":0,\"ticks\":\"\"}}}],\"scatterpolar\":[{\"type\":\"scatterpolar\",\"marker\":{\"colorbar\":{\"outlinewidth\":0,\"ticks\":\"\"}}}],\"histogram\":[{\"marker\":{\"pattern\":{\"fillmode\":\"overlay\",\"size\":10,\"solidity\":0.2}},\"type\":\"histogram\"}],\"scattergl\":[{\"type\":\"scattergl\",\"marker\":{\"colorbar\":{\"outlinewidth\":0,\"ticks\":\"\"}}}],\"scatter3d\":[{\"type\":\"scatter3d\",\"line\":{\"colorbar\":{\"outlinewidth\":0,\"ticks\":\"\"}},\"marker\":{\"colorbar\":{\"outlinewidth\":0,\"ticks\":\"\"}}}],\"scattermapbox\":[{\"type\":\"scattermapbox\",\"marker\":{\"colorbar\":{\"outlinewidth\":0,\"ticks\":\"\"}}}],\"scatterternary\":[{\"type\":\"scatterternary\",\"marker\":{\"colorbar\":{\"outlinewidth\":0,\"ticks\":\"\"}}}],\"scattercarpet\":[{\"type\":\"scattercarpet\",\"marker\":{\"colorbar\":{\"outlinewidth\":0,\"ticks\":\"\"}}}],\"carpet\":[{\"aaxis\":{\"endlinecolor\":\"#2a3f5f\",\"gridcolor\":\"white\",\"linecolor\":\"white\",\"minorgridcolor\":\"white\",\"startlinecolor\":\"#2a3f5f\"},\"baxis\":{\"endlinecolor\":\"#2a3f5f\",\"gridcolor\":\"white\",\"linecolor\":\"white\",\"minorgridcolor\":\"white\",\"startlinecolor\":\"#2a3f5f\"},\"type\":\"carpet\"}],\"table\":[{\"cells\":{\"fill\":{\"color\":\"#EBF0F8\"},\"line\":{\"color\":\"white\"}},\"header\":{\"fill\":{\"color\":\"#C8D4E3\"},\"line\":{\"color\":\"white\"}},\"type\":\"table\"}],\"barpolar\":[{\"marker\":{\"line\":{\"color\":\"#E5ECF6\",\"width\":0.5},\"pattern\":{\"fillmode\":\"overlay\",\"size\":10,\"solidity\":0.2}},\"type\":\"barpolar\"}],\"pie\":[{\"automargin\":true,\"type\":\"pie\"}]},\"layout\":{\"autotypenumbers\":\"strict\",\"colorway\":[\"#636efa\",\"#EF553B\",\"#00cc96\",\"#ab63fa\",\"#FFA15A\",\"#19d3f3\",\"#FF6692\",\"#B6E880\",\"#FF97FF\",\"#FECB52\"],\"font\":{\"color\":\"#2a3f5f\"},\"hovermode\":\"closest\",\"hoverlabel\":{\"align\":\"left\"},\"paper_bgcolor\":\"white\",\"plot_bgcolor\":\"#E5ECF6\",\"polar\":{\"bgcolor\":\"#E5ECF6\",\"angularaxis\":{\"gridcolor\":\"white\",\"linecolor\":\"white\",\"ticks\":\"\"},\"radialaxis\":{\"gridcolor\":\"white\",\"linecolor\":\"white\",\"ticks\":\"\"}},\"ternary\":{\"bgcolor\":\"#E5ECF6\",\"aaxis\":{\"gridcolor\":\"white\",\"linecolor\":\"white\",\"ticks\":\"\"},\"baxis\":{\"gridcolor\":\"white\",\"linecolor\":\"white\",\"ticks\":\"\"},\"caxis\":{\"gridcolor\":\"white\",\"linecolor\":\"white\",\"ticks\":\"\"}},\"coloraxis\":{\"colorbar\":{\"outlinewidth\":0,\"ticks\":\"\"}},\"colorscale\":{\"sequential\":[[0.0,\"#0d0887\"],[0.1111111111111111,\"#46039f\"],[0.2222222222222222,\"#7201a8\"],[0.3333333333333333,\"#9c179e\"],[0.4444444444444444,\"#bd3786\"],[0.5555555555555556,\"#d8576b\"],[0.6666666666666666,\"#ed7953\"],[0.7777777777777778,\"#fb9f3a\"],[0.8888888888888888,\"#fdca26\"],[1.0,\"#f0f921\"]],\"sequentialminus\":[[0.0,\"#0d0887\"],[0.1111111111111111,\"#46039f\"],[0.2222222222222222,\"#7201a8\"],[0.3333333333333333,\"#9c179e\"],[0.4444444444444444,\"#bd3786\"],[0.5555555555555556,\"#d8576b\"],[0.6666666666666666,\"#ed7953\"],[0.7777777777777778,\"#fb9f3a\"],[0.8888888888888888,\"#fdca26\"],[1.0,\"#f0f921\"]],\"diverging\":[[0,\"#8e0152\"],[0.1,\"#c51b7d\"],[0.2,\"#de77ae\"],[0.3,\"#f1b6da\"],[0.4,\"#fde0ef\"],[0.5,\"#f7f7f7\"],[0.6,\"#e6f5d0\"],[0.7,\"#b8e186\"],[0.8,\"#7fbc41\"],[0.9,\"#4d9221\"],[1,\"#276419\"]]},\"xaxis\":{\"gridcolor\":\"white\",\"linecolor\":\"white\",\"ticks\":\"\",\"title\":{\"standoff\":15},\"zerolinecolor\":\"white\",\"automargin\":true,\"zerolinewidth\":2},\"yaxis\":{\"gridcolor\":\"white\",\"linecolor\":\"white\",\"ticks\":\"\",\"title\":{\"standoff\":15},\"zerolinecolor\":\"white\",\"automargin\":true,\"zerolinewidth\":2},\"scene\":{\"xaxis\":{\"backgroundcolor\":\"#E5ECF6\",\"gridcolor\":\"white\",\"linecolor\":\"white\",\"showbackground\":true,\"ticks\":\"\",\"zerolinecolor\":\"white\",\"gridwidth\":2},\"yaxis\":{\"backgroundcolor\":\"#E5ECF6\",\"gridcolor\":\"white\",\"linecolor\":\"white\",\"showbackground\":true,\"ticks\":\"\",\"zerolinecolor\":\"white\",\"gridwidth\":2},\"zaxis\":{\"backgroundcolor\":\"#E5ECF6\",\"gridcolor\":\"white\",\"linecolor\":\"white\",\"showbackground\":true,\"ticks\":\"\",\"zerolinecolor\":\"white\",\"gridwidth\":2}},\"shapedefaults\":{\"line\":{\"color\":\"#2a3f5f\"}},\"annotationdefaults\":{\"arrowcolor\":\"#2a3f5f\",\"arrowhead\":0,\"arrowwidth\":1},\"geo\":{\"bgcolor\":\"white\",\"landcolor\":\"#E5ECF6\",\"subunitcolor\":\"white\",\"showland\":true,\"showlakes\":true,\"lakecolor\":\"white\"},\"title\":{\"x\":0.05},\"mapbox\":{\"style\":\"light\"}}},\"xaxis\":{\"anchor\":\"y\",\"domain\":[0.0,1.0],\"title\":{\"text\":\"\\u003cb\\u003eAge\\u003c\\u002fb\\u003e\",\"font\":{\"size\":13,\"family\":\"Arial\"}},\"ticksuffix\":\" y.o.\"},\"yaxis\":{\"anchor\":\"x\",\"domain\":[0.0,1.0],\"title\":{\"text\":\"\\u003cb\\u003eTime spent with the people (mins)\\u003c\\u002fb\\u003e\",\"font\":{\"size\":13,\"family\":\"Arial\"}}},\"legend\":{\"title\":{\"text\":\"People type\"},\"tracegroupgap\":0},\"margin\":{\"t\":60},\"title\":{\"font\":{\"size\":15,\"family\":\"Arial\"},\"text\":\"\\u003cb\\u003eWho American People Spend Time with by Age \\u003c\\u002fb\\u003e\",\"x\":0.45},\"width\":1000,\"height\":750,\"hovermode\":\"x unified\",\"showlegend\":false,\"annotations\":[{\"align\":\"left\",\"arrowcolor\":\"#636EFA\",\"arrowhead\":1,\"arrowsize\":0.8,\"arrowwidth\":1.5,\"ax\":80,\"ay\":0,\"font\":{\"color\":\"#636EFA\",\"family\":\"Arial\",\"size\":13},\"showarrow\":true,\"text\":\"With Partner\",\"x\":80.5,\"y\":227.04634,\"yanchor\":\"auto\"},{\"align\":\"left\",\"arrowcolor\":\"#EF553B\",\"arrowhead\":1,\"arrowsize\":0.8,\"arrowwidth\":1.5,\"ax\":80,\"ay\":0,\"font\":{\"color\":\"#EF553B\",\"family\":\"Arial\",\"size\":13},\"showarrow\":true,\"text\":\"With Friends\",\"x\":80.5,\"y\":35.589745,\"yanchor\":\"auto\"},{\"align\":\"left\",\"arrowcolor\":\"#00CC96\",\"arrowhead\":1,\"arrowsize\":0.8,\"arrowwidth\":1.5,\"ax\":80,\"ay\":0,\"font\":{\"color\":\"#00CC96\",\"family\":\"Arial\",\"size\":13},\"showarrow\":true,\"text\":\"With Children\",\"x\":80.5,\"y\":45.010258,\"yanchor\":\"auto\"},{\"align\":\"left\",\"arrowcolor\":\"#AB63FA\",\"arrowhead\":1,\"arrowsize\":0.8,\"arrowwidth\":1.5,\"ax\":80,\"ay\":0,\"font\":{\"color\":\"#AB63FA\",\"family\":\"Arial\",\"size\":13},\"showarrow\":true,\"text\":\"With Coworkers\",\"x\":80.5,\"y\":5.2152042,\"yanchor\":\"auto\"}]},                        {\"responsive\": true}                    ).then(function(){\n",
       "                            \n",
       "var gd = document.getElementById('fc5d3b11-e45e-44d6-843d-99f000f75650');\n",
       "var x = new MutationObserver(function (mutations, observer) {{\n",
       "        var display = window.getComputedStyle(gd).display;\n",
       "        if (!display || display === 'none') {{\n",
       "            console.log([gd, 'removed!']);\n",
       "            Plotly.purge(gd);\n",
       "            observer.disconnect();\n",
       "        }}\n",
       "}});\n",
       "\n",
       "// Listen for the removal of the full notebook cells\n",
       "var notebookContainer = gd.closest('#notebook-container');\n",
       "if (notebookContainer) {{\n",
       "    x.observe(notebookContainer, {childList: true});\n",
       "}}\n",
       "\n",
       "// Listen for the clearing of the current output cell\n",
       "var outputEl = gd.closest('.output');\n",
       "if (outputEl) {{\n",
       "    x.observe(outputEl, {childList: true});\n",
       "}}\n",
       "\n",
       "                        })                };                });            </script>        </div>"
      ]
     },
     "metadata": {},
     "output_type": "display_data"
    }
   ],
   "source": [
    "# Plotly line plot with ANIMATION FRAME\n",
    "ppl_grp = ['Friends','Partner','Families','Children','Coworkers']\n",
    "df2 = df1_long[df1_long['People type'].isin(ppl_grp)]\n",
    "\n",
    "LinePlot_TimevsAge(df2, 'Year', 'Time_mins', 'People type')"
   ]
  },
  {
   "cell_type": "code",
   "execution_count": null,
   "id": "28937b64-d113-4442-88b0-31b0195bd388",
   "metadata": {
    "colab": {
     "base_uri": "https://localhost:8080/",
     "height": 767
    },
    "id": "28937b64-d113-4442-88b0-31b0195bd388",
    "outputId": "9d3a29c0-9ec2-48f2-d2cb-29a045d52dfa"
   },
   "outputs": [
    {
     "data": {
      "application/vnd.plotly.v1+json": {
       "config": {
        "plotlyServerURL": "https://plot.ly"
       },
       "data": [
        {
         "hovertemplate": "<b>With Friends and Coworkers:</b> %{y:.2f} mins<extra></extra>",
         "legendgroup": "Friends and Coworkers",
         "line": {
          "color": "#636EFA",
          "dash": "solid"
         },
         "marker": {
          "symbol": "circle"
         },
         "mode": "lines",
         "name": "Friends and Coworkers",
         "orientation": "v",
         "showlegend": true,
         "type": "scatter",
         "x": [
          15,
          16,
          17,
          18,
          19,
          20,
          21,
          22,
          23,
          24,
          25,
          26,
          27,
          28,
          29,
          30,
          31,
          32,
          33,
          34,
          35,
          36,
          37,
          38,
          39,
          40,
          41,
          42,
          43,
          44,
          45,
          46,
          47,
          48,
          49,
          50,
          51,
          52,
          53,
          54,
          55,
          56,
          57,
          58,
          59,
          60,
          61,
          62,
          63,
          64,
          65,
          66,
          67,
          68,
          69,
          70,
          71,
          72,
          73,
          74,
          75,
          76,
          77,
          78,
          79,
          80
         ],
         "xaxis": "x",
         "y": [
          117.7565067,
          134.270937,
          164.228555,
          219.38464499999998,
          254.70767999999998,
          266.6405,
          276.61599,
          273.21592,
          291.17701,
          302.841206,
          276.752185,
          267.950894,
          285.628496,
          274.636658,
          254.197944,
          269.09166600000003,
          249.98595600000002,
          252.225802,
          236.695358,
          222.01439800000003,
          232.342286,
          219.067607,
          231.842193,
          239.193703,
          206.409479,
          223.538274,
          218.104472,
          228.182033,
          208.90487399999998,
          220.993912,
          218.618156,
          216.474244,
          210.673807,
          203.425827,
          225.044599,
          197.102283,
          207.822652,
          210.04890699999999,
          199.883219,
          219.27295700000002,
          196.001414,
          190.934318,
          189.213304,
          175.63574,
          169.242445,
          161.87411,
          159.585426,
          131.105446,
          114.464519,
          113.426918,
          98.086983,
          91.747372,
          83.538849,
          80.655944,
          69.192375,
          72.65364299999999,
          66.32620800000001,
          64.888788,
          54.9786,
          55.122091999999995,
          55.446554,
          61.166151,
          46.074939,
          42.547266400000005,
          46.5083552,
          40.8049492
         ],
         "yaxis": "y"
        },
        {
         "hovertemplate": "<b>With Family:</b> %{y:.2f} mins<extra></extra>",
         "legendgroup": "Family",
         "line": {
          "color": "#EF553B",
          "dash": "solid"
         },
         "marker": {
          "symbol": "circle"
         },
         "mode": "lines",
         "name": "Family",
         "orientation": "v",
         "showlegend": true,
         "type": "scatter",
         "x": [
          15,
          16,
          17,
          18,
          19,
          20,
          21,
          22,
          23,
          24,
          25,
          26,
          27,
          28,
          29,
          30,
          31,
          32,
          33,
          34,
          35,
          36,
          37,
          38,
          39,
          40,
          41,
          42,
          43,
          44,
          45,
          46,
          47,
          48,
          49,
          50,
          51,
          52,
          53,
          54,
          55,
          56,
          57,
          58,
          59,
          60,
          61,
          62,
          63,
          64,
          65,
          66,
          67,
          68,
          69,
          70,
          71,
          72,
          73,
          74,
          75,
          76,
          77,
          78,
          79,
          80
         ],
         "xaxis": "x",
         "y": [
          290.58476199999996,
          282.978657858,
          257.0281586,
          269.4365851,
          257.062895,
          254.11971200000002,
          281.86496,
          263.89594,
          300.91788,
          302.597034,
          341.78798,
          356.166295,
          391.17598499999997,
          424.230867,
          452.3086,
          452.263784,
          499.16227299999997,
          484.0541549999999,
          522.796153,
          526.145613,
          509.322223,
          518.967391,
          516.827491,
          511.77045400000003,
          530.856698,
          499.02460499999995,
          487.591194,
          455.913895,
          444.776874,
          453.19216900000004,
          441.26987700000006,
          418.976982,
          409.576034,
          413.818298,
          385.42944,
          372.73651800000005,
          373.697434,
          358.429186,
          350.648732,
          332.667407,
          333.258036,
          340.62831700000004,
          318.04548,
          320.705052,
          337.527509,
          332.099181,
          337.20157800000004,
          338.119941,
          368.415279,
          351.218481,
          365.403205,
          384.82418800000005,
          379.751247,
          367.899413,
          400.96331299999997,
          362.623649,
          383.912792,
          364.55715799999996,
          388.798929,
          369.641308,
          357.859017,
          362.531702,
          386.90486599999997,
          359.10309100000006,
          325.923575,
          338.156963
         ],
         "yaxis": "y"
        }
       ],
       "layout": {
        "annotations": [
         {
          "align": "left",
          "arrowcolor": "#636EFA",
          "arrowhead": 1,
          "arrowsize": 0.8,
          "arrowwidth": 1.5,
          "ax": 80,
          "ay": 0,
          "font": {
           "color": "#636EFA",
           "family": "Arial",
           "size": 13
          },
          "showarrow": true,
          "text": "With Friends and Coworkers",
          "x": 80.5,
          "y": 40.8049492,
          "yanchor": "auto"
         },
         {
          "align": "left",
          "arrowcolor": "#EF553B",
          "arrowhead": 1,
          "arrowsize": 0.8,
          "arrowwidth": 1.5,
          "ax": 80,
          "ay": 0,
          "font": {
           "color": "#EF553B",
           "family": "Arial",
           "size": 13
          },
          "showarrow": true,
          "text": "With Family",
          "x": 80.5,
          "y": 338.156963,
          "yanchor": "auto"
         }
        ],
        "height": 750,
        "hovermode": "x unified",
        "legend": {
         "title": {
          "text": "People type"
         },
         "tracegroupgap": 0
        },
        "margin": {
         "t": 60
        },
        "showlegend": false,
        "template": {
         "data": {
          "bar": [
           {
            "error_x": {
             "color": "#2a3f5f"
            },
            "error_y": {
             "color": "#2a3f5f"
            },
            "marker": {
             "line": {
              "color": "#E5ECF6",
              "width": 0.5
             },
             "pattern": {
              "fillmode": "overlay",
              "size": 10,
              "solidity": 0.2
             }
            },
            "type": "bar"
           }
          ],
          "barpolar": [
           {
            "marker": {
             "line": {
              "color": "#E5ECF6",
              "width": 0.5
             },
             "pattern": {
              "fillmode": "overlay",
              "size": 10,
              "solidity": 0.2
             }
            },
            "type": "barpolar"
           }
          ],
          "carpet": [
           {
            "aaxis": {
             "endlinecolor": "#2a3f5f",
             "gridcolor": "white",
             "linecolor": "white",
             "minorgridcolor": "white",
             "startlinecolor": "#2a3f5f"
            },
            "baxis": {
             "endlinecolor": "#2a3f5f",
             "gridcolor": "white",
             "linecolor": "white",
             "minorgridcolor": "white",
             "startlinecolor": "#2a3f5f"
            },
            "type": "carpet"
           }
          ],
          "choropleth": [
           {
            "colorbar": {
             "outlinewidth": 0,
             "ticks": ""
            },
            "type": "choropleth"
           }
          ],
          "contour": [
           {
            "colorbar": {
             "outlinewidth": 0,
             "ticks": ""
            },
            "colorscale": [
             [
              0,
              "#0d0887"
             ],
             [
              0.1111111111111111,
              "#46039f"
             ],
             [
              0.2222222222222222,
              "#7201a8"
             ],
             [
              0.3333333333333333,
              "#9c179e"
             ],
             [
              0.4444444444444444,
              "#bd3786"
             ],
             [
              0.5555555555555556,
              "#d8576b"
             ],
             [
              0.6666666666666666,
              "#ed7953"
             ],
             [
              0.7777777777777778,
              "#fb9f3a"
             ],
             [
              0.8888888888888888,
              "#fdca26"
             ],
             [
              1,
              "#f0f921"
             ]
            ],
            "type": "contour"
           }
          ],
          "contourcarpet": [
           {
            "colorbar": {
             "outlinewidth": 0,
             "ticks": ""
            },
            "type": "contourcarpet"
           }
          ],
          "heatmap": [
           {
            "colorbar": {
             "outlinewidth": 0,
             "ticks": ""
            },
            "colorscale": [
             [
              0,
              "#0d0887"
             ],
             [
              0.1111111111111111,
              "#46039f"
             ],
             [
              0.2222222222222222,
              "#7201a8"
             ],
             [
              0.3333333333333333,
              "#9c179e"
             ],
             [
              0.4444444444444444,
              "#bd3786"
             ],
             [
              0.5555555555555556,
              "#d8576b"
             ],
             [
              0.6666666666666666,
              "#ed7953"
             ],
             [
              0.7777777777777778,
              "#fb9f3a"
             ],
             [
              0.8888888888888888,
              "#fdca26"
             ],
             [
              1,
              "#f0f921"
             ]
            ],
            "type": "heatmap"
           }
          ],
          "heatmapgl": [
           {
            "colorbar": {
             "outlinewidth": 0,
             "ticks": ""
            },
            "colorscale": [
             [
              0,
              "#0d0887"
             ],
             [
              0.1111111111111111,
              "#46039f"
             ],
             [
              0.2222222222222222,
              "#7201a8"
             ],
             [
              0.3333333333333333,
              "#9c179e"
             ],
             [
              0.4444444444444444,
              "#bd3786"
             ],
             [
              0.5555555555555556,
              "#d8576b"
             ],
             [
              0.6666666666666666,
              "#ed7953"
             ],
             [
              0.7777777777777778,
              "#fb9f3a"
             ],
             [
              0.8888888888888888,
              "#fdca26"
             ],
             [
              1,
              "#f0f921"
             ]
            ],
            "type": "heatmapgl"
           }
          ],
          "histogram": [
           {
            "marker": {
             "pattern": {
              "fillmode": "overlay",
              "size": 10,
              "solidity": 0.2
             }
            },
            "type": "histogram"
           }
          ],
          "histogram2d": [
           {
            "colorbar": {
             "outlinewidth": 0,
             "ticks": ""
            },
            "colorscale": [
             [
              0,
              "#0d0887"
             ],
             [
              0.1111111111111111,
              "#46039f"
             ],
             [
              0.2222222222222222,
              "#7201a8"
             ],
             [
              0.3333333333333333,
              "#9c179e"
             ],
             [
              0.4444444444444444,
              "#bd3786"
             ],
             [
              0.5555555555555556,
              "#d8576b"
             ],
             [
              0.6666666666666666,
              "#ed7953"
             ],
             [
              0.7777777777777778,
              "#fb9f3a"
             ],
             [
              0.8888888888888888,
              "#fdca26"
             ],
             [
              1,
              "#f0f921"
             ]
            ],
            "type": "histogram2d"
           }
          ],
          "histogram2dcontour": [
           {
            "colorbar": {
             "outlinewidth": 0,
             "ticks": ""
            },
            "colorscale": [
             [
              0,
              "#0d0887"
             ],
             [
              0.1111111111111111,
              "#46039f"
             ],
             [
              0.2222222222222222,
              "#7201a8"
             ],
             [
              0.3333333333333333,
              "#9c179e"
             ],
             [
              0.4444444444444444,
              "#bd3786"
             ],
             [
              0.5555555555555556,
              "#d8576b"
             ],
             [
              0.6666666666666666,
              "#ed7953"
             ],
             [
              0.7777777777777778,
              "#fb9f3a"
             ],
             [
              0.8888888888888888,
              "#fdca26"
             ],
             [
              1,
              "#f0f921"
             ]
            ],
            "type": "histogram2dcontour"
           }
          ],
          "mesh3d": [
           {
            "colorbar": {
             "outlinewidth": 0,
             "ticks": ""
            },
            "type": "mesh3d"
           }
          ],
          "parcoords": [
           {
            "line": {
             "colorbar": {
              "outlinewidth": 0,
              "ticks": ""
             }
            },
            "type": "parcoords"
           }
          ],
          "pie": [
           {
            "automargin": true,
            "type": "pie"
           }
          ],
          "scatter": [
           {
            "fillpattern": {
             "fillmode": "overlay",
             "size": 10,
             "solidity": 0.2
            },
            "type": "scatter"
           }
          ],
          "scatter3d": [
           {
            "line": {
             "colorbar": {
              "outlinewidth": 0,
              "ticks": ""
             }
            },
            "marker": {
             "colorbar": {
              "outlinewidth": 0,
              "ticks": ""
             }
            },
            "type": "scatter3d"
           }
          ],
          "scattercarpet": [
           {
            "marker": {
             "colorbar": {
              "outlinewidth": 0,
              "ticks": ""
             }
            },
            "type": "scattercarpet"
           }
          ],
          "scattergeo": [
           {
            "marker": {
             "colorbar": {
              "outlinewidth": 0,
              "ticks": ""
             }
            },
            "type": "scattergeo"
           }
          ],
          "scattergl": [
           {
            "marker": {
             "colorbar": {
              "outlinewidth": 0,
              "ticks": ""
             }
            },
            "type": "scattergl"
           }
          ],
          "scattermapbox": [
           {
            "marker": {
             "colorbar": {
              "outlinewidth": 0,
              "ticks": ""
             }
            },
            "type": "scattermapbox"
           }
          ],
          "scatterpolar": [
           {
            "marker": {
             "colorbar": {
              "outlinewidth": 0,
              "ticks": ""
             }
            },
            "type": "scatterpolar"
           }
          ],
          "scatterpolargl": [
           {
            "marker": {
             "colorbar": {
              "outlinewidth": 0,
              "ticks": ""
             }
            },
            "type": "scatterpolargl"
           }
          ],
          "scatterternary": [
           {
            "marker": {
             "colorbar": {
              "outlinewidth": 0,
              "ticks": ""
             }
            },
            "type": "scatterternary"
           }
          ],
          "surface": [
           {
            "colorbar": {
             "outlinewidth": 0,
             "ticks": ""
            },
            "colorscale": [
             [
              0,
              "#0d0887"
             ],
             [
              0.1111111111111111,
              "#46039f"
             ],
             [
              0.2222222222222222,
              "#7201a8"
             ],
             [
              0.3333333333333333,
              "#9c179e"
             ],
             [
              0.4444444444444444,
              "#bd3786"
             ],
             [
              0.5555555555555556,
              "#d8576b"
             ],
             [
              0.6666666666666666,
              "#ed7953"
             ],
             [
              0.7777777777777778,
              "#fb9f3a"
             ],
             [
              0.8888888888888888,
              "#fdca26"
             ],
             [
              1,
              "#f0f921"
             ]
            ],
            "type": "surface"
           }
          ],
          "table": [
           {
            "cells": {
             "fill": {
              "color": "#EBF0F8"
             },
             "line": {
              "color": "white"
             }
            },
            "header": {
             "fill": {
              "color": "#C8D4E3"
             },
             "line": {
              "color": "white"
             }
            },
            "type": "table"
           }
          ]
         },
         "layout": {
          "annotationdefaults": {
           "arrowcolor": "#2a3f5f",
           "arrowhead": 0,
           "arrowwidth": 1
          },
          "autotypenumbers": "strict",
          "coloraxis": {
           "colorbar": {
            "outlinewidth": 0,
            "ticks": ""
           }
          },
          "colorscale": {
           "diverging": [
            [
             0,
             "#8e0152"
            ],
            [
             0.1,
             "#c51b7d"
            ],
            [
             0.2,
             "#de77ae"
            ],
            [
             0.3,
             "#f1b6da"
            ],
            [
             0.4,
             "#fde0ef"
            ],
            [
             0.5,
             "#f7f7f7"
            ],
            [
             0.6,
             "#e6f5d0"
            ],
            [
             0.7,
             "#b8e186"
            ],
            [
             0.8,
             "#7fbc41"
            ],
            [
             0.9,
             "#4d9221"
            ],
            [
             1,
             "#276419"
            ]
           ],
           "sequential": [
            [
             0,
             "#0d0887"
            ],
            [
             0.1111111111111111,
             "#46039f"
            ],
            [
             0.2222222222222222,
             "#7201a8"
            ],
            [
             0.3333333333333333,
             "#9c179e"
            ],
            [
             0.4444444444444444,
             "#bd3786"
            ],
            [
             0.5555555555555556,
             "#d8576b"
            ],
            [
             0.6666666666666666,
             "#ed7953"
            ],
            [
             0.7777777777777778,
             "#fb9f3a"
            ],
            [
             0.8888888888888888,
             "#fdca26"
            ],
            [
             1,
             "#f0f921"
            ]
           ],
           "sequentialminus": [
            [
             0,
             "#0d0887"
            ],
            [
             0.1111111111111111,
             "#46039f"
            ],
            [
             0.2222222222222222,
             "#7201a8"
            ],
            [
             0.3333333333333333,
             "#9c179e"
            ],
            [
             0.4444444444444444,
             "#bd3786"
            ],
            [
             0.5555555555555556,
             "#d8576b"
            ],
            [
             0.6666666666666666,
             "#ed7953"
            ],
            [
             0.7777777777777778,
             "#fb9f3a"
            ],
            [
             0.8888888888888888,
             "#fdca26"
            ],
            [
             1,
             "#f0f921"
            ]
           ]
          },
          "colorway": [
           "#636efa",
           "#EF553B",
           "#00cc96",
           "#ab63fa",
           "#FFA15A",
           "#19d3f3",
           "#FF6692",
           "#B6E880",
           "#FF97FF",
           "#FECB52"
          ],
          "font": {
           "color": "#2a3f5f"
          },
          "geo": {
           "bgcolor": "white",
           "lakecolor": "white",
           "landcolor": "#E5ECF6",
           "showlakes": true,
           "showland": true,
           "subunitcolor": "white"
          },
          "hoverlabel": {
           "align": "left"
          },
          "hovermode": "closest",
          "mapbox": {
           "style": "light"
          },
          "paper_bgcolor": "white",
          "plot_bgcolor": "#E5ECF6",
          "polar": {
           "angularaxis": {
            "gridcolor": "white",
            "linecolor": "white",
            "ticks": ""
           },
           "bgcolor": "#E5ECF6",
           "radialaxis": {
            "gridcolor": "white",
            "linecolor": "white",
            "ticks": ""
           }
          },
          "scene": {
           "xaxis": {
            "backgroundcolor": "#E5ECF6",
            "gridcolor": "white",
            "gridwidth": 2,
            "linecolor": "white",
            "showbackground": true,
            "ticks": "",
            "zerolinecolor": "white"
           },
           "yaxis": {
            "backgroundcolor": "#E5ECF6",
            "gridcolor": "white",
            "gridwidth": 2,
            "linecolor": "white",
            "showbackground": true,
            "ticks": "",
            "zerolinecolor": "white"
           },
           "zaxis": {
            "backgroundcolor": "#E5ECF6",
            "gridcolor": "white",
            "gridwidth": 2,
            "linecolor": "white",
            "showbackground": true,
            "ticks": "",
            "zerolinecolor": "white"
           }
          },
          "shapedefaults": {
           "line": {
            "color": "#2a3f5f"
           }
          },
          "ternary": {
           "aaxis": {
            "gridcolor": "white",
            "linecolor": "white",
            "ticks": ""
           },
           "baxis": {
            "gridcolor": "white",
            "linecolor": "white",
            "ticks": ""
           },
           "bgcolor": "#E5ECF6",
           "caxis": {
            "gridcolor": "white",
            "linecolor": "white",
            "ticks": ""
           }
          },
          "title": {
           "x": 0.05
          },
          "xaxis": {
           "automargin": true,
           "gridcolor": "white",
           "linecolor": "white",
           "ticks": "",
           "title": {
            "standoff": 15
           },
           "zerolinecolor": "white",
           "zerolinewidth": 2
          },
          "yaxis": {
           "automargin": true,
           "gridcolor": "white",
           "linecolor": "white",
           "ticks": "",
           "title": {
            "standoff": 15
           },
           "zerolinecolor": "white",
           "zerolinewidth": 2
          }
         }
        },
        "title": {
         "font": {
          "family": "Arial",
          "size": 15
         },
         "text": "<b>Who American People Spend Time with by Age </b>",
         "x": 0.45
        },
        "width": 1000,
        "xaxis": {
         "anchor": "y",
         "domain": [
          0,
          1
         ],
         "ticksuffix": " y.o.",
         "title": {
          "font": {
           "family": "Arial",
           "size": 13
          },
          "text": "<b>Age</b>"
         }
        },
        "yaxis": {
         "anchor": "x",
         "domain": [
          0,
          1
         ],
         "title": {
          "font": {
           "family": "Arial",
           "size": 13
          },
          "text": "<b>Time spent with the people (mins)</b>"
         }
        }
       }
      },
      "text/html": [
       "<div>                            <div id=\"cc5bfb92-9008-43c7-852f-277cb8bfec1b\" class=\"plotly-graph-div\" style=\"height:750px; width:1000px;\"></div>            <script type=\"text/javascript\">                require([\"plotly\"], function(Plotly) {                    window.PLOTLYENV=window.PLOTLYENV || {};                                    if (document.getElementById(\"cc5bfb92-9008-43c7-852f-277cb8bfec1b\")) {                    Plotly.newPlot(                        \"cc5bfb92-9008-43c7-852f-277cb8bfec1b\",                        [{\"hovertemplate\":\"\\u003cb\\u003eWith Friends and Coworkers:\\u003c\\u002fb\\u003e %{y:.2f} mins\\u003cextra\\u003e\\u003c\\u002fextra\\u003e\",\"legendgroup\":\"Friends and Coworkers\",\"line\":{\"color\":\"#636EFA\",\"dash\":\"solid\"},\"marker\":{\"symbol\":\"circle\"},\"mode\":\"lines\",\"name\":\"Friends and Coworkers\",\"orientation\":\"v\",\"showlegend\":true,\"x\":[15,16,17,18,19,20,21,22,23,24,25,26,27,28,29,30,31,32,33,34,35,36,37,38,39,40,41,42,43,44,45,46,47,48,49,50,51,52,53,54,55,56,57,58,59,60,61,62,63,64,65,66,67,68,69,70,71,72,73,74,75,76,77,78,79,80],\"xaxis\":\"x\",\"y\":[117.7565067,134.270937,164.228555,219.38464499999998,254.70767999999998,266.6405,276.61599,273.21592,291.17701,302.841206,276.752185,267.950894,285.628496,274.636658,254.197944,269.09166600000003,249.98595600000002,252.225802,236.695358,222.01439800000003,232.342286,219.067607,231.842193,239.193703,206.409479,223.538274,218.104472,228.182033,208.90487399999998,220.993912,218.618156,216.474244,210.673807,203.425827,225.044599,197.102283,207.822652,210.04890699999999,199.883219,219.27295700000002,196.001414,190.934318,189.213304,175.63574,169.242445,161.87411,159.585426,131.105446,114.464519,113.426918,98.086983,91.747372,83.538849,80.655944,69.192375,72.65364299999999,66.32620800000001,64.888788,54.9786,55.122091999999995,55.446554,61.166151,46.074939,42.547266400000005,46.5083552,40.8049492],\"yaxis\":\"y\",\"type\":\"scatter\"},{\"hovertemplate\":\"\\u003cb\\u003eWith Family:\\u003c\\u002fb\\u003e %{y:.2f} mins\\u003cextra\\u003e\\u003c\\u002fextra\\u003e\",\"legendgroup\":\"Family\",\"line\":{\"color\":\"#EF553B\",\"dash\":\"solid\"},\"marker\":{\"symbol\":\"circle\"},\"mode\":\"lines\",\"name\":\"Family\",\"orientation\":\"v\",\"showlegend\":true,\"x\":[15,16,17,18,19,20,21,22,23,24,25,26,27,28,29,30,31,32,33,34,35,36,37,38,39,40,41,42,43,44,45,46,47,48,49,50,51,52,53,54,55,56,57,58,59,60,61,62,63,64,65,66,67,68,69,70,71,72,73,74,75,76,77,78,79,80],\"xaxis\":\"x\",\"y\":[290.58476199999996,282.978657858,257.0281586,269.4365851,257.062895,254.11971200000002,281.86496,263.89594,300.91788,302.597034,341.78798,356.166295,391.17598499999997,424.230867,452.3086,452.263784,499.16227299999997,484.0541549999999,522.796153,526.145613,509.322223,518.967391,516.827491,511.77045400000003,530.856698,499.02460499999995,487.591194,455.913895,444.776874,453.19216900000004,441.26987700000006,418.976982,409.576034,413.818298,385.42944,372.73651800000005,373.697434,358.429186,350.648732,332.667407,333.258036,340.62831700000004,318.04548,320.705052,337.527509,332.099181,337.20157800000004,338.119941,368.415279,351.218481,365.403205,384.82418800000005,379.751247,367.899413,400.96331299999997,362.623649,383.912792,364.55715799999996,388.798929,369.641308,357.859017,362.531702,386.90486599999997,359.10309100000006,325.923575,338.156963],\"yaxis\":\"y\",\"type\":\"scatter\"}],                        {\"template\":{\"data\":{\"histogram2dcontour\":[{\"type\":\"histogram2dcontour\",\"colorbar\":{\"outlinewidth\":0,\"ticks\":\"\"},\"colorscale\":[[0.0,\"#0d0887\"],[0.1111111111111111,\"#46039f\"],[0.2222222222222222,\"#7201a8\"],[0.3333333333333333,\"#9c179e\"],[0.4444444444444444,\"#bd3786\"],[0.5555555555555556,\"#d8576b\"],[0.6666666666666666,\"#ed7953\"],[0.7777777777777778,\"#fb9f3a\"],[0.8888888888888888,\"#fdca26\"],[1.0,\"#f0f921\"]]}],\"choropleth\":[{\"type\":\"choropleth\",\"colorbar\":{\"outlinewidth\":0,\"ticks\":\"\"}}],\"histogram2d\":[{\"type\":\"histogram2d\",\"colorbar\":{\"outlinewidth\":0,\"ticks\":\"\"},\"colorscale\":[[0.0,\"#0d0887\"],[0.1111111111111111,\"#46039f\"],[0.2222222222222222,\"#7201a8\"],[0.3333333333333333,\"#9c179e\"],[0.4444444444444444,\"#bd3786\"],[0.5555555555555556,\"#d8576b\"],[0.6666666666666666,\"#ed7953\"],[0.7777777777777778,\"#fb9f3a\"],[0.8888888888888888,\"#fdca26\"],[1.0,\"#f0f921\"]]}],\"heatmap\":[{\"type\":\"heatmap\",\"colorbar\":{\"outlinewidth\":0,\"ticks\":\"\"},\"colorscale\":[[0.0,\"#0d0887\"],[0.1111111111111111,\"#46039f\"],[0.2222222222222222,\"#7201a8\"],[0.3333333333333333,\"#9c179e\"],[0.4444444444444444,\"#bd3786\"],[0.5555555555555556,\"#d8576b\"],[0.6666666666666666,\"#ed7953\"],[0.7777777777777778,\"#fb9f3a\"],[0.8888888888888888,\"#fdca26\"],[1.0,\"#f0f921\"]]}],\"heatmapgl\":[{\"type\":\"heatmapgl\",\"colorbar\":{\"outlinewidth\":0,\"ticks\":\"\"},\"colorscale\":[[0.0,\"#0d0887\"],[0.1111111111111111,\"#46039f\"],[0.2222222222222222,\"#7201a8\"],[0.3333333333333333,\"#9c179e\"],[0.4444444444444444,\"#bd3786\"],[0.5555555555555556,\"#d8576b\"],[0.6666666666666666,\"#ed7953\"],[0.7777777777777778,\"#fb9f3a\"],[0.8888888888888888,\"#fdca26\"],[1.0,\"#f0f921\"]]}],\"contourcarpet\":[{\"type\":\"contourcarpet\",\"colorbar\":{\"outlinewidth\":0,\"ticks\":\"\"}}],\"contour\":[{\"type\":\"contour\",\"colorbar\":{\"outlinewidth\":0,\"ticks\":\"\"},\"colorscale\":[[0.0,\"#0d0887\"],[0.1111111111111111,\"#46039f\"],[0.2222222222222222,\"#7201a8\"],[0.3333333333333333,\"#9c179e\"],[0.4444444444444444,\"#bd3786\"],[0.5555555555555556,\"#d8576b\"],[0.6666666666666666,\"#ed7953\"],[0.7777777777777778,\"#fb9f3a\"],[0.8888888888888888,\"#fdca26\"],[1.0,\"#f0f921\"]]}],\"surface\":[{\"type\":\"surface\",\"colorbar\":{\"outlinewidth\":0,\"ticks\":\"\"},\"colorscale\":[[0.0,\"#0d0887\"],[0.1111111111111111,\"#46039f\"],[0.2222222222222222,\"#7201a8\"],[0.3333333333333333,\"#9c179e\"],[0.4444444444444444,\"#bd3786\"],[0.5555555555555556,\"#d8576b\"],[0.6666666666666666,\"#ed7953\"],[0.7777777777777778,\"#fb9f3a\"],[0.8888888888888888,\"#fdca26\"],[1.0,\"#f0f921\"]]}],\"mesh3d\":[{\"type\":\"mesh3d\",\"colorbar\":{\"outlinewidth\":0,\"ticks\":\"\"}}],\"scatter\":[{\"fillpattern\":{\"fillmode\":\"overlay\",\"size\":10,\"solidity\":0.2},\"type\":\"scatter\"}],\"parcoords\":[{\"type\":\"parcoords\",\"line\":{\"colorbar\":{\"outlinewidth\":0,\"ticks\":\"\"}}}],\"scatterpolargl\":[{\"type\":\"scatterpolargl\",\"marker\":{\"colorbar\":{\"outlinewidth\":0,\"ticks\":\"\"}}}],\"bar\":[{\"error_x\":{\"color\":\"#2a3f5f\"},\"error_y\":{\"color\":\"#2a3f5f\"},\"marker\":{\"line\":{\"color\":\"#E5ECF6\",\"width\":0.5},\"pattern\":{\"fillmode\":\"overlay\",\"size\":10,\"solidity\":0.2}},\"type\":\"bar\"}],\"scattergeo\":[{\"type\":\"scattergeo\",\"marker\":{\"colorbar\":{\"outlinewidth\":0,\"ticks\":\"\"}}}],\"scatterpolar\":[{\"type\":\"scatterpolar\",\"marker\":{\"colorbar\":{\"outlinewidth\":0,\"ticks\":\"\"}}}],\"histogram\":[{\"marker\":{\"pattern\":{\"fillmode\":\"overlay\",\"size\":10,\"solidity\":0.2}},\"type\":\"histogram\"}],\"scattergl\":[{\"type\":\"scattergl\",\"marker\":{\"colorbar\":{\"outlinewidth\":0,\"ticks\":\"\"}}}],\"scatter3d\":[{\"type\":\"scatter3d\",\"line\":{\"colorbar\":{\"outlinewidth\":0,\"ticks\":\"\"}},\"marker\":{\"colorbar\":{\"outlinewidth\":0,\"ticks\":\"\"}}}],\"scattermapbox\":[{\"type\":\"scattermapbox\",\"marker\":{\"colorbar\":{\"outlinewidth\":0,\"ticks\":\"\"}}}],\"scatterternary\":[{\"type\":\"scatterternary\",\"marker\":{\"colorbar\":{\"outlinewidth\":0,\"ticks\":\"\"}}}],\"scattercarpet\":[{\"type\":\"scattercarpet\",\"marker\":{\"colorbar\":{\"outlinewidth\":0,\"ticks\":\"\"}}}],\"carpet\":[{\"aaxis\":{\"endlinecolor\":\"#2a3f5f\",\"gridcolor\":\"white\",\"linecolor\":\"white\",\"minorgridcolor\":\"white\",\"startlinecolor\":\"#2a3f5f\"},\"baxis\":{\"endlinecolor\":\"#2a3f5f\",\"gridcolor\":\"white\",\"linecolor\":\"white\",\"minorgridcolor\":\"white\",\"startlinecolor\":\"#2a3f5f\"},\"type\":\"carpet\"}],\"table\":[{\"cells\":{\"fill\":{\"color\":\"#EBF0F8\"},\"line\":{\"color\":\"white\"}},\"header\":{\"fill\":{\"color\":\"#C8D4E3\"},\"line\":{\"color\":\"white\"}},\"type\":\"table\"}],\"barpolar\":[{\"marker\":{\"line\":{\"color\":\"#E5ECF6\",\"width\":0.5},\"pattern\":{\"fillmode\":\"overlay\",\"size\":10,\"solidity\":0.2}},\"type\":\"barpolar\"}],\"pie\":[{\"automargin\":true,\"type\":\"pie\"}]},\"layout\":{\"autotypenumbers\":\"strict\",\"colorway\":[\"#636efa\",\"#EF553B\",\"#00cc96\",\"#ab63fa\",\"#FFA15A\",\"#19d3f3\",\"#FF6692\",\"#B6E880\",\"#FF97FF\",\"#FECB52\"],\"font\":{\"color\":\"#2a3f5f\"},\"hovermode\":\"closest\",\"hoverlabel\":{\"align\":\"left\"},\"paper_bgcolor\":\"white\",\"plot_bgcolor\":\"#E5ECF6\",\"polar\":{\"bgcolor\":\"#E5ECF6\",\"angularaxis\":{\"gridcolor\":\"white\",\"linecolor\":\"white\",\"ticks\":\"\"},\"radialaxis\":{\"gridcolor\":\"white\",\"linecolor\":\"white\",\"ticks\":\"\"}},\"ternary\":{\"bgcolor\":\"#E5ECF6\",\"aaxis\":{\"gridcolor\":\"white\",\"linecolor\":\"white\",\"ticks\":\"\"},\"baxis\":{\"gridcolor\":\"white\",\"linecolor\":\"white\",\"ticks\":\"\"},\"caxis\":{\"gridcolor\":\"white\",\"linecolor\":\"white\",\"ticks\":\"\"}},\"coloraxis\":{\"colorbar\":{\"outlinewidth\":0,\"ticks\":\"\"}},\"colorscale\":{\"sequential\":[[0.0,\"#0d0887\"],[0.1111111111111111,\"#46039f\"],[0.2222222222222222,\"#7201a8\"],[0.3333333333333333,\"#9c179e\"],[0.4444444444444444,\"#bd3786\"],[0.5555555555555556,\"#d8576b\"],[0.6666666666666666,\"#ed7953\"],[0.7777777777777778,\"#fb9f3a\"],[0.8888888888888888,\"#fdca26\"],[1.0,\"#f0f921\"]],\"sequentialminus\":[[0.0,\"#0d0887\"],[0.1111111111111111,\"#46039f\"],[0.2222222222222222,\"#7201a8\"],[0.3333333333333333,\"#9c179e\"],[0.4444444444444444,\"#bd3786\"],[0.5555555555555556,\"#d8576b\"],[0.6666666666666666,\"#ed7953\"],[0.7777777777777778,\"#fb9f3a\"],[0.8888888888888888,\"#fdca26\"],[1.0,\"#f0f921\"]],\"diverging\":[[0,\"#8e0152\"],[0.1,\"#c51b7d\"],[0.2,\"#de77ae\"],[0.3,\"#f1b6da\"],[0.4,\"#fde0ef\"],[0.5,\"#f7f7f7\"],[0.6,\"#e6f5d0\"],[0.7,\"#b8e186\"],[0.8,\"#7fbc41\"],[0.9,\"#4d9221\"],[1,\"#276419\"]]},\"xaxis\":{\"gridcolor\":\"white\",\"linecolor\":\"white\",\"ticks\":\"\",\"title\":{\"standoff\":15},\"zerolinecolor\":\"white\",\"automargin\":true,\"zerolinewidth\":2},\"yaxis\":{\"gridcolor\":\"white\",\"linecolor\":\"white\",\"ticks\":\"\",\"title\":{\"standoff\":15},\"zerolinecolor\":\"white\",\"automargin\":true,\"zerolinewidth\":2},\"scene\":{\"xaxis\":{\"backgroundcolor\":\"#E5ECF6\",\"gridcolor\":\"white\",\"linecolor\":\"white\",\"showbackground\":true,\"ticks\":\"\",\"zerolinecolor\":\"white\",\"gridwidth\":2},\"yaxis\":{\"backgroundcolor\":\"#E5ECF6\",\"gridcolor\":\"white\",\"linecolor\":\"white\",\"showbackground\":true,\"ticks\":\"\",\"zerolinecolor\":\"white\",\"gridwidth\":2},\"zaxis\":{\"backgroundcolor\":\"#E5ECF6\",\"gridcolor\":\"white\",\"linecolor\":\"white\",\"showbackground\":true,\"ticks\":\"\",\"zerolinecolor\":\"white\",\"gridwidth\":2}},\"shapedefaults\":{\"line\":{\"color\":\"#2a3f5f\"}},\"annotationdefaults\":{\"arrowcolor\":\"#2a3f5f\",\"arrowhead\":0,\"arrowwidth\":1},\"geo\":{\"bgcolor\":\"white\",\"landcolor\":\"#E5ECF6\",\"subunitcolor\":\"white\",\"showland\":true,\"showlakes\":true,\"lakecolor\":\"white\"},\"title\":{\"x\":0.05},\"mapbox\":{\"style\":\"light\"}}},\"xaxis\":{\"anchor\":\"y\",\"domain\":[0.0,1.0],\"title\":{\"text\":\"\\u003cb\\u003eAge\\u003c\\u002fb\\u003e\",\"font\":{\"size\":13,\"family\":\"Arial\"}},\"ticksuffix\":\" y.o.\"},\"yaxis\":{\"anchor\":\"x\",\"domain\":[0.0,1.0],\"title\":{\"text\":\"\\u003cb\\u003eTime spent with the people (mins)\\u003c\\u002fb\\u003e\",\"font\":{\"size\":13,\"family\":\"Arial\"}}},\"legend\":{\"title\":{\"text\":\"People type\"},\"tracegroupgap\":0},\"margin\":{\"t\":60},\"title\":{\"font\":{\"size\":15,\"family\":\"Arial\"},\"text\":\"\\u003cb\\u003eWho American People Spend Time with by Age \\u003c\\u002fb\\u003e\",\"x\":0.45},\"width\":1000,\"height\":750,\"hovermode\":\"x unified\",\"showlegend\":false,\"annotations\":[{\"align\":\"left\",\"arrowcolor\":\"#636EFA\",\"arrowhead\":1,\"arrowsize\":0.8,\"arrowwidth\":1.5,\"ax\":80,\"ay\":0,\"font\":{\"color\":\"#636EFA\",\"family\":\"Arial\",\"size\":13},\"showarrow\":true,\"text\":\"With Friends and Coworkers\",\"x\":80.5,\"y\":40.8049492,\"yanchor\":\"auto\"},{\"align\":\"left\",\"arrowcolor\":\"#EF553B\",\"arrowhead\":1,\"arrowsize\":0.8,\"arrowwidth\":1.5,\"ax\":80,\"ay\":0,\"font\":{\"color\":\"#EF553B\",\"family\":\"Arial\",\"size\":13},\"showarrow\":true,\"text\":\"With Family\",\"x\":80.5,\"y\":338.156963,\"yanchor\":\"auto\"}]},                        {\"responsive\": true}                    ).then(function(){\n",
       "                            \n",
       "var gd = document.getElementById('cc5bfb92-9008-43c7-852f-277cb8bfec1b');\n",
       "var x = new MutationObserver(function (mutations, observer) {{\n",
       "        var display = window.getComputedStyle(gd).display;\n",
       "        if (!display || display === 'none') {{\n",
       "            console.log([gd, 'removed!']);\n",
       "            Plotly.purge(gd);\n",
       "            observer.disconnect();\n",
       "        }}\n",
       "}});\n",
       "\n",
       "// Listen for the removal of the full notebook cells\n",
       "var notebookContainer = gd.closest('#notebook-container');\n",
       "if (notebookContainer) {{\n",
       "    x.observe(notebookContainer, {childList: true});\n",
       "}}\n",
       "\n",
       "// Listen for the clearing of the current output cell\n",
       "var outputEl = gd.closest('.output');\n",
       "if (outputEl) {{\n",
       "    x.observe(outputEl, {childList: true});\n",
       "}}\n",
       "\n",
       "                        })                };                });            </script>        </div>"
      ]
     },
     "metadata": {},
     "output_type": "display_data"
    }
   ],
   "source": [
    "#Try aggregating columns and rows: What happens if you sum up (or just use similar colors for) time spent with family\n",
    "# (parents, partner, children) versus friends and coworkers?\n",
    "\n",
    "# print(df1.isna().sum()) ==> no NaN number in the data\n",
    "\n",
    "df1['Family'] = df1['Parents, siblings, families'] + df1['Children'] + df1['Partner']\n",
    "df1['Friends and Coworkers'] = df1['Friends'] + df1['Coworkers']\n",
    "\n",
    "# convert to long-form data with the selected summed columns\n",
    "col_drop = col_name_change_dict.values()\n",
    "col_all = df1.columns\n",
    "col_of_interest = list(set(col_all) - set(col_drop))\n",
    "df1_2 = df1[col_of_interest]\n",
    "\n",
    "id_vars = ['Entity','Code','Year']\n",
    "col_vars = df1_2.columns\n",
    "val_vars = set(col_vars) - set(id_vars)\n",
    "df1_2_long = pd.melt(df1_2, id_vars=id_vars, value_vars=val_vars,var_name='People type',value_name='Time_mins')\n",
    "\n",
    "# plot lines of the combines data\n",
    "LinePlot_TimevsAge(df1_2_long, 'Year', 'Time_mins', 'People type')"
   ]
  },
  {
   "cell_type": "code",
   "execution_count": null,
   "id": "00f0997f-4c81-4867-bf03-677308547128",
   "metadata": {
    "colab": {
     "base_uri": "https://localhost:8080/",
     "height": 767
    },
    "id": "00f0997f-4c81-4867-bf03-677308547128",
    "outputId": "889649b8-d8a5-419e-a2bc-2269fabb7d27"
   },
   "outputs": [
    {
     "data": {
      "application/vnd.plotly.v1+json": {
       "config": {
        "plotlyServerURL": "https://plot.ly"
       },
       "data": [
        {
         "hovertemplate": "<b>With Others:</b> %{y:.2f} mins<extra></extra>",
         "legendgroup": "Others",
         "line": {
          "color": "#636EFA",
          "dash": "solid"
         },
         "marker": {
          "symbol": "circle"
         },
         "mode": "lines",
         "name": "Others",
         "orientation": "v",
         "showlegend": true,
         "type": "scatter",
         "x": [
          15,
          16,
          17,
          18,
          19,
          20,
          21,
          22,
          23,
          24,
          25,
          26,
          27,
          28,
          29,
          30,
          31,
          32,
          33,
          34,
          35,
          36,
          37,
          38,
          39,
          40,
          41,
          42,
          43,
          44,
          45,
          46,
          47,
          48,
          49,
          50,
          51,
          52,
          53,
          54,
          55,
          56,
          57,
          58,
          59,
          60,
          61,
          62,
          63,
          64,
          65,
          66,
          67,
          68,
          69,
          70,
          71,
          72,
          73,
          74,
          75,
          76,
          77,
          78,
          79,
          80
         ],
         "xaxis": "x",
         "y": [
          408.34126869999994,
          417.249594858,
          421.2567136,
          488.8212301,
          511.770575,
          520.760212,
          558.48095,
          537.11186,
          592.09489,
          605.43824,
          618.540165,
          624.117189,
          676.804481,
          698.8675250000001,
          706.5065440000001,
          721.3554500000001,
          749.1482290000001,
          736.279957,
          759.491511,
          748.1600109999999,
          741.664509,
          738.034998,
          748.669684,
          750.9641570000001,
          737.266177,
          722.562879,
          705.695666,
          684.095928,
          653.681748,
          674.1860810000001,
          659.8880330000001,
          635.451226,
          620.2498410000001,
          617.2441249999999,
          610.474039,
          569.838801,
          581.520086,
          568.478093,
          550.531951,
          551.940364,
          529.25945,
          531.562635,
          507.258784,
          496.34079199999996,
          506.769954,
          493.97329099999996,
          496.787004,
          469.22538699999996,
          482.879798,
          464.645399,
          463.490188,
          476.57156,
          463.29009599999995,
          448.555357,
          470.155688,
          435.277292,
          450.23900000000003,
          429.445946,
          443.77752899999996,
          424.7634,
          413.305571,
          423.697853,
          432.97980499999994,
          401.6503574000001,
          372.4319302,
          378.9619122
         ],
         "yaxis": "y"
        },
        {
         "hovertemplate": "<b>With Alone:</b> %{y:.2f} mins<extra></extra>",
         "legendgroup": "Alone",
         "line": {
          "color": "#EF553B",
          "dash": "solid"
         },
         "marker": {
          "symbol": "circle"
         },
         "mode": "lines",
         "name": "Alone",
         "orientation": "v",
         "showlegend": true,
         "type": "scatter",
         "x": [
          15,
          16,
          17,
          18,
          19,
          20,
          21,
          22,
          23,
          24,
          25,
          26,
          27,
          28,
          29,
          30,
          31,
          32,
          33,
          34,
          35,
          36,
          37,
          38,
          39,
          40,
          41,
          42,
          43,
          44,
          45,
          46,
          47,
          48,
          49,
          50,
          51,
          52,
          53,
          54,
          55,
          56,
          57,
          58,
          59,
          60,
          61,
          62,
          63,
          64,
          65,
          66,
          67,
          68,
          69,
          70,
          71,
          72,
          73,
          74,
          75,
          76,
          77,
          78,
          79,
          80
         ],
         "xaxis": "x",
         "y": [
          193.30588,
          206.37056,
          224.17331,
          242.69839,
          267.79385,
          277.60379,
          270.21817,
          283.56686,
          270.93015,
          265.81378,
          275.12906,
          281.63202,
          259.3331,
          261.13989,
          253.66589,
          250.02524,
          253.16542,
          255.07323,
          244.90091,
          263.59116,
          262.62488,
          273.27942,
          267.09787,
          258.99704,
          281.98877,
          278.25668,
          292.07227,
          297.90939,
          321.74783,
          312.69861,
          309.03583,
          326.78207,
          338.24756,
          332.5762,
          339.72601,
          361.14328,
          368.59146,
          380.84085,
          372.17041,
          377.70459,
          384.14532,
          387.00711,
          399.18466,
          409.77731,
          411.51978,
          413.32019,
          414.82727,
          425.2204,
          430.51068,
          449.01306,
          444.02954,
          431.98727,
          433.85413,
          448.22601,
          443.00061,
          448.85193,
          444.47784,
          474.45526,
          451.40637,
          458.6745,
          463.43195,
          456.49493,
          454.3125,
          461.63959,
          485.83075,
          476.76736
         ],
         "yaxis": "y"
        }
       ],
       "layout": {
        "annotations": [
         {
          "align": "left",
          "arrowcolor": "#636EFA",
          "arrowhead": 1,
          "arrowsize": 0.8,
          "arrowwidth": 1.5,
          "ax": 80,
          "ay": 0,
          "font": {
           "color": "#636EFA",
           "family": "Arial",
           "size": 13
          },
          "showarrow": true,
          "text": "With Others",
          "x": 80.5,
          "y": 378.9619122,
          "yanchor": "auto"
         },
         {
          "align": "left",
          "arrowcolor": "#EF553B",
          "arrowhead": 1,
          "arrowsize": 0.8,
          "arrowwidth": 1.5,
          "ax": 80,
          "ay": 0,
          "font": {
           "color": "#EF553B",
           "family": "Arial",
           "size": 13
          },
          "showarrow": true,
          "text": "Alone",
          "x": 80.5,
          "y": 476.76736,
          "yanchor": "auto"
         }
        ],
        "height": 750,
        "hovermode": "x unified",
        "legend": {
         "title": {
          "text": "People type"
         },
         "tracegroupgap": 0
        },
        "margin": {
         "t": 60
        },
        "showlegend": false,
        "template": {
         "data": {
          "bar": [
           {
            "error_x": {
             "color": "#2a3f5f"
            },
            "error_y": {
             "color": "#2a3f5f"
            },
            "marker": {
             "line": {
              "color": "#E5ECF6",
              "width": 0.5
             },
             "pattern": {
              "fillmode": "overlay",
              "size": 10,
              "solidity": 0.2
             }
            },
            "type": "bar"
           }
          ],
          "barpolar": [
           {
            "marker": {
             "line": {
              "color": "#E5ECF6",
              "width": 0.5
             },
             "pattern": {
              "fillmode": "overlay",
              "size": 10,
              "solidity": 0.2
             }
            },
            "type": "barpolar"
           }
          ],
          "carpet": [
           {
            "aaxis": {
             "endlinecolor": "#2a3f5f",
             "gridcolor": "white",
             "linecolor": "white",
             "minorgridcolor": "white",
             "startlinecolor": "#2a3f5f"
            },
            "baxis": {
             "endlinecolor": "#2a3f5f",
             "gridcolor": "white",
             "linecolor": "white",
             "minorgridcolor": "white",
             "startlinecolor": "#2a3f5f"
            },
            "type": "carpet"
           }
          ],
          "choropleth": [
           {
            "colorbar": {
             "outlinewidth": 0,
             "ticks": ""
            },
            "type": "choropleth"
           }
          ],
          "contour": [
           {
            "colorbar": {
             "outlinewidth": 0,
             "ticks": ""
            },
            "colorscale": [
             [
              0,
              "#0d0887"
             ],
             [
              0.1111111111111111,
              "#46039f"
             ],
             [
              0.2222222222222222,
              "#7201a8"
             ],
             [
              0.3333333333333333,
              "#9c179e"
             ],
             [
              0.4444444444444444,
              "#bd3786"
             ],
             [
              0.5555555555555556,
              "#d8576b"
             ],
             [
              0.6666666666666666,
              "#ed7953"
             ],
             [
              0.7777777777777778,
              "#fb9f3a"
             ],
             [
              0.8888888888888888,
              "#fdca26"
             ],
             [
              1,
              "#f0f921"
             ]
            ],
            "type": "contour"
           }
          ],
          "contourcarpet": [
           {
            "colorbar": {
             "outlinewidth": 0,
             "ticks": ""
            },
            "type": "contourcarpet"
           }
          ],
          "heatmap": [
           {
            "colorbar": {
             "outlinewidth": 0,
             "ticks": ""
            },
            "colorscale": [
             [
              0,
              "#0d0887"
             ],
             [
              0.1111111111111111,
              "#46039f"
             ],
             [
              0.2222222222222222,
              "#7201a8"
             ],
             [
              0.3333333333333333,
              "#9c179e"
             ],
             [
              0.4444444444444444,
              "#bd3786"
             ],
             [
              0.5555555555555556,
              "#d8576b"
             ],
             [
              0.6666666666666666,
              "#ed7953"
             ],
             [
              0.7777777777777778,
              "#fb9f3a"
             ],
             [
              0.8888888888888888,
              "#fdca26"
             ],
             [
              1,
              "#f0f921"
             ]
            ],
            "type": "heatmap"
           }
          ],
          "heatmapgl": [
           {
            "colorbar": {
             "outlinewidth": 0,
             "ticks": ""
            },
            "colorscale": [
             [
              0,
              "#0d0887"
             ],
             [
              0.1111111111111111,
              "#46039f"
             ],
             [
              0.2222222222222222,
              "#7201a8"
             ],
             [
              0.3333333333333333,
              "#9c179e"
             ],
             [
              0.4444444444444444,
              "#bd3786"
             ],
             [
              0.5555555555555556,
              "#d8576b"
             ],
             [
              0.6666666666666666,
              "#ed7953"
             ],
             [
              0.7777777777777778,
              "#fb9f3a"
             ],
             [
              0.8888888888888888,
              "#fdca26"
             ],
             [
              1,
              "#f0f921"
             ]
            ],
            "type": "heatmapgl"
           }
          ],
          "histogram": [
           {
            "marker": {
             "pattern": {
              "fillmode": "overlay",
              "size": 10,
              "solidity": 0.2
             }
            },
            "type": "histogram"
           }
          ],
          "histogram2d": [
           {
            "colorbar": {
             "outlinewidth": 0,
             "ticks": ""
            },
            "colorscale": [
             [
              0,
              "#0d0887"
             ],
             [
              0.1111111111111111,
              "#46039f"
             ],
             [
              0.2222222222222222,
              "#7201a8"
             ],
             [
              0.3333333333333333,
              "#9c179e"
             ],
             [
              0.4444444444444444,
              "#bd3786"
             ],
             [
              0.5555555555555556,
              "#d8576b"
             ],
             [
              0.6666666666666666,
              "#ed7953"
             ],
             [
              0.7777777777777778,
              "#fb9f3a"
             ],
             [
              0.8888888888888888,
              "#fdca26"
             ],
             [
              1,
              "#f0f921"
             ]
            ],
            "type": "histogram2d"
           }
          ],
          "histogram2dcontour": [
           {
            "colorbar": {
             "outlinewidth": 0,
             "ticks": ""
            },
            "colorscale": [
             [
              0,
              "#0d0887"
             ],
             [
              0.1111111111111111,
              "#46039f"
             ],
             [
              0.2222222222222222,
              "#7201a8"
             ],
             [
              0.3333333333333333,
              "#9c179e"
             ],
             [
              0.4444444444444444,
              "#bd3786"
             ],
             [
              0.5555555555555556,
              "#d8576b"
             ],
             [
              0.6666666666666666,
              "#ed7953"
             ],
             [
              0.7777777777777778,
              "#fb9f3a"
             ],
             [
              0.8888888888888888,
              "#fdca26"
             ],
             [
              1,
              "#f0f921"
             ]
            ],
            "type": "histogram2dcontour"
           }
          ],
          "mesh3d": [
           {
            "colorbar": {
             "outlinewidth": 0,
             "ticks": ""
            },
            "type": "mesh3d"
           }
          ],
          "parcoords": [
           {
            "line": {
             "colorbar": {
              "outlinewidth": 0,
              "ticks": ""
             }
            },
            "type": "parcoords"
           }
          ],
          "pie": [
           {
            "automargin": true,
            "type": "pie"
           }
          ],
          "scatter": [
           {
            "fillpattern": {
             "fillmode": "overlay",
             "size": 10,
             "solidity": 0.2
            },
            "type": "scatter"
           }
          ],
          "scatter3d": [
           {
            "line": {
             "colorbar": {
              "outlinewidth": 0,
              "ticks": ""
             }
            },
            "marker": {
             "colorbar": {
              "outlinewidth": 0,
              "ticks": ""
             }
            },
            "type": "scatter3d"
           }
          ],
          "scattercarpet": [
           {
            "marker": {
             "colorbar": {
              "outlinewidth": 0,
              "ticks": ""
             }
            },
            "type": "scattercarpet"
           }
          ],
          "scattergeo": [
           {
            "marker": {
             "colorbar": {
              "outlinewidth": 0,
              "ticks": ""
             }
            },
            "type": "scattergeo"
           }
          ],
          "scattergl": [
           {
            "marker": {
             "colorbar": {
              "outlinewidth": 0,
              "ticks": ""
             }
            },
            "type": "scattergl"
           }
          ],
          "scattermapbox": [
           {
            "marker": {
             "colorbar": {
              "outlinewidth": 0,
              "ticks": ""
             }
            },
            "type": "scattermapbox"
           }
          ],
          "scatterpolar": [
           {
            "marker": {
             "colorbar": {
              "outlinewidth": 0,
              "ticks": ""
             }
            },
            "type": "scatterpolar"
           }
          ],
          "scatterpolargl": [
           {
            "marker": {
             "colorbar": {
              "outlinewidth": 0,
              "ticks": ""
             }
            },
            "type": "scatterpolargl"
           }
          ],
          "scatterternary": [
           {
            "marker": {
             "colorbar": {
              "outlinewidth": 0,
              "ticks": ""
             }
            },
            "type": "scatterternary"
           }
          ],
          "surface": [
           {
            "colorbar": {
             "outlinewidth": 0,
             "ticks": ""
            },
            "colorscale": [
             [
              0,
              "#0d0887"
             ],
             [
              0.1111111111111111,
              "#46039f"
             ],
             [
              0.2222222222222222,
              "#7201a8"
             ],
             [
              0.3333333333333333,
              "#9c179e"
             ],
             [
              0.4444444444444444,
              "#bd3786"
             ],
             [
              0.5555555555555556,
              "#d8576b"
             ],
             [
              0.6666666666666666,
              "#ed7953"
             ],
             [
              0.7777777777777778,
              "#fb9f3a"
             ],
             [
              0.8888888888888888,
              "#fdca26"
             ],
             [
              1,
              "#f0f921"
             ]
            ],
            "type": "surface"
           }
          ],
          "table": [
           {
            "cells": {
             "fill": {
              "color": "#EBF0F8"
             },
             "line": {
              "color": "white"
             }
            },
            "header": {
             "fill": {
              "color": "#C8D4E3"
             },
             "line": {
              "color": "white"
             }
            },
            "type": "table"
           }
          ]
         },
         "layout": {
          "annotationdefaults": {
           "arrowcolor": "#2a3f5f",
           "arrowhead": 0,
           "arrowwidth": 1
          },
          "autotypenumbers": "strict",
          "coloraxis": {
           "colorbar": {
            "outlinewidth": 0,
            "ticks": ""
           }
          },
          "colorscale": {
           "diverging": [
            [
             0,
             "#8e0152"
            ],
            [
             0.1,
             "#c51b7d"
            ],
            [
             0.2,
             "#de77ae"
            ],
            [
             0.3,
             "#f1b6da"
            ],
            [
             0.4,
             "#fde0ef"
            ],
            [
             0.5,
             "#f7f7f7"
            ],
            [
             0.6,
             "#e6f5d0"
            ],
            [
             0.7,
             "#b8e186"
            ],
            [
             0.8,
             "#7fbc41"
            ],
            [
             0.9,
             "#4d9221"
            ],
            [
             1,
             "#276419"
            ]
           ],
           "sequential": [
            [
             0,
             "#0d0887"
            ],
            [
             0.1111111111111111,
             "#46039f"
            ],
            [
             0.2222222222222222,
             "#7201a8"
            ],
            [
             0.3333333333333333,
             "#9c179e"
            ],
            [
             0.4444444444444444,
             "#bd3786"
            ],
            [
             0.5555555555555556,
             "#d8576b"
            ],
            [
             0.6666666666666666,
             "#ed7953"
            ],
            [
             0.7777777777777778,
             "#fb9f3a"
            ],
            [
             0.8888888888888888,
             "#fdca26"
            ],
            [
             1,
             "#f0f921"
            ]
           ],
           "sequentialminus": [
            [
             0,
             "#0d0887"
            ],
            [
             0.1111111111111111,
             "#46039f"
            ],
            [
             0.2222222222222222,
             "#7201a8"
            ],
            [
             0.3333333333333333,
             "#9c179e"
            ],
            [
             0.4444444444444444,
             "#bd3786"
            ],
            [
             0.5555555555555556,
             "#d8576b"
            ],
            [
             0.6666666666666666,
             "#ed7953"
            ],
            [
             0.7777777777777778,
             "#fb9f3a"
            ],
            [
             0.8888888888888888,
             "#fdca26"
            ],
            [
             1,
             "#f0f921"
            ]
           ]
          },
          "colorway": [
           "#636efa",
           "#EF553B",
           "#00cc96",
           "#ab63fa",
           "#FFA15A",
           "#19d3f3",
           "#FF6692",
           "#B6E880",
           "#FF97FF",
           "#FECB52"
          ],
          "font": {
           "color": "#2a3f5f"
          },
          "geo": {
           "bgcolor": "white",
           "lakecolor": "white",
           "landcolor": "#E5ECF6",
           "showlakes": true,
           "showland": true,
           "subunitcolor": "white"
          },
          "hoverlabel": {
           "align": "left"
          },
          "hovermode": "closest",
          "mapbox": {
           "style": "light"
          },
          "paper_bgcolor": "white",
          "plot_bgcolor": "#E5ECF6",
          "polar": {
           "angularaxis": {
            "gridcolor": "white",
            "linecolor": "white",
            "ticks": ""
           },
           "bgcolor": "#E5ECF6",
           "radialaxis": {
            "gridcolor": "white",
            "linecolor": "white",
            "ticks": ""
           }
          },
          "scene": {
           "xaxis": {
            "backgroundcolor": "#E5ECF6",
            "gridcolor": "white",
            "gridwidth": 2,
            "linecolor": "white",
            "showbackground": true,
            "ticks": "",
            "zerolinecolor": "white"
           },
           "yaxis": {
            "backgroundcolor": "#E5ECF6",
            "gridcolor": "white",
            "gridwidth": 2,
            "linecolor": "white",
            "showbackground": true,
            "ticks": "",
            "zerolinecolor": "white"
           },
           "zaxis": {
            "backgroundcolor": "#E5ECF6",
            "gridcolor": "white",
            "gridwidth": 2,
            "linecolor": "white",
            "showbackground": true,
            "ticks": "",
            "zerolinecolor": "white"
           }
          },
          "shapedefaults": {
           "line": {
            "color": "#2a3f5f"
           }
          },
          "ternary": {
           "aaxis": {
            "gridcolor": "white",
            "linecolor": "white",
            "ticks": ""
           },
           "baxis": {
            "gridcolor": "white",
            "linecolor": "white",
            "ticks": ""
           },
           "bgcolor": "#E5ECF6",
           "caxis": {
            "gridcolor": "white",
            "linecolor": "white",
            "ticks": ""
           }
          },
          "title": {
           "x": 0.05
          },
          "xaxis": {
           "automargin": true,
           "gridcolor": "white",
           "linecolor": "white",
           "ticks": "",
           "title": {
            "standoff": 15
           },
           "zerolinecolor": "white",
           "zerolinewidth": 2
          },
          "yaxis": {
           "automargin": true,
           "gridcolor": "white",
           "linecolor": "white",
           "ticks": "",
           "title": {
            "standoff": 15
           },
           "zerolinecolor": "white",
           "zerolinewidth": 2
          }
         }
        },
        "title": {
         "font": {
          "family": "Arial",
          "size": 15
         },
         "text": "<b>Who American People Spend Time with by Age </b>",
         "x": 0.45
        },
        "width": 1000,
        "xaxis": {
         "anchor": "y",
         "domain": [
          0,
          1
         ],
         "ticksuffix": " y.o.",
         "title": {
          "font": {
           "family": "Arial",
           "size": 13
          },
          "text": "<b>Age</b>"
         }
        },
        "yaxis": {
         "anchor": "x",
         "domain": [
          0,
          1
         ],
         "title": {
          "font": {
           "family": "Arial",
           "size": 13
          },
          "text": "<b>Time spent with the people (mins)</b>"
         }
        }
       }
      },
      "text/html": [
       "<div>                            <div id=\"768299d2-67f4-4a09-aa18-ec59bbaeca78\" class=\"plotly-graph-div\" style=\"height:750px; width:1000px;\"></div>            <script type=\"text/javascript\">                require([\"plotly\"], function(Plotly) {                    window.PLOTLYENV=window.PLOTLYENV || {};                                    if (document.getElementById(\"768299d2-67f4-4a09-aa18-ec59bbaeca78\")) {                    Plotly.newPlot(                        \"768299d2-67f4-4a09-aa18-ec59bbaeca78\",                        [{\"hovertemplate\":\"\\u003cb\\u003eWith Others:\\u003c\\u002fb\\u003e %{y:.2f} mins\\u003cextra\\u003e\\u003c\\u002fextra\\u003e\",\"legendgroup\":\"Others\",\"line\":{\"color\":\"#636EFA\",\"dash\":\"solid\"},\"marker\":{\"symbol\":\"circle\"},\"mode\":\"lines\",\"name\":\"Others\",\"orientation\":\"v\",\"showlegend\":true,\"x\":[15,16,17,18,19,20,21,22,23,24,25,26,27,28,29,30,31,32,33,34,35,36,37,38,39,40,41,42,43,44,45,46,47,48,49,50,51,52,53,54,55,56,57,58,59,60,61,62,63,64,65,66,67,68,69,70,71,72,73,74,75,76,77,78,79,80],\"xaxis\":\"x\",\"y\":[408.34126869999994,417.249594858,421.2567136,488.8212301,511.770575,520.760212,558.48095,537.11186,592.09489,605.43824,618.540165,624.117189,676.804481,698.8675250000001,706.5065440000001,721.3554500000001,749.1482290000001,736.279957,759.491511,748.1600109999999,741.664509,738.034998,748.669684,750.9641570000001,737.266177,722.562879,705.695666,684.095928,653.681748,674.1860810000001,659.8880330000001,635.451226,620.2498410000001,617.2441249999999,610.474039,569.838801,581.520086,568.478093,550.531951,551.940364,529.25945,531.562635,507.258784,496.34079199999996,506.769954,493.97329099999996,496.787004,469.22538699999996,482.879798,464.645399,463.490188,476.57156,463.29009599999995,448.555357,470.155688,435.277292,450.23900000000003,429.445946,443.77752899999996,424.7634,413.305571,423.697853,432.97980499999994,401.6503574000001,372.4319302,378.9619122],\"yaxis\":\"y\",\"type\":\"scatter\"},{\"hovertemplate\":\"\\u003cb\\u003eWith Alone:\\u003c\\u002fb\\u003e %{y:.2f} mins\\u003cextra\\u003e\\u003c\\u002fextra\\u003e\",\"legendgroup\":\"Alone\",\"line\":{\"color\":\"#EF553B\",\"dash\":\"solid\"},\"marker\":{\"symbol\":\"circle\"},\"mode\":\"lines\",\"name\":\"Alone\",\"orientation\":\"v\",\"showlegend\":true,\"x\":[15,16,17,18,19,20,21,22,23,24,25,26,27,28,29,30,31,32,33,34,35,36,37,38,39,40,41,42,43,44,45,46,47,48,49,50,51,52,53,54,55,56,57,58,59,60,61,62,63,64,65,66,67,68,69,70,71,72,73,74,75,76,77,78,79,80],\"xaxis\":\"x\",\"y\":[193.30588,206.37056,224.17331,242.69839,267.79385,277.60379,270.21817,283.56686,270.93015,265.81378,275.12906,281.63202,259.3331,261.13989,253.66589,250.02524,253.16542,255.07323,244.90091,263.59116,262.62488,273.27942,267.09787,258.99704,281.98877,278.25668,292.07227,297.90939,321.74783,312.69861,309.03583,326.78207,338.24756,332.5762,339.72601,361.14328,368.59146,380.84085,372.17041,377.70459,384.14532,387.00711,399.18466,409.77731,411.51978,413.32019,414.82727,425.2204,430.51068,449.01306,444.02954,431.98727,433.85413,448.22601,443.00061,448.85193,444.47784,474.45526,451.40637,458.6745,463.43195,456.49493,454.3125,461.63959,485.83075,476.76736],\"yaxis\":\"y\",\"type\":\"scatter\"}],                        {\"template\":{\"data\":{\"histogram2dcontour\":[{\"type\":\"histogram2dcontour\",\"colorbar\":{\"outlinewidth\":0,\"ticks\":\"\"},\"colorscale\":[[0.0,\"#0d0887\"],[0.1111111111111111,\"#46039f\"],[0.2222222222222222,\"#7201a8\"],[0.3333333333333333,\"#9c179e\"],[0.4444444444444444,\"#bd3786\"],[0.5555555555555556,\"#d8576b\"],[0.6666666666666666,\"#ed7953\"],[0.7777777777777778,\"#fb9f3a\"],[0.8888888888888888,\"#fdca26\"],[1.0,\"#f0f921\"]]}],\"choropleth\":[{\"type\":\"choropleth\",\"colorbar\":{\"outlinewidth\":0,\"ticks\":\"\"}}],\"histogram2d\":[{\"type\":\"histogram2d\",\"colorbar\":{\"outlinewidth\":0,\"ticks\":\"\"},\"colorscale\":[[0.0,\"#0d0887\"],[0.1111111111111111,\"#46039f\"],[0.2222222222222222,\"#7201a8\"],[0.3333333333333333,\"#9c179e\"],[0.4444444444444444,\"#bd3786\"],[0.5555555555555556,\"#d8576b\"],[0.6666666666666666,\"#ed7953\"],[0.7777777777777778,\"#fb9f3a\"],[0.8888888888888888,\"#fdca26\"],[1.0,\"#f0f921\"]]}],\"heatmap\":[{\"type\":\"heatmap\",\"colorbar\":{\"outlinewidth\":0,\"ticks\":\"\"},\"colorscale\":[[0.0,\"#0d0887\"],[0.1111111111111111,\"#46039f\"],[0.2222222222222222,\"#7201a8\"],[0.3333333333333333,\"#9c179e\"],[0.4444444444444444,\"#bd3786\"],[0.5555555555555556,\"#d8576b\"],[0.6666666666666666,\"#ed7953\"],[0.7777777777777778,\"#fb9f3a\"],[0.8888888888888888,\"#fdca26\"],[1.0,\"#f0f921\"]]}],\"heatmapgl\":[{\"type\":\"heatmapgl\",\"colorbar\":{\"outlinewidth\":0,\"ticks\":\"\"},\"colorscale\":[[0.0,\"#0d0887\"],[0.1111111111111111,\"#46039f\"],[0.2222222222222222,\"#7201a8\"],[0.3333333333333333,\"#9c179e\"],[0.4444444444444444,\"#bd3786\"],[0.5555555555555556,\"#d8576b\"],[0.6666666666666666,\"#ed7953\"],[0.7777777777777778,\"#fb9f3a\"],[0.8888888888888888,\"#fdca26\"],[1.0,\"#f0f921\"]]}],\"contourcarpet\":[{\"type\":\"contourcarpet\",\"colorbar\":{\"outlinewidth\":0,\"ticks\":\"\"}}],\"contour\":[{\"type\":\"contour\",\"colorbar\":{\"outlinewidth\":0,\"ticks\":\"\"},\"colorscale\":[[0.0,\"#0d0887\"],[0.1111111111111111,\"#46039f\"],[0.2222222222222222,\"#7201a8\"],[0.3333333333333333,\"#9c179e\"],[0.4444444444444444,\"#bd3786\"],[0.5555555555555556,\"#d8576b\"],[0.6666666666666666,\"#ed7953\"],[0.7777777777777778,\"#fb9f3a\"],[0.8888888888888888,\"#fdca26\"],[1.0,\"#f0f921\"]]}],\"surface\":[{\"type\":\"surface\",\"colorbar\":{\"outlinewidth\":0,\"ticks\":\"\"},\"colorscale\":[[0.0,\"#0d0887\"],[0.1111111111111111,\"#46039f\"],[0.2222222222222222,\"#7201a8\"],[0.3333333333333333,\"#9c179e\"],[0.4444444444444444,\"#bd3786\"],[0.5555555555555556,\"#d8576b\"],[0.6666666666666666,\"#ed7953\"],[0.7777777777777778,\"#fb9f3a\"],[0.8888888888888888,\"#fdca26\"],[1.0,\"#f0f921\"]]}],\"mesh3d\":[{\"type\":\"mesh3d\",\"colorbar\":{\"outlinewidth\":0,\"ticks\":\"\"}}],\"scatter\":[{\"fillpattern\":{\"fillmode\":\"overlay\",\"size\":10,\"solidity\":0.2},\"type\":\"scatter\"}],\"parcoords\":[{\"type\":\"parcoords\",\"line\":{\"colorbar\":{\"outlinewidth\":0,\"ticks\":\"\"}}}],\"scatterpolargl\":[{\"type\":\"scatterpolargl\",\"marker\":{\"colorbar\":{\"outlinewidth\":0,\"ticks\":\"\"}}}],\"bar\":[{\"error_x\":{\"color\":\"#2a3f5f\"},\"error_y\":{\"color\":\"#2a3f5f\"},\"marker\":{\"line\":{\"color\":\"#E5ECF6\",\"width\":0.5},\"pattern\":{\"fillmode\":\"overlay\",\"size\":10,\"solidity\":0.2}},\"type\":\"bar\"}],\"scattergeo\":[{\"type\":\"scattergeo\",\"marker\":{\"colorbar\":{\"outlinewidth\":0,\"ticks\":\"\"}}}],\"scatterpolar\":[{\"type\":\"scatterpolar\",\"marker\":{\"colorbar\":{\"outlinewidth\":0,\"ticks\":\"\"}}}],\"histogram\":[{\"marker\":{\"pattern\":{\"fillmode\":\"overlay\",\"size\":10,\"solidity\":0.2}},\"type\":\"histogram\"}],\"scattergl\":[{\"type\":\"scattergl\",\"marker\":{\"colorbar\":{\"outlinewidth\":0,\"ticks\":\"\"}}}],\"scatter3d\":[{\"type\":\"scatter3d\",\"line\":{\"colorbar\":{\"outlinewidth\":0,\"ticks\":\"\"}},\"marker\":{\"colorbar\":{\"outlinewidth\":0,\"ticks\":\"\"}}}],\"scattermapbox\":[{\"type\":\"scattermapbox\",\"marker\":{\"colorbar\":{\"outlinewidth\":0,\"ticks\":\"\"}}}],\"scatterternary\":[{\"type\":\"scatterternary\",\"marker\":{\"colorbar\":{\"outlinewidth\":0,\"ticks\":\"\"}}}],\"scattercarpet\":[{\"type\":\"scattercarpet\",\"marker\":{\"colorbar\":{\"outlinewidth\":0,\"ticks\":\"\"}}}],\"carpet\":[{\"aaxis\":{\"endlinecolor\":\"#2a3f5f\",\"gridcolor\":\"white\",\"linecolor\":\"white\",\"minorgridcolor\":\"white\",\"startlinecolor\":\"#2a3f5f\"},\"baxis\":{\"endlinecolor\":\"#2a3f5f\",\"gridcolor\":\"white\",\"linecolor\":\"white\",\"minorgridcolor\":\"white\",\"startlinecolor\":\"#2a3f5f\"},\"type\":\"carpet\"}],\"table\":[{\"cells\":{\"fill\":{\"color\":\"#EBF0F8\"},\"line\":{\"color\":\"white\"}},\"header\":{\"fill\":{\"color\":\"#C8D4E3\"},\"line\":{\"color\":\"white\"}},\"type\":\"table\"}],\"barpolar\":[{\"marker\":{\"line\":{\"color\":\"#E5ECF6\",\"width\":0.5},\"pattern\":{\"fillmode\":\"overlay\",\"size\":10,\"solidity\":0.2}},\"type\":\"barpolar\"}],\"pie\":[{\"automargin\":true,\"type\":\"pie\"}]},\"layout\":{\"autotypenumbers\":\"strict\",\"colorway\":[\"#636efa\",\"#EF553B\",\"#00cc96\",\"#ab63fa\",\"#FFA15A\",\"#19d3f3\",\"#FF6692\",\"#B6E880\",\"#FF97FF\",\"#FECB52\"],\"font\":{\"color\":\"#2a3f5f\"},\"hovermode\":\"closest\",\"hoverlabel\":{\"align\":\"left\"},\"paper_bgcolor\":\"white\",\"plot_bgcolor\":\"#E5ECF6\",\"polar\":{\"bgcolor\":\"#E5ECF6\",\"angularaxis\":{\"gridcolor\":\"white\",\"linecolor\":\"white\",\"ticks\":\"\"},\"radialaxis\":{\"gridcolor\":\"white\",\"linecolor\":\"white\",\"ticks\":\"\"}},\"ternary\":{\"bgcolor\":\"#E5ECF6\",\"aaxis\":{\"gridcolor\":\"white\",\"linecolor\":\"white\",\"ticks\":\"\"},\"baxis\":{\"gridcolor\":\"white\",\"linecolor\":\"white\",\"ticks\":\"\"},\"caxis\":{\"gridcolor\":\"white\",\"linecolor\":\"white\",\"ticks\":\"\"}},\"coloraxis\":{\"colorbar\":{\"outlinewidth\":0,\"ticks\":\"\"}},\"colorscale\":{\"sequential\":[[0.0,\"#0d0887\"],[0.1111111111111111,\"#46039f\"],[0.2222222222222222,\"#7201a8\"],[0.3333333333333333,\"#9c179e\"],[0.4444444444444444,\"#bd3786\"],[0.5555555555555556,\"#d8576b\"],[0.6666666666666666,\"#ed7953\"],[0.7777777777777778,\"#fb9f3a\"],[0.8888888888888888,\"#fdca26\"],[1.0,\"#f0f921\"]],\"sequentialminus\":[[0.0,\"#0d0887\"],[0.1111111111111111,\"#46039f\"],[0.2222222222222222,\"#7201a8\"],[0.3333333333333333,\"#9c179e\"],[0.4444444444444444,\"#bd3786\"],[0.5555555555555556,\"#d8576b\"],[0.6666666666666666,\"#ed7953\"],[0.7777777777777778,\"#fb9f3a\"],[0.8888888888888888,\"#fdca26\"],[1.0,\"#f0f921\"]],\"diverging\":[[0,\"#8e0152\"],[0.1,\"#c51b7d\"],[0.2,\"#de77ae\"],[0.3,\"#f1b6da\"],[0.4,\"#fde0ef\"],[0.5,\"#f7f7f7\"],[0.6,\"#e6f5d0\"],[0.7,\"#b8e186\"],[0.8,\"#7fbc41\"],[0.9,\"#4d9221\"],[1,\"#276419\"]]},\"xaxis\":{\"gridcolor\":\"white\",\"linecolor\":\"white\",\"ticks\":\"\",\"title\":{\"standoff\":15},\"zerolinecolor\":\"white\",\"automargin\":true,\"zerolinewidth\":2},\"yaxis\":{\"gridcolor\":\"white\",\"linecolor\":\"white\",\"ticks\":\"\",\"title\":{\"standoff\":15},\"zerolinecolor\":\"white\",\"automargin\":true,\"zerolinewidth\":2},\"scene\":{\"xaxis\":{\"backgroundcolor\":\"#E5ECF6\",\"gridcolor\":\"white\",\"linecolor\":\"white\",\"showbackground\":true,\"ticks\":\"\",\"zerolinecolor\":\"white\",\"gridwidth\":2},\"yaxis\":{\"backgroundcolor\":\"#E5ECF6\",\"gridcolor\":\"white\",\"linecolor\":\"white\",\"showbackground\":true,\"ticks\":\"\",\"zerolinecolor\":\"white\",\"gridwidth\":2},\"zaxis\":{\"backgroundcolor\":\"#E5ECF6\",\"gridcolor\":\"white\",\"linecolor\":\"white\",\"showbackground\":true,\"ticks\":\"\",\"zerolinecolor\":\"white\",\"gridwidth\":2}},\"shapedefaults\":{\"line\":{\"color\":\"#2a3f5f\"}},\"annotationdefaults\":{\"arrowcolor\":\"#2a3f5f\",\"arrowhead\":0,\"arrowwidth\":1},\"geo\":{\"bgcolor\":\"white\",\"landcolor\":\"#E5ECF6\",\"subunitcolor\":\"white\",\"showland\":true,\"showlakes\":true,\"lakecolor\":\"white\"},\"title\":{\"x\":0.05},\"mapbox\":{\"style\":\"light\"}}},\"xaxis\":{\"anchor\":\"y\",\"domain\":[0.0,1.0],\"title\":{\"text\":\"\\u003cb\\u003eAge\\u003c\\u002fb\\u003e\",\"font\":{\"size\":13,\"family\":\"Arial\"}},\"ticksuffix\":\" y.o.\"},\"yaxis\":{\"anchor\":\"x\",\"domain\":[0.0,1.0],\"title\":{\"text\":\"\\u003cb\\u003eTime spent with the people (mins)\\u003c\\u002fb\\u003e\",\"font\":{\"size\":13,\"family\":\"Arial\"}}},\"legend\":{\"title\":{\"text\":\"People type\"},\"tracegroupgap\":0},\"margin\":{\"t\":60},\"title\":{\"font\":{\"size\":15,\"family\":\"Arial\"},\"text\":\"\\u003cb\\u003eWho American People Spend Time with by Age \\u003c\\u002fb\\u003e\",\"x\":0.45},\"width\":1000,\"height\":750,\"hovermode\":\"x unified\",\"showlegend\":false,\"annotations\":[{\"align\":\"left\",\"arrowcolor\":\"#636EFA\",\"arrowhead\":1,\"arrowsize\":0.8,\"arrowwidth\":1.5,\"ax\":80,\"ay\":0,\"font\":{\"color\":\"#636EFA\",\"family\":\"Arial\",\"size\":13},\"showarrow\":true,\"text\":\"With Others\",\"x\":80.5,\"y\":378.9619122,\"yanchor\":\"auto\"},{\"align\":\"left\",\"arrowcolor\":\"#EF553B\",\"arrowhead\":1,\"arrowsize\":0.8,\"arrowwidth\":1.5,\"ax\":80,\"ay\":0,\"font\":{\"color\":\"#EF553B\",\"family\":\"Arial\",\"size\":13},\"showarrow\":true,\"text\":\"Alone\",\"x\":80.5,\"y\":476.76736,\"yanchor\":\"auto\"}]},                        {\"responsive\": true}                    ).then(function(){\n",
       "                            \n",
       "var gd = document.getElementById('768299d2-67f4-4a09-aa18-ec59bbaeca78');\n",
       "var x = new MutationObserver(function (mutations, observer) {{\n",
       "        var display = window.getComputedStyle(gd).display;\n",
       "        if (!display || display === 'none') {{\n",
       "            console.log([gd, 'removed!']);\n",
       "            Plotly.purge(gd);\n",
       "            observer.disconnect();\n",
       "        }}\n",
       "}});\n",
       "\n",
       "// Listen for the removal of the full notebook cells\n",
       "var notebookContainer = gd.closest('#notebook-container');\n",
       "if (notebookContainer) {{\n",
       "    x.observe(notebookContainer, {childList: true});\n",
       "}}\n",
       "\n",
       "// Listen for the clearing of the current output cell\n",
       "var outputEl = gd.closest('.output');\n",
       "if (outputEl) {{\n",
       "    x.observe(outputEl, {childList: true});\n",
       "}}\n",
       "\n",
       "                        })                };                });            </script>        </div>"
      ]
     },
     "metadata": {},
     "output_type": "display_data"
    }
   ],
   "source": [
    "#Or compare “time spent alone” against “time spent with others”?\n",
    "df1['Others'] = df1['Friends'] + df1['Coworkers'] + df1['Parents, siblings, families'] + df1['Children'] + df1['Partner']\n",
    "\n",
    "# convert to long-form data with the selected summed columns\n",
    "id_vars = ['Entity','Code','Year']\n",
    "col_of_interest = id_vars + ['Alone','Others']\n",
    "df1_3 = df1[col_of_interest]\n",
    "\n",
    "col_vars = df1_3.columns\n",
    "val_vars = set(col_vars) - set(id_vars)\n",
    "df1_3_long = pd.melt(df1_3, id_vars=id_vars, value_vars=val_vars,var_name='People type',value_name='Time_mins')\n",
    "\n",
    "# plot lines of the combines data\n",
    "LinePlot_TimevsAge(df1_3_long, 'Year', 'Time_mins', 'People type')"
   ]
  },
  {
   "cell_type": "markdown",
   "id": "49a83cd4-996d-410f-a4e7-f7a24e283c9a",
   "metadata": {
    "id": "49a83cd4-996d-410f-a4e7-f7a24e283c9a"
   },
   "source": [
    "### **Some thoughts re. Plotly Line plot for this data**\n",
    "- the line without marker is sufficient to understand the trend of time spent with each group of people\n",
    "- the line plot shows the trend of time over age and show which group people spend time most at each age\n",
    "- Instead of legend, use annotation with arrows &#8592; to denote what each line represents. It seems to be easier to read visually than trying to read the legend and match it in our brain (more steps to make sense of the data)\n",
    "- Nice to have and yet to figure out or wait for new Plotly new features:\n",
    "    - In the hover display, **BOLD** the time spent for the group people with the highest time spent at that age\n",
    "    - was not able to find out how display y-value in hover in descending order (update the order of Time spent for each group as one scrolls through x-axis) ==> not sure if this function exist or more involved like using javascript and etc.."
   ]
  },
  {
   "cell_type": "code",
   "execution_count": null,
   "id": "63ced145-a8e7-4c7e-af09-b79012852826",
   "metadata": {
    "colab": {
     "base_uri": "https://localhost:8080/",
     "height": 517
    },
    "id": "63ced145-a8e7-4c7e-af09-b79012852826",
    "outputId": "91b29672-dd3a-4f36-ca38-997ec6acdf66"
   },
   "outputs": [
    {
     "data": {
      "application/vnd.plotly.v1+json": {
       "config": {
        "plotlyServerURL": "https://plot.ly"
       },
       "data": [
        {
         "alignmentgroup": "True",
         "hovertemplate": "People Type=%{x}<br>Avg Time hrs=%{y}<extra></extra>",
         "legendgroup": "",
         "marker": {
          "color": "#636EFA",
          "pattern": {
           "shape": ""
          }
         },
         "name": "",
         "offsetgroup": "",
         "orientation": "v",
         "showlegend": false,
         "textposition": "auto",
         "type": "bar",
         "x": [
          "Alone",
          "Friends",
          "Children",
          "Parents, siblings, families",
          "Partner",
          "Coworkers"
         ],
         "xaxis": "x",
         "y": [
          4.46826962121212,
          1.429951362121212,
          2.06681236969697,
          1.8182716075757577,
          1.904808503030303,
          3.174212984848485
         ],
         "yaxis": "y"
        }
       ],
       "layout": {
        "barmode": "relative",
        "height": 500,
        "legend": {
         "tracegroupgap": 0
        },
        "margin": {
         "t": 60
        },
        "template": {
         "data": {
          "bar": [
           {
            "error_x": {
             "color": "#2a3f5f"
            },
            "error_y": {
             "color": "#2a3f5f"
            },
            "marker": {
             "line": {
              "color": "#E5ECF6",
              "width": 0.5
             },
             "pattern": {
              "fillmode": "overlay",
              "size": 10,
              "solidity": 0.2
             }
            },
            "type": "bar"
           }
          ],
          "barpolar": [
           {
            "marker": {
             "line": {
              "color": "#E5ECF6",
              "width": 0.5
             },
             "pattern": {
              "fillmode": "overlay",
              "size": 10,
              "solidity": 0.2
             }
            },
            "type": "barpolar"
           }
          ],
          "carpet": [
           {
            "aaxis": {
             "endlinecolor": "#2a3f5f",
             "gridcolor": "white",
             "linecolor": "white",
             "minorgridcolor": "white",
             "startlinecolor": "#2a3f5f"
            },
            "baxis": {
             "endlinecolor": "#2a3f5f",
             "gridcolor": "white",
             "linecolor": "white",
             "minorgridcolor": "white",
             "startlinecolor": "#2a3f5f"
            },
            "type": "carpet"
           }
          ],
          "choropleth": [
           {
            "colorbar": {
             "outlinewidth": 0,
             "ticks": ""
            },
            "type": "choropleth"
           }
          ],
          "contour": [
           {
            "colorbar": {
             "outlinewidth": 0,
             "ticks": ""
            },
            "colorscale": [
             [
              0,
              "#0d0887"
             ],
             [
              0.1111111111111111,
              "#46039f"
             ],
             [
              0.2222222222222222,
              "#7201a8"
             ],
             [
              0.3333333333333333,
              "#9c179e"
             ],
             [
              0.4444444444444444,
              "#bd3786"
             ],
             [
              0.5555555555555556,
              "#d8576b"
             ],
             [
              0.6666666666666666,
              "#ed7953"
             ],
             [
              0.7777777777777778,
              "#fb9f3a"
             ],
             [
              0.8888888888888888,
              "#fdca26"
             ],
             [
              1,
              "#f0f921"
             ]
            ],
            "type": "contour"
           }
          ],
          "contourcarpet": [
           {
            "colorbar": {
             "outlinewidth": 0,
             "ticks": ""
            },
            "type": "contourcarpet"
           }
          ],
          "heatmap": [
           {
            "colorbar": {
             "outlinewidth": 0,
             "ticks": ""
            },
            "colorscale": [
             [
              0,
              "#0d0887"
             ],
             [
              0.1111111111111111,
              "#46039f"
             ],
             [
              0.2222222222222222,
              "#7201a8"
             ],
             [
              0.3333333333333333,
              "#9c179e"
             ],
             [
              0.4444444444444444,
              "#bd3786"
             ],
             [
              0.5555555555555556,
              "#d8576b"
             ],
             [
              0.6666666666666666,
              "#ed7953"
             ],
             [
              0.7777777777777778,
              "#fb9f3a"
             ],
             [
              0.8888888888888888,
              "#fdca26"
             ],
             [
              1,
              "#f0f921"
             ]
            ],
            "type": "heatmap"
           }
          ],
          "heatmapgl": [
           {
            "colorbar": {
             "outlinewidth": 0,
             "ticks": ""
            },
            "colorscale": [
             [
              0,
              "#0d0887"
             ],
             [
              0.1111111111111111,
              "#46039f"
             ],
             [
              0.2222222222222222,
              "#7201a8"
             ],
             [
              0.3333333333333333,
              "#9c179e"
             ],
             [
              0.4444444444444444,
              "#bd3786"
             ],
             [
              0.5555555555555556,
              "#d8576b"
             ],
             [
              0.6666666666666666,
              "#ed7953"
             ],
             [
              0.7777777777777778,
              "#fb9f3a"
             ],
             [
              0.8888888888888888,
              "#fdca26"
             ],
             [
              1,
              "#f0f921"
             ]
            ],
            "type": "heatmapgl"
           }
          ],
          "histogram": [
           {
            "marker": {
             "pattern": {
              "fillmode": "overlay",
              "size": 10,
              "solidity": 0.2
             }
            },
            "type": "histogram"
           }
          ],
          "histogram2d": [
           {
            "colorbar": {
             "outlinewidth": 0,
             "ticks": ""
            },
            "colorscale": [
             [
              0,
              "#0d0887"
             ],
             [
              0.1111111111111111,
              "#46039f"
             ],
             [
              0.2222222222222222,
              "#7201a8"
             ],
             [
              0.3333333333333333,
              "#9c179e"
             ],
             [
              0.4444444444444444,
              "#bd3786"
             ],
             [
              0.5555555555555556,
              "#d8576b"
             ],
             [
              0.6666666666666666,
              "#ed7953"
             ],
             [
              0.7777777777777778,
              "#fb9f3a"
             ],
             [
              0.8888888888888888,
              "#fdca26"
             ],
             [
              1,
              "#f0f921"
             ]
            ],
            "type": "histogram2d"
           }
          ],
          "histogram2dcontour": [
           {
            "colorbar": {
             "outlinewidth": 0,
             "ticks": ""
            },
            "colorscale": [
             [
              0,
              "#0d0887"
             ],
             [
              0.1111111111111111,
              "#46039f"
             ],
             [
              0.2222222222222222,
              "#7201a8"
             ],
             [
              0.3333333333333333,
              "#9c179e"
             ],
             [
              0.4444444444444444,
              "#bd3786"
             ],
             [
              0.5555555555555556,
              "#d8576b"
             ],
             [
              0.6666666666666666,
              "#ed7953"
             ],
             [
              0.7777777777777778,
              "#fb9f3a"
             ],
             [
              0.8888888888888888,
              "#fdca26"
             ],
             [
              1,
              "#f0f921"
             ]
            ],
            "type": "histogram2dcontour"
           }
          ],
          "mesh3d": [
           {
            "colorbar": {
             "outlinewidth": 0,
             "ticks": ""
            },
            "type": "mesh3d"
           }
          ],
          "parcoords": [
           {
            "line": {
             "colorbar": {
              "outlinewidth": 0,
              "ticks": ""
             }
            },
            "type": "parcoords"
           }
          ],
          "pie": [
           {
            "automargin": true,
            "type": "pie"
           }
          ],
          "scatter": [
           {
            "fillpattern": {
             "fillmode": "overlay",
             "size": 10,
             "solidity": 0.2
            },
            "type": "scatter"
           }
          ],
          "scatter3d": [
           {
            "line": {
             "colorbar": {
              "outlinewidth": 0,
              "ticks": ""
             }
            },
            "marker": {
             "colorbar": {
              "outlinewidth": 0,
              "ticks": ""
             }
            },
            "type": "scatter3d"
           }
          ],
          "scattercarpet": [
           {
            "marker": {
             "colorbar": {
              "outlinewidth": 0,
              "ticks": ""
             }
            },
            "type": "scattercarpet"
           }
          ],
          "scattergeo": [
           {
            "marker": {
             "colorbar": {
              "outlinewidth": 0,
              "ticks": ""
             }
            },
            "type": "scattergeo"
           }
          ],
          "scattergl": [
           {
            "marker": {
             "colorbar": {
              "outlinewidth": 0,
              "ticks": ""
             }
            },
            "type": "scattergl"
           }
          ],
          "scattermapbox": [
           {
            "marker": {
             "colorbar": {
              "outlinewidth": 0,
              "ticks": ""
             }
            },
            "type": "scattermapbox"
           }
          ],
          "scatterpolar": [
           {
            "marker": {
             "colorbar": {
              "outlinewidth": 0,
              "ticks": ""
             }
            },
            "type": "scatterpolar"
           }
          ],
          "scatterpolargl": [
           {
            "marker": {
             "colorbar": {
              "outlinewidth": 0,
              "ticks": ""
             }
            },
            "type": "scatterpolargl"
           }
          ],
          "scatterternary": [
           {
            "marker": {
             "colorbar": {
              "outlinewidth": 0,
              "ticks": ""
             }
            },
            "type": "scatterternary"
           }
          ],
          "surface": [
           {
            "colorbar": {
             "outlinewidth": 0,
             "ticks": ""
            },
            "colorscale": [
             [
              0,
              "#0d0887"
             ],
             [
              0.1111111111111111,
              "#46039f"
             ],
             [
              0.2222222222222222,
              "#7201a8"
             ],
             [
              0.3333333333333333,
              "#9c179e"
             ],
             [
              0.4444444444444444,
              "#bd3786"
             ],
             [
              0.5555555555555556,
              "#d8576b"
             ],
             [
              0.6666666666666666,
              "#ed7953"
             ],
             [
              0.7777777777777778,
              "#fb9f3a"
             ],
             [
              0.8888888888888888,
              "#fdca26"
             ],
             [
              1,
              "#f0f921"
             ]
            ],
            "type": "surface"
           }
          ],
          "table": [
           {
            "cells": {
             "fill": {
              "color": "#EBF0F8"
             },
             "line": {
              "color": "white"
             }
            },
            "header": {
             "fill": {
              "color": "#C8D4E3"
             },
             "line": {
              "color": "white"
             }
            },
            "type": "table"
           }
          ]
         },
         "layout": {
          "annotationdefaults": {
           "arrowcolor": "#2a3f5f",
           "arrowhead": 0,
           "arrowwidth": 1
          },
          "autotypenumbers": "strict",
          "coloraxis": {
           "colorbar": {
            "outlinewidth": 0,
            "ticks": ""
           }
          },
          "colorscale": {
           "diverging": [
            [
             0,
             "#8e0152"
            ],
            [
             0.1,
             "#c51b7d"
            ],
            [
             0.2,
             "#de77ae"
            ],
            [
             0.3,
             "#f1b6da"
            ],
            [
             0.4,
             "#fde0ef"
            ],
            [
             0.5,
             "#f7f7f7"
            ],
            [
             0.6,
             "#e6f5d0"
            ],
            [
             0.7,
             "#b8e186"
            ],
            [
             0.8,
             "#7fbc41"
            ],
            [
             0.9,
             "#4d9221"
            ],
            [
             1,
             "#276419"
            ]
           ],
           "sequential": [
            [
             0,
             "#0d0887"
            ],
            [
             0.1111111111111111,
             "#46039f"
            ],
            [
             0.2222222222222222,
             "#7201a8"
            ],
            [
             0.3333333333333333,
             "#9c179e"
            ],
            [
             0.4444444444444444,
             "#bd3786"
            ],
            [
             0.5555555555555556,
             "#d8576b"
            ],
            [
             0.6666666666666666,
             "#ed7953"
            ],
            [
             0.7777777777777778,
             "#fb9f3a"
            ],
            [
             0.8888888888888888,
             "#fdca26"
            ],
            [
             1,
             "#f0f921"
            ]
           ],
           "sequentialminus": [
            [
             0,
             "#0d0887"
            ],
            [
             0.1111111111111111,
             "#46039f"
            ],
            [
             0.2222222222222222,
             "#7201a8"
            ],
            [
             0.3333333333333333,
             "#9c179e"
            ],
            [
             0.4444444444444444,
             "#bd3786"
            ],
            [
             0.5555555555555556,
             "#d8576b"
            ],
            [
             0.6666666666666666,
             "#ed7953"
            ],
            [
             0.7777777777777778,
             "#fb9f3a"
            ],
            [
             0.8888888888888888,
             "#fdca26"
            ],
            [
             1,
             "#f0f921"
            ]
           ]
          },
          "colorway": [
           "#636efa",
           "#EF553B",
           "#00cc96",
           "#ab63fa",
           "#FFA15A",
           "#19d3f3",
           "#FF6692",
           "#B6E880",
           "#FF97FF",
           "#FECB52"
          ],
          "font": {
           "color": "#2a3f5f"
          },
          "geo": {
           "bgcolor": "white",
           "lakecolor": "white",
           "landcolor": "#E5ECF6",
           "showlakes": true,
           "showland": true,
           "subunitcolor": "white"
          },
          "hoverlabel": {
           "align": "left"
          },
          "hovermode": "closest",
          "mapbox": {
           "style": "light"
          },
          "paper_bgcolor": "white",
          "plot_bgcolor": "#E5ECF6",
          "polar": {
           "angularaxis": {
            "gridcolor": "white",
            "linecolor": "white",
            "ticks": ""
           },
           "bgcolor": "#E5ECF6",
           "radialaxis": {
            "gridcolor": "white",
            "linecolor": "white",
            "ticks": ""
           }
          },
          "scene": {
           "xaxis": {
            "backgroundcolor": "#E5ECF6",
            "gridcolor": "white",
            "gridwidth": 2,
            "linecolor": "white",
            "showbackground": true,
            "ticks": "",
            "zerolinecolor": "white"
           },
           "yaxis": {
            "backgroundcolor": "#E5ECF6",
            "gridcolor": "white",
            "gridwidth": 2,
            "linecolor": "white",
            "showbackground": true,
            "ticks": "",
            "zerolinecolor": "white"
           },
           "zaxis": {
            "backgroundcolor": "#E5ECF6",
            "gridcolor": "white",
            "gridwidth": 2,
            "linecolor": "white",
            "showbackground": true,
            "ticks": "",
            "zerolinecolor": "white"
           }
          },
          "shapedefaults": {
           "line": {
            "color": "#2a3f5f"
           }
          },
          "ternary": {
           "aaxis": {
            "gridcolor": "white",
            "linecolor": "white",
            "ticks": ""
           },
           "baxis": {
            "gridcolor": "white",
            "linecolor": "white",
            "ticks": ""
           },
           "bgcolor": "#E5ECF6",
           "caxis": {
            "gridcolor": "white",
            "linecolor": "white",
            "ticks": ""
           }
          },
          "title": {
           "x": 0.05
          },
          "xaxis": {
           "automargin": true,
           "gridcolor": "white",
           "linecolor": "white",
           "ticks": "",
           "title": {
            "standoff": 15
           },
           "zerolinecolor": "white",
           "zerolinewidth": 2
          },
          "yaxis": {
           "automargin": true,
           "gridcolor": "white",
           "linecolor": "white",
           "ticks": "",
           "title": {
            "standoff": 15
           },
           "zerolinecolor": "white",
           "zerolinewidth": 2
          }
         }
        },
        "title": {
         "font": {
          "family": "Arial",
          "size": 15
         },
         "text": "<b>Average Time Spent with People for 20 - 30 y.o </b>",
         "x": 0.5
        },
        "width": 1000,
        "xaxis": {
         "anchor": "y",
         "domain": [
          0,
          1
         ],
         "title": {
          "font": {
           "family": "Arial",
           "size": 13
          },
          "text": "<b>People Type</b>"
         }
        },
        "yaxis": {
         "anchor": "x",
         "domain": [
          0,
          1
         ],
         "tickformat": ".1f",
         "title": {
          "font": {
           "family": "Arial",
           "size": 13
          },
          "text": "<b>Average Time spent with the people (hrs)</b>"
         }
        }
       }
      },
      "text/html": [
       "<div>                            <div id=\"f41f210d-a5ff-4852-8eb6-9dc895caac03\" class=\"plotly-graph-div\" style=\"height:500px; width:1000px;\"></div>            <script type=\"text/javascript\">                require([\"plotly\"], function(Plotly) {                    window.PLOTLYENV=window.PLOTLYENV || {};                                    if (document.getElementById(\"f41f210d-a5ff-4852-8eb6-9dc895caac03\")) {                    Plotly.newPlot(                        \"f41f210d-a5ff-4852-8eb6-9dc895caac03\",                        [{\"alignmentgroup\":\"True\",\"hovertemplate\":\"People Type=%{x}\\u003cbr\\u003eAvg Time hrs=%{y}\\u003cextra\\u003e\\u003c\\u002fextra\\u003e\",\"legendgroup\":\"\",\"marker\":{\"color\":\"#636EFA\",\"pattern\":{\"shape\":\"\"}},\"name\":\"\",\"offsetgroup\":\"\",\"orientation\":\"v\",\"showlegend\":false,\"textposition\":\"auto\",\"x\":[\"Alone\",\"Friends\",\"Children\",\"Parents, siblings, families\",\"Partner\",\"Coworkers\"],\"xaxis\":\"x\",\"y\":[4.46826962121212,1.429951362121212,2.06681236969697,1.8182716075757577,1.904808503030303,3.174212984848485],\"yaxis\":\"y\",\"type\":\"bar\"}],                        {\"template\":{\"data\":{\"histogram2dcontour\":[{\"type\":\"histogram2dcontour\",\"colorbar\":{\"outlinewidth\":0,\"ticks\":\"\"},\"colorscale\":[[0.0,\"#0d0887\"],[0.1111111111111111,\"#46039f\"],[0.2222222222222222,\"#7201a8\"],[0.3333333333333333,\"#9c179e\"],[0.4444444444444444,\"#bd3786\"],[0.5555555555555556,\"#d8576b\"],[0.6666666666666666,\"#ed7953\"],[0.7777777777777778,\"#fb9f3a\"],[0.8888888888888888,\"#fdca26\"],[1.0,\"#f0f921\"]]}],\"choropleth\":[{\"type\":\"choropleth\",\"colorbar\":{\"outlinewidth\":0,\"ticks\":\"\"}}],\"histogram2d\":[{\"type\":\"histogram2d\",\"colorbar\":{\"outlinewidth\":0,\"ticks\":\"\"},\"colorscale\":[[0.0,\"#0d0887\"],[0.1111111111111111,\"#46039f\"],[0.2222222222222222,\"#7201a8\"],[0.3333333333333333,\"#9c179e\"],[0.4444444444444444,\"#bd3786\"],[0.5555555555555556,\"#d8576b\"],[0.6666666666666666,\"#ed7953\"],[0.7777777777777778,\"#fb9f3a\"],[0.8888888888888888,\"#fdca26\"],[1.0,\"#f0f921\"]]}],\"heatmap\":[{\"type\":\"heatmap\",\"colorbar\":{\"outlinewidth\":0,\"ticks\":\"\"},\"colorscale\":[[0.0,\"#0d0887\"],[0.1111111111111111,\"#46039f\"],[0.2222222222222222,\"#7201a8\"],[0.3333333333333333,\"#9c179e\"],[0.4444444444444444,\"#bd3786\"],[0.5555555555555556,\"#d8576b\"],[0.6666666666666666,\"#ed7953\"],[0.7777777777777778,\"#fb9f3a\"],[0.8888888888888888,\"#fdca26\"],[1.0,\"#f0f921\"]]}],\"heatmapgl\":[{\"type\":\"heatmapgl\",\"colorbar\":{\"outlinewidth\":0,\"ticks\":\"\"},\"colorscale\":[[0.0,\"#0d0887\"],[0.1111111111111111,\"#46039f\"],[0.2222222222222222,\"#7201a8\"],[0.3333333333333333,\"#9c179e\"],[0.4444444444444444,\"#bd3786\"],[0.5555555555555556,\"#d8576b\"],[0.6666666666666666,\"#ed7953\"],[0.7777777777777778,\"#fb9f3a\"],[0.8888888888888888,\"#fdca26\"],[1.0,\"#f0f921\"]]}],\"contourcarpet\":[{\"type\":\"contourcarpet\",\"colorbar\":{\"outlinewidth\":0,\"ticks\":\"\"}}],\"contour\":[{\"type\":\"contour\",\"colorbar\":{\"outlinewidth\":0,\"ticks\":\"\"},\"colorscale\":[[0.0,\"#0d0887\"],[0.1111111111111111,\"#46039f\"],[0.2222222222222222,\"#7201a8\"],[0.3333333333333333,\"#9c179e\"],[0.4444444444444444,\"#bd3786\"],[0.5555555555555556,\"#d8576b\"],[0.6666666666666666,\"#ed7953\"],[0.7777777777777778,\"#fb9f3a\"],[0.8888888888888888,\"#fdca26\"],[1.0,\"#f0f921\"]]}],\"surface\":[{\"type\":\"surface\",\"colorbar\":{\"outlinewidth\":0,\"ticks\":\"\"},\"colorscale\":[[0.0,\"#0d0887\"],[0.1111111111111111,\"#46039f\"],[0.2222222222222222,\"#7201a8\"],[0.3333333333333333,\"#9c179e\"],[0.4444444444444444,\"#bd3786\"],[0.5555555555555556,\"#d8576b\"],[0.6666666666666666,\"#ed7953\"],[0.7777777777777778,\"#fb9f3a\"],[0.8888888888888888,\"#fdca26\"],[1.0,\"#f0f921\"]]}],\"mesh3d\":[{\"type\":\"mesh3d\",\"colorbar\":{\"outlinewidth\":0,\"ticks\":\"\"}}],\"scatter\":[{\"fillpattern\":{\"fillmode\":\"overlay\",\"size\":10,\"solidity\":0.2},\"type\":\"scatter\"}],\"parcoords\":[{\"type\":\"parcoords\",\"line\":{\"colorbar\":{\"outlinewidth\":0,\"ticks\":\"\"}}}],\"scatterpolargl\":[{\"type\":\"scatterpolargl\",\"marker\":{\"colorbar\":{\"outlinewidth\":0,\"ticks\":\"\"}}}],\"bar\":[{\"error_x\":{\"color\":\"#2a3f5f\"},\"error_y\":{\"color\":\"#2a3f5f\"},\"marker\":{\"line\":{\"color\":\"#E5ECF6\",\"width\":0.5},\"pattern\":{\"fillmode\":\"overlay\",\"size\":10,\"solidity\":0.2}},\"type\":\"bar\"}],\"scattergeo\":[{\"type\":\"scattergeo\",\"marker\":{\"colorbar\":{\"outlinewidth\":0,\"ticks\":\"\"}}}],\"scatterpolar\":[{\"type\":\"scatterpolar\",\"marker\":{\"colorbar\":{\"outlinewidth\":0,\"ticks\":\"\"}}}],\"histogram\":[{\"marker\":{\"pattern\":{\"fillmode\":\"overlay\",\"size\":10,\"solidity\":0.2}},\"type\":\"histogram\"}],\"scattergl\":[{\"type\":\"scattergl\",\"marker\":{\"colorbar\":{\"outlinewidth\":0,\"ticks\":\"\"}}}],\"scatter3d\":[{\"type\":\"scatter3d\",\"line\":{\"colorbar\":{\"outlinewidth\":0,\"ticks\":\"\"}},\"marker\":{\"colorbar\":{\"outlinewidth\":0,\"ticks\":\"\"}}}],\"scattermapbox\":[{\"type\":\"scattermapbox\",\"marker\":{\"colorbar\":{\"outlinewidth\":0,\"ticks\":\"\"}}}],\"scatterternary\":[{\"type\":\"scatterternary\",\"marker\":{\"colorbar\":{\"outlinewidth\":0,\"ticks\":\"\"}}}],\"scattercarpet\":[{\"type\":\"scattercarpet\",\"marker\":{\"colorbar\":{\"outlinewidth\":0,\"ticks\":\"\"}}}],\"carpet\":[{\"aaxis\":{\"endlinecolor\":\"#2a3f5f\",\"gridcolor\":\"white\",\"linecolor\":\"white\",\"minorgridcolor\":\"white\",\"startlinecolor\":\"#2a3f5f\"},\"baxis\":{\"endlinecolor\":\"#2a3f5f\",\"gridcolor\":\"white\",\"linecolor\":\"white\",\"minorgridcolor\":\"white\",\"startlinecolor\":\"#2a3f5f\"},\"type\":\"carpet\"}],\"table\":[{\"cells\":{\"fill\":{\"color\":\"#EBF0F8\"},\"line\":{\"color\":\"white\"}},\"header\":{\"fill\":{\"color\":\"#C8D4E3\"},\"line\":{\"color\":\"white\"}},\"type\":\"table\"}],\"barpolar\":[{\"marker\":{\"line\":{\"color\":\"#E5ECF6\",\"width\":0.5},\"pattern\":{\"fillmode\":\"overlay\",\"size\":10,\"solidity\":0.2}},\"type\":\"barpolar\"}],\"pie\":[{\"automargin\":true,\"type\":\"pie\"}]},\"layout\":{\"autotypenumbers\":\"strict\",\"colorway\":[\"#636efa\",\"#EF553B\",\"#00cc96\",\"#ab63fa\",\"#FFA15A\",\"#19d3f3\",\"#FF6692\",\"#B6E880\",\"#FF97FF\",\"#FECB52\"],\"font\":{\"color\":\"#2a3f5f\"},\"hovermode\":\"closest\",\"hoverlabel\":{\"align\":\"left\"},\"paper_bgcolor\":\"white\",\"plot_bgcolor\":\"#E5ECF6\",\"polar\":{\"bgcolor\":\"#E5ECF6\",\"angularaxis\":{\"gridcolor\":\"white\",\"linecolor\":\"white\",\"ticks\":\"\"},\"radialaxis\":{\"gridcolor\":\"white\",\"linecolor\":\"white\",\"ticks\":\"\"}},\"ternary\":{\"bgcolor\":\"#E5ECF6\",\"aaxis\":{\"gridcolor\":\"white\",\"linecolor\":\"white\",\"ticks\":\"\"},\"baxis\":{\"gridcolor\":\"white\",\"linecolor\":\"white\",\"ticks\":\"\"},\"caxis\":{\"gridcolor\":\"white\",\"linecolor\":\"white\",\"ticks\":\"\"}},\"coloraxis\":{\"colorbar\":{\"outlinewidth\":0,\"ticks\":\"\"}},\"colorscale\":{\"sequential\":[[0.0,\"#0d0887\"],[0.1111111111111111,\"#46039f\"],[0.2222222222222222,\"#7201a8\"],[0.3333333333333333,\"#9c179e\"],[0.4444444444444444,\"#bd3786\"],[0.5555555555555556,\"#d8576b\"],[0.6666666666666666,\"#ed7953\"],[0.7777777777777778,\"#fb9f3a\"],[0.8888888888888888,\"#fdca26\"],[1.0,\"#f0f921\"]],\"sequentialminus\":[[0.0,\"#0d0887\"],[0.1111111111111111,\"#46039f\"],[0.2222222222222222,\"#7201a8\"],[0.3333333333333333,\"#9c179e\"],[0.4444444444444444,\"#bd3786\"],[0.5555555555555556,\"#d8576b\"],[0.6666666666666666,\"#ed7953\"],[0.7777777777777778,\"#fb9f3a\"],[0.8888888888888888,\"#fdca26\"],[1.0,\"#f0f921\"]],\"diverging\":[[0,\"#8e0152\"],[0.1,\"#c51b7d\"],[0.2,\"#de77ae\"],[0.3,\"#f1b6da\"],[0.4,\"#fde0ef\"],[0.5,\"#f7f7f7\"],[0.6,\"#e6f5d0\"],[0.7,\"#b8e186\"],[0.8,\"#7fbc41\"],[0.9,\"#4d9221\"],[1,\"#276419\"]]},\"xaxis\":{\"gridcolor\":\"white\",\"linecolor\":\"white\",\"ticks\":\"\",\"title\":{\"standoff\":15},\"zerolinecolor\":\"white\",\"automargin\":true,\"zerolinewidth\":2},\"yaxis\":{\"gridcolor\":\"white\",\"linecolor\":\"white\",\"ticks\":\"\",\"title\":{\"standoff\":15},\"zerolinecolor\":\"white\",\"automargin\":true,\"zerolinewidth\":2},\"scene\":{\"xaxis\":{\"backgroundcolor\":\"#E5ECF6\",\"gridcolor\":\"white\",\"linecolor\":\"white\",\"showbackground\":true,\"ticks\":\"\",\"zerolinecolor\":\"white\",\"gridwidth\":2},\"yaxis\":{\"backgroundcolor\":\"#E5ECF6\",\"gridcolor\":\"white\",\"linecolor\":\"white\",\"showbackground\":true,\"ticks\":\"\",\"zerolinecolor\":\"white\",\"gridwidth\":2},\"zaxis\":{\"backgroundcolor\":\"#E5ECF6\",\"gridcolor\":\"white\",\"linecolor\":\"white\",\"showbackground\":true,\"ticks\":\"\",\"zerolinecolor\":\"white\",\"gridwidth\":2}},\"shapedefaults\":{\"line\":{\"color\":\"#2a3f5f\"}},\"annotationdefaults\":{\"arrowcolor\":\"#2a3f5f\",\"arrowhead\":0,\"arrowwidth\":1},\"geo\":{\"bgcolor\":\"white\",\"landcolor\":\"#E5ECF6\",\"subunitcolor\":\"white\",\"showland\":true,\"showlakes\":true,\"lakecolor\":\"white\"},\"title\":{\"x\":0.05},\"mapbox\":{\"style\":\"light\"}}},\"xaxis\":{\"anchor\":\"y\",\"domain\":[0.0,1.0],\"title\":{\"text\":\"\\u003cb\\u003ePeople Type\\u003c\\u002fb\\u003e\",\"font\":{\"size\":13,\"family\":\"Arial\"}}},\"yaxis\":{\"anchor\":\"x\",\"domain\":[0.0,1.0],\"title\":{\"text\":\"\\u003cb\\u003eAverage Time spent with the people (hrs)\\u003c\\u002fb\\u003e\",\"font\":{\"size\":13,\"family\":\"Arial\"}},\"tickformat\":\".1f\"},\"legend\":{\"tracegroupgap\":0},\"margin\":{\"t\":60},\"barmode\":\"relative\",\"title\":{\"font\":{\"size\":15,\"family\":\"Arial\"},\"text\":\"\\u003cb\\u003eAverage Time Spent with People for 20 - 30 y.o \\u003c\\u002fb\\u003e\",\"x\":0.5},\"width\":1000,\"height\":500},                        {\"responsive\": true}                    ).then(function(){\n",
       "                            \n",
       "var gd = document.getElementById('f41f210d-a5ff-4852-8eb6-9dc895caac03');\n",
       "var x = new MutationObserver(function (mutations, observer) {{\n",
       "        var display = window.getComputedStyle(gd).display;\n",
       "        if (!display || display === 'none') {{\n",
       "            console.log([gd, 'removed!']);\n",
       "            Plotly.purge(gd);\n",
       "            observer.disconnect();\n",
       "        }}\n",
       "}});\n",
       "\n",
       "// Listen for the removal of the full notebook cells\n",
       "var notebookContainer = gd.closest('#notebook-container');\n",
       "if (notebookContainer) {{\n",
       "    x.observe(notebookContainer, {childList: true});\n",
       "}}\n",
       "\n",
       "// Listen for the clearing of the current output cell\n",
       "var outputEl = gd.closest('.output');\n",
       "if (outputEl) {{\n",
       "    x.observe(outputEl, {childList: true});\n",
       "}}\n",
       "\n",
       "                        })                };                });            </script>        </div>"
      ]
     },
     "metadata": {},
     "output_type": "display_data"
    }
   ],
   "source": [
    "# Or do the math on how many days people spent on average with the different groups of people in their twenties?\n",
    "the_col = ['Alone','Friends','Children','Parents, siblings, families','Partner','Coworkers']\n",
    "df1_20yo = df1.loc[(df1['Year'] >= 20) & (df1['Year'] <= 30),the_col]\n",
    "\n",
    "df1_20yo_avg = df1_20yo.mean().reset_index()\n",
    "df1_20yo_avg.columns = ['People Type','Avg Time mins']\n",
    "df1_20yo_avg['Avg Time hrs'] = df1_20yo_avg['Avg Time mins']/60\n",
    "fig = px.bar(df1_20yo_avg, x='People Type', y='Avg Time hrs',\n",
    "            color_discrete_sequence=px.colors.qualitative.Plotly)\n",
    "\n",
    "fig.update_layout(\n",
    "        width = 1000,\n",
    "        height=500,\n",
    "        xaxis_title={\n",
    "            'text': '<b>People Type</b>',\n",
    "            'font': {'size': 13, 'family': 'Arial'}\n",
    "        },\n",
    "        yaxis_title={'text':'<b>Average Time spent with the people (hrs)</b>',\n",
    "                    'font':{'size': 13, 'family': 'Arial'}\n",
    "        },\n",
    "        title={'text':'<b>Average Time Spent with People for 20 - 30 y.o </b>',\n",
    "                    'font':{'size': 15, 'family': 'Arial'}\n",
    "        },\n",
    "        title_x=0.50, #ceneter the title to the middle, title_x btw 0 and 1\n",
    "        yaxis_tickformat = '.1f'\n",
    "    ) # to bold font, use <b> </b> like HTML\n",
    "\n",
    "fig.show()"
   ]
  },
  {
   "cell_type": "code",
   "execution_count": null,
   "id": "e850506d-2ab7-453c-b969-1a311a90ae5d",
   "metadata": {
    "colab": {
     "base_uri": "https://localhost:8080/",
     "height": 793
    },
    "id": "e850506d-2ab7-453c-b969-1a311a90ae5d",
    "outputId": "c5667842-bf4e-4fcf-d43a-e7cab16208c4"
   },
   "outputs": [
    {
     "data": {
      "text/plain": [
       "Text(0.5, 1.0, 'Average time with people for 20 - 30 y.o.')"
      ]
     },
     "execution_count": 10,
     "metadata": {},
     "output_type": "execute_result"
    },
    {
     "data": {
      "image/png": "[encoded data removed]",
      "text/plain": [
       "<Figure size 1500x900 with 1 Axes>"
      ]
     },
     "metadata": {},
     "output_type": "display_data"
    }
   ],
   "source": [
    "# can I do the same plot using seaborn? just don't have the hover function, but is it necessary for this plot?\n",
    "\n",
    "# convert to long form\n",
    "df1_20yo_long = pd.melt(df1_20yo, var_name='People Type', value_name='Time mins')\n",
    "df1_20yo_long['Time hrs'] = df1_20yo_long['Time mins']/60\n",
    "# print(df1_20yo_long)\n",
    "\n",
    "fig, ax = plt.subplots(1,1,sharey=True,figsize=(15,9))\n",
    "sns.set_theme(context='notebook')\n",
    "\n",
    "sns.boxplot(x='People Type', y='Time hrs', data=df1_20yo_long)\n",
    "# ax.set_xticklabels(ax.get_xticklabels(), rotation=45)\n",
    "ax.set_ylabel('Time spent (hrs)', fontweight='bold')\n",
    "ax.set_xlabel('')\n",
    "ax.set_title('Average time with people for 20 - 30 y.o.', fontweight='bold')\n",
    "\n",
    "# fig.savefig('', dpi=300)"
   ]
  },
  {
   "cell_type": "code",
   "execution_count": null,
   "id": "57a10aa4-dc1f-4316-bc91-bd65719652f1",
   "metadata": {
    "id": "57a10aa4-dc1f-4316-bc91-bd65719652f1"
   },
   "outputs": [],
   "source": [
    "# Or compare 15–20 year olds with 40–45 year olds and show them as a simple bar chart\n",
    "# create a new category columns to split the data into different age group (15 - 20 yo, 40-45 yo)\n",
    "\n",
    "def func_agegrp(x):\n",
    "    if x >= 15 and x <= 20:\n",
    "        return '15 - 20 y.o.'\n",
    "    elif x > 20 and x < 40:\n",
    "        return '20 - 40 y.o.'\n",
    "    elif x >= 40 and x <= 45:\n",
    "        return '40 - 45 y.o.'\n",
    "    else:\n",
    "        return 'Above 45 y.o.'\n",
    "df1['Age Group'] = df1.apply(lambda x: func_agegrp(x['Year']), axis=1)\n",
    "# df1.head(10)"
   ]
  },
  {
   "cell_type": "code",
   "execution_count": null,
   "id": "00ff1b72-9a2b-4995-b67b-08ae07489c23",
   "metadata": {
    "colab": {
     "base_uri": "https://localhost:8080/",
     "height": 792
    },
    "id": "00ff1b72-9a2b-4995-b67b-08ae07489c23",
    "outputId": "b077a995-a7c8-48b9-e7af-00361c261cce"
   },
   "outputs": [
    {
     "data": {
      "text/plain": [
       "Text(0.5, 1.0, 'How do American People at Different Age Spend their Time')"
      ]
     },
     "execution_count": 12,
     "metadata": {},
     "output_type": "execute_result"
    },
    {
     "data": {
      "image/png": "[encoded data removed]",
      "text/plain": [
       "<Figure size 1500x900 with 1 Axes>"
      ]
     },
     "metadata": {},
     "output_type": "display_data"
    }
   ],
   "source": [
    "# visualization option: (a) seaborn bar plot with 2 age groups side-by-side,\n",
    "# (b) Plotly bar chart by computing average and dropdown menu to select which 2 age groups to compare (2 dropdown menus)\n",
    "\n",
    "# option (a) seaborn bar plot\n",
    "# convert data to long format\n",
    "\n",
    "the_col = ['Alone','Friends','Children','Parents, siblings, families','Partner','Coworkers']\n",
    "id_vars = ['Entity','Code','Year','Age Group']\n",
    "df1_original = df1[the_col + id_vars]\n",
    "# print(df1_original.head(20))\n",
    "\n",
    "df1_agegrp_long = pd.melt(df1_original, id_vars=id_vars,var_name='People Type', value_name='Time mins')\n",
    "df1_agegrp_long['Time hrs'] = df1_agegrp_long['Time mins']/60\n",
    "# print(df1_agegrp_long.dtypes)\n",
    "\n",
    "fig, ax = plt.subplots(1,1,sharey=True,figsize=(15,9))\n",
    "sns.set_theme(context='notebook')\n",
    "\n",
    "agegrp_to_plot = ['15 - 20 y.o.','Above 45 y.o.']\n",
    "# sns.boxplot(x='People Type', y='Time hrs', hue='Age Group', data=df1_agegrp_long,palette='pastel')\n",
    "sns.barplot(x='Time hrs', y='People Type', hue='Age Group'\n",
    "            ,data=df1_agegrp_long, hue_order = agegrp_to_plot\n",
    "            ,palette='pastel', edgecolor='none')\n",
    "\n",
    "# sns.barplot(x='Time hrs', y='People Type', hue='Age Group'\n",
    "#             ,data=df1_agegrp_long,palette='pastel'\n",
    "#             , edgecolor='none')\n",
    "# ax.set_xticklabels(g.get_xticklabels(),rotation=30)\n",
    "ax.set_ylabel('')\n",
    "ax.set_xlabel('Time spent (hrs)', fontweight='bold')\n",
    "ax.set_title('How do American People at Different Age Spend their Time', fontweight='bold')"
   ]
  },
  {
   "cell_type": "code",
   "execution_count": null,
   "id": "b0fe4705-4781-4622-b9f6-288aafbb17f6",
   "metadata": {
    "id": "b0fe4705-4781-4622-b9f6-288aafbb17f6"
   },
   "outputs": [],
   "source": [
    "# Vis Option (b) Plotly bar chart by computing average and dropdown menu to select which 2 age groups to compare (2 dropdown menus)\n",
    "the_pplgrp_col = ['Alone','Friends','Children','Parents, siblings, families','Partner','Coworkers']\n",
    "\n",
    "# convert time to HOURS from MINS\n",
    "def mins_to_hours(x):\n",
    "    return x/60\n",
    "df1_original.loc[:,the_pplgrp_col] = df1_original[the_pplgrp_col].apply(mins_to_hours)"
   ]
  },
  {
   "cell_type": "code",
   "execution_count": null,
   "id": "8115f733-8661-4e7d-84e2-998c7e8eda3a",
   "metadata": {
    "colab": {
     "base_uri": "https://localhost:8080/",
     "height": 617
    },
    "id": "8115f733-8661-4e7d-84e2-998c7e8eda3a",
    "outputId": "b2bb965c-b534-4f59-d959-3ae03abd34e1"
   },
   "outputs": [
    {
     "data": {
      "application/vnd.plotly.v1+json": {
       "config": {
        "plotlyServerURL": "https://plot.ly"
       },
       "data": [
        {
         "alignmentgroup": "True",
         "hovertemplate": "<b>15 - 20 y.o.</b><br>%{y:.2f} hrs<extra></extra>",
         "legendgroup": "15 - 20 y.o.",
         "marker": {
          "color": "#4C78A8",
          "pattern": {
           "shape": ""
          }
         },
         "name": "15 - 20 y.o.",
         "offsetgroup": "15 - 20 y.o.",
         "orientation": "v",
         "showlegend": true,
         "textposition": "auto",
         "type": "bar",
         "x": [
          "Alone",
          "Friends",
          "Children",
          "Parents, siblings, families",
          "Partner",
          "Coworkers"
         ],
         "xaxis": "x",
         "y": [
          3.922071611111111,
          2.030343333333333,
          0.5461840305555555,
          3.783439611111111,
          0.14596183210555555,
          1.1835145102777778
         ],
         "yaxis": "y"
        },
        {
         "alignmentgroup": "True",
         "hovertemplate": "<b>40 - 45 y.o.</b><br>%{y:.2f} hrs<extra></extra>",
         "legendgroup": "40 - 45 y.o.",
         "marker": {
          "color": "#F58518",
          "pattern": {
           "shape": ""
          }
         },
         "name": "40 - 45 y.o.",
         "offsetgroup": "40 - 45 y.o.",
         "orientation": "v",
         "showlegend": true,
         "textposition": "auto",
         "type": "bar",
         "x": [
          "Alone",
          "Friends",
          "Children",
          "Parents, siblings, families",
          "Partner",
          "Coworkers"
         ],
         "xaxis": "x",
         "y": [
          5.03255725,
          0.6324470305555555,
          3.6571877500000003,
          0.9125634833333334,
          3.157383805555556,
          3.0296133055555554
         ],
         "yaxis": "y"
        }
       ],
       "layout": {
        "barmode": "group",
        "height": 600,
        "hovermode": "x unified",
        "legend": {
         "title": {
          "text": "variable"
         },
         "tracegroupgap": 0
        },
        "margin": {
         "t": 60
        },
        "showlegend": false,
        "template": {
         "data": {
          "bar": [
           {
            "error_x": {
             "color": "#2a3f5f"
            },
            "error_y": {
             "color": "#2a3f5f"
            },
            "marker": {
             "line": {
              "color": "#E5ECF6",
              "width": 0.5
             },
             "pattern": {
              "fillmode": "overlay",
              "size": 10,
              "solidity": 0.2
             }
            },
            "type": "bar"
           }
          ],
          "barpolar": [
           {
            "marker": {
             "line": {
              "color": "#E5ECF6",
              "width": 0.5
             },
             "pattern": {
              "fillmode": "overlay",
              "size": 10,
              "solidity": 0.2
             }
            },
            "type": "barpolar"
           }
          ],
          "carpet": [
           {
            "aaxis": {
             "endlinecolor": "#2a3f5f",
             "gridcolor": "white",
             "linecolor": "white",
             "minorgridcolor": "white",
             "startlinecolor": "#2a3f5f"
            },
            "baxis": {
             "endlinecolor": "#2a3f5f",
             "gridcolor": "white",
             "linecolor": "white",
             "minorgridcolor": "white",
             "startlinecolor": "#2a3f5f"
            },
            "type": "carpet"
           }
          ],
          "choropleth": [
           {
            "colorbar": {
             "outlinewidth": 0,
             "ticks": ""
            },
            "type": "choropleth"
           }
          ],
          "contour": [
           {
            "colorbar": {
             "outlinewidth": 0,
             "ticks": ""
            },
            "colorscale": [
             [
              0,
              "#0d0887"
             ],
             [
              0.1111111111111111,
              "#46039f"
             ],
             [
              0.2222222222222222,
              "#7201a8"
             ],
             [
              0.3333333333333333,
              "#9c179e"
             ],
             [
              0.4444444444444444,
              "#bd3786"
             ],
             [
              0.5555555555555556,
              "#d8576b"
             ],
             [
              0.6666666666666666,
              "#ed7953"
             ],
             [
              0.7777777777777778,
              "#fb9f3a"
             ],
             [
              0.8888888888888888,
              "#fdca26"
             ],
             [
              1,
              "#f0f921"
             ]
            ],
            "type": "contour"
           }
          ],
          "contourcarpet": [
           {
            "colorbar": {
             "outlinewidth": 0,
             "ticks": ""
            },
            "type": "contourcarpet"
           }
          ],
          "heatmap": [
           {
            "colorbar": {
             "outlinewidth": 0,
             "ticks": ""
            },
            "colorscale": [
             [
              0,
              "#0d0887"
             ],
             [
              0.1111111111111111,
              "#46039f"
             ],
             [
              0.2222222222222222,
              "#7201a8"
             ],
             [
              0.3333333333333333,
              "#9c179e"
             ],
             [
              0.4444444444444444,
              "#bd3786"
             ],
             [
              0.5555555555555556,
              "#d8576b"
             ],
             [
              0.6666666666666666,
              "#ed7953"
             ],
             [
              0.7777777777777778,
              "#fb9f3a"
             ],
             [
              0.8888888888888888,
              "#fdca26"
             ],
             [
              1,
              "#f0f921"
             ]
            ],
            "type": "heatmap"
           }
          ],
          "heatmapgl": [
           {
            "colorbar": {
             "outlinewidth": 0,
             "ticks": ""
            },
            "colorscale": [
             [
              0,
              "#0d0887"
             ],
             [
              0.1111111111111111,
              "#46039f"
             ],
             [
              0.2222222222222222,
              "#7201a8"
             ],
             [
              0.3333333333333333,
              "#9c179e"
             ],
             [
              0.4444444444444444,
              "#bd3786"
             ],
             [
              0.5555555555555556,
              "#d8576b"
             ],
             [
              0.6666666666666666,
              "#ed7953"
             ],
             [
              0.7777777777777778,
              "#fb9f3a"
             ],
             [
              0.8888888888888888,
              "#fdca26"
             ],
             [
              1,
              "#f0f921"
             ]
            ],
            "type": "heatmapgl"
           }
          ],
          "histogram": [
           {
            "marker": {
             "pattern": {
              "fillmode": "overlay",
              "size": 10,
              "solidity": 0.2
             }
            },
            "type": "histogram"
           }
          ],
          "histogram2d": [
           {
            "colorbar": {
             "outlinewidth": 0,
             "ticks": ""
            },
            "colorscale": [
             [
              0,
              "#0d0887"
             ],
             [
              0.1111111111111111,
              "#46039f"
             ],
             [
              0.2222222222222222,
              "#7201a8"
             ],
             [
              0.3333333333333333,
              "#9c179e"
             ],
             [
              0.4444444444444444,
              "#bd3786"
             ],
             [
              0.5555555555555556,
              "#d8576b"
             ],
             [
              0.6666666666666666,
              "#ed7953"
             ],
             [
              0.7777777777777778,
              "#fb9f3a"
             ],
             [
              0.8888888888888888,
              "#fdca26"
             ],
             [
              1,
              "#f0f921"
             ]
            ],
            "type": "histogram2d"
           }
          ],
          "histogram2dcontour": [
           {
            "colorbar": {
             "outlinewidth": 0,
             "ticks": ""
            },
            "colorscale": [
             [
              0,
              "#0d0887"
             ],
             [
              0.1111111111111111,
              "#46039f"
             ],
             [
              0.2222222222222222,
              "#7201a8"
             ],
             [
              0.3333333333333333,
              "#9c179e"
             ],
             [
              0.4444444444444444,
              "#bd3786"
             ],
             [
              0.5555555555555556,
              "#d8576b"
             ],
             [
              0.6666666666666666,
              "#ed7953"
             ],
             [
              0.7777777777777778,
              "#fb9f3a"
             ],
             [
              0.8888888888888888,
              "#fdca26"
             ],
             [
              1,
              "#f0f921"
             ]
            ],
            "type": "histogram2dcontour"
           }
          ],
          "mesh3d": [
           {
            "colorbar": {
             "outlinewidth": 0,
             "ticks": ""
            },
            "type": "mesh3d"
           }
          ],
          "parcoords": [
           {
            "line": {
             "colorbar": {
              "outlinewidth": 0,
              "ticks": ""
             }
            },
            "type": "parcoords"
           }
          ],
          "pie": [
           {
            "automargin": true,
            "type": "pie"
           }
          ],
          "scatter": [
           {
            "fillpattern": {
             "fillmode": "overlay",
             "size": 10,
             "solidity": 0.2
            },
            "type": "scatter"
           }
          ],
          "scatter3d": [
           {
            "line": {
             "colorbar": {
              "outlinewidth": 0,
              "ticks": ""
             }
            },
            "marker": {
             "colorbar": {
              "outlinewidth": 0,
              "ticks": ""
             }
            },
            "type": "scatter3d"
           }
          ],
          "scattercarpet": [
           {
            "marker": {
             "colorbar": {
              "outlinewidth": 0,
              "ticks": ""
             }
            },
            "type": "scattercarpet"
           }
          ],
          "scattergeo": [
           {
            "marker": {
             "colorbar": {
              "outlinewidth": 0,
              "ticks": ""
             }
            },
            "type": "scattergeo"
           }
          ],
          "scattergl": [
           {
            "marker": {
             "colorbar": {
              "outlinewidth": 0,
              "ticks": ""
             }
            },
            "type": "scattergl"
           }
          ],
          "scattermapbox": [
           {
            "marker": {
             "colorbar": {
              "outlinewidth": 0,
              "ticks": ""
             }
            },
            "type": "scattermapbox"
           }
          ],
          "scatterpolar": [
           {
            "marker": {
             "colorbar": {
              "outlinewidth": 0,
              "ticks": ""
             }
            },
            "type": "scatterpolar"
           }
          ],
          "scatterpolargl": [
           {
            "marker": {
             "colorbar": {
              "outlinewidth": 0,
              "ticks": ""
             }
            },
            "type": "scatterpolargl"
           }
          ],
          "scatterternary": [
           {
            "marker": {
             "colorbar": {
              "outlinewidth": 0,
              "ticks": ""
             }
            },
            "type": "scatterternary"
           }
          ],
          "surface": [
           {
            "colorbar": {
             "outlinewidth": 0,
             "ticks": ""
            },
            "colorscale": [
             [
              0,
              "#0d0887"
             ],
             [
              0.1111111111111111,
              "#46039f"
             ],
             [
              0.2222222222222222,
              "#7201a8"
             ],
             [
              0.3333333333333333,
              "#9c179e"
             ],
             [
              0.4444444444444444,
              "#bd3786"
             ],
             [
              0.5555555555555556,
              "#d8576b"
             ],
             [
              0.6666666666666666,
              "#ed7953"
             ],
             [
              0.7777777777777778,
              "#fb9f3a"
             ],
             [
              0.8888888888888888,
              "#fdca26"
             ],
             [
              1,
              "#f0f921"
             ]
            ],
            "type": "surface"
           }
          ],
          "table": [
           {
            "cells": {
             "fill": {
              "color": "#EBF0F8"
             },
             "line": {
              "color": "white"
             }
            },
            "header": {
             "fill": {
              "color": "#C8D4E3"
             },
             "line": {
              "color": "white"
             }
            },
            "type": "table"
           }
          ]
         },
         "layout": {
          "annotationdefaults": {
           "arrowcolor": "#2a3f5f",
           "arrowhead": 0,
           "arrowwidth": 1
          },
          "autotypenumbers": "strict",
          "coloraxis": {
           "colorbar": {
            "outlinewidth": 0,
            "ticks": ""
           }
          },
          "colorscale": {
           "diverging": [
            [
             0,
             "#8e0152"
            ],
            [
             0.1,
             "#c51b7d"
            ],
            [
             0.2,
             "#de77ae"
            ],
            [
             0.3,
             "#f1b6da"
            ],
            [
             0.4,
             "#fde0ef"
            ],
            [
             0.5,
             "#f7f7f7"
            ],
            [
             0.6,
             "#e6f5d0"
            ],
            [
             0.7,
             "#b8e186"
            ],
            [
             0.8,
             "#7fbc41"
            ],
            [
             0.9,
             "#4d9221"
            ],
            [
             1,
             "#276419"
            ]
           ],
           "sequential": [
            [
             0,
             "#0d0887"
            ],
            [
             0.1111111111111111,
             "#46039f"
            ],
            [
             0.2222222222222222,
             "#7201a8"
            ],
            [
             0.3333333333333333,
             "#9c179e"
            ],
            [
             0.4444444444444444,
             "#bd3786"
            ],
            [
             0.5555555555555556,
             "#d8576b"
            ],
            [
             0.6666666666666666,
             "#ed7953"
            ],
            [
             0.7777777777777778,
             "#fb9f3a"
            ],
            [
             0.8888888888888888,
             "#fdca26"
            ],
            [
             1,
             "#f0f921"
            ]
           ],
           "sequentialminus": [
            [
             0,
             "#0d0887"
            ],
            [
             0.1111111111111111,
             "#46039f"
            ],
            [
             0.2222222222222222,
             "#7201a8"
            ],
            [
             0.3333333333333333,
             "#9c179e"
            ],
            [
             0.4444444444444444,
             "#bd3786"
            ],
            [
             0.5555555555555556,
             "#d8576b"
            ],
            [
             0.6666666666666666,
             "#ed7953"
            ],
            [
             0.7777777777777778,
             "#fb9f3a"
            ],
            [
             0.8888888888888888,
             "#fdca26"
            ],
            [
             1,
             "#f0f921"
            ]
           ]
          },
          "colorway": [
           "#636efa",
           "#EF553B",
           "#00cc96",
           "#ab63fa",
           "#FFA15A",
           "#19d3f3",
           "#FF6692",
           "#B6E880",
           "#FF97FF",
           "#FECB52"
          ],
          "font": {
           "color": "#2a3f5f"
          },
          "geo": {
           "bgcolor": "white",
           "lakecolor": "white",
           "landcolor": "#E5ECF6",
           "showlakes": true,
           "showland": true,
           "subunitcolor": "white"
          },
          "hoverlabel": {
           "align": "left"
          },
          "hovermode": "closest",
          "mapbox": {
           "style": "light"
          },
          "paper_bgcolor": "white",
          "plot_bgcolor": "#E5ECF6",
          "polar": {
           "angularaxis": {
            "gridcolor": "white",
            "linecolor": "white",
            "ticks": ""
           },
           "bgcolor": "#E5ECF6",
           "radialaxis": {
            "gridcolor": "white",
            "linecolor": "white",
            "ticks": ""
           }
          },
          "scene": {
           "xaxis": {
            "backgroundcolor": "#E5ECF6",
            "gridcolor": "white",
            "gridwidth": 2,
            "linecolor": "white",
            "showbackground": true,
            "ticks": "",
            "zerolinecolor": "white"
           },
           "yaxis": {
            "backgroundcolor": "#E5ECF6",
            "gridcolor": "white",
            "gridwidth": 2,
            "linecolor": "white",
            "showbackground": true,
            "ticks": "",
            "zerolinecolor": "white"
           },
           "zaxis": {
            "backgroundcolor": "#E5ECF6",
            "gridcolor": "white",
            "gridwidth": 2,
            "linecolor": "white",
            "showbackground": true,
            "ticks": "",
            "zerolinecolor": "white"
           }
          },
          "shapedefaults": {
           "line": {
            "color": "#2a3f5f"
           }
          },
          "ternary": {
           "aaxis": {
            "gridcolor": "white",
            "linecolor": "white",
            "ticks": ""
           },
           "baxis": {
            "gridcolor": "white",
            "linecolor": "white",
            "ticks": ""
           },
           "bgcolor": "#E5ECF6",
           "caxis": {
            "gridcolor": "white",
            "linecolor": "white",
            "ticks": ""
           }
          },
          "title": {
           "x": 0.05
          },
          "xaxis": {
           "automargin": true,
           "gridcolor": "white",
           "linecolor": "white",
           "ticks": "",
           "title": {
            "standoff": 15
           },
           "zerolinecolor": "white",
           "zerolinewidth": 2
          },
          "yaxis": {
           "automargin": true,
           "gridcolor": "white",
           "linecolor": "white",
           "ticks": "",
           "title": {
            "standoff": 15
           },
           "zerolinecolor": "white",
           "zerolinewidth": 2
          }
         }
        },
        "title": {
         "font": {
          "family": "Arial",
          "size": 18
         },
         "text": "<b>Who American People Spend Time with by Age Groups </b>",
         "x": 0.51
        },
        "updatemenus": [
         {
          "bgcolor": "#4C78A8",
          "buttons": [
           {
            "args": [
             {
              "name": "All Ages",
              "y": [
               [
                5.771613131313131,
                0.8756399982323232,
                1.9662161709595964,
                1.3642127356060607,
                3.0514257554439395,
                2.118851542045455
               ]
              ]
             },
             [
              0
             ]
            ],
            "label": "All Ages",
            "method": "restyle",
            "visible": true
           },
           {
            "args": [
             {
              "name": "40 - 45 y.o.",
              "y": [
               [
                5.03255725,
                0.6324470305555555,
                3.6571877500000003,
                0.9125634833333334,
                3.157383805555556,
                3.0296133055555554
               ]
              ]
             },
             [
              0
             ]
            ],
            "label": "40 - 45 y.o.",
            "method": "restyle",
            "visible": true
           },
           {
            "args": [
             {
              "name": "Above 45 y.o.",
              "y": [
               [
                6.95226130952381,
                0.6163198909523809,
                1.2889752066666667,
                1.015135931904762,
                3.7397237666666667,
                1.5365235394285712
               ]
              ]
             },
             [
              0
             ]
            ],
            "label": "Above 45 y.o.",
            "method": "restyle",
            "visible": true
           },
           {
            "args": [
             {
              "name": "15 - 20 y.o.",
              "y": [
               [
                3.922071611111111,
                2.030343333333333,
                0.5461840305555555,
                3.783439611111111,
                0.14596183210555555,
                1.1835145102777778
               ]
              ]
             },
             [
              0
             ]
            ],
            "label": "15 - 20 y.o.",
            "method": "restyle",
            "visible": true
           },
           {
            "args": [
             {
              "name": "20 - 40 y.o.",
              "y": [
               [
                4.414186719298246,
                1.0654895535087718,
                3.128205492982456,
                1.385908650877193,
                2.667562852631579,
                3.1993216315789477
               ]
              ]
             },
             [
              0
             ]
            ],
            "label": "20 - 40 y.o.",
            "method": "restyle",
            "visible": true
           }
          ],
          "direction": "down",
          "showactive": true,
          "x": 0.1,
          "xanchor": "center",
          "y": 1.16,
          "yanchor": "top"
         },
         {
          "bgcolor": "#F58518",
          "buttons": [
           {
            "args": [
             {
              "name": "All Ages",
              "y": [
               [
                5.771613131313131,
                0.8756399982323232,
                1.9662161709595964,
                1.3642127356060607,
                3.0514257554439395,
                2.118851542045455
               ]
              ]
             },
             [
              1
             ]
            ],
            "label": "All Ages",
            "method": "restyle",
            "visible": true
           },
           {
            "args": [
             {
              "name": "40 - 45 y.o.",
              "y": [
               [
                5.03255725,
                0.6324470305555555,
                3.6571877500000003,
                0.9125634833333334,
                3.157383805555556,
                3.0296133055555554
               ]
              ]
             },
             [
              1
             ]
            ],
            "label": "40 - 45 y.o.",
            "method": "restyle",
            "visible": true
           },
           {
            "args": [
             {
              "name": "Above 45 y.o.",
              "y": [
               [
                6.95226130952381,
                0.6163198909523809,
                1.2889752066666667,
                1.015135931904762,
                3.7397237666666667,
                1.5365235394285712
               ]
              ]
             },
             [
              1
             ]
            ],
            "label": "Above 45 y.o.",
            "method": "restyle",
            "visible": true
           },
           {
            "args": [
             {
              "name": "15 - 20 y.o.",
              "y": [
               [
                3.922071611111111,
                2.030343333333333,
                0.5461840305555555,
                3.783439611111111,
                0.14596183210555555,
                1.1835145102777778
               ]
              ]
             },
             [
              1
             ]
            ],
            "label": "15 - 20 y.o.",
            "method": "restyle",
            "visible": true
           },
           {
            "args": [
             {
              "name": "20 - 40 y.o.",
              "y": [
               [
                4.414186719298246,
                1.0654895535087718,
                3.128205492982456,
                1.385908650877193,
                2.667562852631579,
                3.1993216315789477
               ]
              ]
             },
             [
              1
             ]
            ],
            "label": "20 - 40 y.o.",
            "method": "restyle",
            "visible": true
           }
          ],
          "direction": "down",
          "showactive": true,
          "x": 0.1,
          "xanchor": "center",
          "y": 1.09,
          "yanchor": "top"
         }
        ],
        "width": 1000,
        "xaxis": {
         "anchor": "y",
         "domain": [
          0,
          1
         ],
         "tickfont": {
          "family": "Arial Black",
          "size": 13
         },
         "title": {
          "text": ""
         }
        },
        "yaxis": {
         "anchor": "x",
         "domain": [
          0,
          1
         ],
         "title": {
          "font": {
           "family": "Arial",
           "size": 15
          },
          "text": "<b>Average time spent with the people (hrs)</b>"
         }
        }
       }
      },
      "text/html": [
       "<div>                            <div id=\"cf9a64cc-ffe9-4ce2-b3a9-7bc69a7a4a89\" class=\"plotly-graph-div\" style=\"height:600px; width:1000px;\"></div>            <script type=\"text/javascript\">                require([\"plotly\"], function(Plotly) {                    window.PLOTLYENV=window.PLOTLYENV || {};                                    if (document.getElementById(\"cf9a64cc-ffe9-4ce2-b3a9-7bc69a7a4a89\")) {                    Plotly.newPlot(                        \"cf9a64cc-ffe9-4ce2-b3a9-7bc69a7a4a89\",                        [{\"alignmentgroup\":\"True\",\"hovertemplate\":\"\\u003cb\\u003e15 - 20 y.o.\\u003c\\u002fb\\u003e\\u003cbr\\u003e%{y:.2f} hrs\\u003cextra\\u003e\\u003c\\u002fextra\\u003e\",\"legendgroup\":\"15 - 20 y.o.\",\"marker\":{\"color\":\"#4C78A8\",\"pattern\":{\"shape\":\"\"}},\"name\":\"15 - 20 y.o.\",\"offsetgroup\":\"15 - 20 y.o.\",\"orientation\":\"v\",\"showlegend\":true,\"textposition\":\"auto\",\"x\":[\"Alone\",\"Friends\",\"Children\",\"Parents, siblings, families\",\"Partner\",\"Coworkers\"],\"xaxis\":\"x\",\"y\":[3.922071611111111,2.030343333333333,0.5461840305555555,3.783439611111111,0.14596183210555555,1.1835145102777778],\"yaxis\":\"y\",\"type\":\"bar\"},{\"alignmentgroup\":\"True\",\"hovertemplate\":\"\\u003cb\\u003e40 - 45 y.o.\\u003c\\u002fb\\u003e\\u003cbr\\u003e%{y:.2f} hrs\\u003cextra\\u003e\\u003c\\u002fextra\\u003e\",\"legendgroup\":\"40 - 45 y.o.\",\"marker\":{\"color\":\"#F58518\",\"pattern\":{\"shape\":\"\"}},\"name\":\"40 - 45 y.o.\",\"offsetgroup\":\"40 - 45 y.o.\",\"orientation\":\"v\",\"showlegend\":true,\"textposition\":\"auto\",\"x\":[\"Alone\",\"Friends\",\"Children\",\"Parents, siblings, families\",\"Partner\",\"Coworkers\"],\"xaxis\":\"x\",\"y\":[5.03255725,0.6324470305555555,3.6571877500000003,0.9125634833333334,3.157383805555556,3.0296133055555554],\"yaxis\":\"y\",\"type\":\"bar\"}],                        {\"template\":{\"data\":{\"histogram2dcontour\":[{\"type\":\"histogram2dcontour\",\"colorbar\":{\"outlinewidth\":0,\"ticks\":\"\"},\"colorscale\":[[0.0,\"#0d0887\"],[0.1111111111111111,\"#46039f\"],[0.2222222222222222,\"#7201a8\"],[0.3333333333333333,\"#9c179e\"],[0.4444444444444444,\"#bd3786\"],[0.5555555555555556,\"#d8576b\"],[0.6666666666666666,\"#ed7953\"],[0.7777777777777778,\"#fb9f3a\"],[0.8888888888888888,\"#fdca26\"],[1.0,\"#f0f921\"]]}],\"choropleth\":[{\"type\":\"choropleth\",\"colorbar\":{\"outlinewidth\":0,\"ticks\":\"\"}}],\"histogram2d\":[{\"type\":\"histogram2d\",\"colorbar\":{\"outlinewidth\":0,\"ticks\":\"\"},\"colorscale\":[[0.0,\"#0d0887\"],[0.1111111111111111,\"#46039f\"],[0.2222222222222222,\"#7201a8\"],[0.3333333333333333,\"#9c179e\"],[0.4444444444444444,\"#bd3786\"],[0.5555555555555556,\"#d8576b\"],[0.6666666666666666,\"#ed7953\"],[0.7777777777777778,\"#fb9f3a\"],[0.8888888888888888,\"#fdca26\"],[1.0,\"#f0f921\"]]}],\"heatmap\":[{\"type\":\"heatmap\",\"colorbar\":{\"outlinewidth\":0,\"ticks\":\"\"},\"colorscale\":[[0.0,\"#0d0887\"],[0.1111111111111111,\"#46039f\"],[0.2222222222222222,\"#7201a8\"],[0.3333333333333333,\"#9c179e\"],[0.4444444444444444,\"#bd3786\"],[0.5555555555555556,\"#d8576b\"],[0.6666666666666666,\"#ed7953\"],[0.7777777777777778,\"#fb9f3a\"],[0.8888888888888888,\"#fdca26\"],[1.0,\"#f0f921\"]]}],\"heatmapgl\":[{\"type\":\"heatmapgl\",\"colorbar\":{\"outlinewidth\":0,\"ticks\":\"\"},\"colorscale\":[[0.0,\"#0d0887\"],[0.1111111111111111,\"#46039f\"],[0.2222222222222222,\"#7201a8\"],[0.3333333333333333,\"#9c179e\"],[0.4444444444444444,\"#bd3786\"],[0.5555555555555556,\"#d8576b\"],[0.6666666666666666,\"#ed7953\"],[0.7777777777777778,\"#fb9f3a\"],[0.8888888888888888,\"#fdca26\"],[1.0,\"#f0f921\"]]}],\"contourcarpet\":[{\"type\":\"contourcarpet\",\"colorbar\":{\"outlinewidth\":0,\"ticks\":\"\"}}],\"contour\":[{\"type\":\"contour\",\"colorbar\":{\"outlinewidth\":0,\"ticks\":\"\"},\"colorscale\":[[0.0,\"#0d0887\"],[0.1111111111111111,\"#46039f\"],[0.2222222222222222,\"#7201a8\"],[0.3333333333333333,\"#9c179e\"],[0.4444444444444444,\"#bd3786\"],[0.5555555555555556,\"#d8576b\"],[0.6666666666666666,\"#ed7953\"],[0.7777777777777778,\"#fb9f3a\"],[0.8888888888888888,\"#fdca26\"],[1.0,\"#f0f921\"]]}],\"surface\":[{\"type\":\"surface\",\"colorbar\":{\"outlinewidth\":0,\"ticks\":\"\"},\"colorscale\":[[0.0,\"#0d0887\"],[0.1111111111111111,\"#46039f\"],[0.2222222222222222,\"#7201a8\"],[0.3333333333333333,\"#9c179e\"],[0.4444444444444444,\"#bd3786\"],[0.5555555555555556,\"#d8576b\"],[0.6666666666666666,\"#ed7953\"],[0.7777777777777778,\"#fb9f3a\"],[0.8888888888888888,\"#fdca26\"],[1.0,\"#f0f921\"]]}],\"mesh3d\":[{\"type\":\"mesh3d\",\"colorbar\":{\"outlinewidth\":0,\"ticks\":\"\"}}],\"scatter\":[{\"fillpattern\":{\"fillmode\":\"overlay\",\"size\":10,\"solidity\":0.2},\"type\":\"scatter\"}],\"parcoords\":[{\"type\":\"parcoords\",\"line\":{\"colorbar\":{\"outlinewidth\":0,\"ticks\":\"\"}}}],\"scatterpolargl\":[{\"type\":\"scatterpolargl\",\"marker\":{\"colorbar\":{\"outlinewidth\":0,\"ticks\":\"\"}}}],\"bar\":[{\"error_x\":{\"color\":\"#2a3f5f\"},\"error_y\":{\"color\":\"#2a3f5f\"},\"marker\":{\"line\":{\"color\":\"#E5ECF6\",\"width\":0.5},\"pattern\":{\"fillmode\":\"overlay\",\"size\":10,\"solidity\":0.2}},\"type\":\"bar\"}],\"scattergeo\":[{\"type\":\"scattergeo\",\"marker\":{\"colorbar\":{\"outlinewidth\":0,\"ticks\":\"\"}}}],\"scatterpolar\":[{\"type\":\"scatterpolar\",\"marker\":{\"colorbar\":{\"outlinewidth\":0,\"ticks\":\"\"}}}],\"histogram\":[{\"marker\":{\"pattern\":{\"fillmode\":\"overlay\",\"size\":10,\"solidity\":0.2}},\"type\":\"histogram\"}],\"scattergl\":[{\"type\":\"scattergl\",\"marker\":{\"colorbar\":{\"outlinewidth\":0,\"ticks\":\"\"}}}],\"scatter3d\":[{\"type\":\"scatter3d\",\"line\":{\"colorbar\":{\"outlinewidth\":0,\"ticks\":\"\"}},\"marker\":{\"colorbar\":{\"outlinewidth\":0,\"ticks\":\"\"}}}],\"scattermapbox\":[{\"type\":\"scattermapbox\",\"marker\":{\"colorbar\":{\"outlinewidth\":0,\"ticks\":\"\"}}}],\"scatterternary\":[{\"type\":\"scatterternary\",\"marker\":{\"colorbar\":{\"outlinewidth\":0,\"ticks\":\"\"}}}],\"scattercarpet\":[{\"type\":\"scattercarpet\",\"marker\":{\"colorbar\":{\"outlinewidth\":0,\"ticks\":\"\"}}}],\"carpet\":[{\"aaxis\":{\"endlinecolor\":\"#2a3f5f\",\"gridcolor\":\"white\",\"linecolor\":\"white\",\"minorgridcolor\":\"white\",\"startlinecolor\":\"#2a3f5f\"},\"baxis\":{\"endlinecolor\":\"#2a3f5f\",\"gridcolor\":\"white\",\"linecolor\":\"white\",\"minorgridcolor\":\"white\",\"startlinecolor\":\"#2a3f5f\"},\"type\":\"carpet\"}],\"table\":[{\"cells\":{\"fill\":{\"color\":\"#EBF0F8\"},\"line\":{\"color\":\"white\"}},\"header\":{\"fill\":{\"color\":\"#C8D4E3\"},\"line\":{\"color\":\"white\"}},\"type\":\"table\"}],\"barpolar\":[{\"marker\":{\"line\":{\"color\":\"#E5ECF6\",\"width\":0.5},\"pattern\":{\"fillmode\":\"overlay\",\"size\":10,\"solidity\":0.2}},\"type\":\"barpolar\"}],\"pie\":[{\"automargin\":true,\"type\":\"pie\"}]},\"layout\":{\"autotypenumbers\":\"strict\",\"colorway\":[\"#636efa\",\"#EF553B\",\"#00cc96\",\"#ab63fa\",\"#FFA15A\",\"#19d3f3\",\"#FF6692\",\"#B6E880\",\"#FF97FF\",\"#FECB52\"],\"font\":{\"color\":\"#2a3f5f\"},\"hovermode\":\"closest\",\"hoverlabel\":{\"align\":\"left\"},\"paper_bgcolor\":\"white\",\"plot_bgcolor\":\"#E5ECF6\",\"polar\":{\"bgcolor\":\"#E5ECF6\",\"angularaxis\":{\"gridcolor\":\"white\",\"linecolor\":\"white\",\"ticks\":\"\"},\"radialaxis\":{\"gridcolor\":\"white\",\"linecolor\":\"white\",\"ticks\":\"\"}},\"ternary\":{\"bgcolor\":\"#E5ECF6\",\"aaxis\":{\"gridcolor\":\"white\",\"linecolor\":\"white\",\"ticks\":\"\"},\"baxis\":{\"gridcolor\":\"white\",\"linecolor\":\"white\",\"ticks\":\"\"},\"caxis\":{\"gridcolor\":\"white\",\"linecolor\":\"white\",\"ticks\":\"\"}},\"coloraxis\":{\"colorbar\":{\"outlinewidth\":0,\"ticks\":\"\"}},\"colorscale\":{\"sequential\":[[0.0,\"#0d0887\"],[0.1111111111111111,\"#46039f\"],[0.2222222222222222,\"#7201a8\"],[0.3333333333333333,\"#9c179e\"],[0.4444444444444444,\"#bd3786\"],[0.5555555555555556,\"#d8576b\"],[0.6666666666666666,\"#ed7953\"],[0.7777777777777778,\"#fb9f3a\"],[0.8888888888888888,\"#fdca26\"],[1.0,\"#f0f921\"]],\"sequentialminus\":[[0.0,\"#0d0887\"],[0.1111111111111111,\"#46039f\"],[0.2222222222222222,\"#7201a8\"],[0.3333333333333333,\"#9c179e\"],[0.4444444444444444,\"#bd3786\"],[0.5555555555555556,\"#d8576b\"],[0.6666666666666666,\"#ed7953\"],[0.7777777777777778,\"#fb9f3a\"],[0.8888888888888888,\"#fdca26\"],[1.0,\"#f0f921\"]],\"diverging\":[[0,\"#8e0152\"],[0.1,\"#c51b7d\"],[0.2,\"#de77ae\"],[0.3,\"#f1b6da\"],[0.4,\"#fde0ef\"],[0.5,\"#f7f7f7\"],[0.6,\"#e6f5d0\"],[0.7,\"#b8e186\"],[0.8,\"#7fbc41\"],[0.9,\"#4d9221\"],[1,\"#276419\"]]},\"xaxis\":{\"gridcolor\":\"white\",\"linecolor\":\"white\",\"ticks\":\"\",\"title\":{\"standoff\":15},\"zerolinecolor\":\"white\",\"automargin\":true,\"zerolinewidth\":2},\"yaxis\":{\"gridcolor\":\"white\",\"linecolor\":\"white\",\"ticks\":\"\",\"title\":{\"standoff\":15},\"zerolinecolor\":\"white\",\"automargin\":true,\"zerolinewidth\":2},\"scene\":{\"xaxis\":{\"backgroundcolor\":\"#E5ECF6\",\"gridcolor\":\"white\",\"linecolor\":\"white\",\"showbackground\":true,\"ticks\":\"\",\"zerolinecolor\":\"white\",\"gridwidth\":2},\"yaxis\":{\"backgroundcolor\":\"#E5ECF6\",\"gridcolor\":\"white\",\"linecolor\":\"white\",\"showbackground\":true,\"ticks\":\"\",\"zerolinecolor\":\"white\",\"gridwidth\":2},\"zaxis\":{\"backgroundcolor\":\"#E5ECF6\",\"gridcolor\":\"white\",\"linecolor\":\"white\",\"showbackground\":true,\"ticks\":\"\",\"zerolinecolor\":\"white\",\"gridwidth\":2}},\"shapedefaults\":{\"line\":{\"color\":\"#2a3f5f\"}},\"annotationdefaults\":{\"arrowcolor\":\"#2a3f5f\",\"arrowhead\":0,\"arrowwidth\":1},\"geo\":{\"bgcolor\":\"white\",\"landcolor\":\"#E5ECF6\",\"subunitcolor\":\"white\",\"showland\":true,\"showlakes\":true,\"lakecolor\":\"white\"},\"title\":{\"x\":0.05},\"mapbox\":{\"style\":\"light\"}}},\"xaxis\":{\"anchor\":\"y\",\"domain\":[0.0,1.0],\"title\":{\"text\":\"\"},\"tickfont\":{\"size\":13,\"family\":\"Arial Black\"}},\"yaxis\":{\"anchor\":\"x\",\"domain\":[0.0,1.0],\"title\":{\"text\":\"\\u003cb\\u003eAverage time spent with the people (hrs)\\u003c\\u002fb\\u003e\",\"font\":{\"size\":15,\"family\":\"Arial\"}}},\"legend\":{\"title\":{\"text\":\"variable\"},\"tracegroupgap\":0},\"margin\":{\"t\":60},\"barmode\":\"group\",\"title\":{\"font\":{\"size\":18,\"family\":\"Arial\"},\"text\":\"\\u003cb\\u003eWho American People Spend Time with by Age Groups \\u003c\\u002fb\\u003e\",\"x\":0.51},\"hovermode\":\"x unified\",\"showlegend\":false,\"width\":1000,\"height\":600,\"updatemenus\":[{\"bgcolor\":\"#4C78A8\",\"buttons\":[{\"args\":[{\"y\":[[5.771613131313131,0.8756399982323232,1.9662161709595964,1.3642127356060607,3.0514257554439395,2.118851542045455]],\"name\":\"All Ages\"},[0]],\"label\":\"All Ages\",\"method\":\"restyle\",\"visible\":true},{\"args\":[{\"y\":[[5.03255725,0.6324470305555555,3.6571877500000003,0.9125634833333334,3.157383805555556,3.0296133055555554]],\"name\":\"40 - 45 y.o.\"},[0]],\"label\":\"40 - 45 y.o.\",\"method\":\"restyle\",\"visible\":true},{\"args\":[{\"y\":[[6.95226130952381,0.6163198909523809,1.2889752066666667,1.015135931904762,3.7397237666666667,1.5365235394285712]],\"name\":\"Above 45 y.o.\"},[0]],\"label\":\"Above 45 y.o.\",\"method\":\"restyle\",\"visible\":true},{\"args\":[{\"y\":[[3.922071611111111,2.030343333333333,0.5461840305555555,3.783439611111111,0.14596183210555555,1.1835145102777778]],\"name\":\"15 - 20 y.o.\"},[0]],\"label\":\"15 - 20 y.o.\",\"method\":\"restyle\",\"visible\":true},{\"args\":[{\"y\":[[4.414186719298246,1.0654895535087718,3.128205492982456,1.385908650877193,2.667562852631579,3.1993216315789477]],\"name\":\"20 - 40 y.o.\"},[0]],\"label\":\"20 - 40 y.o.\",\"method\":\"restyle\",\"visible\":true}],\"direction\":\"down\",\"showactive\":true,\"x\":0.1,\"xanchor\":\"center\",\"y\":1.16,\"yanchor\":\"top\"},{\"bgcolor\":\"#F58518\",\"buttons\":[{\"args\":[{\"y\":[[5.771613131313131,0.8756399982323232,1.9662161709595964,1.3642127356060607,3.0514257554439395,2.118851542045455]],\"name\":\"All Ages\"},[1]],\"label\":\"All Ages\",\"method\":\"restyle\",\"visible\":true},{\"args\":[{\"y\":[[5.03255725,0.6324470305555555,3.6571877500000003,0.9125634833333334,3.157383805555556,3.0296133055555554]],\"name\":\"40 - 45 y.o.\"},[1]],\"label\":\"40 - 45 y.o.\",\"method\":\"restyle\",\"visible\":true},{\"args\":[{\"y\":[[6.95226130952381,0.6163198909523809,1.2889752066666667,1.015135931904762,3.7397237666666667,1.5365235394285712]],\"name\":\"Above 45 y.o.\"},[1]],\"label\":\"Above 45 y.o.\",\"method\":\"restyle\",\"visible\":true},{\"args\":[{\"y\":[[3.922071611111111,2.030343333333333,0.5461840305555555,3.783439611111111,0.14596183210555555,1.1835145102777778]],\"name\":\"15 - 20 y.o.\"},[1]],\"label\":\"15 - 20 y.o.\",\"method\":\"restyle\",\"visible\":true},{\"args\":[{\"y\":[[4.414186719298246,1.0654895535087718,3.128205492982456,1.385908650877193,2.667562852631579,3.1993216315789477]],\"name\":\"20 - 40 y.o.\"},[1]],\"label\":\"20 - 40 y.o.\",\"method\":\"restyle\",\"visible\":true}],\"direction\":\"down\",\"showactive\":true,\"x\":0.1,\"xanchor\":\"center\",\"y\":1.09,\"yanchor\":\"top\"}]},                        {\"responsive\": true}                    ).then(function(){\n",
       "                            \n",
       "var gd = document.getElementById('cf9a64cc-ffe9-4ce2-b3a9-7bc69a7a4a89');\n",
       "var x = new MutationObserver(function (mutations, observer) {{\n",
       "        var display = window.getComputedStyle(gd).display;\n",
       "        if (!display || display === 'none') {{\n",
       "            console.log([gd, 'removed!']);\n",
       "            Plotly.purge(gd);\n",
       "            observer.disconnect();\n",
       "        }}\n",
       "}});\n",
       "\n",
       "// Listen for the removal of the full notebook cells\n",
       "var notebookContainer = gd.closest('#notebook-container');\n",
       "if (notebookContainer) {{\n",
       "    x.observe(notebookContainer, {childList: true});\n",
       "}}\n",
       "\n",
       "// Listen for the clearing of the current output cell\n",
       "var outputEl = gd.closest('.output');\n",
       "if (outputEl) {{\n",
       "    x.observe(outputEl, {childList: true});\n",
       "}}\n",
       "\n",
       "                        })                };                });            </script>        </div>"
      ]
     },
     "metadata": {},
     "output_type": "display_data"
    }
   ],
   "source": [
    "# Get avg Time spent vs People Type for ALL AGES\n",
    "df1_allages = df1_original.loc[:, the_pplgrp_col]\n",
    "df1_allages_avg = df1_allages.mean().reset_index()\n",
    "df1_allages_avg.columns = ['People Type','All Ages']\n",
    "# print(df1_allages_avg)\n",
    "\n",
    "# Get avg Time spent vs People Type for Age Groups\n",
    "df1_agegrp = df1_original.loc[:, the_pplgrp_col+['Age Group']]\n",
    "df1_agegrp_avg = df1_agegrp.groupby('Age Group').mean().T.reset_index(names=['People Type'])\n",
    "df1_agegrp_avg.columns.name = ''\n",
    "# print(df1_agegrp_avg)\n",
    "\n",
    "# merge avg Time with Age Groups with All Ages\n",
    "df1_age_all = df1_allages_avg.merge(df1_agegrp_avg, on='People Type')\n",
    "# print(df1_age_all)\n",
    "\n",
    "fig = px.bar(df1_age_all, x='People Type', y=['15 - 20 y.o.','40 - 45 y.o.'],\n",
    "            color_discrete_sequence=px.colors.qualitative.T10)\n",
    "fig.update_layout(\n",
    "    hovermode = 'x unified',\n",
    "    showlegend=False,\n",
    "    barmode = 'group',\n",
    "    width = 1000,\n",
    "    height=600,\n",
    "    xaxis_title={'text': ''},\n",
    "    yaxis_title={\n",
    "        'text': '<b>Average time spent with the people (hrs)</b>',\n",
    "        'font': {'size': 15, 'family': 'Arial'}\n",
    "    },\n",
    "    title={'text':'<b>Who American People Spend Time with by Age Groups </b>',\n",
    "                'font':{'size': 18, 'family': 'Arial'}\n",
    "    },\n",
    "    xaxis={'tickfont':{'size': 13, 'family': 'Arial Black'}},  # to bold yaxis label, use 'font name'+ Black as family in tickfont dict\n",
    "    title_x=0.51\n",
    ")\n",
    "\n",
    "\n",
    "# add dropdown buttons to select Which Age Group to plot 2 bar grouped charts\n",
    "button1 = []\n",
    "button2 = []\n",
    "age_grps = list(set(df1_age_all.columns) - set(['People Type']))\n",
    "for gg in age_grps:\n",
    "    button1.append(dict(method='restyle',\n",
    "                        label= gg,\n",
    "                        visible=True,\n",
    "                        args=[{'y':[df1_age_all[gg]],'name':gg}, [0]], # the [0] at the end lets us know they are for the first trace\n",
    "                        )\n",
    "                  )\n",
    "    button2.append(dict(method='restyle',\n",
    "                        label= gg,\n",
    "                        visible=True,\n",
    "                        args=[{'y':[df1_age_all[gg]],'name':gg}, [1]], # the [0] at the end lets us know they are for the first trace\n",
    "                        )\n",
    "                  )\n",
    "\n",
    "# customize hover data display\n",
    "# NOTE: there is no way to customize the text display using x-unified setting; changing x-axis text does NOT change the hover display\n",
    "# it seems that the hover display uses x-axis text not x-axis value?\n",
    "figdata = fig.data\n",
    "bar_color = []\n",
    "for ii in range(len(figdata)):\n",
    "    bb = figdata[ii]\n",
    "    bar_color.append(bb.marker['color'])\n",
    "    tmp = '<b>{}</b><br>{}{{y:.2f}} hrs<extra></extra>'.format(bb.legendgroup,'%')\n",
    "    bb.hovertemplate = tmp\n",
    "\n",
    "\n",
    "# set dropdown buttons placement and etc\n",
    "button_height = 0.7\n",
    "updatemenus = list([\n",
    "    dict(buttons=button1,\n",
    "         direction=\"down\",\n",
    "         showactive=True,\n",
    "         x=0.1,\n",
    "         y=1.16,\n",
    "         xanchor=\"center\",\n",
    "         yanchor=\"top\",\n",
    "         bgcolor=bar_color[0]),\n",
    "    dict(buttons=button2,\n",
    "         direction=\"down\",\n",
    "         showactive=True,\n",
    "         x=0.1,\n",
    "         y=1.09,\n",
    "         xanchor=\"center\",\n",
    "         yanchor=\"top\",\n",
    "         bgcolor=bar_color[1])])\n",
    "\n",
    "fig.update_layout(updatemenus=updatemenus)\n",
    "fig.show()\n",
    "\n",
    "# NOTE: Dash can be good to make similar visualization with dropdown menu and create a dashboard"
   ]
  },
  {
   "cell_type": "code",
   "execution_count": null,
   "id": "06df044f-7e12-4703-b132-81b8f0c4b8f0",
   "metadata": {
    "colab": {
     "base_uri": "https://localhost:8080/",
     "height": 617
    },
    "id": "06df044f-7e12-4703-b132-81b8f0c4b8f0",
    "outputId": "e0c1badf-c9c3-4b42-e477-b957cf72b295"
   },
   "outputs": [
    {
     "data": {
      "application/vnd.plotly.v1+json": {
       "config": {
        "plotlyServerURL": "https://plot.ly"
       },
       "data": [
        {
         "alignmentgroup": "True",
         "customdata": [
          [
           "Alone"
          ],
          [
           "Alone"
          ],
          [
           "Alone"
          ],
          [
           "Alone"
          ]
         ],
         "hovertemplate": "<i>With <b>%{customdata[0]}</b></i><br><b>%{x:.2f} hrs</b><br><extra></extra>",
         "legendgroup": "Alone",
         "marker": {
          "color": "#4C78A8",
          "pattern": {
           "shape": ""
          }
         },
         "name": "Alone",
         "offsetgroup": "Alone",
         "orientation": "h",
         "showlegend": true,
         "textposition": "auto",
         "type": "bar",
         "x": [
          3.922071611111111,
          4.414186719298246,
          5.03255725,
          6.95226130952381
         ],
         "xaxis": "x",
         "y": [
          "15 - 20 y.o.",
          "20 - 40 y.o.",
          "40 - 45 y.o.",
          "Above 45 y.o."
         ],
         "yaxis": "y"
        },
        {
         "alignmentgroup": "True",
         "customdata": [
          [
           "Children"
          ],
          [
           "Children"
          ],
          [
           "Children"
          ],
          [
           "Children"
          ]
         ],
         "hovertemplate": "<i>With <b>%{customdata[0]}</b></i><br><b>%{x:.2f} hrs</b><br><extra></extra>",
         "legendgroup": "Children",
         "marker": {
          "color": "#F58518",
          "pattern": {
           "shape": ""
          }
         },
         "name": "Children",
         "offsetgroup": "Children",
         "orientation": "h",
         "showlegend": true,
         "textposition": "auto",
         "type": "bar",
         "x": [
          0.5461840305555555,
          3.128205492982456,
          3.6571877500000003,
          1.2889752066666667
         ],
         "xaxis": "x",
         "y": [
          "15 - 20 y.o.",
          "20 - 40 y.o.",
          "40 - 45 y.o.",
          "Above 45 y.o."
         ],
         "yaxis": "y"
        },
        {
         "alignmentgroup": "True",
         "customdata": [
          [
           "Coworkers"
          ],
          [
           "Coworkers"
          ],
          [
           "Coworkers"
          ],
          [
           "Coworkers"
          ]
         ],
         "hovertemplate": "<i>With <b>%{customdata[0]}</b></i><br><b>%{x:.2f} hrs</b><br><extra></extra>",
         "legendgroup": "Coworkers",
         "marker": {
          "color": "#E45756",
          "pattern": {
           "shape": ""
          }
         },
         "name": "Coworkers",
         "offsetgroup": "Coworkers",
         "orientation": "h",
         "showlegend": true,
         "textposition": "auto",
         "type": "bar",
         "x": [
          1.1835145102777778,
          3.1993216315789477,
          3.0296133055555554,
          1.5365235394285712
         ],
         "xaxis": "x",
         "y": [
          "15 - 20 y.o.",
          "20 - 40 y.o.",
          "40 - 45 y.o.",
          "Above 45 y.o."
         ],
         "yaxis": "y"
        },
        {
         "alignmentgroup": "True",
         "customdata": [
          [
           "Friends"
          ],
          [
           "Friends"
          ],
          [
           "Friends"
          ],
          [
           "Friends"
          ]
         ],
         "hovertemplate": "<i>With <b>%{customdata[0]}</b></i><br><b>%{x:.2f} hrs</b><br><extra></extra>",
         "legendgroup": "Friends",
         "marker": {
          "color": "#72B7B2",
          "pattern": {
           "shape": ""
          }
         },
         "name": "Friends",
         "offsetgroup": "Friends",
         "orientation": "h",
         "showlegend": true,
         "textposition": "auto",
         "type": "bar",
         "x": [
          2.030343333333333,
          1.0654895535087718,
          0.6324470305555555,
          0.6163198909523809
         ],
         "xaxis": "x",
         "y": [
          "15 - 20 y.o.",
          "20 - 40 y.o.",
          "40 - 45 y.o.",
          "Above 45 y.o."
         ],
         "yaxis": "y"
        },
        {
         "alignmentgroup": "True",
         "customdata": [
          [
           "Parents, siblings, families"
          ],
          [
           "Parents, siblings, families"
          ],
          [
           "Parents, siblings, families"
          ],
          [
           "Parents, siblings, families"
          ]
         ],
         "hovertemplate": "<i>With <b>%{customdata[0]}</b></i><br><b>%{x:.2f} hrs</b><br><extra></extra>",
         "legendgroup": "Parents, siblings, families",
         "marker": {
          "color": "#54A24B",
          "pattern": {
           "shape": ""
          }
         },
         "name": "Parents, siblings, families",
         "offsetgroup": "Parents, siblings, families",
         "orientation": "h",
         "showlegend": true,
         "textposition": "auto",
         "type": "bar",
         "x": [
          3.783439611111111,
          1.385908650877193,
          0.9125634833333334,
          1.015135931904762
         ],
         "xaxis": "x",
         "y": [
          "15 - 20 y.o.",
          "20 - 40 y.o.",
          "40 - 45 y.o.",
          "Above 45 y.o."
         ],
         "yaxis": "y"
        },
        {
         "alignmentgroup": "True",
         "customdata": [
          [
           "Partner"
          ],
          [
           "Partner"
          ],
          [
           "Partner"
          ],
          [
           "Partner"
          ]
         ],
         "hovertemplate": "<i>With <b>%{customdata[0]}</b></i><br><b>%{x:.2f} hrs</b><br><extra></extra>",
         "legendgroup": "Partner",
         "marker": {
          "color": "#EECA3B",
          "pattern": {
           "shape": ""
          }
         },
         "name": "Partner",
         "offsetgroup": "Partner",
         "orientation": "h",
         "showlegend": true,
         "textposition": "auto",
         "type": "bar",
         "x": [
          0.14596183210555555,
          2.667562852631579,
          3.157383805555556,
          3.7397237666666667
         ],
         "xaxis": "x",
         "y": [
          "15 - 20 y.o.",
          "20 - 40 y.o.",
          "40 - 45 y.o.",
          "Above 45 y.o."
         ],
         "yaxis": "y"
        }
       ],
       "layout": {
        "barmode": "relative",
        "height": 600,
        "legend": {
         "title": {
          "text": "People Type"
         },
         "tracegroupgap": 0
        },
        "margin": {
         "t": 60
        },
        "template": {
         "data": {
          "bar": [
           {
            "error_x": {
             "color": "#2a3f5f"
            },
            "error_y": {
             "color": "#2a3f5f"
            },
            "marker": {
             "line": {
              "color": "#E5ECF6",
              "width": 0.5
             },
             "pattern": {
              "fillmode": "overlay",
              "size": 10,
              "solidity": 0.2
             }
            },
            "type": "bar"
           }
          ],
          "barpolar": [
           {
            "marker": {
             "line": {
              "color": "#E5ECF6",
              "width": 0.5
             },
             "pattern": {
              "fillmode": "overlay",
              "size": 10,
              "solidity": 0.2
             }
            },
            "type": "barpolar"
           }
          ],
          "carpet": [
           {
            "aaxis": {
             "endlinecolor": "#2a3f5f",
             "gridcolor": "white",
             "linecolor": "white",
             "minorgridcolor": "white",
             "startlinecolor": "#2a3f5f"
            },
            "baxis": {
             "endlinecolor": "#2a3f5f",
             "gridcolor": "white",
             "linecolor": "white",
             "minorgridcolor": "white",
             "startlinecolor": "#2a3f5f"
            },
            "type": "carpet"
           }
          ],
          "choropleth": [
           {
            "colorbar": {
             "outlinewidth": 0,
             "ticks": ""
            },
            "type": "choropleth"
           }
          ],
          "contour": [
           {
            "colorbar": {
             "outlinewidth": 0,
             "ticks": ""
            },
            "colorscale": [
             [
              0,
              "#0d0887"
             ],
             [
              0.1111111111111111,
              "#46039f"
             ],
             [
              0.2222222222222222,
              "#7201a8"
             ],
             [
              0.3333333333333333,
              "#9c179e"
             ],
             [
              0.4444444444444444,
              "#bd3786"
             ],
             [
              0.5555555555555556,
              "#d8576b"
             ],
             [
              0.6666666666666666,
              "#ed7953"
             ],
             [
              0.7777777777777778,
              "#fb9f3a"
             ],
             [
              0.8888888888888888,
              "#fdca26"
             ],
             [
              1,
              "#f0f921"
             ]
            ],
            "type": "contour"
           }
          ],
          "contourcarpet": [
           {
            "colorbar": {
             "outlinewidth": 0,
             "ticks": ""
            },
            "type": "contourcarpet"
           }
          ],
          "heatmap": [
           {
            "colorbar": {
             "outlinewidth": 0,
             "ticks": ""
            },
            "colorscale": [
             [
              0,
              "#0d0887"
             ],
             [
              0.1111111111111111,
              "#46039f"
             ],
             [
              0.2222222222222222,
              "#7201a8"
             ],
             [
              0.3333333333333333,
              "#9c179e"
             ],
             [
              0.4444444444444444,
              "#bd3786"
             ],
             [
              0.5555555555555556,
              "#d8576b"
             ],
             [
              0.6666666666666666,
              "#ed7953"
             ],
             [
              0.7777777777777778,
              "#fb9f3a"
             ],
             [
              0.8888888888888888,
              "#fdca26"
             ],
             [
              1,
              "#f0f921"
             ]
            ],
            "type": "heatmap"
           }
          ],
          "heatmapgl": [
           {
            "colorbar": {
             "outlinewidth": 0,
             "ticks": ""
            },
            "colorscale": [
             [
              0,
              "#0d0887"
             ],
             [
              0.1111111111111111,
              "#46039f"
             ],
             [
              0.2222222222222222,
              "#7201a8"
             ],
             [
              0.3333333333333333,
              "#9c179e"
             ],
             [
              0.4444444444444444,
              "#bd3786"
             ],
             [
              0.5555555555555556,
              "#d8576b"
             ],
             [
              0.6666666666666666,
              "#ed7953"
             ],
             [
              0.7777777777777778,
              "#fb9f3a"
             ],
             [
              0.8888888888888888,
              "#fdca26"
             ],
             [
              1,
              "#f0f921"
             ]
            ],
            "type": "heatmapgl"
           }
          ],
          "histogram": [
           {
            "marker": {
             "pattern": {
              "fillmode": "overlay",
              "size": 10,
              "solidity": 0.2
             }
            },
            "type": "histogram"
           }
          ],
          "histogram2d": [
           {
            "colorbar": {
             "outlinewidth": 0,
             "ticks": ""
            },
            "colorscale": [
             [
              0,
              "#0d0887"
             ],
             [
              0.1111111111111111,
              "#46039f"
             ],
             [
              0.2222222222222222,
              "#7201a8"
             ],
             [
              0.3333333333333333,
              "#9c179e"
             ],
             [
              0.4444444444444444,
              "#bd3786"
             ],
             [
              0.5555555555555556,
              "#d8576b"
             ],
             [
              0.6666666666666666,
              "#ed7953"
             ],
             [
              0.7777777777777778,
              "#fb9f3a"
             ],
             [
              0.8888888888888888,
              "#fdca26"
             ],
             [
              1,
              "#f0f921"
             ]
            ],
            "type": "histogram2d"
           }
          ],
          "histogram2dcontour": [
           {
            "colorbar": {
             "outlinewidth": 0,
             "ticks": ""
            },
            "colorscale": [
             [
              0,
              "#0d0887"
             ],
             [
              0.1111111111111111,
              "#46039f"
             ],
             [
              0.2222222222222222,
              "#7201a8"
             ],
             [
              0.3333333333333333,
              "#9c179e"
             ],
             [
              0.4444444444444444,
              "#bd3786"
             ],
             [
              0.5555555555555556,
              "#d8576b"
             ],
             [
              0.6666666666666666,
              "#ed7953"
             ],
             [
              0.7777777777777778,
              "#fb9f3a"
             ],
             [
              0.8888888888888888,
              "#fdca26"
             ],
             [
              1,
              "#f0f921"
             ]
            ],
            "type": "histogram2dcontour"
           }
          ],
          "mesh3d": [
           {
            "colorbar": {
             "outlinewidth": 0,
             "ticks": ""
            },
            "type": "mesh3d"
           }
          ],
          "parcoords": [
           {
            "line": {
             "colorbar": {
              "outlinewidth": 0,
              "ticks": ""
             }
            },
            "type": "parcoords"
           }
          ],
          "pie": [
           {
            "automargin": true,
            "type": "pie"
           }
          ],
          "scatter": [
           {
            "fillpattern": {
             "fillmode": "overlay",
             "size": 10,
             "solidity": 0.2
            },
            "type": "scatter"
           }
          ],
          "scatter3d": [
           {
            "line": {
             "colorbar": {
              "outlinewidth": 0,
              "ticks": ""
             }
            },
            "marker": {
             "colorbar": {
              "outlinewidth": 0,
              "ticks": ""
             }
            },
            "type": "scatter3d"
           }
          ],
          "scattercarpet": [
           {
            "marker": {
             "colorbar": {
              "outlinewidth": 0,
              "ticks": ""
             }
            },
            "type": "scattercarpet"
           }
          ],
          "scattergeo": [
           {
            "marker": {
             "colorbar": {
              "outlinewidth": 0,
              "ticks": ""
             }
            },
            "type": "scattergeo"
           }
          ],
          "scattergl": [
           {
            "marker": {
             "colorbar": {
              "outlinewidth": 0,
              "ticks": ""
             }
            },
            "type": "scattergl"
           }
          ],
          "scattermapbox": [
           {
            "marker": {
             "colorbar": {
              "outlinewidth": 0,
              "ticks": ""
             }
            },
            "type": "scattermapbox"
           }
          ],
          "scatterpolar": [
           {
            "marker": {
             "colorbar": {
              "outlinewidth": 0,
              "ticks": ""
             }
            },
            "type": "scatterpolar"
           }
          ],
          "scatterpolargl": [
           {
            "marker": {
             "colorbar": {
              "outlinewidth": 0,
              "ticks": ""
             }
            },
            "type": "scatterpolargl"
           }
          ],
          "scatterternary": [
           {
            "marker": {
             "colorbar": {
              "outlinewidth": 0,
              "ticks": ""
             }
            },
            "type": "scatterternary"
           }
          ],
          "surface": [
           {
            "colorbar": {
             "outlinewidth": 0,
             "ticks": ""
            },
            "colorscale": [
             [
              0,
              "#0d0887"
             ],
             [
              0.1111111111111111,
              "#46039f"
             ],
             [
              0.2222222222222222,
              "#7201a8"
             ],
             [
              0.3333333333333333,
              "#9c179e"
             ],
             [
              0.4444444444444444,
              "#bd3786"
             ],
             [
              0.5555555555555556,
              "#d8576b"
             ],
             [
              0.6666666666666666,
              "#ed7953"
             ],
             [
              0.7777777777777778,
              "#fb9f3a"
             ],
             [
              0.8888888888888888,
              "#fdca26"
             ],
             [
              1,
              "#f0f921"
             ]
            ],
            "type": "surface"
           }
          ],
          "table": [
           {
            "cells": {
             "fill": {
              "color": "#EBF0F8"
             },
             "line": {
              "color": "white"
             }
            },
            "header": {
             "fill": {
              "color": "#C8D4E3"
             },
             "line": {
              "color": "white"
             }
            },
            "type": "table"
           }
          ]
         },
         "layout": {
          "annotationdefaults": {
           "arrowcolor": "#2a3f5f",
           "arrowhead": 0,
           "arrowwidth": 1
          },
          "autotypenumbers": "strict",
          "coloraxis": {
           "colorbar": {
            "outlinewidth": 0,
            "ticks": ""
           }
          },
          "colorscale": {
           "diverging": [
            [
             0,
             "#8e0152"
            ],
            [
             0.1,
             "#c51b7d"
            ],
            [
             0.2,
             "#de77ae"
            ],
            [
             0.3,
             "#f1b6da"
            ],
            [
             0.4,
             "#fde0ef"
            ],
            [
             0.5,
             "#f7f7f7"
            ],
            [
             0.6,
             "#e6f5d0"
            ],
            [
             0.7,
             "#b8e186"
            ],
            [
             0.8,
             "#7fbc41"
            ],
            [
             0.9,
             "#4d9221"
            ],
            [
             1,
             "#276419"
            ]
           ],
           "sequential": [
            [
             0,
             "#0d0887"
            ],
            [
             0.1111111111111111,
             "#46039f"
            ],
            [
             0.2222222222222222,
             "#7201a8"
            ],
            [
             0.3333333333333333,
             "#9c179e"
            ],
            [
             0.4444444444444444,
             "#bd3786"
            ],
            [
             0.5555555555555556,
             "#d8576b"
            ],
            [
             0.6666666666666666,
             "#ed7953"
            ],
            [
             0.7777777777777778,
             "#fb9f3a"
            ],
            [
             0.8888888888888888,
             "#fdca26"
            ],
            [
             1,
             "#f0f921"
            ]
           ],
           "sequentialminus": [
            [
             0,
             "#0d0887"
            ],
            [
             0.1111111111111111,
             "#46039f"
            ],
            [
             0.2222222222222222,
             "#7201a8"
            ],
            [
             0.3333333333333333,
             "#9c179e"
            ],
            [
             0.4444444444444444,
             "#bd3786"
            ],
            [
             0.5555555555555556,
             "#d8576b"
            ],
            [
             0.6666666666666666,
             "#ed7953"
            ],
            [
             0.7777777777777778,
             "#fb9f3a"
            ],
            [
             0.8888888888888888,
             "#fdca26"
            ],
            [
             1,
             "#f0f921"
            ]
           ]
          },
          "colorway": [
           "#636efa",
           "#EF553B",
           "#00cc96",
           "#ab63fa",
           "#FFA15A",
           "#19d3f3",
           "#FF6692",
           "#B6E880",
           "#FF97FF",
           "#FECB52"
          ],
          "font": {
           "color": "#2a3f5f"
          },
          "geo": {
           "bgcolor": "white",
           "lakecolor": "white",
           "landcolor": "#E5ECF6",
           "showlakes": true,
           "showland": true,
           "subunitcolor": "white"
          },
          "hoverlabel": {
           "align": "left"
          },
          "hovermode": "closest",
          "mapbox": {
           "style": "light"
          },
          "paper_bgcolor": "white",
          "plot_bgcolor": "#E5ECF6",
          "polar": {
           "angularaxis": {
            "gridcolor": "white",
            "linecolor": "white",
            "ticks": ""
           },
           "bgcolor": "#E5ECF6",
           "radialaxis": {
            "gridcolor": "white",
            "linecolor": "white",
            "ticks": ""
           }
          },
          "scene": {
           "xaxis": {
            "backgroundcolor": "#E5ECF6",
            "gridcolor": "white",
            "gridwidth": 2,
            "linecolor": "white",
            "showbackground": true,
            "ticks": "",
            "zerolinecolor": "white"
           },
           "yaxis": {
            "backgroundcolor": "#E5ECF6",
            "gridcolor": "white",
            "gridwidth": 2,
            "linecolor": "white",
            "showbackground": true,
            "ticks": "",
            "zerolinecolor": "white"
           },
           "zaxis": {
            "backgroundcolor": "#E5ECF6",
            "gridcolor": "white",
            "gridwidth": 2,
            "linecolor": "white",
            "showbackground": true,
            "ticks": "",
            "zerolinecolor": "white"
           }
          },
          "shapedefaults": {
           "line": {
            "color": "#2a3f5f"
           }
          },
          "ternary": {
           "aaxis": {
            "gridcolor": "white",
            "linecolor": "white",
            "ticks": ""
           },
           "baxis": {
            "gridcolor": "white",
            "linecolor": "white",
            "ticks": ""
           },
           "bgcolor": "#E5ECF6",
           "caxis": {
            "gridcolor": "white",
            "linecolor": "white",
            "ticks": ""
           }
          },
          "title": {
           "x": 0.05
          },
          "xaxis": {
           "automargin": true,
           "gridcolor": "white",
           "linecolor": "white",
           "ticks": "",
           "title": {
            "standoff": 15
           },
           "zerolinecolor": "white",
           "zerolinewidth": 2
          },
          "yaxis": {
           "automargin": true,
           "gridcolor": "white",
           "linecolor": "white",
           "ticks": "",
           "title": {
            "standoff": 15
           },
           "zerolinecolor": "white",
           "zerolinewidth": 2
          }
         }
        },
        "title": {
         "font": {
          "family": "Arial",
          "size": 15
         },
         "text": "<b>Who American People Spend Time with by Age Groups </b>",
         "x": 0.45
        },
        "width": 1100,
        "xaxis": {
         "anchor": "y",
         "domain": [
          0,
          1
         ],
         "title": {
          "font": {
           "family": "Arial",
           "size": 15
          },
          "text": "<b>Average time spent with the people (hrs)</b>"
         }
        },
        "yaxis": {
         "anchor": "x",
         "domain": [
          0,
          1
         ],
         "tickfont": {
          "family": "Arial Black",
          "size": 13
         },
         "title": {
          "text": ""
         }
        }
       }
      },
      "text/html": [
       "<div>                            <div id=\"07872526-7d91-4135-9b08-ff66e4728159\" class=\"plotly-graph-div\" style=\"height:600px; width:1100px;\"></div>            <script type=\"text/javascript\">                require([\"plotly\"], function(Plotly) {                    window.PLOTLYENV=window.PLOTLYENV || {};                                    if (document.getElementById(\"07872526-7d91-4135-9b08-ff66e4728159\")) {                    Plotly.newPlot(                        \"07872526-7d91-4135-9b08-ff66e4728159\",                        [{\"alignmentgroup\":\"True\",\"customdata\":[[\"Alone\"],[\"Alone\"],[\"Alone\"],[\"Alone\"]],\"hovertemplate\":\"\\u003ci\\u003eWith \\u003cb\\u003e%{customdata[0]}\\u003c\\u002fb\\u003e\\u003c\\u002fi\\u003e\\u003cbr\\u003e\\u003cb\\u003e%{x:.2f} hrs\\u003c\\u002fb\\u003e\\u003cbr\\u003e\\u003cextra\\u003e\\u003c\\u002fextra\\u003e\",\"legendgroup\":\"Alone\",\"marker\":{\"color\":\"#4C78A8\",\"pattern\":{\"shape\":\"\"}},\"name\":\"Alone\",\"offsetgroup\":\"Alone\",\"orientation\":\"h\",\"showlegend\":true,\"textposition\":\"auto\",\"x\":[3.922071611111111,4.414186719298246,5.03255725,6.95226130952381],\"xaxis\":\"x\",\"y\":[\"15 - 20 y.o.\",\"20 - 40 y.o.\",\"40 - 45 y.o.\",\"Above 45 y.o.\"],\"yaxis\":\"y\",\"type\":\"bar\"},{\"alignmentgroup\":\"True\",\"customdata\":[[\"Children\"],[\"Children\"],[\"Children\"],[\"Children\"]],\"hovertemplate\":\"\\u003ci\\u003eWith \\u003cb\\u003e%{customdata[0]}\\u003c\\u002fb\\u003e\\u003c\\u002fi\\u003e\\u003cbr\\u003e\\u003cb\\u003e%{x:.2f} hrs\\u003c\\u002fb\\u003e\\u003cbr\\u003e\\u003cextra\\u003e\\u003c\\u002fextra\\u003e\",\"legendgroup\":\"Children\",\"marker\":{\"color\":\"#F58518\",\"pattern\":{\"shape\":\"\"}},\"name\":\"Children\",\"offsetgroup\":\"Children\",\"orientation\":\"h\",\"showlegend\":true,\"textposition\":\"auto\",\"x\":[0.5461840305555555,3.128205492982456,3.6571877500000003,1.2889752066666667],\"xaxis\":\"x\",\"y\":[\"15 - 20 y.o.\",\"20 - 40 y.o.\",\"40 - 45 y.o.\",\"Above 45 y.o.\"],\"yaxis\":\"y\",\"type\":\"bar\"},{\"alignmentgroup\":\"True\",\"customdata\":[[\"Coworkers\"],[\"Coworkers\"],[\"Coworkers\"],[\"Coworkers\"]],\"hovertemplate\":\"\\u003ci\\u003eWith \\u003cb\\u003e%{customdata[0]}\\u003c\\u002fb\\u003e\\u003c\\u002fi\\u003e\\u003cbr\\u003e\\u003cb\\u003e%{x:.2f} hrs\\u003c\\u002fb\\u003e\\u003cbr\\u003e\\u003cextra\\u003e\\u003c\\u002fextra\\u003e\",\"legendgroup\":\"Coworkers\",\"marker\":{\"color\":\"#E45756\",\"pattern\":{\"shape\":\"\"}},\"name\":\"Coworkers\",\"offsetgroup\":\"Coworkers\",\"orientation\":\"h\",\"showlegend\":true,\"textposition\":\"auto\",\"x\":[1.1835145102777778,3.1993216315789477,3.0296133055555554,1.5365235394285712],\"xaxis\":\"x\",\"y\":[\"15 - 20 y.o.\",\"20 - 40 y.o.\",\"40 - 45 y.o.\",\"Above 45 y.o.\"],\"yaxis\":\"y\",\"type\":\"bar\"},{\"alignmentgroup\":\"True\",\"customdata\":[[\"Friends\"],[\"Friends\"],[\"Friends\"],[\"Friends\"]],\"hovertemplate\":\"\\u003ci\\u003eWith \\u003cb\\u003e%{customdata[0]}\\u003c\\u002fb\\u003e\\u003c\\u002fi\\u003e\\u003cbr\\u003e\\u003cb\\u003e%{x:.2f} hrs\\u003c\\u002fb\\u003e\\u003cbr\\u003e\\u003cextra\\u003e\\u003c\\u002fextra\\u003e\",\"legendgroup\":\"Friends\",\"marker\":{\"color\":\"#72B7B2\",\"pattern\":{\"shape\":\"\"}},\"name\":\"Friends\",\"offsetgroup\":\"Friends\",\"orientation\":\"h\",\"showlegend\":true,\"textposition\":\"auto\",\"x\":[2.030343333333333,1.0654895535087718,0.6324470305555555,0.6163198909523809],\"xaxis\":\"x\",\"y\":[\"15 - 20 y.o.\",\"20 - 40 y.o.\",\"40 - 45 y.o.\",\"Above 45 y.o.\"],\"yaxis\":\"y\",\"type\":\"bar\"},{\"alignmentgroup\":\"True\",\"customdata\":[[\"Parents, siblings, families\"],[\"Parents, siblings, families\"],[\"Parents, siblings, families\"],[\"Parents, siblings, families\"]],\"hovertemplate\":\"\\u003ci\\u003eWith \\u003cb\\u003e%{customdata[0]}\\u003c\\u002fb\\u003e\\u003c\\u002fi\\u003e\\u003cbr\\u003e\\u003cb\\u003e%{x:.2f} hrs\\u003c\\u002fb\\u003e\\u003cbr\\u003e\\u003cextra\\u003e\\u003c\\u002fextra\\u003e\",\"legendgroup\":\"Parents, siblings, families\",\"marker\":{\"color\":\"#54A24B\",\"pattern\":{\"shape\":\"\"}},\"name\":\"Parents, siblings, families\",\"offsetgroup\":\"Parents, siblings, families\",\"orientation\":\"h\",\"showlegend\":true,\"textposition\":\"auto\",\"x\":[3.783439611111111,1.385908650877193,0.9125634833333334,1.015135931904762],\"xaxis\":\"x\",\"y\":[\"15 - 20 y.o.\",\"20 - 40 y.o.\",\"40 - 45 y.o.\",\"Above 45 y.o.\"],\"yaxis\":\"y\",\"type\":\"bar\"},{\"alignmentgroup\":\"True\",\"customdata\":[[\"Partner\"],[\"Partner\"],[\"Partner\"],[\"Partner\"]],\"hovertemplate\":\"\\u003ci\\u003eWith \\u003cb\\u003e%{customdata[0]}\\u003c\\u002fb\\u003e\\u003c\\u002fi\\u003e\\u003cbr\\u003e\\u003cb\\u003e%{x:.2f} hrs\\u003c\\u002fb\\u003e\\u003cbr\\u003e\\u003cextra\\u003e\\u003c\\u002fextra\\u003e\",\"legendgroup\":\"Partner\",\"marker\":{\"color\":\"#EECA3B\",\"pattern\":{\"shape\":\"\"}},\"name\":\"Partner\",\"offsetgroup\":\"Partner\",\"orientation\":\"h\",\"showlegend\":true,\"textposition\":\"auto\",\"x\":[0.14596183210555555,2.667562852631579,3.157383805555556,3.7397237666666667],\"xaxis\":\"x\",\"y\":[\"15 - 20 y.o.\",\"20 - 40 y.o.\",\"40 - 45 y.o.\",\"Above 45 y.o.\"],\"yaxis\":\"y\",\"type\":\"bar\"}],                        {\"template\":{\"data\":{\"histogram2dcontour\":[{\"type\":\"histogram2dcontour\",\"colorbar\":{\"outlinewidth\":0,\"ticks\":\"\"},\"colorscale\":[[0.0,\"#0d0887\"],[0.1111111111111111,\"#46039f\"],[0.2222222222222222,\"#7201a8\"],[0.3333333333333333,\"#9c179e\"],[0.4444444444444444,\"#bd3786\"],[0.5555555555555556,\"#d8576b\"],[0.6666666666666666,\"#ed7953\"],[0.7777777777777778,\"#fb9f3a\"],[0.8888888888888888,\"#fdca26\"],[1.0,\"#f0f921\"]]}],\"choropleth\":[{\"type\":\"choropleth\",\"colorbar\":{\"outlinewidth\":0,\"ticks\":\"\"}}],\"histogram2d\":[{\"type\":\"histogram2d\",\"colorbar\":{\"outlinewidth\":0,\"ticks\":\"\"},\"colorscale\":[[0.0,\"#0d0887\"],[0.1111111111111111,\"#46039f\"],[0.2222222222222222,\"#7201a8\"],[0.3333333333333333,\"#9c179e\"],[0.4444444444444444,\"#bd3786\"],[0.5555555555555556,\"#d8576b\"],[0.6666666666666666,\"#ed7953\"],[0.7777777777777778,\"#fb9f3a\"],[0.8888888888888888,\"#fdca26\"],[1.0,\"#f0f921\"]]}],\"heatmap\":[{\"type\":\"heatmap\",\"colorbar\":{\"outlinewidth\":0,\"ticks\":\"\"},\"colorscale\":[[0.0,\"#0d0887\"],[0.1111111111111111,\"#46039f\"],[0.2222222222222222,\"#7201a8\"],[0.3333333333333333,\"#9c179e\"],[0.4444444444444444,\"#bd3786\"],[0.5555555555555556,\"#d8576b\"],[0.6666666666666666,\"#ed7953\"],[0.7777777777777778,\"#fb9f3a\"],[0.8888888888888888,\"#fdca26\"],[1.0,\"#f0f921\"]]}],\"heatmapgl\":[{\"type\":\"heatmapgl\",\"colorbar\":{\"outlinewidth\":0,\"ticks\":\"\"},\"colorscale\":[[0.0,\"#0d0887\"],[0.1111111111111111,\"#46039f\"],[0.2222222222222222,\"#7201a8\"],[0.3333333333333333,\"#9c179e\"],[0.4444444444444444,\"#bd3786\"],[0.5555555555555556,\"#d8576b\"],[0.6666666666666666,\"#ed7953\"],[0.7777777777777778,\"#fb9f3a\"],[0.8888888888888888,\"#fdca26\"],[1.0,\"#f0f921\"]]}],\"contourcarpet\":[{\"type\":\"contourcarpet\",\"colorbar\":{\"outlinewidth\":0,\"ticks\":\"\"}}],\"contour\":[{\"type\":\"contour\",\"colorbar\":{\"outlinewidth\":0,\"ticks\":\"\"},\"colorscale\":[[0.0,\"#0d0887\"],[0.1111111111111111,\"#46039f\"],[0.2222222222222222,\"#7201a8\"],[0.3333333333333333,\"#9c179e\"],[0.4444444444444444,\"#bd3786\"],[0.5555555555555556,\"#d8576b\"],[0.6666666666666666,\"#ed7953\"],[0.7777777777777778,\"#fb9f3a\"],[0.8888888888888888,\"#fdca26\"],[1.0,\"#f0f921\"]]}],\"surface\":[{\"type\":\"surface\",\"colorbar\":{\"outlinewidth\":0,\"ticks\":\"\"},\"colorscale\":[[0.0,\"#0d0887\"],[0.1111111111111111,\"#46039f\"],[0.2222222222222222,\"#7201a8\"],[0.3333333333333333,\"#9c179e\"],[0.4444444444444444,\"#bd3786\"],[0.5555555555555556,\"#d8576b\"],[0.6666666666666666,\"#ed7953\"],[0.7777777777777778,\"#fb9f3a\"],[0.8888888888888888,\"#fdca26\"],[1.0,\"#f0f921\"]]}],\"mesh3d\":[{\"type\":\"mesh3d\",\"colorbar\":{\"outlinewidth\":0,\"ticks\":\"\"}}],\"scatter\":[{\"fillpattern\":{\"fillmode\":\"overlay\",\"size\":10,\"solidity\":0.2},\"type\":\"scatter\"}],\"parcoords\":[{\"type\":\"parcoords\",\"line\":{\"colorbar\":{\"outlinewidth\":0,\"ticks\":\"\"}}}],\"scatterpolargl\":[{\"type\":\"scatterpolargl\",\"marker\":{\"colorbar\":{\"outlinewidth\":0,\"ticks\":\"\"}}}],\"bar\":[{\"error_x\":{\"color\":\"#2a3f5f\"},\"error_y\":{\"color\":\"#2a3f5f\"},\"marker\":{\"line\":{\"color\":\"#E5ECF6\",\"width\":0.5},\"pattern\":{\"fillmode\":\"overlay\",\"size\":10,\"solidity\":0.2}},\"type\":\"bar\"}],\"scattergeo\":[{\"type\":\"scattergeo\",\"marker\":{\"colorbar\":{\"outlinewidth\":0,\"ticks\":\"\"}}}],\"scatterpolar\":[{\"type\":\"scatterpolar\",\"marker\":{\"colorbar\":{\"outlinewidth\":0,\"ticks\":\"\"}}}],\"histogram\":[{\"marker\":{\"pattern\":{\"fillmode\":\"overlay\",\"size\":10,\"solidity\":0.2}},\"type\":\"histogram\"}],\"scattergl\":[{\"type\":\"scattergl\",\"marker\":{\"colorbar\":{\"outlinewidth\":0,\"ticks\":\"\"}}}],\"scatter3d\":[{\"type\":\"scatter3d\",\"line\":{\"colorbar\":{\"outlinewidth\":0,\"ticks\":\"\"}},\"marker\":{\"colorbar\":{\"outlinewidth\":0,\"ticks\":\"\"}}}],\"scattermapbox\":[{\"type\":\"scattermapbox\",\"marker\":{\"colorbar\":{\"outlinewidth\":0,\"ticks\":\"\"}}}],\"scatterternary\":[{\"type\":\"scatterternary\",\"marker\":{\"colorbar\":{\"outlinewidth\":0,\"ticks\":\"\"}}}],\"scattercarpet\":[{\"type\":\"scattercarpet\",\"marker\":{\"colorbar\":{\"outlinewidth\":0,\"ticks\":\"\"}}}],\"carpet\":[{\"aaxis\":{\"endlinecolor\":\"#2a3f5f\",\"gridcolor\":\"white\",\"linecolor\":\"white\",\"minorgridcolor\":\"white\",\"startlinecolor\":\"#2a3f5f\"},\"baxis\":{\"endlinecolor\":\"#2a3f5f\",\"gridcolor\":\"white\",\"linecolor\":\"white\",\"minorgridcolor\":\"white\",\"startlinecolor\":\"#2a3f5f\"},\"type\":\"carpet\"}],\"table\":[{\"cells\":{\"fill\":{\"color\":\"#EBF0F8\"},\"line\":{\"color\":\"white\"}},\"header\":{\"fill\":{\"color\":\"#C8D4E3\"},\"line\":{\"color\":\"white\"}},\"type\":\"table\"}],\"barpolar\":[{\"marker\":{\"line\":{\"color\":\"#E5ECF6\",\"width\":0.5},\"pattern\":{\"fillmode\":\"overlay\",\"size\":10,\"solidity\":0.2}},\"type\":\"barpolar\"}],\"pie\":[{\"automargin\":true,\"type\":\"pie\"}]},\"layout\":{\"autotypenumbers\":\"strict\",\"colorway\":[\"#636efa\",\"#EF553B\",\"#00cc96\",\"#ab63fa\",\"#FFA15A\",\"#19d3f3\",\"#FF6692\",\"#B6E880\",\"#FF97FF\",\"#FECB52\"],\"font\":{\"color\":\"#2a3f5f\"},\"hovermode\":\"closest\",\"hoverlabel\":{\"align\":\"left\"},\"paper_bgcolor\":\"white\",\"plot_bgcolor\":\"#E5ECF6\",\"polar\":{\"bgcolor\":\"#E5ECF6\",\"angularaxis\":{\"gridcolor\":\"white\",\"linecolor\":\"white\",\"ticks\":\"\"},\"radialaxis\":{\"gridcolor\":\"white\",\"linecolor\":\"white\",\"ticks\":\"\"}},\"ternary\":{\"bgcolor\":\"#E5ECF6\",\"aaxis\":{\"gridcolor\":\"white\",\"linecolor\":\"white\",\"ticks\":\"\"},\"baxis\":{\"gridcolor\":\"white\",\"linecolor\":\"white\",\"ticks\":\"\"},\"caxis\":{\"gridcolor\":\"white\",\"linecolor\":\"white\",\"ticks\":\"\"}},\"coloraxis\":{\"colorbar\":{\"outlinewidth\":0,\"ticks\":\"\"}},\"colorscale\":{\"sequential\":[[0.0,\"#0d0887\"],[0.1111111111111111,\"#46039f\"],[0.2222222222222222,\"#7201a8\"],[0.3333333333333333,\"#9c179e\"],[0.4444444444444444,\"#bd3786\"],[0.5555555555555556,\"#d8576b\"],[0.6666666666666666,\"#ed7953\"],[0.7777777777777778,\"#fb9f3a\"],[0.8888888888888888,\"#fdca26\"],[1.0,\"#f0f921\"]],\"sequentialminus\":[[0.0,\"#0d0887\"],[0.1111111111111111,\"#46039f\"],[0.2222222222222222,\"#7201a8\"],[0.3333333333333333,\"#9c179e\"],[0.4444444444444444,\"#bd3786\"],[0.5555555555555556,\"#d8576b\"],[0.6666666666666666,\"#ed7953\"],[0.7777777777777778,\"#fb9f3a\"],[0.8888888888888888,\"#fdca26\"],[1.0,\"#f0f921\"]],\"diverging\":[[0,\"#8e0152\"],[0.1,\"#c51b7d\"],[0.2,\"#de77ae\"],[0.3,\"#f1b6da\"],[0.4,\"#fde0ef\"],[0.5,\"#f7f7f7\"],[0.6,\"#e6f5d0\"],[0.7,\"#b8e186\"],[0.8,\"#7fbc41\"],[0.9,\"#4d9221\"],[1,\"#276419\"]]},\"xaxis\":{\"gridcolor\":\"white\",\"linecolor\":\"white\",\"ticks\":\"\",\"title\":{\"standoff\":15},\"zerolinecolor\":\"white\",\"automargin\":true,\"zerolinewidth\":2},\"yaxis\":{\"gridcolor\":\"white\",\"linecolor\":\"white\",\"ticks\":\"\",\"title\":{\"standoff\":15},\"zerolinecolor\":\"white\",\"automargin\":true,\"zerolinewidth\":2},\"scene\":{\"xaxis\":{\"backgroundcolor\":\"#E5ECF6\",\"gridcolor\":\"white\",\"linecolor\":\"white\",\"showbackground\":true,\"ticks\":\"\",\"zerolinecolor\":\"white\",\"gridwidth\":2},\"yaxis\":{\"backgroundcolor\":\"#E5ECF6\",\"gridcolor\":\"white\",\"linecolor\":\"white\",\"showbackground\":true,\"ticks\":\"\",\"zerolinecolor\":\"white\",\"gridwidth\":2},\"zaxis\":{\"backgroundcolor\":\"#E5ECF6\",\"gridcolor\":\"white\",\"linecolor\":\"white\",\"showbackground\":true,\"ticks\":\"\",\"zerolinecolor\":\"white\",\"gridwidth\":2}},\"shapedefaults\":{\"line\":{\"color\":\"#2a3f5f\"}},\"annotationdefaults\":{\"arrowcolor\":\"#2a3f5f\",\"arrowhead\":0,\"arrowwidth\":1},\"geo\":{\"bgcolor\":\"white\",\"landcolor\":\"#E5ECF6\",\"subunitcolor\":\"white\",\"showland\":true,\"showlakes\":true,\"lakecolor\":\"white\"},\"title\":{\"x\":0.05},\"mapbox\":{\"style\":\"light\"}}},\"xaxis\":{\"anchor\":\"y\",\"domain\":[0.0,1.0],\"title\":{\"text\":\"\\u003cb\\u003eAverage time spent with the people (hrs)\\u003c\\u002fb\\u003e\",\"font\":{\"size\":15,\"family\":\"Arial\"}}},\"yaxis\":{\"anchor\":\"x\",\"domain\":[0.0,1.0],\"title\":{\"text\":\"\"},\"tickfont\":{\"size\":13,\"family\":\"Arial Black\"}},\"legend\":{\"title\":{\"text\":\"People Type\"},\"tracegroupgap\":0},\"margin\":{\"t\":60},\"barmode\":\"relative\",\"title\":{\"font\":{\"size\":15,\"family\":\"Arial\"},\"text\":\"\\u003cb\\u003eWho American People Spend Time with by Age Groups \\u003c\\u002fb\\u003e\",\"x\":0.45},\"width\":1100,\"height\":600},                        {\"responsive\": true}                    ).then(function(){\n",
       "                            \n",
       "var gd = document.getElementById('07872526-7d91-4135-9b08-ff66e4728159');\n",
       "var x = new MutationObserver(function (mutations, observer) {{\n",
       "        var display = window.getComputedStyle(gd).display;\n",
       "        if (!display || display === 'none') {{\n",
       "            console.log([gd, 'removed!']);\n",
       "            Plotly.purge(gd);\n",
       "            observer.disconnect();\n",
       "        }}\n",
       "}});\n",
       "\n",
       "// Listen for the removal of the full notebook cells\n",
       "var notebookContainer = gd.closest('#notebook-container');\n",
       "if (notebookContainer) {{\n",
       "    x.observe(notebookContainer, {childList: true});\n",
       "}}\n",
       "\n",
       "// Listen for the clearing of the current output cell\n",
       "var outputEl = gd.closest('.output');\n",
       "if (outputEl) {{\n",
       "    x.observe(outputEl, {childList: true});\n",
       "}}\n",
       "\n",
       "                        })                };                });            </script>        </div>"
      ]
     },
     "metadata": {},
     "output_type": "display_data"
    }
   ],
   "source": [
    "# Try stacked bar chart with Plotly: Plotly take in wide-format, not just long format\n",
    "# print(df1_agegrp_long.head(20))\n",
    "\n",
    "the_df = df1_agegrp_long.drop(['Entity','Code','Year','Time mins'], axis=1)\n",
    "# print(the_df.head(50))\n",
    "\n",
    "# first need to aggregate data\n",
    "oh = the_df.groupby(['Age Group','People Type']).mean().reset_index()\n",
    "\n",
    "fig = px.bar(oh, x='Time hrs', y='Age Group', color='People Type',\n",
    "             color_discrete_sequence=px.colors.qualitative.T10,\n",
    "             custom_data = ['People Type'])\n",
    "\n",
    "fig.update_layout(\n",
    "    width = 1100,\n",
    "    height=600,\n",
    "    xaxis_title={\n",
    "        'text': '<b>Average time spent with the people (hrs)</b>',\n",
    "        'font': {'size': 15, 'family': 'Arial'}\n",
    "    },\n",
    "    yaxis_title='',\n",
    "    title={'text':'<b>Who American People Spend Time with by Age Groups </b>',\n",
    "                'font':{'size': 15, 'family': 'Arial'}\n",
    "    },\n",
    "    yaxis={'tickfont':{'size': 13, 'family': 'Arial Black'}},  # to bold yaxis label, use 'font name'+ Black as family in tickfont dict\n",
    "    title_x=0.45, #ceneter the title to the middle, title_x btw 0 and 1\n",
    ") # to bold font, use <b> </b> like HTML)\n",
    "\n",
    "fig.update_traces(\n",
    "    hovertemplate = '<i>With <b>%{customdata[0]}</b></i>'+'<br><b>%{x:.2f} hrs</b><br><extra></extra>'\n",
    ")\n",
    "fig.show()"
   ]
  },
  {
   "cell_type": "markdown",
   "id": "17fd4542-edcf-479e-acc3-b6a765ff0bd0",
   "metadata": {
    "id": "17fd4542-edcf-479e-acc3-b6a765ff0bd0"
   },
   "source": [
    "### Thoughts:\n",
    "- In my opinion, the seaborn bar chart (displayed in groups horizontally) was not as visually clear since our brain needs to do a bit more work to make sense of the plot (figure out what color bar is which people group) and it takes time to figure out who people spend most time with at different age group\n",
    "- The idea of stacked bar plot came to mind\n",
    "    - Inspired by [the porportion bar plot of How People Spend Their Time](https://ourworldindata.org/time-use#who-do-we-spend-time-with-across-our-lifetime)\n",
    "    - Plotly offered an easy way to plot stacked bar chart (simipler than seaborn and needed a simple aggregate via groupby) and interactive with hoover option\n",
    "    - The [Plotly stacked bar plot](https://plotly.com/python/bar-charts/) is much more clear and easier for people to understand the data content with customized hoover data display\n",
    "    - Less brain power to figure out which color is what group and the stack bars help to see which people group each age group spend most with\n",
    "\n",
    "#### Notes to myself:\n",
    "- [Things to keep in mind when using Seaborn to plot](https://michaelwaskom.medium.com/three-common-seaborn-difficulties-10fdd0cc2a8b)"
   ]
  },
  {
   "cell_type": "code",
   "execution_count": null,
   "id": "17c5e701-d359-4d75-890f-5bf353c93dba",
   "metadata": {
    "colab": {
     "base_uri": "https://localhost:8080/",
     "height": 517
    },
    "id": "17c5e701-d359-4d75-890f-5bf353c93dba",
    "outputId": "b82b53b2-fa94-4607-8f25-019287cccd9b"
   },
   "outputs": [
    {
     "data": {
      "application/vnd.plotly.v1+json": {
       "config": {
        "plotlyServerURL": "https://plot.ly"
       },
       "data": [
        {
         "fillpattern": {
          "shape": ""
         },
         "hovertemplate": "%{y:.2f} mins",
         "legendgroup": "Partner",
         "line": {
          "color": "#636efa"
         },
         "marker": {
          "symbol": "circle"
         },
         "mode": "markers+lines",
         "name": "Partner",
         "orientation": "v",
         "showlegend": true,
         "stackgroup": "1",
         "type": "scatter",
         "x": [
          15,
          16,
          17,
          18,
          19,
          20,
          21,
          22,
          23,
          24,
          25,
          26,
          27,
          28,
          29,
          30,
          31,
          32,
          33,
          34,
          35,
          36,
          37,
          38,
          39,
          40,
          41,
          42,
          43,
          44,
          45,
          46,
          47,
          48,
          49,
          50,
          51,
          52,
          53,
          54,
          55,
          56,
          57,
          58,
          59,
          60,
          61,
          62,
          63,
          64,
          65,
          66,
          67,
          68,
          69,
          70,
          71,
          72,
          73,
          74,
          75,
          76,
          77,
          78,
          79,
          80
         ],
         "xaxis": "x",
         "y": [
          0,
          0.030690858,
          1.1228406,
          5.6972671,
          19.341291,
          26.35417,
          59.897781,
          55.767094,
          78.188667,
          99.44416,
          121.25083,
          139.91745,
          151.88562,
          168.24556,
          176.19919,
          180.02309,
          203.71202,
          192.00175,
          200.02365,
          199.23759,
          198.27702,
          197.55948,
          204.00514,
          203.30919,
          212.07637,
          201.94627,
          194.68652,
          182.25496,
          181.83145,
          191.94835,
          183.99062,
          186.65195,
          181.05563,
          197.96497,
          194.11002,
          174.92821,
          187.80592,
          190.51634,
          188.71446,
          182.8898,
          184.38846,
          195.93608,
          185.31619,
          186.54398,
          199.87039,
          204.63687,
          205.22923,
          224.05167,
          232.44521,
          231.84886,
          242.53215,
          255.86,
          258.14743,
          260.36365,
          270.69342,
          261.86359,
          266.694,
          261.05215,
          276.13379,
          254.44495,
          252.93309,
          266.23712,
          272.73013,
          256.41376,
          235.3701,
          227.04634
         ],
         "yaxis": "y"
        },
        {
         "fillpattern": {
          "shape": ""
         },
         "hovertemplate": "%{y:.2f} mins",
         "legendgroup": "Friends",
         "line": {
          "color": "#EF553B"
         },
         "marker": {
          "symbol": "circle"
         },
         "mode": "markers+lines",
         "name": "Friends",
         "orientation": "v",
         "showlegend": true,
         "stackgroup": "1",
         "type": "scatter",
         "x": [
          15,
          16,
          17,
          18,
          19,
          20,
          21,
          22,
          23,
          24,
          25,
          26,
          27,
          28,
          29,
          30,
          31,
          32,
          33,
          34,
          35,
          36,
          37,
          38,
          39,
          40,
          41,
          42,
          43,
          44,
          45,
          46,
          47,
          48,
          49,
          50,
          51,
          52,
          53,
          54,
          55,
          56,
          57,
          58,
          59,
          60,
          61,
          62,
          63,
          64,
          65,
          66,
          67,
          68,
          69,
          70,
          71,
          72,
          73,
          74,
          75,
          76,
          77,
          78,
          79,
          80
         ],
         "xaxis": "x",
         "y": [
          109.4145,
          110.7418,
          120.41887,
          137.75107,
          129.85716,
          122.7402,
          122.40627,
          100.16862,
          101.07177,
          96.786346,
          77.543015,
          77.856834,
          74.140686,
          62.491688,
          55.084454,
          53.478016,
          50.925926,
          49.464462,
          49.731628,
          42.650288,
          41.661636,
          40.120937,
          43.362503,
          42.101093,
          33.611919,
          36.197014,
          38.729492,
          38.695633,
          39.107994,
          38.859802,
          36.090996,
          37.459354,
          39.243477,
          33.357357,
          37.315029,
          28.917883,
          35.627602,
          33.961197,
          31.585169,
          34.837147,
          33.079144,
          36.820248,
          31.479084,
          35.2756,
          29.068735,
          35.94643,
          32.807606,
          34.453568,
          36.147518,
          35.180847,
          35.90049,
          40.828274,
          38.98082,
          41.382526,
          42.001629,
          45.80217,
          44.433987,
          44.234802,
          36.592476,
          40.508751,
          39.079994,
          41.503906,
          33.595589,
          39.297825,
          41.975792,
          35.589745
         ],
         "yaxis": "y"
        },
        {
         "fillpattern": {
          "shape": ""
         },
         "hovertemplate": "%{y:.2f} mins",
         "legendgroup": "Parents, siblings, families",
         "line": {
          "color": "#00cc96"
         },
         "marker": {
          "symbol": "circle"
         },
         "mode": "markers+lines",
         "name": "Parents, siblings, families",
         "orientation": "v",
         "showlegend": true,
         "stackgroup": "1",
         "type": "scatter",
         "x": [
          15,
          16,
          17,
          18,
          19,
          20,
          21,
          22,
          23,
          24,
          25,
          26,
          27,
          28,
          29,
          30,
          31,
          32,
          33,
          34,
          35,
          36,
          37,
          38,
          39,
          40,
          41,
          42,
          43,
          44,
          45,
          46,
          47,
          48,
          49,
          50,
          51,
          52,
          53,
          54,
          55,
          56,
          57,
          58,
          59,
          60,
          61,
          62,
          63,
          64,
          65,
          66,
          67,
          68,
          69,
          70,
          71,
          72,
          73,
          74,
          75,
          76,
          77,
          78,
          79,
          80
         ],
         "xaxis": "x",
         "y": [
          267.12091,
          254.3381,
          229.81561,
          236.35201,
          201.2766,
          173.13503,
          152.67331,
          135.8266,
          125.79333,
          103.75845,
          101.02744,
          87.654915,
          85.956535,
          80.147217,
          81.6101,
          72.476334,
          69.526543,
          61.336475,
          66.359383,
          65.723053,
          62.107143,
          64.809921,
          56.446011,
          54.001514,
          52.701588,
          54.638985,
          55.611694,
          50.690075,
          55.288914,
          54.224209,
          58.068977,
          54.798512,
          60.089104,
          58.556328,
          58.63641,
          65.362938,
          62.211754,
          65.243996,
          59.573872,
          60.021786,
          60.739655,
          66.083549,
          58.831005,
          65.851311,
          67.322807,
          65.528786,
          60.896008,
          56.583904,
          73.459251,
          63.962303,
          65.28495,
          69.281334,
          58.832348,
          53.716782,
          61.424671,
          47.977863,
          58.145714,
          57.166805,
          56.550076,
          66.20977,
          56.281876,
          51.955276,
          67.455605,
          59.704296,
          51.944447,
          66.100365
         ],
         "yaxis": "y"
        },
        {
         "fillpattern": {
          "shape": ""
         },
         "hovertemplate": "%{y:.2f} mins",
         "legendgroup": "Children",
         "line": {
          "color": "#ab63fa"
         },
         "marker": {
          "symbol": "circle"
         },
         "mode": "markers+lines",
         "name": "Children",
         "orientation": "v",
         "showlegend": true,
         "stackgroup": "1",
         "type": "scatter",
         "x": [
          15,
          16,
          17,
          18,
          19,
          20,
          21,
          22,
          23,
          24,
          25,
          26,
          27,
          28,
          29,
          30,
          31,
          32,
          33,
          34,
          35,
          36,
          37,
          38,
          39,
          40,
          41,
          42,
          43,
          44,
          45,
          46,
          47,
          48,
          49,
          50,
          51,
          52,
          53,
          54,
          55,
          56,
          57,
          58,
          59,
          60,
          61,
          62,
          63,
          64,
          65,
          66,
          67,
          68,
          69,
          70,
          71,
          72,
          73,
          74,
          75,
          76,
          77,
          78,
          79,
          80
         ],
         "xaxis": "x",
         "y": [
          23.463852,
          28.609867,
          26.089708,
          27.387308,
          36.445004,
          54.630512,
          69.293869,
          72.302246,
          96.935883,
          99.394424,
          119.50971,
          128.59393,
          153.33383,
          175.83809,
          194.49931,
          199.76436,
          225.92371,
          230.71593,
          256.41312,
          261.18497,
          248.93806,
          256.59799,
          256.37634,
          254.45975,
          266.07874,
          242.43935,
          237.29298,
          222.96886,
          207.65651,
          207.01961,
          199.21028,
          177.52652,
          168.4313,
          157.297,
          132.68301,
          132.44537,
          123.67976,
          102.66885,
          102.3604,
          89.755821,
          88.129921,
          78.608688,
          73.898285,
          68.309761,
          70.334312,
          61.933525,
          71.07634,
          57.484367,
          62.510818,
          55.407318,
          57.586105,
          59.682854,
          62.771469,
          53.818981,
          68.845222,
          52.782196,
          59.073078,
          46.338203,
          56.115063,
          48.986588,
          48.644051,
          44.339306,
          46.719131,
          42.985035,
          38.609028,
          45.010258
         ],
         "yaxis": "y"
        },
        {
         "fillpattern": {
          "shape": ""
         },
         "hovertemplate": "%{y:.2f} mins",
         "legendgroup": "Alone",
         "line": {
          "color": "#FFA15A"
         },
         "marker": {
          "symbol": "circle"
         },
         "mode": "markers+lines",
         "name": "Alone",
         "orientation": "v",
         "showlegend": true,
         "stackgroup": "1",
         "type": "scatter",
         "x": [
          15,
          16,
          17,
          18,
          19,
          20,
          21,
          22,
          23,
          24,
          25,
          26,
          27,
          28,
          29,
          30,
          31,
          32,
          33,
          34,
          35,
          36,
          37,
          38,
          39,
          40,
          41,
          42,
          43,
          44,
          45,
          46,
          47,
          48,
          49,
          50,
          51,
          52,
          53,
          54,
          55,
          56,
          57,
          58,
          59,
          60,
          61,
          62,
          63,
          64,
          65,
          66,
          67,
          68,
          69,
          70,
          71,
          72,
          73,
          74,
          75,
          76,
          77,
          78,
          79,
          80
         ],
         "xaxis": "x",
         "y": [
          193.30588,
          206.37056,
          224.17331,
          242.69839,
          267.79385,
          277.60379,
          270.21817,
          283.56686,
          270.93015,
          265.81378,
          275.12906,
          281.63202,
          259.3331,
          261.13989,
          253.66589,
          250.02524,
          253.16542,
          255.07323,
          244.90091,
          263.59116,
          262.62488,
          273.27942,
          267.09787,
          258.99704,
          281.98877,
          278.25668,
          292.07227,
          297.90939,
          321.74783,
          312.69861,
          309.03583,
          326.78207,
          338.24756,
          332.5762,
          339.72601,
          361.14328,
          368.59146,
          380.84085,
          372.17041,
          377.70459,
          384.14532,
          387.00711,
          399.18466,
          409.77731,
          411.51978,
          413.32019,
          414.82727,
          425.2204,
          430.51068,
          449.01306,
          444.02954,
          431.98727,
          433.85413,
          448.22601,
          443.00061,
          448.85193,
          444.47784,
          474.45526,
          451.40637,
          458.6745,
          463.43195,
          456.49493,
          454.3125,
          461.63959,
          485.83075,
          476.76736
         ],
         "yaxis": "y"
        },
        {
         "fillpattern": {
          "shape": ""
         },
         "hovertemplate": "%{y:.2f} mins",
         "legendgroup": "Coworkers",
         "line": {
          "color": "#19d3f3"
         },
         "marker": {
          "symbol": "circle"
         },
         "mode": "markers+lines",
         "name": "Coworkers",
         "orientation": "v",
         "showlegend": true,
         "stackgroup": "1",
         "type": "scatter",
         "x": [
          15,
          16,
          17,
          18,
          19,
          20,
          21,
          22,
          23,
          24,
          25,
          26,
          27,
          28,
          29,
          30,
          31,
          32,
          33,
          34,
          35,
          36,
          37,
          38,
          39,
          40,
          41,
          42,
          43,
          44,
          45,
          46,
          47,
          48,
          49,
          50,
          51,
          52,
          53,
          54,
          55,
          56,
          57,
          58,
          59,
          60,
          61,
          62,
          63,
          64,
          65,
          66,
          67,
          68,
          69,
          70,
          71,
          72,
          73,
          74,
          75,
          76,
          77,
          78,
          79,
          80
         ],
         "xaxis": "x",
         "y": [
          8.3420067,
          23.529137,
          43.809685,
          81.633575,
          124.85052,
          143.9003,
          154.20972,
          173.0473,
          190.10524,
          206.05486,
          199.20917,
          190.09406,
          211.48781,
          212.14497,
          199.11349,
          215.61365,
          199.06003,
          202.76134,
          186.96373,
          179.36411,
          190.68065,
          178.94667,
          188.47969,
          197.09261,
          172.79756,
          187.34126,
          179.37498,
          189.4864,
          169.79688,
          182.13411,
          182.52716,
          179.01489,
          171.43033,
          170.06847,
          187.72957,
          168.1844,
          172.19505,
          176.08771,
          168.29805,
          184.43581,
          162.92227,
          154.11407,
          157.73422,
          140.36014,
          140.17371,
          125.92768,
          126.77782,
          96.651878,
          78.317001,
          78.246071,
          62.186493,
          50.919098,
          44.558029,
          39.273418,
          27.190746,
          26.851473,
          21.892221,
          20.653986,
          18.386124,
          14.613341,
          16.36656,
          19.662245,
          12.47935,
          3.2494414,
          4.5325632,
          5.2152042
         ],
         "yaxis": "y"
        }
       ],
       "layout": {
        "height": 500,
        "hovermode": "x unified",
        "legend": {
         "title": {
          "text": "People type"
         },
         "tracegroupgap": 0
        },
        "margin": {
         "t": 60
        },
        "template": {
         "data": {
          "bar": [
           {
            "error_x": {
             "color": "#2a3f5f"
            },
            "error_y": {
             "color": "#2a3f5f"
            },
            "marker": {
             "line": {
              "color": "#E5ECF6",
              "width": 0.5
             },
             "pattern": {
              "fillmode": "overlay",
              "size": 10,
              "solidity": 0.2
             }
            },
            "type": "bar"
           }
          ],
          "barpolar": [
           {
            "marker": {
             "line": {
              "color": "#E5ECF6",
              "width": 0.5
             },
             "pattern": {
              "fillmode": "overlay",
              "size": 10,
              "solidity": 0.2
             }
            },
            "type": "barpolar"
           }
          ],
          "carpet": [
           {
            "aaxis": {
             "endlinecolor": "#2a3f5f",
             "gridcolor": "white",
             "linecolor": "white",
             "minorgridcolor": "white",
             "startlinecolor": "#2a3f5f"
            },
            "baxis": {
             "endlinecolor": "#2a3f5f",
             "gridcolor": "white",
             "linecolor": "white",
             "minorgridcolor": "white",
             "startlinecolor": "#2a3f5f"
            },
            "type": "carpet"
           }
          ],
          "choropleth": [
           {
            "colorbar": {
             "outlinewidth": 0,
             "ticks": ""
            },
            "type": "choropleth"
           }
          ],
          "contour": [
           {
            "colorbar": {
             "outlinewidth": 0,
             "ticks": ""
            },
            "colorscale": [
             [
              0,
              "#0d0887"
             ],
             [
              0.1111111111111111,
              "#46039f"
             ],
             [
              0.2222222222222222,
              "#7201a8"
             ],
             [
              0.3333333333333333,
              "#9c179e"
             ],
             [
              0.4444444444444444,
              "#bd3786"
             ],
             [
              0.5555555555555556,
              "#d8576b"
             ],
             [
              0.6666666666666666,
              "#ed7953"
             ],
             [
              0.7777777777777778,
              "#fb9f3a"
             ],
             [
              0.8888888888888888,
              "#fdca26"
             ],
             [
              1,
              "#f0f921"
             ]
            ],
            "type": "contour"
           }
          ],
          "contourcarpet": [
           {
            "colorbar": {
             "outlinewidth": 0,
             "ticks": ""
            },
            "type": "contourcarpet"
           }
          ],
          "heatmap": [
           {
            "colorbar": {
             "outlinewidth": 0,
             "ticks": ""
            },
            "colorscale": [
             [
              0,
              "#0d0887"
             ],
             [
              0.1111111111111111,
              "#46039f"
             ],
             [
              0.2222222222222222,
              "#7201a8"
             ],
             [
              0.3333333333333333,
              "#9c179e"
             ],
             [
              0.4444444444444444,
              "#bd3786"
             ],
             [
              0.5555555555555556,
              "#d8576b"
             ],
             [
              0.6666666666666666,
              "#ed7953"
             ],
             [
              0.7777777777777778,
              "#fb9f3a"
             ],
             [
              0.8888888888888888,
              "#fdca26"
             ],
             [
              1,
              "#f0f921"
             ]
            ],
            "type": "heatmap"
           }
          ],
          "heatmapgl": [
           {
            "colorbar": {
             "outlinewidth": 0,
             "ticks": ""
            },
            "colorscale": [
             [
              0,
              "#0d0887"
             ],
             [
              0.1111111111111111,
              "#46039f"
             ],
             [
              0.2222222222222222,
              "#7201a8"
             ],
             [
              0.3333333333333333,
              "#9c179e"
             ],
             [
              0.4444444444444444,
              "#bd3786"
             ],
             [
              0.5555555555555556,
              "#d8576b"
             ],
             [
              0.6666666666666666,
              "#ed7953"
             ],
             [
              0.7777777777777778,
              "#fb9f3a"
             ],
             [
              0.8888888888888888,
              "#fdca26"
             ],
             [
              1,
              "#f0f921"
             ]
            ],
            "type": "heatmapgl"
           }
          ],
          "histogram": [
           {
            "marker": {
             "pattern": {
              "fillmode": "overlay",
              "size": 10,
              "solidity": 0.2
             }
            },
            "type": "histogram"
           }
          ],
          "histogram2d": [
           {
            "colorbar": {
             "outlinewidth": 0,
             "ticks": ""
            },
            "colorscale": [
             [
              0,
              "#0d0887"
             ],
             [
              0.1111111111111111,
              "#46039f"
             ],
             [
              0.2222222222222222,
              "#7201a8"
             ],
             [
              0.3333333333333333,
              "#9c179e"
             ],
             [
              0.4444444444444444,
              "#bd3786"
             ],
             [
              0.5555555555555556,
              "#d8576b"
             ],
             [
              0.6666666666666666,
              "#ed7953"
             ],
             [
              0.7777777777777778,
              "#fb9f3a"
             ],
             [
              0.8888888888888888,
              "#fdca26"
             ],
             [
              1,
              "#f0f921"
             ]
            ],
            "type": "histogram2d"
           }
          ],
          "histogram2dcontour": [
           {
            "colorbar": {
             "outlinewidth": 0,
             "ticks": ""
            },
            "colorscale": [
             [
              0,
              "#0d0887"
             ],
             [
              0.1111111111111111,
              "#46039f"
             ],
             [
              0.2222222222222222,
              "#7201a8"
             ],
             [
              0.3333333333333333,
              "#9c179e"
             ],
             [
              0.4444444444444444,
              "#bd3786"
             ],
             [
              0.5555555555555556,
              "#d8576b"
             ],
             [
              0.6666666666666666,
              "#ed7953"
             ],
             [
              0.7777777777777778,
              "#fb9f3a"
             ],
             [
              0.8888888888888888,
              "#fdca26"
             ],
             [
              1,
              "#f0f921"
             ]
            ],
            "type": "histogram2dcontour"
           }
          ],
          "mesh3d": [
           {
            "colorbar": {
             "outlinewidth": 0,
             "ticks": ""
            },
            "type": "mesh3d"
           }
          ],
          "parcoords": [
           {
            "line": {
             "colorbar": {
              "outlinewidth": 0,
              "ticks": ""
             }
            },
            "type": "parcoords"
           }
          ],
          "pie": [
           {
            "automargin": true,
            "type": "pie"
           }
          ],
          "scatter": [
           {
            "fillpattern": {
             "fillmode": "overlay",
             "size": 10,
             "solidity": 0.2
            },
            "type": "scatter"
           }
          ],
          "scatter3d": [
           {
            "line": {
             "colorbar": {
              "outlinewidth": 0,
              "ticks": ""
             }
            },
            "marker": {
             "colorbar": {
              "outlinewidth": 0,
              "ticks": ""
             }
            },
            "type": "scatter3d"
           }
          ],
          "scattercarpet": [
           {
            "marker": {
             "colorbar": {
              "outlinewidth": 0,
              "ticks": ""
             }
            },
            "type": "scattercarpet"
           }
          ],
          "scattergeo": [
           {
            "marker": {
             "colorbar": {
              "outlinewidth": 0,
              "ticks": ""
             }
            },
            "type": "scattergeo"
           }
          ],
          "scattergl": [
           {
            "marker": {
             "colorbar": {
              "outlinewidth": 0,
              "ticks": ""
             }
            },
            "type": "scattergl"
           }
          ],
          "scattermapbox": [
           {
            "marker": {
             "colorbar": {
              "outlinewidth": 0,
              "ticks": ""
             }
            },
            "type": "scattermapbox"
           }
          ],
          "scatterpolar": [
           {
            "marker": {
             "colorbar": {
              "outlinewidth": 0,
              "ticks": ""
             }
            },
            "type": "scatterpolar"
           }
          ],
          "scatterpolargl": [
           {
            "marker": {
             "colorbar": {
              "outlinewidth": 0,
              "ticks": ""
             }
            },
            "type": "scatterpolargl"
           }
          ],
          "scatterternary": [
           {
            "marker": {
             "colorbar": {
              "outlinewidth": 0,
              "ticks": ""
             }
            },
            "type": "scatterternary"
           }
          ],
          "surface": [
           {
            "colorbar": {
             "outlinewidth": 0,
             "ticks": ""
            },
            "colorscale": [
             [
              0,
              "#0d0887"
             ],
             [
              0.1111111111111111,
              "#46039f"
             ],
             [
              0.2222222222222222,
              "#7201a8"
             ],
             [
              0.3333333333333333,
              "#9c179e"
             ],
             [
              0.4444444444444444,
              "#bd3786"
             ],
             [
              0.5555555555555556,
              "#d8576b"
             ],
             [
              0.6666666666666666,
              "#ed7953"
             ],
             [
              0.7777777777777778,
              "#fb9f3a"
             ],
             [
              0.8888888888888888,
              "#fdca26"
             ],
             [
              1,
              "#f0f921"
             ]
            ],
            "type": "surface"
           }
          ],
          "table": [
           {
            "cells": {
             "fill": {
              "color": "#EBF0F8"
             },
             "line": {
              "color": "white"
             }
            },
            "header": {
             "fill": {
              "color": "#C8D4E3"
             },
             "line": {
              "color": "white"
             }
            },
            "type": "table"
           }
          ]
         },
         "layout": {
          "annotationdefaults": {
           "arrowcolor": "#2a3f5f",
           "arrowhead": 0,
           "arrowwidth": 1
          },
          "autotypenumbers": "strict",
          "coloraxis": {
           "colorbar": {
            "outlinewidth": 0,
            "ticks": ""
           }
          },
          "colorscale": {
           "diverging": [
            [
             0,
             "#8e0152"
            ],
            [
             0.1,
             "#c51b7d"
            ],
            [
             0.2,
             "#de77ae"
            ],
            [
             0.3,
             "#f1b6da"
            ],
            [
             0.4,
             "#fde0ef"
            ],
            [
             0.5,
             "#f7f7f7"
            ],
            [
             0.6,
             "#e6f5d0"
            ],
            [
             0.7,
             "#b8e186"
            ],
            [
             0.8,
             "#7fbc41"
            ],
            [
             0.9,
             "#4d9221"
            ],
            [
             1,
             "#276419"
            ]
           ],
           "sequential": [
            [
             0,
             "#0d0887"
            ],
            [
             0.1111111111111111,
             "#46039f"
            ],
            [
             0.2222222222222222,
             "#7201a8"
            ],
            [
             0.3333333333333333,
             "#9c179e"
            ],
            [
             0.4444444444444444,
             "#bd3786"
            ],
            [
             0.5555555555555556,
             "#d8576b"
            ],
            [
             0.6666666666666666,
             "#ed7953"
            ],
            [
             0.7777777777777778,
             "#fb9f3a"
            ],
            [
             0.8888888888888888,
             "#fdca26"
            ],
            [
             1,
             "#f0f921"
            ]
           ],
           "sequentialminus": [
            [
             0,
             "#0d0887"
            ],
            [
             0.1111111111111111,
             "#46039f"
            ],
            [
             0.2222222222222222,
             "#7201a8"
            ],
            [
             0.3333333333333333,
             "#9c179e"
            ],
            [
             0.4444444444444444,
             "#bd3786"
            ],
            [
             0.5555555555555556,
             "#d8576b"
            ],
            [
             0.6666666666666666,
             "#ed7953"
            ],
            [
             0.7777777777777778,
             "#fb9f3a"
            ],
            [
             0.8888888888888888,
             "#fdca26"
            ],
            [
             1,
             "#f0f921"
            ]
           ]
          },
          "colorway": [
           "#636efa",
           "#EF553B",
           "#00cc96",
           "#ab63fa",
           "#FFA15A",
           "#19d3f3",
           "#FF6692",
           "#B6E880",
           "#FF97FF",
           "#FECB52"
          ],
          "font": {
           "color": "#2a3f5f"
          },
          "geo": {
           "bgcolor": "white",
           "lakecolor": "white",
           "landcolor": "#E5ECF6",
           "showlakes": true,
           "showland": true,
           "subunitcolor": "white"
          },
          "hoverlabel": {
           "align": "left"
          },
          "hovermode": "closest",
          "mapbox": {
           "style": "light"
          },
          "paper_bgcolor": "white",
          "plot_bgcolor": "#E5ECF6",
          "polar": {
           "angularaxis": {
            "gridcolor": "white",
            "linecolor": "white",
            "ticks": ""
           },
           "bgcolor": "#E5ECF6",
           "radialaxis": {
            "gridcolor": "white",
            "linecolor": "white",
            "ticks": ""
           }
          },
          "scene": {
           "xaxis": {
            "backgroundcolor": "#E5ECF6",
            "gridcolor": "white",
            "gridwidth": 2,
            "linecolor": "white",
            "showbackground": true,
            "ticks": "",
            "zerolinecolor": "white"
           },
           "yaxis": {
            "backgroundcolor": "#E5ECF6",
            "gridcolor": "white",
            "gridwidth": 2,
            "linecolor": "white",
            "showbackground": true,
            "ticks": "",
            "zerolinecolor": "white"
           },
           "zaxis": {
            "backgroundcolor": "#E5ECF6",
            "gridcolor": "white",
            "gridwidth": 2,
            "linecolor": "white",
            "showbackground": true,
            "ticks": "",
            "zerolinecolor": "white"
           }
          },
          "shapedefaults": {
           "line": {
            "color": "#2a3f5f"
           }
          },
          "ternary": {
           "aaxis": {
            "gridcolor": "white",
            "linecolor": "white",
            "ticks": ""
           },
           "baxis": {
            "gridcolor": "white",
            "linecolor": "white",
            "ticks": ""
           },
           "bgcolor": "#E5ECF6",
           "caxis": {
            "gridcolor": "white",
            "linecolor": "white",
            "ticks": ""
           }
          },
          "title": {
           "x": 0.05
          },
          "xaxis": {
           "automargin": true,
           "gridcolor": "white",
           "linecolor": "white",
           "ticks": "",
           "title": {
            "standoff": 15
           },
           "zerolinecolor": "white",
           "zerolinewidth": 2
          },
          "yaxis": {
           "automargin": true,
           "gridcolor": "white",
           "linecolor": "white",
           "ticks": "",
           "title": {
            "standoff": 15
           },
           "zerolinecolor": "white",
           "zerolinewidth": 2
          }
         }
        },
        "title": {
         "font": {
          "family": "Arial",
          "size": 15
         },
         "text": "<b>Who American People Spend Time with by Age </b>",
         "x": 0.45
        },
        "width": 1000,
        "xaxis": {
         "anchor": "y",
         "domain": [
          0,
          1
         ],
         "title": {
          "font": {
           "family": "Arial",
           "size": 13
          },
          "text": "<b>Age</b>"
         }
        },
        "yaxis": {
         "anchor": "x",
         "domain": [
          0,
          1
         ],
         "title": {
          "font": {
           "family": "Arial",
           "size": 13
          },
          "text": "<b>Time spent with the people (mins)</b>"
         }
        }
       }
      },
      "text/html": [
       "<div>                            <div id=\"fc3a3641-2b17-40fb-a9af-21b434412502\" class=\"plotly-graph-div\" style=\"height:500px; width:1000px;\"></div>            <script type=\"text/javascript\">                require([\"plotly\"], function(Plotly) {                    window.PLOTLYENV=window.PLOTLYENV || {};                                    if (document.getElementById(\"fc3a3641-2b17-40fb-a9af-21b434412502\")) {                    Plotly.newPlot(                        \"fc3a3641-2b17-40fb-a9af-21b434412502\",                        [{\"fillpattern\":{\"shape\":\"\"},\"hovertemplate\":\"%{y:.2f} mins\",\"legendgroup\":\"Partner\",\"line\":{\"color\":\"#636efa\"},\"marker\":{\"symbol\":\"circle\"},\"mode\":\"markers+lines\",\"name\":\"Partner\",\"orientation\":\"v\",\"showlegend\":true,\"stackgroup\":\"1\",\"x\":[15,16,17,18,19,20,21,22,23,24,25,26,27,28,29,30,31,32,33,34,35,36,37,38,39,40,41,42,43,44,45,46,47,48,49,50,51,52,53,54,55,56,57,58,59,60,61,62,63,64,65,66,67,68,69,70,71,72,73,74,75,76,77,78,79,80],\"xaxis\":\"x\",\"y\":[0.0,0.030690858,1.1228406,5.6972671,19.341291,26.35417,59.897781,55.767094,78.188667,99.44416,121.25083,139.91745,151.88562,168.24556,176.19919,180.02309,203.71202,192.00175,200.02365,199.23759,198.27702,197.55948,204.00514,203.30919,212.07637,201.94627,194.68652,182.25496,181.83145,191.94835,183.99062,186.65195,181.05563,197.96497,194.11002,174.92821,187.80592,190.51634,188.71446,182.8898,184.38846,195.93608,185.31619,186.54398,199.87039,204.63687,205.22923,224.05167,232.44521,231.84886,242.53215,255.86,258.14743,260.36365,270.69342,261.86359,266.694,261.05215,276.13379,254.44495,252.93309,266.23712,272.73013,256.41376,235.3701,227.04634],\"yaxis\":\"y\",\"type\":\"scatter\"},{\"fillpattern\":{\"shape\":\"\"},\"hovertemplate\":\"%{y:.2f} mins\",\"legendgroup\":\"Friends\",\"line\":{\"color\":\"#EF553B\"},\"marker\":{\"symbol\":\"circle\"},\"mode\":\"markers+lines\",\"name\":\"Friends\",\"orientation\":\"v\",\"showlegend\":true,\"stackgroup\":\"1\",\"x\":[15,16,17,18,19,20,21,22,23,24,25,26,27,28,29,30,31,32,33,34,35,36,37,38,39,40,41,42,43,44,45,46,47,48,49,50,51,52,53,54,55,56,57,58,59,60,61,62,63,64,65,66,67,68,69,70,71,72,73,74,75,76,77,78,79,80],\"xaxis\":\"x\",\"y\":[109.4145,110.7418,120.41887,137.75107,129.85716,122.7402,122.40627,100.16862,101.07177,96.786346,77.543015,77.856834,74.140686,62.491688,55.084454,53.478016,50.925926,49.464462,49.731628,42.650288,41.661636,40.120937,43.362503,42.101093,33.611919,36.197014,38.729492,38.695633,39.107994,38.859802,36.090996,37.459354,39.243477,33.357357,37.315029,28.917883,35.627602,33.961197,31.585169,34.837147,33.079144,36.820248,31.479084,35.2756,29.068735,35.94643,32.807606,34.453568,36.147518,35.180847,35.90049,40.828274,38.98082,41.382526,42.001629,45.80217,44.433987,44.234802,36.592476,40.508751,39.079994,41.503906,33.595589,39.297825,41.975792,35.589745],\"yaxis\":\"y\",\"type\":\"scatter\"},{\"fillpattern\":{\"shape\":\"\"},\"hovertemplate\":\"%{y:.2f} mins\",\"legendgroup\":\"Parents, siblings, families\",\"line\":{\"color\":\"#00cc96\"},\"marker\":{\"symbol\":\"circle\"},\"mode\":\"markers+lines\",\"name\":\"Parents, siblings, families\",\"orientation\":\"v\",\"showlegend\":true,\"stackgroup\":\"1\",\"x\":[15,16,17,18,19,20,21,22,23,24,25,26,27,28,29,30,31,32,33,34,35,36,37,38,39,40,41,42,43,44,45,46,47,48,49,50,51,52,53,54,55,56,57,58,59,60,61,62,63,64,65,66,67,68,69,70,71,72,73,74,75,76,77,78,79,80],\"xaxis\":\"x\",\"y\":[267.12091,254.3381,229.81561,236.35201,201.2766,173.13503,152.67331,135.8266,125.79333,103.75845,101.02744,87.654915,85.956535,80.147217,81.6101,72.476334,69.526543,61.336475,66.359383,65.723053,62.107143,64.809921,56.446011,54.001514,52.701588,54.638985,55.611694,50.690075,55.288914,54.224209,58.068977,54.798512,60.089104,58.556328,58.63641,65.362938,62.211754,65.243996,59.573872,60.021786,60.739655,66.083549,58.831005,65.851311,67.322807,65.528786,60.896008,56.583904,73.459251,63.962303,65.28495,69.281334,58.832348,53.716782,61.424671,47.977863,58.145714,57.166805,56.550076,66.20977,56.281876,51.955276,67.455605,59.704296,51.944447,66.100365],\"yaxis\":\"y\",\"type\":\"scatter\"},{\"fillpattern\":{\"shape\":\"\"},\"hovertemplate\":\"%{y:.2f} mins\",\"legendgroup\":\"Children\",\"line\":{\"color\":\"#ab63fa\"},\"marker\":{\"symbol\":\"circle\"},\"mode\":\"markers+lines\",\"name\":\"Children\",\"orientation\":\"v\",\"showlegend\":true,\"stackgroup\":\"1\",\"x\":[15,16,17,18,19,20,21,22,23,24,25,26,27,28,29,30,31,32,33,34,35,36,37,38,39,40,41,42,43,44,45,46,47,48,49,50,51,52,53,54,55,56,57,58,59,60,61,62,63,64,65,66,67,68,69,70,71,72,73,74,75,76,77,78,79,80],\"xaxis\":\"x\",\"y\":[23.463852,28.609867,26.089708,27.387308,36.445004,54.630512,69.293869,72.302246,96.935883,99.394424,119.50971,128.59393,153.33383,175.83809,194.49931,199.76436,225.92371,230.71593,256.41312,261.18497,248.93806,256.59799,256.37634,254.45975,266.07874,242.43935,237.29298,222.96886,207.65651,207.01961,199.21028,177.52652,168.4313,157.297,132.68301,132.44537,123.67976,102.66885,102.3604,89.755821,88.129921,78.608688,73.898285,68.309761,70.334312,61.933525,71.07634,57.484367,62.510818,55.407318,57.586105,59.682854,62.771469,53.818981,68.845222,52.782196,59.073078,46.338203,56.115063,48.986588,48.644051,44.339306,46.719131,42.985035,38.609028,45.010258],\"yaxis\":\"y\",\"type\":\"scatter\"},{\"fillpattern\":{\"shape\":\"\"},\"hovertemplate\":\"%{y:.2f} mins\",\"legendgroup\":\"Alone\",\"line\":{\"color\":\"#FFA15A\"},\"marker\":{\"symbol\":\"circle\"},\"mode\":\"markers+lines\",\"name\":\"Alone\",\"orientation\":\"v\",\"showlegend\":true,\"stackgroup\":\"1\",\"x\":[15,16,17,18,19,20,21,22,23,24,25,26,27,28,29,30,31,32,33,34,35,36,37,38,39,40,41,42,43,44,45,46,47,48,49,50,51,52,53,54,55,56,57,58,59,60,61,62,63,64,65,66,67,68,69,70,71,72,73,74,75,76,77,78,79,80],\"xaxis\":\"x\",\"y\":[193.30588,206.37056,224.17331,242.69839,267.79385,277.60379,270.21817,283.56686,270.93015,265.81378,275.12906,281.63202,259.3331,261.13989,253.66589,250.02524,253.16542,255.07323,244.90091,263.59116,262.62488,273.27942,267.09787,258.99704,281.98877,278.25668,292.07227,297.90939,321.74783,312.69861,309.03583,326.78207,338.24756,332.5762,339.72601,361.14328,368.59146,380.84085,372.17041,377.70459,384.14532,387.00711,399.18466,409.77731,411.51978,413.32019,414.82727,425.2204,430.51068,449.01306,444.02954,431.98727,433.85413,448.22601,443.00061,448.85193,444.47784,474.45526,451.40637,458.6745,463.43195,456.49493,454.3125,461.63959,485.83075,476.76736],\"yaxis\":\"y\",\"type\":\"scatter\"},{\"fillpattern\":{\"shape\":\"\"},\"hovertemplate\":\"%{y:.2f} mins\",\"legendgroup\":\"Coworkers\",\"line\":{\"color\":\"#19d3f3\"},\"marker\":{\"symbol\":\"circle\"},\"mode\":\"markers+lines\",\"name\":\"Coworkers\",\"orientation\":\"v\",\"showlegend\":true,\"stackgroup\":\"1\",\"x\":[15,16,17,18,19,20,21,22,23,24,25,26,27,28,29,30,31,32,33,34,35,36,37,38,39,40,41,42,43,44,45,46,47,48,49,50,51,52,53,54,55,56,57,58,59,60,61,62,63,64,65,66,67,68,69,70,71,72,73,74,75,76,77,78,79,80],\"xaxis\":\"x\",\"y\":[8.3420067,23.529137,43.809685,81.633575,124.85052,143.9003,154.20972,173.0473,190.10524,206.05486,199.20917,190.09406,211.48781,212.14497,199.11349,215.61365,199.06003,202.76134,186.96373,179.36411,190.68065,178.94667,188.47969,197.09261,172.79756,187.34126,179.37498,189.4864,169.79688,182.13411,182.52716,179.01489,171.43033,170.06847,187.72957,168.1844,172.19505,176.08771,168.29805,184.43581,162.92227,154.11407,157.73422,140.36014,140.17371,125.92768,126.77782,96.651878,78.317001,78.246071,62.186493,50.919098,44.558029,39.273418,27.190746,26.851473,21.892221,20.653986,18.386124,14.613341,16.36656,19.662245,12.47935,3.2494414,4.5325632,5.2152042],\"yaxis\":\"y\",\"type\":\"scatter\"}],                        {\"template\":{\"data\":{\"histogram2dcontour\":[{\"type\":\"histogram2dcontour\",\"colorbar\":{\"outlinewidth\":0,\"ticks\":\"\"},\"colorscale\":[[0.0,\"#0d0887\"],[0.1111111111111111,\"#46039f\"],[0.2222222222222222,\"#7201a8\"],[0.3333333333333333,\"#9c179e\"],[0.4444444444444444,\"#bd3786\"],[0.5555555555555556,\"#d8576b\"],[0.6666666666666666,\"#ed7953\"],[0.7777777777777778,\"#fb9f3a\"],[0.8888888888888888,\"#fdca26\"],[1.0,\"#f0f921\"]]}],\"choropleth\":[{\"type\":\"choropleth\",\"colorbar\":{\"outlinewidth\":0,\"ticks\":\"\"}}],\"histogram2d\":[{\"type\":\"histogram2d\",\"colorbar\":{\"outlinewidth\":0,\"ticks\":\"\"},\"colorscale\":[[0.0,\"#0d0887\"],[0.1111111111111111,\"#46039f\"],[0.2222222222222222,\"#7201a8\"],[0.3333333333333333,\"#9c179e\"],[0.4444444444444444,\"#bd3786\"],[0.5555555555555556,\"#d8576b\"],[0.6666666666666666,\"#ed7953\"],[0.7777777777777778,\"#fb9f3a\"],[0.8888888888888888,\"#fdca26\"],[1.0,\"#f0f921\"]]}],\"heatmap\":[{\"type\":\"heatmap\",\"colorbar\":{\"outlinewidth\":0,\"ticks\":\"\"},\"colorscale\":[[0.0,\"#0d0887\"],[0.1111111111111111,\"#46039f\"],[0.2222222222222222,\"#7201a8\"],[0.3333333333333333,\"#9c179e\"],[0.4444444444444444,\"#bd3786\"],[0.5555555555555556,\"#d8576b\"],[0.6666666666666666,\"#ed7953\"],[0.7777777777777778,\"#fb9f3a\"],[0.8888888888888888,\"#fdca26\"],[1.0,\"#f0f921\"]]}],\"heatmapgl\":[{\"type\":\"heatmapgl\",\"colorbar\":{\"outlinewidth\":0,\"ticks\":\"\"},\"colorscale\":[[0.0,\"#0d0887\"],[0.1111111111111111,\"#46039f\"],[0.2222222222222222,\"#7201a8\"],[0.3333333333333333,\"#9c179e\"],[0.4444444444444444,\"#bd3786\"],[0.5555555555555556,\"#d8576b\"],[0.6666666666666666,\"#ed7953\"],[0.7777777777777778,\"#fb9f3a\"],[0.8888888888888888,\"#fdca26\"],[1.0,\"#f0f921\"]]}],\"contourcarpet\":[{\"type\":\"contourcarpet\",\"colorbar\":{\"outlinewidth\":0,\"ticks\":\"\"}}],\"contour\":[{\"type\":\"contour\",\"colorbar\":{\"outlinewidth\":0,\"ticks\":\"\"},\"colorscale\":[[0.0,\"#0d0887\"],[0.1111111111111111,\"#46039f\"],[0.2222222222222222,\"#7201a8\"],[0.3333333333333333,\"#9c179e\"],[0.4444444444444444,\"#bd3786\"],[0.5555555555555556,\"#d8576b\"],[0.6666666666666666,\"#ed7953\"],[0.7777777777777778,\"#fb9f3a\"],[0.8888888888888888,\"#fdca26\"],[1.0,\"#f0f921\"]]}],\"surface\":[{\"type\":\"surface\",\"colorbar\":{\"outlinewidth\":0,\"ticks\":\"\"},\"colorscale\":[[0.0,\"#0d0887\"],[0.1111111111111111,\"#46039f\"],[0.2222222222222222,\"#7201a8\"],[0.3333333333333333,\"#9c179e\"],[0.4444444444444444,\"#bd3786\"],[0.5555555555555556,\"#d8576b\"],[0.6666666666666666,\"#ed7953\"],[0.7777777777777778,\"#fb9f3a\"],[0.8888888888888888,\"#fdca26\"],[1.0,\"#f0f921\"]]}],\"mesh3d\":[{\"type\":\"mesh3d\",\"colorbar\":{\"outlinewidth\":0,\"ticks\":\"\"}}],\"scatter\":[{\"fillpattern\":{\"fillmode\":\"overlay\",\"size\":10,\"solidity\":0.2},\"type\":\"scatter\"}],\"parcoords\":[{\"type\":\"parcoords\",\"line\":{\"colorbar\":{\"outlinewidth\":0,\"ticks\":\"\"}}}],\"scatterpolargl\":[{\"type\":\"scatterpolargl\",\"marker\":{\"colorbar\":{\"outlinewidth\":0,\"ticks\":\"\"}}}],\"bar\":[{\"error_x\":{\"color\":\"#2a3f5f\"},\"error_y\":{\"color\":\"#2a3f5f\"},\"marker\":{\"line\":{\"color\":\"#E5ECF6\",\"width\":0.5},\"pattern\":{\"fillmode\":\"overlay\",\"size\":10,\"solidity\":0.2}},\"type\":\"bar\"}],\"scattergeo\":[{\"type\":\"scattergeo\",\"marker\":{\"colorbar\":{\"outlinewidth\":0,\"ticks\":\"\"}}}],\"scatterpolar\":[{\"type\":\"scatterpolar\",\"marker\":{\"colorbar\":{\"outlinewidth\":0,\"ticks\":\"\"}}}],\"histogram\":[{\"marker\":{\"pattern\":{\"fillmode\":\"overlay\",\"size\":10,\"solidity\":0.2}},\"type\":\"histogram\"}],\"scattergl\":[{\"type\":\"scattergl\",\"marker\":{\"colorbar\":{\"outlinewidth\":0,\"ticks\":\"\"}}}],\"scatter3d\":[{\"type\":\"scatter3d\",\"line\":{\"colorbar\":{\"outlinewidth\":0,\"ticks\":\"\"}},\"marker\":{\"colorbar\":{\"outlinewidth\":0,\"ticks\":\"\"}}}],\"scattermapbox\":[{\"type\":\"scattermapbox\",\"marker\":{\"colorbar\":{\"outlinewidth\":0,\"ticks\":\"\"}}}],\"scatterternary\":[{\"type\":\"scatterternary\",\"marker\":{\"colorbar\":{\"outlinewidth\":0,\"ticks\":\"\"}}}],\"scattercarpet\":[{\"type\":\"scattercarpet\",\"marker\":{\"colorbar\":{\"outlinewidth\":0,\"ticks\":\"\"}}}],\"carpet\":[{\"aaxis\":{\"endlinecolor\":\"#2a3f5f\",\"gridcolor\":\"white\",\"linecolor\":\"white\",\"minorgridcolor\":\"white\",\"startlinecolor\":\"#2a3f5f\"},\"baxis\":{\"endlinecolor\":\"#2a3f5f\",\"gridcolor\":\"white\",\"linecolor\":\"white\",\"minorgridcolor\":\"white\",\"startlinecolor\":\"#2a3f5f\"},\"type\":\"carpet\"}],\"table\":[{\"cells\":{\"fill\":{\"color\":\"#EBF0F8\"},\"line\":{\"color\":\"white\"}},\"header\":{\"fill\":{\"color\":\"#C8D4E3\"},\"line\":{\"color\":\"white\"}},\"type\":\"table\"}],\"barpolar\":[{\"marker\":{\"line\":{\"color\":\"#E5ECF6\",\"width\":0.5},\"pattern\":{\"fillmode\":\"overlay\",\"size\":10,\"solidity\":0.2}},\"type\":\"barpolar\"}],\"pie\":[{\"automargin\":true,\"type\":\"pie\"}]},\"layout\":{\"autotypenumbers\":\"strict\",\"colorway\":[\"#636efa\",\"#EF553B\",\"#00cc96\",\"#ab63fa\",\"#FFA15A\",\"#19d3f3\",\"#FF6692\",\"#B6E880\",\"#FF97FF\",\"#FECB52\"],\"font\":{\"color\":\"#2a3f5f\"},\"hovermode\":\"closest\",\"hoverlabel\":{\"align\":\"left\"},\"paper_bgcolor\":\"white\",\"plot_bgcolor\":\"#E5ECF6\",\"polar\":{\"bgcolor\":\"#E5ECF6\",\"angularaxis\":{\"gridcolor\":\"white\",\"linecolor\":\"white\",\"ticks\":\"\"},\"radialaxis\":{\"gridcolor\":\"white\",\"linecolor\":\"white\",\"ticks\":\"\"}},\"ternary\":{\"bgcolor\":\"#E5ECF6\",\"aaxis\":{\"gridcolor\":\"white\",\"linecolor\":\"white\",\"ticks\":\"\"},\"baxis\":{\"gridcolor\":\"white\",\"linecolor\":\"white\",\"ticks\":\"\"},\"caxis\":{\"gridcolor\":\"white\",\"linecolor\":\"white\",\"ticks\":\"\"}},\"coloraxis\":{\"colorbar\":{\"outlinewidth\":0,\"ticks\":\"\"}},\"colorscale\":{\"sequential\":[[0.0,\"#0d0887\"],[0.1111111111111111,\"#46039f\"],[0.2222222222222222,\"#7201a8\"],[0.3333333333333333,\"#9c179e\"],[0.4444444444444444,\"#bd3786\"],[0.5555555555555556,\"#d8576b\"],[0.6666666666666666,\"#ed7953\"],[0.7777777777777778,\"#fb9f3a\"],[0.8888888888888888,\"#fdca26\"],[1.0,\"#f0f921\"]],\"sequentialminus\":[[0.0,\"#0d0887\"],[0.1111111111111111,\"#46039f\"],[0.2222222222222222,\"#7201a8\"],[0.3333333333333333,\"#9c179e\"],[0.4444444444444444,\"#bd3786\"],[0.5555555555555556,\"#d8576b\"],[0.6666666666666666,\"#ed7953\"],[0.7777777777777778,\"#fb9f3a\"],[0.8888888888888888,\"#fdca26\"],[1.0,\"#f0f921\"]],\"diverging\":[[0,\"#8e0152\"],[0.1,\"#c51b7d\"],[0.2,\"#de77ae\"],[0.3,\"#f1b6da\"],[0.4,\"#fde0ef\"],[0.5,\"#f7f7f7\"],[0.6,\"#e6f5d0\"],[0.7,\"#b8e186\"],[0.8,\"#7fbc41\"],[0.9,\"#4d9221\"],[1,\"#276419\"]]},\"xaxis\":{\"gridcolor\":\"white\",\"linecolor\":\"white\",\"ticks\":\"\",\"title\":{\"standoff\":15},\"zerolinecolor\":\"white\",\"automargin\":true,\"zerolinewidth\":2},\"yaxis\":{\"gridcolor\":\"white\",\"linecolor\":\"white\",\"ticks\":\"\",\"title\":{\"standoff\":15},\"zerolinecolor\":\"white\",\"automargin\":true,\"zerolinewidth\":2},\"scene\":{\"xaxis\":{\"backgroundcolor\":\"#E5ECF6\",\"gridcolor\":\"white\",\"linecolor\":\"white\",\"showbackground\":true,\"ticks\":\"\",\"zerolinecolor\":\"white\",\"gridwidth\":2},\"yaxis\":{\"backgroundcolor\":\"#E5ECF6\",\"gridcolor\":\"white\",\"linecolor\":\"white\",\"showbackground\":true,\"ticks\":\"\",\"zerolinecolor\":\"white\",\"gridwidth\":2},\"zaxis\":{\"backgroundcolor\":\"#E5ECF6\",\"gridcolor\":\"white\",\"linecolor\":\"white\",\"showbackground\":true,\"ticks\":\"\",\"zerolinecolor\":\"white\",\"gridwidth\":2}},\"shapedefaults\":{\"line\":{\"color\":\"#2a3f5f\"}},\"annotationdefaults\":{\"arrowcolor\":\"#2a3f5f\",\"arrowhead\":0,\"arrowwidth\":1},\"geo\":{\"bgcolor\":\"white\",\"landcolor\":\"#E5ECF6\",\"subunitcolor\":\"white\",\"showland\":true,\"showlakes\":true,\"lakecolor\":\"white\"},\"title\":{\"x\":0.05},\"mapbox\":{\"style\":\"light\"}}},\"xaxis\":{\"anchor\":\"y\",\"domain\":[0.0,1.0],\"title\":{\"text\":\"\\u003cb\\u003eAge\\u003c\\u002fb\\u003e\",\"font\":{\"size\":13,\"family\":\"Arial\"}}},\"yaxis\":{\"anchor\":\"x\",\"domain\":[0.0,1.0],\"title\":{\"text\":\"\\u003cb\\u003eTime spent with the people (mins)\\u003c\\u002fb\\u003e\",\"font\":{\"size\":13,\"family\":\"Arial\"}}},\"legend\":{\"title\":{\"text\":\"People type\"},\"tracegroupgap\":0},\"margin\":{\"t\":60},\"title\":{\"font\":{\"size\":15,\"family\":\"Arial\"},\"text\":\"\\u003cb\\u003eWho American People Spend Time with by Age \\u003c\\u002fb\\u003e\",\"x\":0.45},\"width\":1000,\"height\":500,\"hovermode\":\"x unified\"},                        {\"responsive\": true}                    ).then(function(){\n",
       "                            \n",
       "var gd = document.getElementById('fc3a3641-2b17-40fb-a9af-21b434412502');\n",
       "var x = new MutationObserver(function (mutations, observer) {{\n",
       "        var display = window.getComputedStyle(gd).display;\n",
       "        if (!display || display === 'none') {{\n",
       "            console.log([gd, 'removed!']);\n",
       "            Plotly.purge(gd);\n",
       "            observer.disconnect();\n",
       "        }}\n",
       "}});\n",
       "\n",
       "// Listen for the removal of the full notebook cells\n",
       "var notebookContainer = gd.closest('#notebook-container');\n",
       "if (notebookContainer) {{\n",
       "    x.observe(notebookContainer, {childList: true});\n",
       "}}\n",
       "\n",
       "// Listen for the clearing of the current output cell\n",
       "var outputEl = gd.closest('.output');\n",
       "if (outputEl) {{\n",
       "    x.observe(outputEl, {childList: true});\n",
       "}}\n",
       "\n",
       "                        })                };                });            </script>        </div>"
      ]
     },
     "metadata": {},
     "output_type": "display_data"
    }
   ],
   "source": [
    "# Plot Area plot of the time data\n",
    "fig = px.area(df1_long, x='Year', y='Time_mins', color='People type')\n",
    "\n",
    "fig.update_layout(\n",
    "    width = 1000,\n",
    "    height=500,\n",
    "    xaxis_title={\n",
    "        'text': '<b>Age</b>',\n",
    "        'font': {'size': 13, 'family': 'Arial'}\n",
    "    },\n",
    "    yaxis_title={'text':'<b>Time spent with the people (mins)</b>',\n",
    "                'font':{'size': 13, 'family': 'Arial'}\n",
    "    },\n",
    "    title={'text':'<b>Who American People Spend Time with by Age </b>',\n",
    "                'font':{'size': 15, 'family': 'Arial'}\n",
    "    },\n",
    "    title_x=0.45, #ceneter the title to the middle, title_x btw 0 and 1\n",
    "    hovermode='x unified'\n",
    ") # to bold font, use <b> </b> like HTML\n",
    "\n",
    "fig.update_traces(mode=\"markers+lines\",\n",
    "                 hovertemplate='%{y:.2f} mins'\n",
    "                 )\n",
    "fig.show()"
   ]
  },
  {
   "cell_type": "markdown",
   "id": "2a719805-08fd-4e8c-b4b4-301751031d45",
   "metadata": {
    "id": "2a719805-08fd-4e8c-b4b4-301751031d45"
   },
   "source": [
    "### **Thoughts**:\n",
    "- Don't know how to edit hover text format with x-unified option using Plotly. Can only format the how to display next to all the different options. (continue to look for solutions)\n",
    "- Area plot is used to show the sum of all the values at each x point and see the contribution of each group to the sum\n",
    "- For this data Time spent vs Age, <strong>the area plot</strong> is <em>NOT USEFUL</em> because the area plot mask the trend of time over age and the summation and contribution of the time from each group is not important to understand the data"
   ]
  },
  {
   "cell_type": "markdown",
   "id": "832235cb-ba84-4fd8-9036-fe13c56950ea",
   "metadata": {
    "id": "832235cb-ba84-4fd8-9036-fe13c56950ea"
   },
   "source": [
    "#### **Thoughts on Tableau**:\n",
    "- Tableau has lots of sophisticated visualization options and easy and quick to build the dashboard with visualization\n",
    "- For a short morning of exploring, there are still much to learn to how to make plots with more manual data manipulation\n",
    "- Keep Tableau in mind for specific visuals but will likely stick with Python Seaborn and Plotly since coding makes things easily reproducible"
   ]
  },
  {
   "cell_type": "code",
   "execution_count": null,
   "id": "cb1f97e6-95cd-4a4d-8282-d185670680f0",
   "metadata": {
    "id": "cb1f97e6-95cd-4a4d-8282-d185670680f0"
   },
   "outputs": [],
   "source": [
    "fname3 = '{}/percentage-of-americans-living-alone-by-age.csv'.format(fdir)\n",
    "df3 = pd.read_csv(fname3)\n",
    "# print(df3.head(20))"
   ]
  },
  {
   "cell_type": "code",
   "execution_count": null,
   "id": "eUKCv7XaPfdb",
   "metadata": {
    "colab": {
     "base_uri": "https://localhost:8080/",
     "height": 767
    },
    "id": "eUKCv7XaPfdb",
    "outputId": "b5d8f31c-2d75-4e67-97a2-9473009e603a"
   },
   "outputs": [
    {
     "data": {
      "application/vnd.plotly.v1+json": {
       "config": {
        "plotlyServerURL": "https://plot.ly"
       },
       "data": [
        {
         "hovertemplate": "<b>Age 89</b>  %{y:.2f}%<extra></extra>",
         "legendgroup": "Age 89",
         "line": {
          "color": "#4C78A8",
          "dash": "solid"
         },
         "marker": {
          "symbol": "circle"
         },
         "mode": "markers+lines",
         "name": "Age 89",
         "orientation": "v",
         "showlegend": true,
         "type": "scatter",
         "x": [
          1900,
          1920,
          1940,
          1960,
          1980,
          2000,
          2018
         ],
         "xaxis": "x",
         "y": [
          3.0029743,
          5.5308571,
          8.7714338,
          14.518483,
          29.159912,
          40.842579,
          41.961132
         ],
         "yaxis": "y"
        },
        {
         "hovertemplate": "<b>Age 75</b>  %{y:.2f}%<extra></extra>",
         "legendgroup": "Age 75",
         "line": {
          "color": "#F58518",
          "dash": "solid"
         },
         "marker": {
          "symbol": "circle"
         },
         "mode": "markers+lines",
         "name": "Age 75",
         "orientation": "v",
         "showlegend": true,
         "type": "scatter",
         "x": [
          1900,
          1920,
          1940,
          1960,
          1980,
          2000,
          2018
         ],
         "xaxis": "x",
         "y": [
          6.4125099,
          8.3861637,
          12.162309,
          20.639933,
          31.746202,
          28.880363,
          24.76524
         ],
         "yaxis": "y"
        },
        {
         "hovertemplate": "<b>Age 60</b>  %{y:.2f}%<extra></extra>",
         "legendgroup": "Age 60",
         "line": {
          "color": "#E45756",
          "dash": "solid"
         },
         "marker": {
          "symbol": "circle"
         },
         "mode": "markers+lines",
         "name": "Age 60",
         "orientation": "v",
         "showlegend": true,
         "type": "scatter",
         "x": [
          1900,
          1920,
          1940,
          1960,
          1980,
          2000,
          2018
         ],
         "xaxis": "x",
         "y": [
          4.2898355,
          4.8850908,
          6.3180275,
          10.958211,
          13.569151,
          15.704637,
          17.681852
         ],
         "yaxis": "y"
        },
        {
         "hovertemplate": "<b>Age 45</b>  %{y:.2f}%<extra></extra>",
         "legendgroup": "Age 45",
         "line": {
          "color": "#72B7B2",
          "dash": "solid"
         },
         "marker": {
          "symbol": "circle"
         },
         "mode": "markers+lines",
         "name": "Age 45",
         "orientation": "v",
         "showlegend": true,
         "type": "scatter",
         "x": [
          1900,
          1920,
          1940,
          1960,
          1980,
          2000,
          2018
         ],
         "xaxis": "x",
         "y": [
          2.0883126,
          2.2757423,
          2.8379524,
          3.8069024,
          6.1046829,
          10.512973,
          9.170002
         ],
         "yaxis": "y"
        },
        {
         "hovertemplate": "<b>Age 30</b>  %{y:.2f}%<extra></extra>",
         "legendgroup": "Age 30",
         "line": {
          "color": "#54A24B",
          "dash": "solid"
         },
         "marker": {
          "symbol": "circle"
         },
         "mode": "markers+lines",
         "name": "Age 30",
         "orientation": "v",
         "showlegend": true,
         "type": "scatter",
         "x": [
          1900,
          1920,
          1940,
          1960,
          1980,
          2000,
          2018
         ],
         "xaxis": "x",
         "y": [
          1.4475262,
          1.0820333,
          1.5331241,
          2.4077144,
          8.9690161,
          9.7933722,
          9.47083
         ],
         "yaxis": "y"
        },
        {
         "hovertemplate": "<b>Age 21</b>  %{y:.2f}%<extra></extra>",
         "legendgroup": "Age 21",
         "line": {
          "color": "#EECA3B",
          "dash": "solid"
         },
         "marker": {
          "symbol": "circle"
         },
         "mode": "markers+lines",
         "name": "Age 21",
         "orientation": "v",
         "showlegend": true,
         "type": "scatter",
         "x": [
          1900,
          1920,
          1940,
          1960,
          1980,
          2000,
          2018
         ],
         "xaxis": "x",
         "y": [
          0.8530516,
          0.61699224,
          0.65782249,
          1.6465194,
          5.5592036,
          4.7959294,
          3.7633936
         ],
         "yaxis": "y"
        },
        {
         "hovertemplate": "<b>Age 18</b>  %{y:.2f}%<extra></extra>",
         "legendgroup": "Age 18",
         "line": {
          "color": "#B279A2",
          "dash": "solid"
         },
         "marker": {
          "symbol": "circle"
         },
         "mode": "markers+lines",
         "name": "Age 18",
         "orientation": "v",
         "showlegend": true,
         "type": "scatter",
         "x": [
          1900,
          1920,
          1940,
          1960,
          1980,
          2000,
          2018
         ],
         "xaxis": "x",
         "y": [
          0.2826103,
          0.29753187,
          0.16828842,
          0.50808835,
          1.0791981,
          0.88557899,
          0.54856783
         ],
         "yaxis": "y"
        }
       ],
       "layout": {
        "height": 750,
        "hovermode": "x unified",
        "legend": {
         "title": {
          "text": "Entity"
         },
         "tracegroupgap": 0
        },
        "margin": {
         "t": 60
        },
        "showlegend": false,
        "template": {
         "data": {
          "bar": [
           {
            "error_x": {
             "color": "#2a3f5f"
            },
            "error_y": {
             "color": "#2a3f5f"
            },
            "marker": {
             "line": {
              "color": "#E5ECF6",
              "width": 0.5
             },
             "pattern": {
              "fillmode": "overlay",
              "size": 10,
              "solidity": 0.2
             }
            },
            "type": "bar"
           }
          ],
          "barpolar": [
           {
            "marker": {
             "line": {
              "color": "#E5ECF6",
              "width": 0.5
             },
             "pattern": {
              "fillmode": "overlay",
              "size": 10,
              "solidity": 0.2
             }
            },
            "type": "barpolar"
           }
          ],
          "carpet": [
           {
            "aaxis": {
             "endlinecolor": "#2a3f5f",
             "gridcolor": "white",
             "linecolor": "white",
             "minorgridcolor": "white",
             "startlinecolor": "#2a3f5f"
            },
            "baxis": {
             "endlinecolor": "#2a3f5f",
             "gridcolor": "white",
             "linecolor": "white",
             "minorgridcolor": "white",
             "startlinecolor": "#2a3f5f"
            },
            "type": "carpet"
           }
          ],
          "choropleth": [
           {
            "colorbar": {
             "outlinewidth": 0,
             "ticks": ""
            },
            "type": "choropleth"
           }
          ],
          "contour": [
           {
            "colorbar": {
             "outlinewidth": 0,
             "ticks": ""
            },
            "colorscale": [
             [
              0,
              "#0d0887"
             ],
             [
              0.1111111111111111,
              "#46039f"
             ],
             [
              0.2222222222222222,
              "#7201a8"
             ],
             [
              0.3333333333333333,
              "#9c179e"
             ],
             [
              0.4444444444444444,
              "#bd3786"
             ],
             [
              0.5555555555555556,
              "#d8576b"
             ],
             [
              0.6666666666666666,
              "#ed7953"
             ],
             [
              0.7777777777777778,
              "#fb9f3a"
             ],
             [
              0.8888888888888888,
              "#fdca26"
             ],
             [
              1,
              "#f0f921"
             ]
            ],
            "type": "contour"
           }
          ],
          "contourcarpet": [
           {
            "colorbar": {
             "outlinewidth": 0,
             "ticks": ""
            },
            "type": "contourcarpet"
           }
          ],
          "heatmap": [
           {
            "colorbar": {
             "outlinewidth": 0,
             "ticks": ""
            },
            "colorscale": [
             [
              0,
              "#0d0887"
             ],
             [
              0.1111111111111111,
              "#46039f"
             ],
             [
              0.2222222222222222,
              "#7201a8"
             ],
             [
              0.3333333333333333,
              "#9c179e"
             ],
             [
              0.4444444444444444,
              "#bd3786"
             ],
             [
              0.5555555555555556,
              "#d8576b"
             ],
             [
              0.6666666666666666,
              "#ed7953"
             ],
             [
              0.7777777777777778,
              "#fb9f3a"
             ],
             [
              0.8888888888888888,
              "#fdca26"
             ],
             [
              1,
              "#f0f921"
             ]
            ],
            "type": "heatmap"
           }
          ],
          "heatmapgl": [
           {
            "colorbar": {
             "outlinewidth": 0,
             "ticks": ""
            },
            "colorscale": [
             [
              0,
              "#0d0887"
             ],
             [
              0.1111111111111111,
              "#46039f"
             ],
             [
              0.2222222222222222,
              "#7201a8"
             ],
             [
              0.3333333333333333,
              "#9c179e"
             ],
             [
              0.4444444444444444,
              "#bd3786"
             ],
             [
              0.5555555555555556,
              "#d8576b"
             ],
             [
              0.6666666666666666,
              "#ed7953"
             ],
             [
              0.7777777777777778,
              "#fb9f3a"
             ],
             [
              0.8888888888888888,
              "#fdca26"
             ],
             [
              1,
              "#f0f921"
             ]
            ],
            "type": "heatmapgl"
           }
          ],
          "histogram": [
           {
            "marker": {
             "pattern": {
              "fillmode": "overlay",
              "size": 10,
              "solidity": 0.2
             }
            },
            "type": "histogram"
           }
          ],
          "histogram2d": [
           {
            "colorbar": {
             "outlinewidth": 0,
             "ticks": ""
            },
            "colorscale": [
             [
              0,
              "#0d0887"
             ],
             [
              0.1111111111111111,
              "#46039f"
             ],
             [
              0.2222222222222222,
              "#7201a8"
             ],
             [
              0.3333333333333333,
              "#9c179e"
             ],
             [
              0.4444444444444444,
              "#bd3786"
             ],
             [
              0.5555555555555556,
              "#d8576b"
             ],
             [
              0.6666666666666666,
              "#ed7953"
             ],
             [
              0.7777777777777778,
              "#fb9f3a"
             ],
             [
              0.8888888888888888,
              "#fdca26"
             ],
             [
              1,
              "#f0f921"
             ]
            ],
            "type": "histogram2d"
           }
          ],
          "histogram2dcontour": [
           {
            "colorbar": {
             "outlinewidth": 0,
             "ticks": ""
            },
            "colorscale": [
             [
              0,
              "#0d0887"
             ],
             [
              0.1111111111111111,
              "#46039f"
             ],
             [
              0.2222222222222222,
              "#7201a8"
             ],
             [
              0.3333333333333333,
              "#9c179e"
             ],
             [
              0.4444444444444444,
              "#bd3786"
             ],
             [
              0.5555555555555556,
              "#d8576b"
             ],
             [
              0.6666666666666666,
              "#ed7953"
             ],
             [
              0.7777777777777778,
              "#fb9f3a"
             ],
             [
              0.8888888888888888,
              "#fdca26"
             ],
             [
              1,
              "#f0f921"
             ]
            ],
            "type": "histogram2dcontour"
           }
          ],
          "mesh3d": [
           {
            "colorbar": {
             "outlinewidth": 0,
             "ticks": ""
            },
            "type": "mesh3d"
           }
          ],
          "parcoords": [
           {
            "line": {
             "colorbar": {
              "outlinewidth": 0,
              "ticks": ""
             }
            },
            "type": "parcoords"
           }
          ],
          "pie": [
           {
            "automargin": true,
            "type": "pie"
           }
          ],
          "scatter": [
           {
            "fillpattern": {
             "fillmode": "overlay",
             "size": 10,
             "solidity": 0.2
            },
            "type": "scatter"
           }
          ],
          "scatter3d": [
           {
            "line": {
             "colorbar": {
              "outlinewidth": 0,
              "ticks": ""
             }
            },
            "marker": {
             "colorbar": {
              "outlinewidth": 0,
              "ticks": ""
             }
            },
            "type": "scatter3d"
           }
          ],
          "scattercarpet": [
           {
            "marker": {
             "colorbar": {
              "outlinewidth": 0,
              "ticks": ""
             }
            },
            "type": "scattercarpet"
           }
          ],
          "scattergeo": [
           {
            "marker": {
             "colorbar": {
              "outlinewidth": 0,
              "ticks": ""
             }
            },
            "type": "scattergeo"
           }
          ],
          "scattergl": [
           {
            "marker": {
             "colorbar": {
              "outlinewidth": 0,
              "ticks": ""
             }
            },
            "type": "scattergl"
           }
          ],
          "scattermapbox": [
           {
            "marker": {
             "colorbar": {
              "outlinewidth": 0,
              "ticks": ""
             }
            },
            "type": "scattermapbox"
           }
          ],
          "scatterpolar": [
           {
            "marker": {
             "colorbar": {
              "outlinewidth": 0,
              "ticks": ""
             }
            },
            "type": "scatterpolar"
           }
          ],
          "scatterpolargl": [
           {
            "marker": {
             "colorbar": {
              "outlinewidth": 0,
              "ticks": ""
             }
            },
            "type": "scatterpolargl"
           }
          ],
          "scatterternary": [
           {
            "marker": {
             "colorbar": {
              "outlinewidth": 0,
              "ticks": ""
             }
            },
            "type": "scatterternary"
           }
          ],
          "surface": [
           {
            "colorbar": {
             "outlinewidth": 0,
             "ticks": ""
            },
            "colorscale": [
             [
              0,
              "#0d0887"
             ],
             [
              0.1111111111111111,
              "#46039f"
             ],
             [
              0.2222222222222222,
              "#7201a8"
             ],
             [
              0.3333333333333333,
              "#9c179e"
             ],
             [
              0.4444444444444444,
              "#bd3786"
             ],
             [
              0.5555555555555556,
              "#d8576b"
             ],
             [
              0.6666666666666666,
              "#ed7953"
             ],
             [
              0.7777777777777778,
              "#fb9f3a"
             ],
             [
              0.8888888888888888,
              "#fdca26"
             ],
             [
              1,
              "#f0f921"
             ]
            ],
            "type": "surface"
           }
          ],
          "table": [
           {
            "cells": {
             "fill": {
              "color": "#EBF0F8"
             },
             "line": {
              "color": "white"
             }
            },
            "header": {
             "fill": {
              "color": "#C8D4E3"
             },
             "line": {
              "color": "white"
             }
            },
            "type": "table"
           }
          ]
         },
         "layout": {
          "annotationdefaults": {
           "arrowcolor": "#2a3f5f",
           "arrowhead": 0,
           "arrowwidth": 1
          },
          "autotypenumbers": "strict",
          "coloraxis": {
           "colorbar": {
            "outlinewidth": 0,
            "ticks": ""
           }
          },
          "colorscale": {
           "diverging": [
            [
             0,
             "#8e0152"
            ],
            [
             0.1,
             "#c51b7d"
            ],
            [
             0.2,
             "#de77ae"
            ],
            [
             0.3,
             "#f1b6da"
            ],
            [
             0.4,
             "#fde0ef"
            ],
            [
             0.5,
             "#f7f7f7"
            ],
            [
             0.6,
             "#e6f5d0"
            ],
            [
             0.7,
             "#b8e186"
            ],
            [
             0.8,
             "#7fbc41"
            ],
            [
             0.9,
             "#4d9221"
            ],
            [
             1,
             "#276419"
            ]
           ],
           "sequential": [
            [
             0,
             "#0d0887"
            ],
            [
             0.1111111111111111,
             "#46039f"
            ],
            [
             0.2222222222222222,
             "#7201a8"
            ],
            [
             0.3333333333333333,
             "#9c179e"
            ],
            [
             0.4444444444444444,
             "#bd3786"
            ],
            [
             0.5555555555555556,
             "#d8576b"
            ],
            [
             0.6666666666666666,
             "#ed7953"
            ],
            [
             0.7777777777777778,
             "#fb9f3a"
            ],
            [
             0.8888888888888888,
             "#fdca26"
            ],
            [
             1,
             "#f0f921"
            ]
           ],
           "sequentialminus": [
            [
             0,
             "#0d0887"
            ],
            [
             0.1111111111111111,
             "#46039f"
            ],
            [
             0.2222222222222222,
             "#7201a8"
            ],
            [
             0.3333333333333333,
             "#9c179e"
            ],
            [
             0.4444444444444444,
             "#bd3786"
            ],
            [
             0.5555555555555556,
             "#d8576b"
            ],
            [
             0.6666666666666666,
             "#ed7953"
            ],
            [
             0.7777777777777778,
             "#fb9f3a"
            ],
            [
             0.8888888888888888,
             "#fdca26"
            ],
            [
             1,
             "#f0f921"
            ]
           ]
          },
          "colorway": [
           "#636efa",
           "#EF553B",
           "#00cc96",
           "#ab63fa",
           "#FFA15A",
           "#19d3f3",
           "#FF6692",
           "#B6E880",
           "#FF97FF",
           "#FECB52"
          ],
          "font": {
           "color": "#2a3f5f"
          },
          "geo": {
           "bgcolor": "white",
           "lakecolor": "white",
           "landcolor": "#E5ECF6",
           "showlakes": true,
           "showland": true,
           "subunitcolor": "white"
          },
          "hoverlabel": {
           "align": "left"
          },
          "hovermode": "closest",
          "mapbox": {
           "style": "light"
          },
          "paper_bgcolor": "white",
          "plot_bgcolor": "#E5ECF6",
          "polar": {
           "angularaxis": {
            "gridcolor": "white",
            "linecolor": "white",
            "ticks": ""
           },
           "bgcolor": "#E5ECF6",
           "radialaxis": {
            "gridcolor": "white",
            "linecolor": "white",
            "ticks": ""
           }
          },
          "scene": {
           "xaxis": {
            "backgroundcolor": "#E5ECF6",
            "gridcolor": "white",
            "gridwidth": 2,
            "linecolor": "white",
            "showbackground": true,
            "ticks": "",
            "zerolinecolor": "white"
           },
           "yaxis": {
            "backgroundcolor": "#E5ECF6",
            "gridcolor": "white",
            "gridwidth": 2,
            "linecolor": "white",
            "showbackground": true,
            "ticks": "",
            "zerolinecolor": "white"
           },
           "zaxis": {
            "backgroundcolor": "#E5ECF6",
            "gridcolor": "white",
            "gridwidth": 2,
            "linecolor": "white",
            "showbackground": true,
            "ticks": "",
            "zerolinecolor": "white"
           }
          },
          "shapedefaults": {
           "line": {
            "color": "#2a3f5f"
           }
          },
          "ternary": {
           "aaxis": {
            "gridcolor": "white",
            "linecolor": "white",
            "ticks": ""
           },
           "baxis": {
            "gridcolor": "white",
            "linecolor": "white",
            "ticks": ""
           },
           "bgcolor": "#E5ECF6",
           "caxis": {
            "gridcolor": "white",
            "linecolor": "white",
            "ticks": ""
           }
          },
          "title": {
           "x": 0.05
          },
          "xaxis": {
           "automargin": true,
           "gridcolor": "white",
           "linecolor": "white",
           "ticks": "",
           "title": {
            "standoff": 15
           },
           "zerolinecolor": "white",
           "zerolinewidth": 2
          },
          "yaxis": {
           "automargin": true,
           "gridcolor": "white",
           "linecolor": "white",
           "ticks": "",
           "title": {
            "standoff": 15
           },
           "zerolinecolor": "white",
           "zerolinewidth": 2
          }
         }
        },
        "title": {
         "font": {
          "family": "Arial",
          "size": 20
         },
         "text": "<b>Percentage of Americans Living Along, by Age</b>",
         "x": 0.55
        },
        "width": 1000,
        "xaxis": {
         "anchor": "y",
         "domain": [
          0,
          1
         ],
         "title": {
          "font": {
           "family": "Arial",
           "size": 15
          },
          "text": "<b>Year</b>"
         }
        },
        "yaxis": {
         "anchor": "x",
         "domain": [
          0,
          1
         ],
         "ticksuffix": "%",
         "title": {
          "text": ""
         }
        }
       }
      },
      "text/html": [
       "<div>                            <div id=\"e1afe909-9268-4e94-a3c0-e384fd7cefbc\" class=\"plotly-graph-div\" style=\"height:750px; width:1000px;\"></div>            <script type=\"text/javascript\">                require([\"plotly\"], function(Plotly) {                    window.PLOTLYENV=window.PLOTLYENV || {};                                    if (document.getElementById(\"e1afe909-9268-4e94-a3c0-e384fd7cefbc\")) {                    Plotly.newPlot(                        \"e1afe909-9268-4e94-a3c0-e384fd7cefbc\",                        [{\"hovertemplate\":\"\\u003cb\\u003eAge 89\\u003c\\u002fb\\u003e  %{y:.2f}%\\u003cextra\\u003e\\u003c\\u002fextra\\u003e\",\"legendgroup\":\"Age 89\",\"line\":{\"color\":\"#4C78A8\",\"dash\":\"solid\"},\"marker\":{\"symbol\":\"circle\"},\"mode\":\"markers+lines\",\"name\":\"Age 89\",\"orientation\":\"v\",\"showlegend\":true,\"x\":[1900,1920,1940,1960,1980,2000,2018],\"xaxis\":\"x\",\"y\":[3.0029743,5.5308571,8.7714338,14.518483,29.159912,40.842579,41.961132],\"yaxis\":\"y\",\"type\":\"scatter\"},{\"hovertemplate\":\"\\u003cb\\u003eAge 75\\u003c\\u002fb\\u003e  %{y:.2f}%\\u003cextra\\u003e\\u003c\\u002fextra\\u003e\",\"legendgroup\":\"Age 75\",\"line\":{\"color\":\"#F58518\",\"dash\":\"solid\"},\"marker\":{\"symbol\":\"circle\"},\"mode\":\"markers+lines\",\"name\":\"Age 75\",\"orientation\":\"v\",\"showlegend\":true,\"x\":[1900,1920,1940,1960,1980,2000,2018],\"xaxis\":\"x\",\"y\":[6.4125099,8.3861637,12.162309,20.639933,31.746202,28.880363,24.76524],\"yaxis\":\"y\",\"type\":\"scatter\"},{\"hovertemplate\":\"\\u003cb\\u003eAge 60\\u003c\\u002fb\\u003e  %{y:.2f}%\\u003cextra\\u003e\\u003c\\u002fextra\\u003e\",\"legendgroup\":\"Age 60\",\"line\":{\"color\":\"#E45756\",\"dash\":\"solid\"},\"marker\":{\"symbol\":\"circle\"},\"mode\":\"markers+lines\",\"name\":\"Age 60\",\"orientation\":\"v\",\"showlegend\":true,\"x\":[1900,1920,1940,1960,1980,2000,2018],\"xaxis\":\"x\",\"y\":[4.2898355,4.8850908,6.3180275,10.958211,13.569151,15.704637,17.681852],\"yaxis\":\"y\",\"type\":\"scatter\"},{\"hovertemplate\":\"\\u003cb\\u003eAge 45\\u003c\\u002fb\\u003e  %{y:.2f}%\\u003cextra\\u003e\\u003c\\u002fextra\\u003e\",\"legendgroup\":\"Age 45\",\"line\":{\"color\":\"#72B7B2\",\"dash\":\"solid\"},\"marker\":{\"symbol\":\"circle\"},\"mode\":\"markers+lines\",\"name\":\"Age 45\",\"orientation\":\"v\",\"showlegend\":true,\"x\":[1900,1920,1940,1960,1980,2000,2018],\"xaxis\":\"x\",\"y\":[2.0883126,2.2757423,2.8379524,3.8069024,6.1046829,10.512973,9.170002],\"yaxis\":\"y\",\"type\":\"scatter\"},{\"hovertemplate\":\"\\u003cb\\u003eAge 30\\u003c\\u002fb\\u003e  %{y:.2f}%\\u003cextra\\u003e\\u003c\\u002fextra\\u003e\",\"legendgroup\":\"Age 30\",\"line\":{\"color\":\"#54A24B\",\"dash\":\"solid\"},\"marker\":{\"symbol\":\"circle\"},\"mode\":\"markers+lines\",\"name\":\"Age 30\",\"orientation\":\"v\",\"showlegend\":true,\"x\":[1900,1920,1940,1960,1980,2000,2018],\"xaxis\":\"x\",\"y\":[1.4475262,1.0820333,1.5331241,2.4077144,8.9690161,9.7933722,9.47083],\"yaxis\":\"y\",\"type\":\"scatter\"},{\"hovertemplate\":\"\\u003cb\\u003eAge 21\\u003c\\u002fb\\u003e  %{y:.2f}%\\u003cextra\\u003e\\u003c\\u002fextra\\u003e\",\"legendgroup\":\"Age 21\",\"line\":{\"color\":\"#EECA3B\",\"dash\":\"solid\"},\"marker\":{\"symbol\":\"circle\"},\"mode\":\"markers+lines\",\"name\":\"Age 21\",\"orientation\":\"v\",\"showlegend\":true,\"x\":[1900,1920,1940,1960,1980,2000,2018],\"xaxis\":\"x\",\"y\":[0.8530516,0.61699224,0.65782249,1.6465194,5.5592036,4.7959294,3.7633936],\"yaxis\":\"y\",\"type\":\"scatter\"},{\"hovertemplate\":\"\\u003cb\\u003eAge 18\\u003c\\u002fb\\u003e  %{y:.2f}%\\u003cextra\\u003e\\u003c\\u002fextra\\u003e\",\"legendgroup\":\"Age 18\",\"line\":{\"color\":\"#B279A2\",\"dash\":\"solid\"},\"marker\":{\"symbol\":\"circle\"},\"mode\":\"markers+lines\",\"name\":\"Age 18\",\"orientation\":\"v\",\"showlegend\":true,\"x\":[1900,1920,1940,1960,1980,2000,2018],\"xaxis\":\"x\",\"y\":[0.2826103,0.29753187,0.16828842,0.50808835,1.0791981,0.88557899,0.54856783],\"yaxis\":\"y\",\"type\":\"scatter\"}],                        {\"template\":{\"data\":{\"histogram2dcontour\":[{\"type\":\"histogram2dcontour\",\"colorbar\":{\"outlinewidth\":0,\"ticks\":\"\"},\"colorscale\":[[0.0,\"#0d0887\"],[0.1111111111111111,\"#46039f\"],[0.2222222222222222,\"#7201a8\"],[0.3333333333333333,\"#9c179e\"],[0.4444444444444444,\"#bd3786\"],[0.5555555555555556,\"#d8576b\"],[0.6666666666666666,\"#ed7953\"],[0.7777777777777778,\"#fb9f3a\"],[0.8888888888888888,\"#fdca26\"],[1.0,\"#f0f921\"]]}],\"choropleth\":[{\"type\":\"choropleth\",\"colorbar\":{\"outlinewidth\":0,\"ticks\":\"\"}}],\"histogram2d\":[{\"type\":\"histogram2d\",\"colorbar\":{\"outlinewidth\":0,\"ticks\":\"\"},\"colorscale\":[[0.0,\"#0d0887\"],[0.1111111111111111,\"#46039f\"],[0.2222222222222222,\"#7201a8\"],[0.3333333333333333,\"#9c179e\"],[0.4444444444444444,\"#bd3786\"],[0.5555555555555556,\"#d8576b\"],[0.6666666666666666,\"#ed7953\"],[0.7777777777777778,\"#fb9f3a\"],[0.8888888888888888,\"#fdca26\"],[1.0,\"#f0f921\"]]}],\"heatmap\":[{\"type\":\"heatmap\",\"colorbar\":{\"outlinewidth\":0,\"ticks\":\"\"},\"colorscale\":[[0.0,\"#0d0887\"],[0.1111111111111111,\"#46039f\"],[0.2222222222222222,\"#7201a8\"],[0.3333333333333333,\"#9c179e\"],[0.4444444444444444,\"#bd3786\"],[0.5555555555555556,\"#d8576b\"],[0.6666666666666666,\"#ed7953\"],[0.7777777777777778,\"#fb9f3a\"],[0.8888888888888888,\"#fdca26\"],[1.0,\"#f0f921\"]]}],\"heatmapgl\":[{\"type\":\"heatmapgl\",\"colorbar\":{\"outlinewidth\":0,\"ticks\":\"\"},\"colorscale\":[[0.0,\"#0d0887\"],[0.1111111111111111,\"#46039f\"],[0.2222222222222222,\"#7201a8\"],[0.3333333333333333,\"#9c179e\"],[0.4444444444444444,\"#bd3786\"],[0.5555555555555556,\"#d8576b\"],[0.6666666666666666,\"#ed7953\"],[0.7777777777777778,\"#fb9f3a\"],[0.8888888888888888,\"#fdca26\"],[1.0,\"#f0f921\"]]}],\"contourcarpet\":[{\"type\":\"contourcarpet\",\"colorbar\":{\"outlinewidth\":0,\"ticks\":\"\"}}],\"contour\":[{\"type\":\"contour\",\"colorbar\":{\"outlinewidth\":0,\"ticks\":\"\"},\"colorscale\":[[0.0,\"#0d0887\"],[0.1111111111111111,\"#46039f\"],[0.2222222222222222,\"#7201a8\"],[0.3333333333333333,\"#9c179e\"],[0.4444444444444444,\"#bd3786\"],[0.5555555555555556,\"#d8576b\"],[0.6666666666666666,\"#ed7953\"],[0.7777777777777778,\"#fb9f3a\"],[0.8888888888888888,\"#fdca26\"],[1.0,\"#f0f921\"]]}],\"surface\":[{\"type\":\"surface\",\"colorbar\":{\"outlinewidth\":0,\"ticks\":\"\"},\"colorscale\":[[0.0,\"#0d0887\"],[0.1111111111111111,\"#46039f\"],[0.2222222222222222,\"#7201a8\"],[0.3333333333333333,\"#9c179e\"],[0.4444444444444444,\"#bd3786\"],[0.5555555555555556,\"#d8576b\"],[0.6666666666666666,\"#ed7953\"],[0.7777777777777778,\"#fb9f3a\"],[0.8888888888888888,\"#fdca26\"],[1.0,\"#f0f921\"]]}],\"mesh3d\":[{\"type\":\"mesh3d\",\"colorbar\":{\"outlinewidth\":0,\"ticks\":\"\"}}],\"scatter\":[{\"fillpattern\":{\"fillmode\":\"overlay\",\"size\":10,\"solidity\":0.2},\"type\":\"scatter\"}],\"parcoords\":[{\"type\":\"parcoords\",\"line\":{\"colorbar\":{\"outlinewidth\":0,\"ticks\":\"\"}}}],\"scatterpolargl\":[{\"type\":\"scatterpolargl\",\"marker\":{\"colorbar\":{\"outlinewidth\":0,\"ticks\":\"\"}}}],\"bar\":[{\"error_x\":{\"color\":\"#2a3f5f\"},\"error_y\":{\"color\":\"#2a3f5f\"},\"marker\":{\"line\":{\"color\":\"#E5ECF6\",\"width\":0.5},\"pattern\":{\"fillmode\":\"overlay\",\"size\":10,\"solidity\":0.2}},\"type\":\"bar\"}],\"scattergeo\":[{\"type\":\"scattergeo\",\"marker\":{\"colorbar\":{\"outlinewidth\":0,\"ticks\":\"\"}}}],\"scatterpolar\":[{\"type\":\"scatterpolar\",\"marker\":{\"colorbar\":{\"outlinewidth\":0,\"ticks\":\"\"}}}],\"histogram\":[{\"marker\":{\"pattern\":{\"fillmode\":\"overlay\",\"size\":10,\"solidity\":0.2}},\"type\":\"histogram\"}],\"scattergl\":[{\"type\":\"scattergl\",\"marker\":{\"colorbar\":{\"outlinewidth\":0,\"ticks\":\"\"}}}],\"scatter3d\":[{\"type\":\"scatter3d\",\"line\":{\"colorbar\":{\"outlinewidth\":0,\"ticks\":\"\"}},\"marker\":{\"colorbar\":{\"outlinewidth\":0,\"ticks\":\"\"}}}],\"scattermapbox\":[{\"type\":\"scattermapbox\",\"marker\":{\"colorbar\":{\"outlinewidth\":0,\"ticks\":\"\"}}}],\"scatterternary\":[{\"type\":\"scatterternary\",\"marker\":{\"colorbar\":{\"outlinewidth\":0,\"ticks\":\"\"}}}],\"scattercarpet\":[{\"type\":\"scattercarpet\",\"marker\":{\"colorbar\":{\"outlinewidth\":0,\"ticks\":\"\"}}}],\"carpet\":[{\"aaxis\":{\"endlinecolor\":\"#2a3f5f\",\"gridcolor\":\"white\",\"linecolor\":\"white\",\"minorgridcolor\":\"white\",\"startlinecolor\":\"#2a3f5f\"},\"baxis\":{\"endlinecolor\":\"#2a3f5f\",\"gridcolor\":\"white\",\"linecolor\":\"white\",\"minorgridcolor\":\"white\",\"startlinecolor\":\"#2a3f5f\"},\"type\":\"carpet\"}],\"table\":[{\"cells\":{\"fill\":{\"color\":\"#EBF0F8\"},\"line\":{\"color\":\"white\"}},\"header\":{\"fill\":{\"color\":\"#C8D4E3\"},\"line\":{\"color\":\"white\"}},\"type\":\"table\"}],\"barpolar\":[{\"marker\":{\"line\":{\"color\":\"#E5ECF6\",\"width\":0.5},\"pattern\":{\"fillmode\":\"overlay\",\"size\":10,\"solidity\":0.2}},\"type\":\"barpolar\"}],\"pie\":[{\"automargin\":true,\"type\":\"pie\"}]},\"layout\":{\"autotypenumbers\":\"strict\",\"colorway\":[\"#636efa\",\"#EF553B\",\"#00cc96\",\"#ab63fa\",\"#FFA15A\",\"#19d3f3\",\"#FF6692\",\"#B6E880\",\"#FF97FF\",\"#FECB52\"],\"font\":{\"color\":\"#2a3f5f\"},\"hovermode\":\"closest\",\"hoverlabel\":{\"align\":\"left\"},\"paper_bgcolor\":\"white\",\"plot_bgcolor\":\"#E5ECF6\",\"polar\":{\"bgcolor\":\"#E5ECF6\",\"angularaxis\":{\"gridcolor\":\"white\",\"linecolor\":\"white\",\"ticks\":\"\"},\"radialaxis\":{\"gridcolor\":\"white\",\"linecolor\":\"white\",\"ticks\":\"\"}},\"ternary\":{\"bgcolor\":\"#E5ECF6\",\"aaxis\":{\"gridcolor\":\"white\",\"linecolor\":\"white\",\"ticks\":\"\"},\"baxis\":{\"gridcolor\":\"white\",\"linecolor\":\"white\",\"ticks\":\"\"},\"caxis\":{\"gridcolor\":\"white\",\"linecolor\":\"white\",\"ticks\":\"\"}},\"coloraxis\":{\"colorbar\":{\"outlinewidth\":0,\"ticks\":\"\"}},\"colorscale\":{\"sequential\":[[0.0,\"#0d0887\"],[0.1111111111111111,\"#46039f\"],[0.2222222222222222,\"#7201a8\"],[0.3333333333333333,\"#9c179e\"],[0.4444444444444444,\"#bd3786\"],[0.5555555555555556,\"#d8576b\"],[0.6666666666666666,\"#ed7953\"],[0.7777777777777778,\"#fb9f3a\"],[0.8888888888888888,\"#fdca26\"],[1.0,\"#f0f921\"]],\"sequentialminus\":[[0.0,\"#0d0887\"],[0.1111111111111111,\"#46039f\"],[0.2222222222222222,\"#7201a8\"],[0.3333333333333333,\"#9c179e\"],[0.4444444444444444,\"#bd3786\"],[0.5555555555555556,\"#d8576b\"],[0.6666666666666666,\"#ed7953\"],[0.7777777777777778,\"#fb9f3a\"],[0.8888888888888888,\"#fdca26\"],[1.0,\"#f0f921\"]],\"diverging\":[[0,\"#8e0152\"],[0.1,\"#c51b7d\"],[0.2,\"#de77ae\"],[0.3,\"#f1b6da\"],[0.4,\"#fde0ef\"],[0.5,\"#f7f7f7\"],[0.6,\"#e6f5d0\"],[0.7,\"#b8e186\"],[0.8,\"#7fbc41\"],[0.9,\"#4d9221\"],[1,\"#276419\"]]},\"xaxis\":{\"gridcolor\":\"white\",\"linecolor\":\"white\",\"ticks\":\"\",\"title\":{\"standoff\":15},\"zerolinecolor\":\"white\",\"automargin\":true,\"zerolinewidth\":2},\"yaxis\":{\"gridcolor\":\"white\",\"linecolor\":\"white\",\"ticks\":\"\",\"title\":{\"standoff\":15},\"zerolinecolor\":\"white\",\"automargin\":true,\"zerolinewidth\":2},\"scene\":{\"xaxis\":{\"backgroundcolor\":\"#E5ECF6\",\"gridcolor\":\"white\",\"linecolor\":\"white\",\"showbackground\":true,\"ticks\":\"\",\"zerolinecolor\":\"white\",\"gridwidth\":2},\"yaxis\":{\"backgroundcolor\":\"#E5ECF6\",\"gridcolor\":\"white\",\"linecolor\":\"white\",\"showbackground\":true,\"ticks\":\"\",\"zerolinecolor\":\"white\",\"gridwidth\":2},\"zaxis\":{\"backgroundcolor\":\"#E5ECF6\",\"gridcolor\":\"white\",\"linecolor\":\"white\",\"showbackground\":true,\"ticks\":\"\",\"zerolinecolor\":\"white\",\"gridwidth\":2}},\"shapedefaults\":{\"line\":{\"color\":\"#2a3f5f\"}},\"annotationdefaults\":{\"arrowcolor\":\"#2a3f5f\",\"arrowhead\":0,\"arrowwidth\":1},\"geo\":{\"bgcolor\":\"white\",\"landcolor\":\"#E5ECF6\",\"subunitcolor\":\"white\",\"showland\":true,\"showlakes\":true,\"lakecolor\":\"white\"},\"title\":{\"x\":0.05},\"mapbox\":{\"style\":\"light\"}}},\"xaxis\":{\"anchor\":\"y\",\"domain\":[0.0,1.0],\"title\":{\"text\":\"\\u003cb\\u003eYear\\u003c\\u002fb\\u003e\",\"font\":{\"size\":15,\"family\":\"Arial\"}}},\"yaxis\":{\"anchor\":\"x\",\"domain\":[0.0,1.0],\"title\":{\"text\":\"\"},\"ticksuffix\":\"%\"},\"legend\":{\"title\":{\"text\":\"Entity\"},\"tracegroupgap\":0},\"margin\":{\"t\":60},\"title\":{\"font\":{\"size\":20,\"family\":\"Arial\"},\"text\":\"\\u003cb\\u003ePercentage of Americans Living Along, by Age\\u003c\\u002fb\\u003e\",\"x\":0.55},\"width\":1000,\"height\":750,\"hovermode\":\"x unified\",\"showlegend\":false},                        {\"responsive\": true}                    ).then(function(){\n",
       "                            \n",
       "var gd = document.getElementById('e1afe909-9268-4e94-a3c0-e384fd7cefbc');\n",
       "var x = new MutationObserver(function (mutations, observer) {{\n",
       "        var display = window.getComputedStyle(gd).display;\n",
       "        if (!display || display === 'none') {{\n",
       "            console.log([gd, 'removed!']);\n",
       "            Plotly.purge(gd);\n",
       "            observer.disconnect();\n",
       "        }}\n",
       "}});\n",
       "\n",
       "// Listen for the removal of the full notebook cells\n",
       "var notebookContainer = gd.closest('#notebook-container');\n",
       "if (notebookContainer) {{\n",
       "    x.observe(notebookContainer, {childList: true});\n",
       "}}\n",
       "\n",
       "// Listen for the clearing of the current output cell\n",
       "var outputEl = gd.closest('.output');\n",
       "if (outputEl) {{\n",
       "    x.observe(outputEl, {childList: true});\n",
       "}}\n",
       "\n",
       "                        })                };                });            </script>        </div>"
      ]
     },
     "metadata": {},
     "output_type": "display_data"
    }
   ],
   "source": [
    "cate_types = df3['Entity'].unique()\n",
    "cate_order = list(reversed(cate_types))\n",
    "\n",
    "fig = px.line(df3, x='Year', y='Percentage of Americans living alone, by age, total (IPUMS)',\n",
    "              color='Entity',\n",
    "              category_orders={'Entity':cate_order},\n",
    "              # animation_frame = 'Year',\n",
    "              color_discrete_sequence=px.colors.qualitative.T10)\n",
    "fig.update_layout(\n",
    "    width = 1000,\n",
    "    height=750,\n",
    "    xaxis_title={\n",
    "        'text': '<b>Year</b>',\n",
    "        'font': {'size': 15, 'family': 'Arial'}\n",
    "    },\n",
    "    yaxis_title={'text':''},\n",
    "    title={'text':'<b>Percentage of Americans Living Along, by Age</b>',\n",
    "                'font':{'size': 20, 'family': 'Arial'}\n",
    "    },\n",
    "\n",
    "    title_x=0.55,\n",
    "    # yaxis_tickformat = '.0%', # use this when the data is in decimal ratio form, not percent (otherwise, it will display x*100 %)\n",
    "    yaxis_ticksuffix = '%'\n",
    ")\n",
    "\n",
    "# ensure it's line + dots\n",
    "fig.update_traces(mode=\"markers+lines\")\n",
    "\n",
    "# edit hover info or template\n",
    "for d in fig.data:\n",
    "  if d.name:\n",
    "      tmp = '<b>{}</b>  {}{{y:.2f}}{}<extra></extra>'.format(d.name,'%','%')\n",
    "      d.hovertemplate = tmp\n",
    "\n",
    "fig.update_layout(hovermode='x unified',\n",
    "                  showlegend=False)\n",
    "fig.show()"
   ]
  },
  {
   "cell_type": "markdown",
   "id": "f8Tn5C1GjZvH",
   "metadata": {
    "id": "f8Tn5C1GjZvH"
   },
   "source": [
    "**Thoughts re. visualization**\n",
    "- To control the hover data order, one can change the order of scatter plots by specifying category_orders = {'column name': [a,b,c,d,...]}\n",
    "- For this data, a line/marker plot is suitable instead of bar chart with hover data display and the ease of seeing the data trend\n",
    "- Nice to have: animate the plot by displaying data by selecting 'Year' and update the amount of data shown in the figure (example: select year 1920, only show data from year 1920 and on etc.)\n",
    "\n"
   ]
  },
  {
   "cell_type": "code",
   "execution_count": null,
   "id": "23c16280-2218-4c10-a2d8-5856cc093945",
   "metadata": {
    "id": "23c16280-2218-4c10-a2d8-5856cc093945"
   },
   "outputs": [],
   "source": [
    "fname4 = '{}/Time-Use-in-OECD-Countries-OECD - Time Use (OECD).csv'.format(fdir)\n",
    "df4 = pd.read_csv(fname4)\n",
    "# print(df4['Category'].unique())\n",
    "\n",
    "# need to pivot dataframe loong form to short form data frame so i can combine columns and drop unnecessary ones for plotting\n",
    "df4_piv = df4.pivot(index = 'Country', columns='Category', values='Time (minutes)').reset_index()\n",
    "tmp = [ss.rstrip() for ss in df4_piv.columns]\n",
    "df4_piv.columns = tmp\n",
    "\n",
    "# combine categories for simpler presentation\n",
    "df4_piv['Other unpaid work, care work and volunteer'] = df4_piv['Other unpaid work & volunteering'] + df4_piv['Care for household members']\n",
    "df4_piv['Housework and shopping'] = df4_piv['Housework'] + df4_piv['Shopping']\n",
    "df4_piv['Other leisure'] = df4_piv['Other leisure activities'] + df4_piv['Sports'] + df4_piv['Attending events']"
   ]
  },
  {
   "cell_type": "code",
   "execution_count": null,
   "id": "NnZK0zVkJ7eU",
   "metadata": {
    "colab": {
     "base_uri": "https://localhost:8080/",
     "height": 917
    },
    "id": "NnZK0zVkJ7eU",
    "outputId": "84265855-593a-4896-f29a-546bcaba77a8"
   },
   "outputs": [
    {
     "data": {
      "application/vnd.plotly.v1+json": {
       "config": {
        "plotlyServerURL": "https://plot.ly"
       },
       "data": [
        {
         "alignmentgroup": "True",
         "customdata": [
          [
           "Paid work"
          ],
          [
           "Paid work"
          ],
          [
           "Paid work"
          ],
          [
           "Paid work"
          ],
          [
           "Paid work"
          ],
          [
           "Paid work"
          ],
          [
           "Paid work"
          ],
          [
           "Paid work"
          ],
          [
           "Paid work"
          ],
          [
           "Paid work"
          ],
          [
           "Paid work"
          ],
          [
           "Paid work"
          ],
          [
           "Paid work"
          ],
          [
           "Paid work"
          ],
          [
           "Paid work"
          ],
          [
           "Paid work"
          ],
          [
           "Paid work"
          ],
          [
           "Paid work"
          ],
          [
           "Paid work"
          ],
          [
           "Paid work"
          ],
          [
           "Paid work"
          ],
          [
           "Paid work"
          ],
          [
           "Paid work"
          ],
          [
           "Paid work"
          ],
          [
           "Paid work"
          ],
          [
           "Paid work"
          ],
          [
           "Paid work"
          ],
          [
           "Paid work"
          ],
          [
           "Paid work"
          ],
          [
           "Paid work"
          ],
          [
           "Paid work"
          ],
          [
           "Paid work"
          ],
          [
           "Paid work"
          ]
         ],
         "hovertemplate": "<i>In <b>%{y}</b></i>, spend <b>%{x:.0f} mins</b><br>on %{customdata[0]}<extra></extra>",
         "legendgroup": "Paid work",
         "marker": {
          "color": "rgb(95, 70, 144)",
          "pattern": {
           "shape": ""
          }
         },
         "name": "Paid work",
         "offsetgroup": "Paid work",
         "orientation": "h",
         "showlegend": true,
         "textposition": "auto",
         "texttemplate": "%{x}",
         "type": "bar",
         "x": [
          211,
          280,
          194,
          269,
          315,
          200,
          231,
          200,
          170,
          224,
          187,
          199,
          272,
          231,
          149,
          326,
          288,
          317,
          304,
          247,
          302,
          218,
          241,
          201,
          229,
          259,
          227,
          189,
          176,
          262,
          217,
          235,
          251
         ],
         "xaxis": "x",
         "y": [
          "Australia",
          "Austria",
          "Belgium",
          "Canada",
          "China",
          "Denmark",
          "Estonia",
          "Finland",
          "France",
          "Germany",
          "Greece",
          "Hungary",
          "India",
          "Ireland",
          "Italy ",
          "Japan",
          "Korea",
          "Latvia",
          "Lithuania",
          "Luxembourg",
          "Mexico",
          "Netherlands",
          "New Zealand",
          "Norway ",
          "Poland",
          "Portugal",
          "Slovenia",
          "South Africa",
          "Spain",
          "Sweden",
          "Turkey",
          "UK",
          "USA"
         ],
         "yaxis": "y"
        },
        {
         "alignmentgroup": "True",
         "customdata": [
          [
           "Education"
          ],
          [
           "Education"
          ],
          [
           "Education"
          ],
          [
           "Education"
          ],
          [
           "Education"
          ],
          [
           "Education"
          ],
          [
           "Education"
          ],
          [
           "Education"
          ],
          [
           "Education"
          ],
          [
           "Education"
          ],
          [
           "Education"
          ],
          [
           "Education"
          ],
          [
           "Education"
          ],
          [
           "Education"
          ],
          [
           "Education"
          ],
          [
           "Education"
          ],
          [
           "Education"
          ],
          [
           "Education"
          ],
          [
           "Education"
          ],
          [
           "Education"
          ],
          [
           "Education"
          ],
          [
           "Education"
          ],
          [
           "Education"
          ],
          [
           "Education"
          ],
          [
           "Education"
          ],
          [
           "Education"
          ],
          [
           "Education"
          ],
          [
           "Education"
          ],
          [
           "Education"
          ],
          [
           "Education"
          ],
          [
           "Education"
          ],
          [
           "Education"
          ],
          [
           "Education"
          ]
         ],
         "hovertemplate": "<i>In <b>%{y}</b></i>, spend <b>%{x:.0f} mins</b><br>on %{customdata[0]}<extra></extra>",
         "legendgroup": "Education",
         "marker": {
          "color": "rgb(29, 105, 150)",
          "pattern": {
           "shape": ""
          }
         },
         "name": "Education",
         "offsetgroup": "Education",
         "orientation": "h",
         "showlegend": true,
         "textposition": "auto",
         "texttemplate": "%{x}",
         "type": "bar",
         "x": [
          27,
          27,
          41,
          36,
          25,
          25,
          25,
          29,
          34,
          24,
          40,
          38,
          23,
          37,
          28,
          37,
          57,
          13,
          12,
          37,
          45,
          25,
          29,
          40,
          30,
          36,
          38,
          39,
          26,
          31,
          29,
          27,
          31
         ],
         "xaxis": "x",
         "y": [
          "Australia",
          "Austria",
          "Belgium",
          "Canada",
          "China",
          "Denmark",
          "Estonia",
          "Finland",
          "France",
          "Germany",
          "Greece",
          "Hungary",
          "India",
          "Ireland",
          "Italy ",
          "Japan",
          "Korea",
          "Latvia",
          "Lithuania",
          "Luxembourg",
          "Mexico",
          "Netherlands",
          "New Zealand",
          "Norway ",
          "Poland",
          "Portugal",
          "Slovenia",
          "South Africa",
          "Spain",
          "Sweden",
          "Turkey",
          "UK",
          "USA"
         ],
         "yaxis": "y"
        },
        {
         "alignmentgroup": "True",
         "customdata": [
          [
           "Sleep"
          ],
          [
           "Sleep"
          ],
          [
           "Sleep"
          ],
          [
           "Sleep"
          ],
          [
           "Sleep"
          ],
          [
           "Sleep"
          ],
          [
           "Sleep"
          ],
          [
           "Sleep"
          ],
          [
           "Sleep"
          ],
          [
           "Sleep"
          ],
          [
           "Sleep"
          ],
          [
           "Sleep"
          ],
          [
           "Sleep"
          ],
          [
           "Sleep"
          ],
          [
           "Sleep"
          ],
          [
           "Sleep"
          ],
          [
           "Sleep"
          ],
          [
           "Sleep"
          ],
          [
           "Sleep"
          ],
          [
           "Sleep"
          ],
          [
           "Sleep"
          ],
          [
           "Sleep"
          ],
          [
           "Sleep"
          ],
          [
           "Sleep"
          ],
          [
           "Sleep"
          ],
          [
           "Sleep"
          ],
          [
           "Sleep"
          ],
          [
           "Sleep"
          ],
          [
           "Sleep"
          ],
          [
           "Sleep"
          ],
          [
           "Sleep"
          ],
          [
           "Sleep"
          ],
          [
           "Sleep"
          ]
         ],
         "hovertemplate": "<i>In <b>%{y}</b></i>, spend <b>%{x:.0f} mins</b><br>on %{customdata[0]}<extra></extra>",
         "legendgroup": "Sleep",
         "marker": {
          "color": "rgb(56, 166, 165)",
          "pattern": {
           "shape": ""
          }
         },
         "name": "Sleep",
         "offsetgroup": "Sleep",
         "orientation": "h",
         "showlegend": true,
         "textposition": "auto",
         "texttemplate": "%{x}",
         "type": "bar",
         "x": [
          512,
          498,
          513,
          520,
          542,
          489,
          530,
          508,
          513,
          498,
          500,
          506,
          528,
          491,
          513,
          442,
          471,
          512,
          503,
          518,
          499,
          503,
          526,
          492,
          509,
          506,
          501,
          553,
          516,
          483,
          515,
          508,
          528
         ],
         "xaxis": "x",
         "y": [
          "Australia",
          "Austria",
          "Belgium",
          "Canada",
          "China",
          "Denmark",
          "Estonia",
          "Finland",
          "France",
          "Germany",
          "Greece",
          "Hungary",
          "India",
          "Ireland",
          "Italy ",
          "Japan",
          "Korea",
          "Latvia",
          "Lithuania",
          "Luxembourg",
          "Mexico",
          "Netherlands",
          "New Zealand",
          "Norway ",
          "Poland",
          "Portugal",
          "Slovenia",
          "South Africa",
          "Spain",
          "Sweden",
          "Turkey",
          "UK",
          "USA"
         ],
         "yaxis": "y"
        },
        {
         "alignmentgroup": "True",
         "customdata": [
          [
           "Other unpaid work, care work and volunteer"
          ],
          [
           "Other unpaid work, care work and volunteer"
          ],
          [
           "Other unpaid work, care work and volunteer"
          ],
          [
           "Other unpaid work, care work and volunteer"
          ],
          [
           "Other unpaid work, care work and volunteer"
          ],
          [
           "Other unpaid work, care work and volunteer"
          ],
          [
           "Other unpaid work, care work and volunteer"
          ],
          [
           "Other unpaid work, care work and volunteer"
          ],
          [
           "Other unpaid work, care work and volunteer"
          ],
          [
           "Other unpaid work, care work and volunteer"
          ],
          [
           "Other unpaid work, care work and volunteer"
          ],
          [
           "Other unpaid work, care work and volunteer"
          ],
          [
           "Other unpaid work, care work and volunteer"
          ],
          [
           "Other unpaid work, care work and volunteer"
          ],
          [
           "Other unpaid work, care work and volunteer"
          ],
          [
           "Other unpaid work, care work and volunteer"
          ],
          [
           "Other unpaid work, care work and volunteer"
          ],
          [
           "Other unpaid work, care work and volunteer"
          ],
          [
           "Other unpaid work, care work and volunteer"
          ],
          [
           "Other unpaid work, care work and volunteer"
          ],
          [
           "Other unpaid work, care work and volunteer"
          ],
          [
           "Other unpaid work, care work and volunteer"
          ],
          [
           "Other unpaid work, care work and volunteer"
          ],
          [
           "Other unpaid work, care work and volunteer"
          ],
          [
           "Other unpaid work, care work and volunteer"
          ],
          [
           "Other unpaid work, care work and volunteer"
          ],
          [
           "Other unpaid work, care work and volunteer"
          ],
          [
           "Other unpaid work, care work and volunteer"
          ],
          [
           "Other unpaid work, care work and volunteer"
          ],
          [
           "Other unpaid work, care work and volunteer"
          ],
          [
           "Other unpaid work, care work and volunteer"
          ],
          [
           "Other unpaid work, care work and volunteer"
          ],
          [
           "Other unpaid work, care work and volunteer"
          ]
         ],
         "hovertemplate": "<i>In <b>%{y}</b></i>, spend <b>%{x:.0f} mins</b><br>on %{customdata[0]}<extra></extra>",
         "legendgroup": "Other unpaid work, care work and volunteer",
         "marker": {
          "color": "rgb(15, 133, 84)",
          "pattern": {
           "shape": ""
          }
         },
         "name": "Other unpaid work, care work and volunteer",
         "offsetgroup": "Other unpaid work, care work and volunteer",
         "orientation": "h",
         "showlegend": true,
         "textposition": "auto",
         "texttemplate": "%{x}",
         "type": "bar",
         "x": [
          103,
          66,
          52,
          81,
          56,
          73,
          68,
          104,
          39,
          72,
          45,
          69,
          43,
          133,
          70,
          98,
          70,
          54,
          61,
          62,
          84,
          68,
          89,
          100,
          77,
          52,
          53,
          59,
          89,
          66,
          89,
          94,
          96
         ],
         "xaxis": "x",
         "y": [
          "Australia",
          "Austria",
          "Belgium",
          "Canada",
          "China",
          "Denmark",
          "Estonia",
          "Finland",
          "France",
          "Germany",
          "Greece",
          "Hungary",
          "India",
          "Ireland",
          "Italy ",
          "Japan",
          "Korea",
          "Latvia",
          "Lithuania",
          "Luxembourg",
          "Mexico",
          "Netherlands",
          "New Zealand",
          "Norway ",
          "Poland",
          "Portugal",
          "Slovenia",
          "South Africa",
          "Spain",
          "Sweden",
          "Turkey",
          "UK",
          "USA"
         ],
         "yaxis": "y"
        },
        {
         "alignmentgroup": "True",
         "customdata": [
          [
           "Housework and shopping"
          ],
          [
           "Housework and shopping"
          ],
          [
           "Housework and shopping"
          ],
          [
           "Housework and shopping"
          ],
          [
           "Housework and shopping"
          ],
          [
           "Housework and shopping"
          ],
          [
           "Housework and shopping"
          ],
          [
           "Housework and shopping"
          ],
          [
           "Housework and shopping"
          ],
          [
           "Housework and shopping"
          ],
          [
           "Housework and shopping"
          ],
          [
           "Housework and shopping"
          ],
          [
           "Housework and shopping"
          ],
          [
           "Housework and shopping"
          ],
          [
           "Housework and shopping"
          ],
          [
           "Housework and shopping"
          ],
          [
           "Housework and shopping"
          ],
          [
           "Housework and shopping"
          ],
          [
           "Housework and shopping"
          ],
          [
           "Housework and shopping"
          ],
          [
           "Housework and shopping"
          ],
          [
           "Housework and shopping"
          ],
          [
           "Housework and shopping"
          ],
          [
           "Housework and shopping"
          ],
          [
           "Housework and shopping"
          ],
          [
           "Housework and shopping"
          ],
          [
           "Housework and shopping"
          ],
          [
           "Housework and shopping"
          ],
          [
           "Housework and shopping"
          ],
          [
           "Housework and shopping"
          ],
          [
           "Housework and shopping"
          ],
          [
           "Housework and shopping"
          ],
          [
           "Housework and shopping"
          ]
         ],
         "hovertemplate": "<i>In <b>%{y}</b></i>, spend <b>%{x:.0f} mins</b><br>on %{customdata[0]}<extra></extra>",
         "legendgroup": "Housework and shopping",
         "marker": {
          "color": "rgb(115, 175, 72)",
          "pattern": {
           "shape": ""
          }
         },
         "name": "Housework and shopping",
         "offsetgroup": "Housework and shopping",
         "orientation": "h",
         "showlegend": true,
         "textposition": "auto",
         "texttemplate": "%{x}",
         "type": "bar",
         "x": [
          161,
          146,
          150,
          139,
          123,
          154,
          145,
          135,
          151,
          141,
          141,
          169,
          160,
          119,
          163,
          105,
          89,
          146,
          171,
          131,
          201,
          133,
          134,
          103,
          160,
          176,
          184,
          139,
          141,
          130,
          138,
          133,
          122
         ],
         "xaxis": "x",
         "y": [
          "Australia",
          "Austria",
          "Belgium",
          "Canada",
          "China",
          "Denmark",
          "Estonia",
          "Finland",
          "France",
          "Germany",
          "Greece",
          "Hungary",
          "India",
          "Ireland",
          "Italy ",
          "Japan",
          "Korea",
          "Latvia",
          "Lithuania",
          "Luxembourg",
          "Mexico",
          "Netherlands",
          "New Zealand",
          "Norway ",
          "Poland",
          "Portugal",
          "Slovenia",
          "South Africa",
          "Spain",
          "Sweden",
          "Turkey",
          "UK",
          "USA"
         ],
         "yaxis": "y"
        },
        {
         "alignmentgroup": "True",
         "customdata": [
          [
           "Personal care"
          ],
          [
           "Personal care"
          ],
          [
           "Personal care"
          ],
          [
           "Personal care"
          ],
          [
           "Personal care"
          ],
          [
           "Personal care"
          ],
          [
           "Personal care"
          ],
          [
           "Personal care"
          ],
          [
           "Personal care"
          ],
          [
           "Personal care"
          ],
          [
           "Personal care"
          ],
          [
           "Personal care"
          ],
          [
           "Personal care"
          ],
          [
           "Personal care"
          ],
          [
           "Personal care"
          ],
          [
           "Personal care"
          ],
          [
           "Personal care"
          ],
          [
           "Personal care"
          ],
          [
           "Personal care"
          ],
          [
           "Personal care"
          ],
          [
           "Personal care"
          ],
          [
           "Personal care"
          ],
          [
           "Personal care"
          ],
          [
           "Personal care"
          ],
          [
           "Personal care"
          ],
          [
           "Personal care"
          ],
          [
           "Personal care"
          ],
          [
           "Personal care"
          ],
          [
           "Personal care"
          ],
          [
           "Personal care"
          ],
          [
           "Personal care"
          ],
          [
           "Personal care"
          ],
          [
           "Personal care"
          ]
         ],
         "hovertemplate": "<i>In <b>%{y}</b></i>, spend <b>%{x:.0f} mins</b><br>on %{customdata[0]}<extra></extra>",
         "legendgroup": "Personal care",
         "marker": {
          "color": "rgb(237, 173, 8)",
          "pattern": {
           "shape": ""
          }
         },
         "name": "Personal care",
         "offsetgroup": "Personal care",
         "orientation": "h",
         "showlegend": true,
         "textposition": "auto",
         "texttemplate": "%{x}",
         "type": "bar",
         "x": [
          56,
          55,
          53,
          52,
          52,
          52,
          54,
          52,
          107,
          55,
          57,
          76,
          75,
          42,
          68,
          85,
          90,
          40,
          54,
          55,
          58,
          65,
          42,
          56,
          57,
          58,
          41,
          70,
          51,
          57,
          50,
          58,
          57
         ],
         "xaxis": "x",
         "y": [
          "Australia",
          "Austria",
          "Belgium",
          "Canada",
          "China",
          "Denmark",
          "Estonia",
          "Finland",
          "France",
          "Germany",
          "Greece",
          "Hungary",
          "India",
          "Ireland",
          "Italy ",
          "Japan",
          "Korea",
          "Latvia",
          "Lithuania",
          "Luxembourg",
          "Mexico",
          "Netherlands",
          "New Zealand",
          "Norway ",
          "Poland",
          "Portugal",
          "Slovenia",
          "South Africa",
          "Spain",
          "Sweden",
          "Turkey",
          "UK",
          "USA"
         ],
         "yaxis": "y"
        },
        {
         "alignmentgroup": "True",
         "customdata": [
          [
           "Eating and drinking"
          ],
          [
           "Eating and drinking"
          ],
          [
           "Eating and drinking"
          ],
          [
           "Eating and drinking"
          ],
          [
           "Eating and drinking"
          ],
          [
           "Eating and drinking"
          ],
          [
           "Eating and drinking"
          ],
          [
           "Eating and drinking"
          ],
          [
           "Eating and drinking"
          ],
          [
           "Eating and drinking"
          ],
          [
           "Eating and drinking"
          ],
          [
           "Eating and drinking"
          ],
          [
           "Eating and drinking"
          ],
          [
           "Eating and drinking"
          ],
          [
           "Eating and drinking"
          ],
          [
           "Eating and drinking"
          ],
          [
           "Eating and drinking"
          ],
          [
           "Eating and drinking"
          ],
          [
           "Eating and drinking"
          ],
          [
           "Eating and drinking"
          ],
          [
           "Eating and drinking"
          ],
          [
           "Eating and drinking"
          ],
          [
           "Eating and drinking"
          ],
          [
           "Eating and drinking"
          ],
          [
           "Eating and drinking"
          ],
          [
           "Eating and drinking"
          ],
          [
           "Eating and drinking"
          ],
          [
           "Eating and drinking"
          ],
          [
           "Eating and drinking"
          ],
          [
           "Eating and drinking"
          ],
          [
           "Eating and drinking"
          ],
          [
           "Eating and drinking"
          ],
          [
           "Eating and drinking"
          ]
         ],
         "hovertemplate": "<i>In <b>%{y}</b></i>, spend <b>%{x:.0f} mins</b><br>on %{customdata[0]}<extra></extra>",
         "legendgroup": "Eating and drinking",
         "marker": {
          "color": "rgb(225, 124, 5)",
          "pattern": {
           "shape": ""
          }
         },
         "name": "Eating and drinking",
         "offsetgroup": "Eating and drinking",
         "orientation": "h",
         "showlegend": true,
         "textposition": "auto",
         "texttemplate": "%{x}",
         "type": "bar",
         "x": [
          89,
          79,
          99,
          65,
          100,
          119,
          79,
          81,
          133,
          95,
          128,
          101,
          84,
          75,
          127,
          93,
          117,
          89,
          88,
          112,
          77,
          114,
          80,
          79,
          91,
          112,
          86,
          72,
          126,
          83,
          118,
          79,
          63
         ],
         "xaxis": "x",
         "y": [
          "Australia",
          "Austria",
          "Belgium",
          "Canada",
          "China",
          "Denmark",
          "Estonia",
          "Finland",
          "France",
          "Germany",
          "Greece",
          "Hungary",
          "India",
          "Ireland",
          "Italy ",
          "Japan",
          "Korea",
          "Latvia",
          "Lithuania",
          "Luxembourg",
          "Mexico",
          "Netherlands",
          "New Zealand",
          "Norway ",
          "Poland",
          "Portugal",
          "Slovenia",
          "South Africa",
          "Spain",
          "Sweden",
          "Turkey",
          "UK",
          "USA"
         ],
         "yaxis": "y"
        },
        {
         "alignmentgroup": "True",
         "customdata": [
          [
           "TV and Radio"
          ],
          [
           "TV and Radio"
          ],
          [
           "TV and Radio"
          ],
          [
           "TV and Radio"
          ],
          [
           "TV and Radio"
          ],
          [
           "TV and Radio"
          ],
          [
           "TV and Radio"
          ],
          [
           "TV and Radio"
          ],
          [
           "TV and Radio"
          ],
          [
           "TV and Radio"
          ],
          [
           "TV and Radio"
          ],
          [
           "TV and Radio"
          ],
          [
           "TV and Radio"
          ],
          [
           "TV and Radio"
          ],
          [
           "TV and Radio"
          ],
          [
           "TV and Radio"
          ],
          [
           "TV and Radio"
          ],
          [
           "TV and Radio"
          ],
          [
           "TV and Radio"
          ],
          [
           "TV and Radio"
          ],
          [
           "TV and Radio"
          ],
          [
           "TV and Radio"
          ],
          [
           "TV and Radio"
          ],
          [
           "TV and Radio"
          ],
          [
           "TV and Radio"
          ],
          [
           "TV and Radio"
          ],
          [
           "TV and Radio"
          ],
          [
           "TV and Radio"
          ],
          [
           "TV and Radio"
          ],
          [
           "TV and Radio"
          ],
          [
           "TV and Radio"
          ],
          [
           "TV and Radio"
          ],
          [
           "TV and Radio"
          ]
         ],
         "hovertemplate": "<i>In <b>%{y}</b></i>, spend <b>%{x:.0f} mins</b><br>on %{customdata[0]}<extra></extra>",
         "legendgroup": "TV and Radio",
         "marker": {
          "color": "rgb(204, 80, 62)",
          "pattern": {
           "shape": ""
          }
         },
         "name": "TV and Radio",
         "offsetgroup": "TV and Radio",
         "orientation": "h",
         "showlegend": true,
         "textposition": "auto",
         "texttemplate": "%{x}",
         "type": "bar",
         "x": [
          140,
          109,
          131,
          109,
          127,
          123,
          122,
          118,
          114,
          118,
          137,
          134,
          61,
          85,
          104,
          103,
          102,
          123,
          137,
          116,
          66,
          113,
          124,
          129,
          122,
          114,
          120,
          132,
          129,
          113,
          124,
          133,
          148
         ],
         "xaxis": "x",
         "y": [
          "Australia",
          "Austria",
          "Belgium",
          "Canada",
          "China",
          "Denmark",
          "Estonia",
          "Finland",
          "France",
          "Germany",
          "Greece",
          "Hungary",
          "India",
          "Ireland",
          "Italy ",
          "Japan",
          "Korea",
          "Latvia",
          "Lithuania",
          "Luxembourg",
          "Mexico",
          "Netherlands",
          "New Zealand",
          "Norway ",
          "Poland",
          "Portugal",
          "Slovenia",
          "South Africa",
          "Spain",
          "Sweden",
          "Turkey",
          "UK",
          "USA"
         ],
         "yaxis": "y"
        },
        {
         "alignmentgroup": "True",
         "customdata": [
          [
           "Seeing friends"
          ],
          [
           "Seeing friends"
          ],
          [
           "Seeing friends"
          ],
          [
           "Seeing friends"
          ],
          [
           "Seeing friends"
          ],
          [
           "Seeing friends"
          ],
          [
           "Seeing friends"
          ],
          [
           "Seeing friends"
          ],
          [
           "Seeing friends"
          ],
          [
           "Seeing friends"
          ],
          [
           "Seeing friends"
          ],
          [
           "Seeing friends"
          ],
          [
           "Seeing friends"
          ],
          [
           "Seeing friends"
          ],
          [
           "Seeing friends"
          ],
          [
           "Seeing friends"
          ],
          [
           "Seeing friends"
          ],
          [
           "Seeing friends"
          ],
          [
           "Seeing friends"
          ],
          [
           "Seeing friends"
          ],
          [
           "Seeing friends"
          ],
          [
           "Seeing friends"
          ],
          [
           "Seeing friends"
          ],
          [
           "Seeing friends"
          ],
          [
           "Seeing friends"
          ],
          [
           "Seeing friends"
          ],
          [
           "Seeing friends"
          ],
          [
           "Seeing friends"
          ],
          [
           "Seeing friends"
          ],
          [
           "Seeing friends"
          ],
          [
           "Seeing friends"
          ],
          [
           "Seeing friends"
          ],
          [
           "Seeing friends"
          ]
         ],
         "hovertemplate": "<i>In <b>%{y}</b></i>, spend <b>%{x:.0f} mins</b><br>on %{customdata[0]}<extra></extra>",
         "legendgroup": "Seeing friends",
         "marker": {
          "color": "rgb(148, 52, 110)",
          "pattern": {
           "shape": ""
          }
         },
         "name": "Seeing friends",
         "offsetgroup": "Seeing friends",
         "orientation": "h",
         "showlegend": true,
         "textposition": "auto",
         "texttemplate": "%{x}",
         "type": "bar",
         "x": [
          40,
          82,
          50,
          53,
          23,
          81,
          38,
          55,
          55,
          61,
          56,
          35,
          73,
          49,
          65,
          17,
          42,
          35,
          32,
          32,
          44,
          73,
          69,
          57,
          45,
          44,
          62,
          82,
          51,
          53,
          68,
          47,
          44
         ],
         "xaxis": "x",
         "y": [
          "Australia",
          "Austria",
          "Belgium",
          "Canada",
          "China",
          "Denmark",
          "Estonia",
          "Finland",
          "France",
          "Germany",
          "Greece",
          "Hungary",
          "India",
          "Ireland",
          "Italy ",
          "Japan",
          "Korea",
          "Latvia",
          "Lithuania",
          "Luxembourg",
          "Mexico",
          "Netherlands",
          "New Zealand",
          "Norway ",
          "Poland",
          "Portugal",
          "Slovenia",
          "South Africa",
          "Spain",
          "Sweden",
          "Turkey",
          "UK",
          "USA"
         ],
         "yaxis": "y"
        },
        {
         "alignmentgroup": "True",
         "customdata": [
          [
           "Other leisure"
          ],
          [
           "Other leisure"
          ],
          [
           "Other leisure"
          ],
          [
           "Other leisure"
          ],
          [
           "Other leisure"
          ],
          [
           "Other leisure"
          ],
          [
           "Other leisure"
          ],
          [
           "Other leisure"
          ],
          [
           "Other leisure"
          ],
          [
           "Other leisure"
          ],
          [
           "Other leisure"
          ],
          [
           "Other leisure"
          ],
          [
           "Other leisure"
          ],
          [
           "Other leisure"
          ],
          [
           "Other leisure"
          ],
          [
           "Other leisure"
          ],
          [
           "Other leisure"
          ],
          [
           "Other leisure"
          ],
          [
           "Other leisure"
          ],
          [
           "Other leisure"
          ],
          [
           "Other leisure"
          ],
          [
           "Other leisure"
          ],
          [
           "Other leisure"
          ],
          [
           "Other leisure"
          ],
          [
           "Other leisure"
          ],
          [
           "Other leisure"
          ],
          [
           "Other leisure"
          ],
          [
           "Other leisure"
          ],
          [
           "Other leisure"
          ],
          [
           "Other leisure"
          ],
          [
           "Other leisure"
          ],
          [
           "Other leisure"
          ],
          [
           "Other leisure"
          ]
         ],
         "hovertemplate": "<i>In <b>%{y}</b></i>, spend <b>%{x:.0f} mins</b><br>on %{customdata[0]}<extra></extra>",
         "legendgroup": "Other leisure",
         "marker": {
          "color": "rgb(111, 64, 112)",
          "pattern": {
           "shape": ""
          }
         },
         "name": "Other leisure",
         "offsetgroup": "Other leisure",
         "orientation": "h",
         "showlegend": true,
         "textposition": "auto",
         "texttemplate": "%{x}",
         "type": "bar",
         "x": [
          101,
          100,
          158,
          116,
          78,
          124,
          149,
          158,
          125,
          152,
          148,
          113,
          119,
          178,
          154,
          null,
          113,
          111,
          78,
          127,
          62,
          130,
          108,
          183,
          119,
          83,
          129,
          92,
          136,
          155,
          94,
          124,
          99
         ],
         "xaxis": "x",
         "y": [
          "Australia",
          "Austria",
          "Belgium",
          "Canada",
          "China",
          "Denmark",
          "Estonia",
          "Finland",
          "France",
          "Germany",
          "Greece",
          "Hungary",
          "India",
          "Ireland",
          "Italy ",
          "Japan",
          "Korea",
          "Latvia",
          "Lithuania",
          "Luxembourg",
          "Mexico",
          "Netherlands",
          "New Zealand",
          "Norway ",
          "Poland",
          "Portugal",
          "Slovenia",
          "South Africa",
          "Spain",
          "Sweden",
          "Turkey",
          "UK",
          "USA"
         ],
         "yaxis": "y"
        }
       ],
       "layout": {
        "barmode": "relative",
        "height": 900,
        "legend": {
         "title": {
          "text": "Category"
         },
         "tracegroupgap": 0
        },
        "margin": {
         "t": 60
        },
        "showlegend": false,
        "template": {
         "data": {
          "bar": [
           {
            "error_x": {
             "color": "#2a3f5f"
            },
            "error_y": {
             "color": "#2a3f5f"
            },
            "marker": {
             "line": {
              "color": "#E5ECF6",
              "width": 0.5
             },
             "pattern": {
              "fillmode": "overlay",
              "size": 10,
              "solidity": 0.2
             }
            },
            "type": "bar"
           }
          ],
          "barpolar": [
           {
            "marker": {
             "line": {
              "color": "#E5ECF6",
              "width": 0.5
             },
             "pattern": {
              "fillmode": "overlay",
              "size": 10,
              "solidity": 0.2
             }
            },
            "type": "barpolar"
           }
          ],
          "carpet": [
           {
            "aaxis": {
             "endlinecolor": "#2a3f5f",
             "gridcolor": "white",
             "linecolor": "white",
             "minorgridcolor": "white",
             "startlinecolor": "#2a3f5f"
            },
            "baxis": {
             "endlinecolor": "#2a3f5f",
             "gridcolor": "white",
             "linecolor": "white",
             "minorgridcolor": "white",
             "startlinecolor": "#2a3f5f"
            },
            "type": "carpet"
           }
          ],
          "choropleth": [
           {
            "colorbar": {
             "outlinewidth": 0,
             "ticks": ""
            },
            "type": "choropleth"
           }
          ],
          "contour": [
           {
            "colorbar": {
             "outlinewidth": 0,
             "ticks": ""
            },
            "colorscale": [
             [
              0,
              "#0d0887"
             ],
             [
              0.1111111111111111,
              "#46039f"
             ],
             [
              0.2222222222222222,
              "#7201a8"
             ],
             [
              0.3333333333333333,
              "#9c179e"
             ],
             [
              0.4444444444444444,
              "#bd3786"
             ],
             [
              0.5555555555555556,
              "#d8576b"
             ],
             [
              0.6666666666666666,
              "#ed7953"
             ],
             [
              0.7777777777777778,
              "#fb9f3a"
             ],
             [
              0.8888888888888888,
              "#fdca26"
             ],
             [
              1,
              "#f0f921"
             ]
            ],
            "type": "contour"
           }
          ],
          "contourcarpet": [
           {
            "colorbar": {
             "outlinewidth": 0,
             "ticks": ""
            },
            "type": "contourcarpet"
           }
          ],
          "heatmap": [
           {
            "colorbar": {
             "outlinewidth": 0,
             "ticks": ""
            },
            "colorscale": [
             [
              0,
              "#0d0887"
             ],
             [
              0.1111111111111111,
              "#46039f"
             ],
             [
              0.2222222222222222,
              "#7201a8"
             ],
             [
              0.3333333333333333,
              "#9c179e"
             ],
             [
              0.4444444444444444,
              "#bd3786"
             ],
             [
              0.5555555555555556,
              "#d8576b"
             ],
             [
              0.6666666666666666,
              "#ed7953"
             ],
             [
              0.7777777777777778,
              "#fb9f3a"
             ],
             [
              0.8888888888888888,
              "#fdca26"
             ],
             [
              1,
              "#f0f921"
             ]
            ],
            "type": "heatmap"
           }
          ],
          "heatmapgl": [
           {
            "colorbar": {
             "outlinewidth": 0,
             "ticks": ""
            },
            "colorscale": [
             [
              0,
              "#0d0887"
             ],
             [
              0.1111111111111111,
              "#46039f"
             ],
             [
              0.2222222222222222,
              "#7201a8"
             ],
             [
              0.3333333333333333,
              "#9c179e"
             ],
             [
              0.4444444444444444,
              "#bd3786"
             ],
             [
              0.5555555555555556,
              "#d8576b"
             ],
             [
              0.6666666666666666,
              "#ed7953"
             ],
             [
              0.7777777777777778,
              "#fb9f3a"
             ],
             [
              0.8888888888888888,
              "#fdca26"
             ],
             [
              1,
              "#f0f921"
             ]
            ],
            "type": "heatmapgl"
           }
          ],
          "histogram": [
           {
            "marker": {
             "pattern": {
              "fillmode": "overlay",
              "size": 10,
              "solidity": 0.2
             }
            },
            "type": "histogram"
           }
          ],
          "histogram2d": [
           {
            "colorbar": {
             "outlinewidth": 0,
             "ticks": ""
            },
            "colorscale": [
             [
              0,
              "#0d0887"
             ],
             [
              0.1111111111111111,
              "#46039f"
             ],
             [
              0.2222222222222222,
              "#7201a8"
             ],
             [
              0.3333333333333333,
              "#9c179e"
             ],
             [
              0.4444444444444444,
              "#bd3786"
             ],
             [
              0.5555555555555556,
              "#d8576b"
             ],
             [
              0.6666666666666666,
              "#ed7953"
             ],
             [
              0.7777777777777778,
              "#fb9f3a"
             ],
             [
              0.8888888888888888,
              "#fdca26"
             ],
             [
              1,
              "#f0f921"
             ]
            ],
            "type": "histogram2d"
           }
          ],
          "histogram2dcontour": [
           {
            "colorbar": {
             "outlinewidth": 0,
             "ticks": ""
            },
            "colorscale": [
             [
              0,
              "#0d0887"
             ],
             [
              0.1111111111111111,
              "#46039f"
             ],
             [
              0.2222222222222222,
              "#7201a8"
             ],
             [
              0.3333333333333333,
              "#9c179e"
             ],
             [
              0.4444444444444444,
              "#bd3786"
             ],
             [
              0.5555555555555556,
              "#d8576b"
             ],
             [
              0.6666666666666666,
              "#ed7953"
             ],
             [
              0.7777777777777778,
              "#fb9f3a"
             ],
             [
              0.8888888888888888,
              "#fdca26"
             ],
             [
              1,
              "#f0f921"
             ]
            ],
            "type": "histogram2dcontour"
           }
          ],
          "mesh3d": [
           {
            "colorbar": {
             "outlinewidth": 0,
             "ticks": ""
            },
            "type": "mesh3d"
           }
          ],
          "parcoords": [
           {
            "line": {
             "colorbar": {
              "outlinewidth": 0,
              "ticks": ""
             }
            },
            "type": "parcoords"
           }
          ],
          "pie": [
           {
            "automargin": true,
            "type": "pie"
           }
          ],
          "scatter": [
           {
            "fillpattern": {
             "fillmode": "overlay",
             "size": 10,
             "solidity": 0.2
            },
            "type": "scatter"
           }
          ],
          "scatter3d": [
           {
            "line": {
             "colorbar": {
              "outlinewidth": 0,
              "ticks": ""
             }
            },
            "marker": {
             "colorbar": {
              "outlinewidth": 0,
              "ticks": ""
             }
            },
            "type": "scatter3d"
           }
          ],
          "scattercarpet": [
           {
            "marker": {
             "colorbar": {
              "outlinewidth": 0,
              "ticks": ""
             }
            },
            "type": "scattercarpet"
           }
          ],
          "scattergeo": [
           {
            "marker": {
             "colorbar": {
              "outlinewidth": 0,
              "ticks": ""
             }
            },
            "type": "scattergeo"
           }
          ],
          "scattergl": [
           {
            "marker": {
             "colorbar": {
              "outlinewidth": 0,
              "ticks": ""
             }
            },
            "type": "scattergl"
           }
          ],
          "scattermapbox": [
           {
            "marker": {
             "colorbar": {
              "outlinewidth": 0,
              "ticks": ""
             }
            },
            "type": "scattermapbox"
           }
          ],
          "scatterpolar": [
           {
            "marker": {
             "colorbar": {
              "outlinewidth": 0,
              "ticks": ""
             }
            },
            "type": "scatterpolar"
           }
          ],
          "scatterpolargl": [
           {
            "marker": {
             "colorbar": {
              "outlinewidth": 0,
              "ticks": ""
             }
            },
            "type": "scatterpolargl"
           }
          ],
          "scatterternary": [
           {
            "marker": {
             "colorbar": {
              "outlinewidth": 0,
              "ticks": ""
             }
            },
            "type": "scatterternary"
           }
          ],
          "surface": [
           {
            "colorbar": {
             "outlinewidth": 0,
             "ticks": ""
            },
            "colorscale": [
             [
              0,
              "#0d0887"
             ],
             [
              0.1111111111111111,
              "#46039f"
             ],
             [
              0.2222222222222222,
              "#7201a8"
             ],
             [
              0.3333333333333333,
              "#9c179e"
             ],
             [
              0.4444444444444444,
              "#bd3786"
             ],
             [
              0.5555555555555556,
              "#d8576b"
             ],
             [
              0.6666666666666666,
              "#ed7953"
             ],
             [
              0.7777777777777778,
              "#fb9f3a"
             ],
             [
              0.8888888888888888,
              "#fdca26"
             ],
             [
              1,
              "#f0f921"
             ]
            ],
            "type": "surface"
           }
          ],
          "table": [
           {
            "cells": {
             "fill": {
              "color": "#EBF0F8"
             },
             "line": {
              "color": "white"
             }
            },
            "header": {
             "fill": {
              "color": "#C8D4E3"
             },
             "line": {
              "color": "white"
             }
            },
            "type": "table"
           }
          ]
         },
         "layout": {
          "annotationdefaults": {
           "arrowcolor": "#2a3f5f",
           "arrowhead": 0,
           "arrowwidth": 1
          },
          "autotypenumbers": "strict",
          "coloraxis": {
           "colorbar": {
            "outlinewidth": 0,
            "ticks": ""
           }
          },
          "colorscale": {
           "diverging": [
            [
             0,
             "#8e0152"
            ],
            [
             0.1,
             "#c51b7d"
            ],
            [
             0.2,
             "#de77ae"
            ],
            [
             0.3,
             "#f1b6da"
            ],
            [
             0.4,
             "#fde0ef"
            ],
            [
             0.5,
             "#f7f7f7"
            ],
            [
             0.6,
             "#e6f5d0"
            ],
            [
             0.7,
             "#b8e186"
            ],
            [
             0.8,
             "#7fbc41"
            ],
            [
             0.9,
             "#4d9221"
            ],
            [
             1,
             "#276419"
            ]
           ],
           "sequential": [
            [
             0,
             "#0d0887"
            ],
            [
             0.1111111111111111,
             "#46039f"
            ],
            [
             0.2222222222222222,
             "#7201a8"
            ],
            [
             0.3333333333333333,
             "#9c179e"
            ],
            [
             0.4444444444444444,
             "#bd3786"
            ],
            [
             0.5555555555555556,
             "#d8576b"
            ],
            [
             0.6666666666666666,
             "#ed7953"
            ],
            [
             0.7777777777777778,
             "#fb9f3a"
            ],
            [
             0.8888888888888888,
             "#fdca26"
            ],
            [
             1,
             "#f0f921"
            ]
           ],
           "sequentialminus": [
            [
             0,
             "#0d0887"
            ],
            [
             0.1111111111111111,
             "#46039f"
            ],
            [
             0.2222222222222222,
             "#7201a8"
            ],
            [
             0.3333333333333333,
             "#9c179e"
            ],
            [
             0.4444444444444444,
             "#bd3786"
            ],
            [
             0.5555555555555556,
             "#d8576b"
            ],
            [
             0.6666666666666666,
             "#ed7953"
            ],
            [
             0.7777777777777778,
             "#fb9f3a"
            ],
            [
             0.8888888888888888,
             "#fdca26"
            ],
            [
             1,
             "#f0f921"
            ]
           ]
          },
          "colorway": [
           "#636efa",
           "#EF553B",
           "#00cc96",
           "#ab63fa",
           "#FFA15A",
           "#19d3f3",
           "#FF6692",
           "#B6E880",
           "#FF97FF",
           "#FECB52"
          ],
          "font": {
           "color": "#2a3f5f"
          },
          "geo": {
           "bgcolor": "white",
           "lakecolor": "white",
           "landcolor": "#E5ECF6",
           "showlakes": true,
           "showland": true,
           "subunitcolor": "white"
          },
          "hoverlabel": {
           "align": "left"
          },
          "hovermode": "closest",
          "mapbox": {
           "style": "light"
          },
          "paper_bgcolor": "white",
          "plot_bgcolor": "#E5ECF6",
          "polar": {
           "angularaxis": {
            "gridcolor": "white",
            "linecolor": "white",
            "ticks": ""
           },
           "bgcolor": "#E5ECF6",
           "radialaxis": {
            "gridcolor": "white",
            "linecolor": "white",
            "ticks": ""
           }
          },
          "scene": {
           "xaxis": {
            "backgroundcolor": "#E5ECF6",
            "gridcolor": "white",
            "gridwidth": 2,
            "linecolor": "white",
            "showbackground": true,
            "ticks": "",
            "zerolinecolor": "white"
           },
           "yaxis": {
            "backgroundcolor": "#E5ECF6",
            "gridcolor": "white",
            "gridwidth": 2,
            "linecolor": "white",
            "showbackground": true,
            "ticks": "",
            "zerolinecolor": "white"
           },
           "zaxis": {
            "backgroundcolor": "#E5ECF6",
            "gridcolor": "white",
            "gridwidth": 2,
            "linecolor": "white",
            "showbackground": true,
            "ticks": "",
            "zerolinecolor": "white"
           }
          },
          "shapedefaults": {
           "line": {
            "color": "#2a3f5f"
           }
          },
          "ternary": {
           "aaxis": {
            "gridcolor": "white",
            "linecolor": "white",
            "ticks": ""
           },
           "baxis": {
            "gridcolor": "white",
            "linecolor": "white",
            "ticks": ""
           },
           "bgcolor": "#E5ECF6",
           "caxis": {
            "gridcolor": "white",
            "linecolor": "white",
            "ticks": ""
           }
          },
          "title": {
           "x": 0.05
          },
          "xaxis": {
           "automargin": true,
           "gridcolor": "white",
           "linecolor": "white",
           "ticks": "",
           "title": {
            "standoff": 15
           },
           "zerolinecolor": "white",
           "zerolinewidth": 2
          },
          "yaxis": {
           "automargin": true,
           "gridcolor": "white",
           "linecolor": "white",
           "ticks": "",
           "title": {
            "standoff": 15
           },
           "zerolinecolor": "white",
           "zerolinewidth": 2
          }
         }
        },
        "title": {
         "font": {
          "family": "Arial",
          "size": 20
         },
         "text": "<b>How do People Spend Their Time in the World</b>",
         "x": 0.55
        },
        "width": 1000,
        "xaxis": {
         "anchor": "y",
         "domain": [
          0,
          1
         ],
         "title": {
          "font": {
           "family": "Arial",
           "size": 15
          },
          "text": "<b>Time (min)</b>"
         }
        },
        "yaxis": {
         "anchor": "x",
         "domain": [
          0,
          1
         ],
         "tickfont": {
          "family": "Arial Black",
          "size": 13
         },
         "title": {
          "text": ""
         }
        }
       }
      },
      "text/html": [
       "<div>                            <div id=\"650af53b-ba9a-4ccb-b9b8-09266a679707\" class=\"plotly-graph-div\" style=\"height:900px; width:1000px;\"></div>            <script type=\"text/javascript\">                require([\"plotly\"], function(Plotly) {                    window.PLOTLYENV=window.PLOTLYENV || {};                                    if (document.getElementById(\"650af53b-ba9a-4ccb-b9b8-09266a679707\")) {                    Plotly.newPlot(                        \"650af53b-ba9a-4ccb-b9b8-09266a679707\",                        [{\"alignmentgroup\":\"True\",\"customdata\":[[\"Paid work\"],[\"Paid work\"],[\"Paid work\"],[\"Paid work\"],[\"Paid work\"],[\"Paid work\"],[\"Paid work\"],[\"Paid work\"],[\"Paid work\"],[\"Paid work\"],[\"Paid work\"],[\"Paid work\"],[\"Paid work\"],[\"Paid work\"],[\"Paid work\"],[\"Paid work\"],[\"Paid work\"],[\"Paid work\"],[\"Paid work\"],[\"Paid work\"],[\"Paid work\"],[\"Paid work\"],[\"Paid work\"],[\"Paid work\"],[\"Paid work\"],[\"Paid work\"],[\"Paid work\"],[\"Paid work\"],[\"Paid work\"],[\"Paid work\"],[\"Paid work\"],[\"Paid work\"],[\"Paid work\"]],\"hovertemplate\":\"\\u003ci\\u003eIn \\u003cb\\u003e%{y}\\u003c\\u002fb\\u003e\\u003c\\u002fi\\u003e, spend \\u003cb\\u003e%{x:.0f} mins\\u003c\\u002fb\\u003e\\u003cbr\\u003eon %{customdata[0]}\\u003cextra\\u003e\\u003c\\u002fextra\\u003e\",\"legendgroup\":\"Paid work\",\"marker\":{\"color\":\"rgb(95, 70, 144)\",\"pattern\":{\"shape\":\"\"}},\"name\":\"Paid work\",\"offsetgroup\":\"Paid work\",\"orientation\":\"h\",\"showlegend\":true,\"textposition\":\"auto\",\"texttemplate\":\"%{x}\",\"x\":[211.0,280.0,194.0,269.0,315.0,200.0,231.0,200.0,170.0,224.0,187.0,199.0,272.0,231.0,149.0,326.0,288.0,317.0,304.0,247.0,302.0,218.0,241.0,201.0,229.0,259.0,227.0,189.0,176.0,262.0,217.0,235.0,251.0],\"xaxis\":\"x\",\"y\":[\"Australia\",\"Austria\",\"Belgium\",\"Canada\",\"China\",\"Denmark\",\"Estonia\",\"Finland\",\"France\",\"Germany\",\"Greece\",\"Hungary\",\"India\",\"Ireland\",\"Italy \",\"Japan\",\"Korea\",\"Latvia\",\"Lithuania\",\"Luxembourg\",\"Mexico\",\"Netherlands\",\"New Zealand\",\"Norway \",\"Poland\",\"Portugal\",\"Slovenia\",\"South Africa\",\"Spain\",\"Sweden\",\"Turkey\",\"UK\",\"USA\"],\"yaxis\":\"y\",\"type\":\"bar\"},{\"alignmentgroup\":\"True\",\"customdata\":[[\"Education\"],[\"Education\"],[\"Education\"],[\"Education\"],[\"Education\"],[\"Education\"],[\"Education\"],[\"Education\"],[\"Education\"],[\"Education\"],[\"Education\"],[\"Education\"],[\"Education\"],[\"Education\"],[\"Education\"],[\"Education\"],[\"Education\"],[\"Education\"],[\"Education\"],[\"Education\"],[\"Education\"],[\"Education\"],[\"Education\"],[\"Education\"],[\"Education\"],[\"Education\"],[\"Education\"],[\"Education\"],[\"Education\"],[\"Education\"],[\"Education\"],[\"Education\"],[\"Education\"]],\"hovertemplate\":\"\\u003ci\\u003eIn \\u003cb\\u003e%{y}\\u003c\\u002fb\\u003e\\u003c\\u002fi\\u003e, spend \\u003cb\\u003e%{x:.0f} mins\\u003c\\u002fb\\u003e\\u003cbr\\u003eon %{customdata[0]}\\u003cextra\\u003e\\u003c\\u002fextra\\u003e\",\"legendgroup\":\"Education\",\"marker\":{\"color\":\"rgb(29, 105, 150)\",\"pattern\":{\"shape\":\"\"}},\"name\":\"Education\",\"offsetgroup\":\"Education\",\"orientation\":\"h\",\"showlegend\":true,\"textposition\":\"auto\",\"texttemplate\":\"%{x}\",\"x\":[27.0,27.0,41.0,36.0,25.0,25.0,25.0,29.0,34.0,24.0,40.0,38.0,23.0,37.0,28.0,37.0,57.0,13.0,12.0,37.0,45.0,25.0,29.0,40.0,30.0,36.0,38.0,39.0,26.0,31.0,29.0,27.0,31.0],\"xaxis\":\"x\",\"y\":[\"Australia\",\"Austria\",\"Belgium\",\"Canada\",\"China\",\"Denmark\",\"Estonia\",\"Finland\",\"France\",\"Germany\",\"Greece\",\"Hungary\",\"India\",\"Ireland\",\"Italy \",\"Japan\",\"Korea\",\"Latvia\",\"Lithuania\",\"Luxembourg\",\"Mexico\",\"Netherlands\",\"New Zealand\",\"Norway \",\"Poland\",\"Portugal\",\"Slovenia\",\"South Africa\",\"Spain\",\"Sweden\",\"Turkey\",\"UK\",\"USA\"],\"yaxis\":\"y\",\"type\":\"bar\"},{\"alignmentgroup\":\"True\",\"customdata\":[[\"Sleep\"],[\"Sleep\"],[\"Sleep\"],[\"Sleep\"],[\"Sleep\"],[\"Sleep\"],[\"Sleep\"],[\"Sleep\"],[\"Sleep\"],[\"Sleep\"],[\"Sleep\"],[\"Sleep\"],[\"Sleep\"],[\"Sleep\"],[\"Sleep\"],[\"Sleep\"],[\"Sleep\"],[\"Sleep\"],[\"Sleep\"],[\"Sleep\"],[\"Sleep\"],[\"Sleep\"],[\"Sleep\"],[\"Sleep\"],[\"Sleep\"],[\"Sleep\"],[\"Sleep\"],[\"Sleep\"],[\"Sleep\"],[\"Sleep\"],[\"Sleep\"],[\"Sleep\"],[\"Sleep\"]],\"hovertemplate\":\"\\u003ci\\u003eIn \\u003cb\\u003e%{y}\\u003c\\u002fb\\u003e\\u003c\\u002fi\\u003e, spend \\u003cb\\u003e%{x:.0f} mins\\u003c\\u002fb\\u003e\\u003cbr\\u003eon %{customdata[0]}\\u003cextra\\u003e\\u003c\\u002fextra\\u003e\",\"legendgroup\":\"Sleep\",\"marker\":{\"color\":\"rgb(56, 166, 165)\",\"pattern\":{\"shape\":\"\"}},\"name\":\"Sleep\",\"offsetgroup\":\"Sleep\",\"orientation\":\"h\",\"showlegend\":true,\"textposition\":\"auto\",\"texttemplate\":\"%{x}\",\"x\":[512.0,498.0,513.0,520.0,542.0,489.0,530.0,508.0,513.0,498.0,500.0,506.0,528.0,491.0,513.0,442.0,471.0,512.0,503.0,518.0,499.0,503.0,526.0,492.0,509.0,506.0,501.0,553.0,516.0,483.0,515.0,508.0,528.0],\"xaxis\":\"x\",\"y\":[\"Australia\",\"Austria\",\"Belgium\",\"Canada\",\"China\",\"Denmark\",\"Estonia\",\"Finland\",\"France\",\"Germany\",\"Greece\",\"Hungary\",\"India\",\"Ireland\",\"Italy \",\"Japan\",\"Korea\",\"Latvia\",\"Lithuania\",\"Luxembourg\",\"Mexico\",\"Netherlands\",\"New Zealand\",\"Norway \",\"Poland\",\"Portugal\",\"Slovenia\",\"South Africa\",\"Spain\",\"Sweden\",\"Turkey\",\"UK\",\"USA\"],\"yaxis\":\"y\",\"type\":\"bar\"},{\"alignmentgroup\":\"True\",\"customdata\":[[\"Other unpaid work, care work and volunteer\"],[\"Other unpaid work, care work and volunteer\"],[\"Other unpaid work, care work and volunteer\"],[\"Other unpaid work, care work and volunteer\"],[\"Other unpaid work, care work and volunteer\"],[\"Other unpaid work, care work and volunteer\"],[\"Other unpaid work, care work and volunteer\"],[\"Other unpaid work, care work and volunteer\"],[\"Other unpaid work, care work and volunteer\"],[\"Other unpaid work, care work and volunteer\"],[\"Other unpaid work, care work and volunteer\"],[\"Other unpaid work, care work and volunteer\"],[\"Other unpaid work, care work and volunteer\"],[\"Other unpaid work, care work and volunteer\"],[\"Other unpaid work, care work and volunteer\"],[\"Other unpaid work, care work and volunteer\"],[\"Other unpaid work, care work and volunteer\"],[\"Other unpaid work, care work and volunteer\"],[\"Other unpaid work, care work and volunteer\"],[\"Other unpaid work, care work and volunteer\"],[\"Other unpaid work, care work and volunteer\"],[\"Other unpaid work, care work and volunteer\"],[\"Other unpaid work, care work and volunteer\"],[\"Other unpaid work, care work and volunteer\"],[\"Other unpaid work, care work and volunteer\"],[\"Other unpaid work, care work and volunteer\"],[\"Other unpaid work, care work and volunteer\"],[\"Other unpaid work, care work and volunteer\"],[\"Other unpaid work, care work and volunteer\"],[\"Other unpaid work, care work and volunteer\"],[\"Other unpaid work, care work and volunteer\"],[\"Other unpaid work, care work and volunteer\"],[\"Other unpaid work, care work and volunteer\"]],\"hovertemplate\":\"\\u003ci\\u003eIn \\u003cb\\u003e%{y}\\u003c\\u002fb\\u003e\\u003c\\u002fi\\u003e, spend \\u003cb\\u003e%{x:.0f} mins\\u003c\\u002fb\\u003e\\u003cbr\\u003eon %{customdata[0]}\\u003cextra\\u003e\\u003c\\u002fextra\\u003e\",\"legendgroup\":\"Other unpaid work, care work and volunteer\",\"marker\":{\"color\":\"rgb(15, 133, 84)\",\"pattern\":{\"shape\":\"\"}},\"name\":\"Other unpaid work, care work and volunteer\",\"offsetgroup\":\"Other unpaid work, care work and volunteer\",\"orientation\":\"h\",\"showlegend\":true,\"textposition\":\"auto\",\"texttemplate\":\"%{x}\",\"x\":[103.0,66.0,52.0,81.0,56.0,73.0,68.0,104.0,39.0,72.0,45.0,69.0,43.0,133.0,70.0,98.0,70.0,54.0,61.0,62.0,84.0,68.0,89.0,100.0,77.0,52.0,53.0,59.0,89.0,66.0,89.0,94.0,96.0],\"xaxis\":\"x\",\"y\":[\"Australia\",\"Austria\",\"Belgium\",\"Canada\",\"China\",\"Denmark\",\"Estonia\",\"Finland\",\"France\",\"Germany\",\"Greece\",\"Hungary\",\"India\",\"Ireland\",\"Italy \",\"Japan\",\"Korea\",\"Latvia\",\"Lithuania\",\"Luxembourg\",\"Mexico\",\"Netherlands\",\"New Zealand\",\"Norway \",\"Poland\",\"Portugal\",\"Slovenia\",\"South Africa\",\"Spain\",\"Sweden\",\"Turkey\",\"UK\",\"USA\"],\"yaxis\":\"y\",\"type\":\"bar\"},{\"alignmentgroup\":\"True\",\"customdata\":[[\"Housework and shopping\"],[\"Housework and shopping\"],[\"Housework and shopping\"],[\"Housework and shopping\"],[\"Housework and shopping\"],[\"Housework and shopping\"],[\"Housework and shopping\"],[\"Housework and shopping\"],[\"Housework and shopping\"],[\"Housework and shopping\"],[\"Housework and shopping\"],[\"Housework and shopping\"],[\"Housework and shopping\"],[\"Housework and shopping\"],[\"Housework and shopping\"],[\"Housework and shopping\"],[\"Housework and shopping\"],[\"Housework and shopping\"],[\"Housework and shopping\"],[\"Housework and shopping\"],[\"Housework and shopping\"],[\"Housework and shopping\"],[\"Housework and shopping\"],[\"Housework and shopping\"],[\"Housework and shopping\"],[\"Housework and shopping\"],[\"Housework and shopping\"],[\"Housework and shopping\"],[\"Housework and shopping\"],[\"Housework and shopping\"],[\"Housework and shopping\"],[\"Housework and shopping\"],[\"Housework and shopping\"]],\"hovertemplate\":\"\\u003ci\\u003eIn \\u003cb\\u003e%{y}\\u003c\\u002fb\\u003e\\u003c\\u002fi\\u003e, spend \\u003cb\\u003e%{x:.0f} mins\\u003c\\u002fb\\u003e\\u003cbr\\u003eon %{customdata[0]}\\u003cextra\\u003e\\u003c\\u002fextra\\u003e\",\"legendgroup\":\"Housework and shopping\",\"marker\":{\"color\":\"rgb(115, 175, 72)\",\"pattern\":{\"shape\":\"\"}},\"name\":\"Housework and shopping\",\"offsetgroup\":\"Housework and shopping\",\"orientation\":\"h\",\"showlegend\":true,\"textposition\":\"auto\",\"texttemplate\":\"%{x}\",\"x\":[161.0,146.0,150.0,139.0,123.0,154.0,145.0,135.0,151.0,141.0,141.0,169.0,160.0,119.0,163.0,105.0,89.0,146.0,171.0,131.0,201.0,133.0,134.0,103.0,160.0,176.0,184.0,139.0,141.0,130.0,138.0,133.0,122.0],\"xaxis\":\"x\",\"y\":[\"Australia\",\"Austria\",\"Belgium\",\"Canada\",\"China\",\"Denmark\",\"Estonia\",\"Finland\",\"France\",\"Germany\",\"Greece\",\"Hungary\",\"India\",\"Ireland\",\"Italy \",\"Japan\",\"Korea\",\"Latvia\",\"Lithuania\",\"Luxembourg\",\"Mexico\",\"Netherlands\",\"New Zealand\",\"Norway \",\"Poland\",\"Portugal\",\"Slovenia\",\"South Africa\",\"Spain\",\"Sweden\",\"Turkey\",\"UK\",\"USA\"],\"yaxis\":\"y\",\"type\":\"bar\"},{\"alignmentgroup\":\"True\",\"customdata\":[[\"Personal care\"],[\"Personal care\"],[\"Personal care\"],[\"Personal care\"],[\"Personal care\"],[\"Personal care\"],[\"Personal care\"],[\"Personal care\"],[\"Personal care\"],[\"Personal care\"],[\"Personal care\"],[\"Personal care\"],[\"Personal care\"],[\"Personal care\"],[\"Personal care\"],[\"Personal care\"],[\"Personal care\"],[\"Personal care\"],[\"Personal care\"],[\"Personal care\"],[\"Personal care\"],[\"Personal care\"],[\"Personal care\"],[\"Personal care\"],[\"Personal care\"],[\"Personal care\"],[\"Personal care\"],[\"Personal care\"],[\"Personal care\"],[\"Personal care\"],[\"Personal care\"],[\"Personal care\"],[\"Personal care\"]],\"hovertemplate\":\"\\u003ci\\u003eIn \\u003cb\\u003e%{y}\\u003c\\u002fb\\u003e\\u003c\\u002fi\\u003e, spend \\u003cb\\u003e%{x:.0f} mins\\u003c\\u002fb\\u003e\\u003cbr\\u003eon %{customdata[0]}\\u003cextra\\u003e\\u003c\\u002fextra\\u003e\",\"legendgroup\":\"Personal care\",\"marker\":{\"color\":\"rgb(237, 173, 8)\",\"pattern\":{\"shape\":\"\"}},\"name\":\"Personal care\",\"offsetgroup\":\"Personal care\",\"orientation\":\"h\",\"showlegend\":true,\"textposition\":\"auto\",\"texttemplate\":\"%{x}\",\"x\":[56.0,55.0,53.0,52.0,52.0,52.0,54.0,52.0,107.0,55.0,57.0,76.0,75.0,42.0,68.0,85.0,90.0,40.0,54.0,55.0,58.0,65.0,42.0,56.0,57.0,58.0,41.0,70.0,51.0,57.0,50.0,58.0,57.0],\"xaxis\":\"x\",\"y\":[\"Australia\",\"Austria\",\"Belgium\",\"Canada\",\"China\",\"Denmark\",\"Estonia\",\"Finland\",\"France\",\"Germany\",\"Greece\",\"Hungary\",\"India\",\"Ireland\",\"Italy \",\"Japan\",\"Korea\",\"Latvia\",\"Lithuania\",\"Luxembourg\",\"Mexico\",\"Netherlands\",\"New Zealand\",\"Norway \",\"Poland\",\"Portugal\",\"Slovenia\",\"South Africa\",\"Spain\",\"Sweden\",\"Turkey\",\"UK\",\"USA\"],\"yaxis\":\"y\",\"type\":\"bar\"},{\"alignmentgroup\":\"True\",\"customdata\":[[\"Eating and drinking\"],[\"Eating and drinking\"],[\"Eating and drinking\"],[\"Eating and drinking\"],[\"Eating and drinking\"],[\"Eating and drinking\"],[\"Eating and drinking\"],[\"Eating and drinking\"],[\"Eating and drinking\"],[\"Eating and drinking\"],[\"Eating and drinking\"],[\"Eating and drinking\"],[\"Eating and drinking\"],[\"Eating and drinking\"],[\"Eating and drinking\"],[\"Eating and drinking\"],[\"Eating and drinking\"],[\"Eating and drinking\"],[\"Eating and drinking\"],[\"Eating and drinking\"],[\"Eating and drinking\"],[\"Eating and drinking\"],[\"Eating and drinking\"],[\"Eating and drinking\"],[\"Eating and drinking\"],[\"Eating and drinking\"],[\"Eating and drinking\"],[\"Eating and drinking\"],[\"Eating and drinking\"],[\"Eating and drinking\"],[\"Eating and drinking\"],[\"Eating and drinking\"],[\"Eating and drinking\"]],\"hovertemplate\":\"\\u003ci\\u003eIn \\u003cb\\u003e%{y}\\u003c\\u002fb\\u003e\\u003c\\u002fi\\u003e, spend \\u003cb\\u003e%{x:.0f} mins\\u003c\\u002fb\\u003e\\u003cbr\\u003eon %{customdata[0]}\\u003cextra\\u003e\\u003c\\u002fextra\\u003e\",\"legendgroup\":\"Eating and drinking\",\"marker\":{\"color\":\"rgb(225, 124, 5)\",\"pattern\":{\"shape\":\"\"}},\"name\":\"Eating and drinking\",\"offsetgroup\":\"Eating and drinking\",\"orientation\":\"h\",\"showlegend\":true,\"textposition\":\"auto\",\"texttemplate\":\"%{x}\",\"x\":[89.0,79.0,99.0,65.0,100.0,119.0,79.0,81.0,133.0,95.0,128.0,101.0,84.0,75.0,127.0,93.0,117.0,89.0,88.0,112.0,77.0,114.0,80.0,79.0,91.0,112.0,86.0,72.0,126.0,83.0,118.0,79.0,63.0],\"xaxis\":\"x\",\"y\":[\"Australia\",\"Austria\",\"Belgium\",\"Canada\",\"China\",\"Denmark\",\"Estonia\",\"Finland\",\"France\",\"Germany\",\"Greece\",\"Hungary\",\"India\",\"Ireland\",\"Italy \",\"Japan\",\"Korea\",\"Latvia\",\"Lithuania\",\"Luxembourg\",\"Mexico\",\"Netherlands\",\"New Zealand\",\"Norway \",\"Poland\",\"Portugal\",\"Slovenia\",\"South Africa\",\"Spain\",\"Sweden\",\"Turkey\",\"UK\",\"USA\"],\"yaxis\":\"y\",\"type\":\"bar\"},{\"alignmentgroup\":\"True\",\"customdata\":[[\"TV and Radio\"],[\"TV and Radio\"],[\"TV and Radio\"],[\"TV and Radio\"],[\"TV and Radio\"],[\"TV and Radio\"],[\"TV and Radio\"],[\"TV and Radio\"],[\"TV and Radio\"],[\"TV and Radio\"],[\"TV and Radio\"],[\"TV and Radio\"],[\"TV and Radio\"],[\"TV and Radio\"],[\"TV and Radio\"],[\"TV and Radio\"],[\"TV and Radio\"],[\"TV and Radio\"],[\"TV and Radio\"],[\"TV and Radio\"],[\"TV and Radio\"],[\"TV and Radio\"],[\"TV and Radio\"],[\"TV and Radio\"],[\"TV and Radio\"],[\"TV and Radio\"],[\"TV and Radio\"],[\"TV and Radio\"],[\"TV and Radio\"],[\"TV and Radio\"],[\"TV and Radio\"],[\"TV and Radio\"],[\"TV and Radio\"]],\"hovertemplate\":\"\\u003ci\\u003eIn \\u003cb\\u003e%{y}\\u003c\\u002fb\\u003e\\u003c\\u002fi\\u003e, spend \\u003cb\\u003e%{x:.0f} mins\\u003c\\u002fb\\u003e\\u003cbr\\u003eon %{customdata[0]}\\u003cextra\\u003e\\u003c\\u002fextra\\u003e\",\"legendgroup\":\"TV and Radio\",\"marker\":{\"color\":\"rgb(204, 80, 62)\",\"pattern\":{\"shape\":\"\"}},\"name\":\"TV and Radio\",\"offsetgroup\":\"TV and Radio\",\"orientation\":\"h\",\"showlegend\":true,\"textposition\":\"auto\",\"texttemplate\":\"%{x}\",\"x\":[140.0,109.0,131.0,109.0,127.0,123.0,122.0,118.0,114.0,118.0,137.0,134.0,61.0,85.0,104.0,103.0,102.0,123.0,137.0,116.0,66.0,113.0,124.0,129.0,122.0,114.0,120.0,132.0,129.0,113.0,124.0,133.0,148.0],\"xaxis\":\"x\",\"y\":[\"Australia\",\"Austria\",\"Belgium\",\"Canada\",\"China\",\"Denmark\",\"Estonia\",\"Finland\",\"France\",\"Germany\",\"Greece\",\"Hungary\",\"India\",\"Ireland\",\"Italy \",\"Japan\",\"Korea\",\"Latvia\",\"Lithuania\",\"Luxembourg\",\"Mexico\",\"Netherlands\",\"New Zealand\",\"Norway \",\"Poland\",\"Portugal\",\"Slovenia\",\"South Africa\",\"Spain\",\"Sweden\",\"Turkey\",\"UK\",\"USA\"],\"yaxis\":\"y\",\"type\":\"bar\"},{\"alignmentgroup\":\"True\",\"customdata\":[[\"Seeing friends\"],[\"Seeing friends\"],[\"Seeing friends\"],[\"Seeing friends\"],[\"Seeing friends\"],[\"Seeing friends\"],[\"Seeing friends\"],[\"Seeing friends\"],[\"Seeing friends\"],[\"Seeing friends\"],[\"Seeing friends\"],[\"Seeing friends\"],[\"Seeing friends\"],[\"Seeing friends\"],[\"Seeing friends\"],[\"Seeing friends\"],[\"Seeing friends\"],[\"Seeing friends\"],[\"Seeing friends\"],[\"Seeing friends\"],[\"Seeing friends\"],[\"Seeing friends\"],[\"Seeing friends\"],[\"Seeing friends\"],[\"Seeing friends\"],[\"Seeing friends\"],[\"Seeing friends\"],[\"Seeing friends\"],[\"Seeing friends\"],[\"Seeing friends\"],[\"Seeing friends\"],[\"Seeing friends\"],[\"Seeing friends\"]],\"hovertemplate\":\"\\u003ci\\u003eIn \\u003cb\\u003e%{y}\\u003c\\u002fb\\u003e\\u003c\\u002fi\\u003e, spend \\u003cb\\u003e%{x:.0f} mins\\u003c\\u002fb\\u003e\\u003cbr\\u003eon %{customdata[0]}\\u003cextra\\u003e\\u003c\\u002fextra\\u003e\",\"legendgroup\":\"Seeing friends\",\"marker\":{\"color\":\"rgb(148, 52, 110)\",\"pattern\":{\"shape\":\"\"}},\"name\":\"Seeing friends\",\"offsetgroup\":\"Seeing friends\",\"orientation\":\"h\",\"showlegend\":true,\"textposition\":\"auto\",\"texttemplate\":\"%{x}\",\"x\":[40.0,82.0,50.0,53.0,23.0,81.0,38.0,55.0,55.0,61.0,56.0,35.0,73.0,49.0,65.0,17.0,42.0,35.0,32.0,32.0,44.0,73.0,69.0,57.0,45.0,44.0,62.0,82.0,51.0,53.0,68.0,47.0,44.0],\"xaxis\":\"x\",\"y\":[\"Australia\",\"Austria\",\"Belgium\",\"Canada\",\"China\",\"Denmark\",\"Estonia\",\"Finland\",\"France\",\"Germany\",\"Greece\",\"Hungary\",\"India\",\"Ireland\",\"Italy \",\"Japan\",\"Korea\",\"Latvia\",\"Lithuania\",\"Luxembourg\",\"Mexico\",\"Netherlands\",\"New Zealand\",\"Norway \",\"Poland\",\"Portugal\",\"Slovenia\",\"South Africa\",\"Spain\",\"Sweden\",\"Turkey\",\"UK\",\"USA\"],\"yaxis\":\"y\",\"type\":\"bar\"},{\"alignmentgroup\":\"True\",\"customdata\":[[\"Other leisure\"],[\"Other leisure\"],[\"Other leisure\"],[\"Other leisure\"],[\"Other leisure\"],[\"Other leisure\"],[\"Other leisure\"],[\"Other leisure\"],[\"Other leisure\"],[\"Other leisure\"],[\"Other leisure\"],[\"Other leisure\"],[\"Other leisure\"],[\"Other leisure\"],[\"Other leisure\"],[\"Other leisure\"],[\"Other leisure\"],[\"Other leisure\"],[\"Other leisure\"],[\"Other leisure\"],[\"Other leisure\"],[\"Other leisure\"],[\"Other leisure\"],[\"Other leisure\"],[\"Other leisure\"],[\"Other leisure\"],[\"Other leisure\"],[\"Other leisure\"],[\"Other leisure\"],[\"Other leisure\"],[\"Other leisure\"],[\"Other leisure\"],[\"Other leisure\"]],\"hovertemplate\":\"\\u003ci\\u003eIn \\u003cb\\u003e%{y}\\u003c\\u002fb\\u003e\\u003c\\u002fi\\u003e, spend \\u003cb\\u003e%{x:.0f} mins\\u003c\\u002fb\\u003e\\u003cbr\\u003eon %{customdata[0]}\\u003cextra\\u003e\\u003c\\u002fextra\\u003e\",\"legendgroup\":\"Other leisure\",\"marker\":{\"color\":\"rgb(111, 64, 112)\",\"pattern\":{\"shape\":\"\"}},\"name\":\"Other leisure\",\"offsetgroup\":\"Other leisure\",\"orientation\":\"h\",\"showlegend\":true,\"textposition\":\"auto\",\"texttemplate\":\"%{x}\",\"x\":[101.0,100.0,158.0,116.0,78.0,124.0,149.0,158.0,125.0,152.0,148.0,113.0,119.0,178.0,154.0,null,113.0,111.0,78.0,127.0,62.0,130.0,108.0,183.0,119.0,83.0,129.0,92.0,136.0,155.0,94.0,124.0,99.0],\"xaxis\":\"x\",\"y\":[\"Australia\",\"Austria\",\"Belgium\",\"Canada\",\"China\",\"Denmark\",\"Estonia\",\"Finland\",\"France\",\"Germany\",\"Greece\",\"Hungary\",\"India\",\"Ireland\",\"Italy \",\"Japan\",\"Korea\",\"Latvia\",\"Lithuania\",\"Luxembourg\",\"Mexico\",\"Netherlands\",\"New Zealand\",\"Norway \",\"Poland\",\"Portugal\",\"Slovenia\",\"South Africa\",\"Spain\",\"Sweden\",\"Turkey\",\"UK\",\"USA\"],\"yaxis\":\"y\",\"type\":\"bar\"}],                        {\"template\":{\"data\":{\"histogram2dcontour\":[{\"type\":\"histogram2dcontour\",\"colorbar\":{\"outlinewidth\":0,\"ticks\":\"\"},\"colorscale\":[[0.0,\"#0d0887\"],[0.1111111111111111,\"#46039f\"],[0.2222222222222222,\"#7201a8\"],[0.3333333333333333,\"#9c179e\"],[0.4444444444444444,\"#bd3786\"],[0.5555555555555556,\"#d8576b\"],[0.6666666666666666,\"#ed7953\"],[0.7777777777777778,\"#fb9f3a\"],[0.8888888888888888,\"#fdca26\"],[1.0,\"#f0f921\"]]}],\"choropleth\":[{\"type\":\"choropleth\",\"colorbar\":{\"outlinewidth\":0,\"ticks\":\"\"}}],\"histogram2d\":[{\"type\":\"histogram2d\",\"colorbar\":{\"outlinewidth\":0,\"ticks\":\"\"},\"colorscale\":[[0.0,\"#0d0887\"],[0.1111111111111111,\"#46039f\"],[0.2222222222222222,\"#7201a8\"],[0.3333333333333333,\"#9c179e\"],[0.4444444444444444,\"#bd3786\"],[0.5555555555555556,\"#d8576b\"],[0.6666666666666666,\"#ed7953\"],[0.7777777777777778,\"#fb9f3a\"],[0.8888888888888888,\"#fdca26\"],[1.0,\"#f0f921\"]]}],\"heatmap\":[{\"type\":\"heatmap\",\"colorbar\":{\"outlinewidth\":0,\"ticks\":\"\"},\"colorscale\":[[0.0,\"#0d0887\"],[0.1111111111111111,\"#46039f\"],[0.2222222222222222,\"#7201a8\"],[0.3333333333333333,\"#9c179e\"],[0.4444444444444444,\"#bd3786\"],[0.5555555555555556,\"#d8576b\"],[0.6666666666666666,\"#ed7953\"],[0.7777777777777778,\"#fb9f3a\"],[0.8888888888888888,\"#fdca26\"],[1.0,\"#f0f921\"]]}],\"heatmapgl\":[{\"type\":\"heatmapgl\",\"colorbar\":{\"outlinewidth\":0,\"ticks\":\"\"},\"colorscale\":[[0.0,\"#0d0887\"],[0.1111111111111111,\"#46039f\"],[0.2222222222222222,\"#7201a8\"],[0.3333333333333333,\"#9c179e\"],[0.4444444444444444,\"#bd3786\"],[0.5555555555555556,\"#d8576b\"],[0.6666666666666666,\"#ed7953\"],[0.7777777777777778,\"#fb9f3a\"],[0.8888888888888888,\"#fdca26\"],[1.0,\"#f0f921\"]]}],\"contourcarpet\":[{\"type\":\"contourcarpet\",\"colorbar\":{\"outlinewidth\":0,\"ticks\":\"\"}}],\"contour\":[{\"type\":\"contour\",\"colorbar\":{\"outlinewidth\":0,\"ticks\":\"\"},\"colorscale\":[[0.0,\"#0d0887\"],[0.1111111111111111,\"#46039f\"],[0.2222222222222222,\"#7201a8\"],[0.3333333333333333,\"#9c179e\"],[0.4444444444444444,\"#bd3786\"],[0.5555555555555556,\"#d8576b\"],[0.6666666666666666,\"#ed7953\"],[0.7777777777777778,\"#fb9f3a\"],[0.8888888888888888,\"#fdca26\"],[1.0,\"#f0f921\"]]}],\"surface\":[{\"type\":\"surface\",\"colorbar\":{\"outlinewidth\":0,\"ticks\":\"\"},\"colorscale\":[[0.0,\"#0d0887\"],[0.1111111111111111,\"#46039f\"],[0.2222222222222222,\"#7201a8\"],[0.3333333333333333,\"#9c179e\"],[0.4444444444444444,\"#bd3786\"],[0.5555555555555556,\"#d8576b\"],[0.6666666666666666,\"#ed7953\"],[0.7777777777777778,\"#fb9f3a\"],[0.8888888888888888,\"#fdca26\"],[1.0,\"#f0f921\"]]}],\"mesh3d\":[{\"type\":\"mesh3d\",\"colorbar\":{\"outlinewidth\":0,\"ticks\":\"\"}}],\"scatter\":[{\"fillpattern\":{\"fillmode\":\"overlay\",\"size\":10,\"solidity\":0.2},\"type\":\"scatter\"}],\"parcoords\":[{\"type\":\"parcoords\",\"line\":{\"colorbar\":{\"outlinewidth\":0,\"ticks\":\"\"}}}],\"scatterpolargl\":[{\"type\":\"scatterpolargl\",\"marker\":{\"colorbar\":{\"outlinewidth\":0,\"ticks\":\"\"}}}],\"bar\":[{\"error_x\":{\"color\":\"#2a3f5f\"},\"error_y\":{\"color\":\"#2a3f5f\"},\"marker\":{\"line\":{\"color\":\"#E5ECF6\",\"width\":0.5},\"pattern\":{\"fillmode\":\"overlay\",\"size\":10,\"solidity\":0.2}},\"type\":\"bar\"}],\"scattergeo\":[{\"type\":\"scattergeo\",\"marker\":{\"colorbar\":{\"outlinewidth\":0,\"ticks\":\"\"}}}],\"scatterpolar\":[{\"type\":\"scatterpolar\",\"marker\":{\"colorbar\":{\"outlinewidth\":0,\"ticks\":\"\"}}}],\"histogram\":[{\"marker\":{\"pattern\":{\"fillmode\":\"overlay\",\"size\":10,\"solidity\":0.2}},\"type\":\"histogram\"}],\"scattergl\":[{\"type\":\"scattergl\",\"marker\":{\"colorbar\":{\"outlinewidth\":0,\"ticks\":\"\"}}}],\"scatter3d\":[{\"type\":\"scatter3d\",\"line\":{\"colorbar\":{\"outlinewidth\":0,\"ticks\":\"\"}},\"marker\":{\"colorbar\":{\"outlinewidth\":0,\"ticks\":\"\"}}}],\"scattermapbox\":[{\"type\":\"scattermapbox\",\"marker\":{\"colorbar\":{\"outlinewidth\":0,\"ticks\":\"\"}}}],\"scatterternary\":[{\"type\":\"scatterternary\",\"marker\":{\"colorbar\":{\"outlinewidth\":0,\"ticks\":\"\"}}}],\"scattercarpet\":[{\"type\":\"scattercarpet\",\"marker\":{\"colorbar\":{\"outlinewidth\":0,\"ticks\":\"\"}}}],\"carpet\":[{\"aaxis\":{\"endlinecolor\":\"#2a3f5f\",\"gridcolor\":\"white\",\"linecolor\":\"white\",\"minorgridcolor\":\"white\",\"startlinecolor\":\"#2a3f5f\"},\"baxis\":{\"endlinecolor\":\"#2a3f5f\",\"gridcolor\":\"white\",\"linecolor\":\"white\",\"minorgridcolor\":\"white\",\"startlinecolor\":\"#2a3f5f\"},\"type\":\"carpet\"}],\"table\":[{\"cells\":{\"fill\":{\"color\":\"#EBF0F8\"},\"line\":{\"color\":\"white\"}},\"header\":{\"fill\":{\"color\":\"#C8D4E3\"},\"line\":{\"color\":\"white\"}},\"type\":\"table\"}],\"barpolar\":[{\"marker\":{\"line\":{\"color\":\"#E5ECF6\",\"width\":0.5},\"pattern\":{\"fillmode\":\"overlay\",\"size\":10,\"solidity\":0.2}},\"type\":\"barpolar\"}],\"pie\":[{\"automargin\":true,\"type\":\"pie\"}]},\"layout\":{\"autotypenumbers\":\"strict\",\"colorway\":[\"#636efa\",\"#EF553B\",\"#00cc96\",\"#ab63fa\",\"#FFA15A\",\"#19d3f3\",\"#FF6692\",\"#B6E880\",\"#FF97FF\",\"#FECB52\"],\"font\":{\"color\":\"#2a3f5f\"},\"hovermode\":\"closest\",\"hoverlabel\":{\"align\":\"left\"},\"paper_bgcolor\":\"white\",\"plot_bgcolor\":\"#E5ECF6\",\"polar\":{\"bgcolor\":\"#E5ECF6\",\"angularaxis\":{\"gridcolor\":\"white\",\"linecolor\":\"white\",\"ticks\":\"\"},\"radialaxis\":{\"gridcolor\":\"white\",\"linecolor\":\"white\",\"ticks\":\"\"}},\"ternary\":{\"bgcolor\":\"#E5ECF6\",\"aaxis\":{\"gridcolor\":\"white\",\"linecolor\":\"white\",\"ticks\":\"\"},\"baxis\":{\"gridcolor\":\"white\",\"linecolor\":\"white\",\"ticks\":\"\"},\"caxis\":{\"gridcolor\":\"white\",\"linecolor\":\"white\",\"ticks\":\"\"}},\"coloraxis\":{\"colorbar\":{\"outlinewidth\":0,\"ticks\":\"\"}},\"colorscale\":{\"sequential\":[[0.0,\"#0d0887\"],[0.1111111111111111,\"#46039f\"],[0.2222222222222222,\"#7201a8\"],[0.3333333333333333,\"#9c179e\"],[0.4444444444444444,\"#bd3786\"],[0.5555555555555556,\"#d8576b\"],[0.6666666666666666,\"#ed7953\"],[0.7777777777777778,\"#fb9f3a\"],[0.8888888888888888,\"#fdca26\"],[1.0,\"#f0f921\"]],\"sequentialminus\":[[0.0,\"#0d0887\"],[0.1111111111111111,\"#46039f\"],[0.2222222222222222,\"#7201a8\"],[0.3333333333333333,\"#9c179e\"],[0.4444444444444444,\"#bd3786\"],[0.5555555555555556,\"#d8576b\"],[0.6666666666666666,\"#ed7953\"],[0.7777777777777778,\"#fb9f3a\"],[0.8888888888888888,\"#fdca26\"],[1.0,\"#f0f921\"]],\"diverging\":[[0,\"#8e0152\"],[0.1,\"#c51b7d\"],[0.2,\"#de77ae\"],[0.3,\"#f1b6da\"],[0.4,\"#fde0ef\"],[0.5,\"#f7f7f7\"],[0.6,\"#e6f5d0\"],[0.7,\"#b8e186\"],[0.8,\"#7fbc41\"],[0.9,\"#4d9221\"],[1,\"#276419\"]]},\"xaxis\":{\"gridcolor\":\"white\",\"linecolor\":\"white\",\"ticks\":\"\",\"title\":{\"standoff\":15},\"zerolinecolor\":\"white\",\"automargin\":true,\"zerolinewidth\":2},\"yaxis\":{\"gridcolor\":\"white\",\"linecolor\":\"white\",\"ticks\":\"\",\"title\":{\"standoff\":15},\"zerolinecolor\":\"white\",\"automargin\":true,\"zerolinewidth\":2},\"scene\":{\"xaxis\":{\"backgroundcolor\":\"#E5ECF6\",\"gridcolor\":\"white\",\"linecolor\":\"white\",\"showbackground\":true,\"ticks\":\"\",\"zerolinecolor\":\"white\",\"gridwidth\":2},\"yaxis\":{\"backgroundcolor\":\"#E5ECF6\",\"gridcolor\":\"white\",\"linecolor\":\"white\",\"showbackground\":true,\"ticks\":\"\",\"zerolinecolor\":\"white\",\"gridwidth\":2},\"zaxis\":{\"backgroundcolor\":\"#E5ECF6\",\"gridcolor\":\"white\",\"linecolor\":\"white\",\"showbackground\":true,\"ticks\":\"\",\"zerolinecolor\":\"white\",\"gridwidth\":2}},\"shapedefaults\":{\"line\":{\"color\":\"#2a3f5f\"}},\"annotationdefaults\":{\"arrowcolor\":\"#2a3f5f\",\"arrowhead\":0,\"arrowwidth\":1},\"geo\":{\"bgcolor\":\"white\",\"landcolor\":\"#E5ECF6\",\"subunitcolor\":\"white\",\"showland\":true,\"showlakes\":true,\"lakecolor\":\"white\"},\"title\":{\"x\":0.05},\"mapbox\":{\"style\":\"light\"}}},\"xaxis\":{\"anchor\":\"y\",\"domain\":[0.0,1.0],\"title\":{\"text\":\"\\u003cb\\u003eTime (min)\\u003c\\u002fb\\u003e\",\"font\":{\"size\":15,\"family\":\"Arial\"}}},\"yaxis\":{\"anchor\":\"x\",\"domain\":[0.0,1.0],\"title\":{\"text\":\"\"},\"tickfont\":{\"size\":13,\"family\":\"Arial Black\"}},\"legend\":{\"title\":{\"text\":\"Category\"},\"tracegroupgap\":0},\"margin\":{\"t\":60},\"barmode\":\"relative\",\"title\":{\"font\":{\"size\":20,\"family\":\"Arial\"},\"text\":\"\\u003cb\\u003eHow do People Spend Their Time in the World\\u003c\\u002fb\\u003e\",\"x\":0.55},\"width\":1000,\"height\":900,\"showlegend\":false},                        {\"responsive\": true}                    ).then(function(){\n",
       "                            \n",
       "var gd = document.getElementById('650af53b-ba9a-4ccb-b9b8-09266a679707');\n",
       "var x = new MutationObserver(function (mutations, observer) {{\n",
       "        var display = window.getComputedStyle(gd).display;\n",
       "        if (!display || display === 'none') {{\n",
       "            console.log([gd, 'removed!']);\n",
       "            Plotly.purge(gd);\n",
       "            observer.disconnect();\n",
       "        }}\n",
       "}});\n",
       "\n",
       "// Listen for the removal of the full notebook cells\n",
       "var notebookContainer = gd.closest('#notebook-container');\n",
       "if (notebookContainer) {{\n",
       "    x.observe(notebookContainer, {childList: true});\n",
       "}}\n",
       "\n",
       "// Listen for the clearing of the current output cell\n",
       "var outputEl = gd.closest('.output');\n",
       "if (outputEl) {{\n",
       "    x.observe(outputEl, {childList: true});\n",
       "}}\n",
       "\n",
       "                        })                };                });            </script>        </div>"
      ]
     },
     "metadata": {},
     "output_type": "display_data"
    }
   ],
   "source": [
    "# How do people spend their time in the World (country data)\n",
    "# some visualization options: stacked bar plots, scatter geo plots with circle show in different time of use category (hover data)\n",
    "\n",
    "# stacked bar chart with annotation of time spent in each bar segment\n",
    "# (similar the one in ourworldindata.org)\n",
    "# time for each country is summed up to ~ 24hrs\n",
    "\n",
    "time_use_cat_order = ['Paid work','Education','Sleep', 'Other unpaid work, care work and volunteer',\n",
    "                      'Housework and shopping','Personal care','Eating and drinking','TV and Radio',\n",
    "                      'Seeing friends','Other leisure']\n",
    "\n",
    "df4_combinecat = df4_piv.loc[:,['Country']+time_use_cat_order]\n",
    "# print(df4_combinecat.columns)\n",
    "\n",
    "\n",
    "# convert to long form data\n",
    "df4_combinecat_long = pd.melt(df4_combinecat, id_vars=['Country'], value_vars=time_use_cat_order,\n",
    "        var_name='Category', value_name='Time (minutes)')\n",
    "fig = px.bar(df4_combinecat_long, x = 'Time (minutes)', y = 'Country', color='Category',\n",
    "             category_orders = {'Category':time_use_cat_order},\n",
    "             color_discrete_sequence=px.colors.qualitative.Prism,\n",
    "             text_auto=True, custom_data = ['Category'])\n",
    "\n",
    "# fix x and y axis label and add annotations instead of legend for more clarity?\n",
    "fig.update_layout(\n",
    "    width = 1000,\n",
    "    height=900,\n",
    "    xaxis_title={\n",
    "        'text': '<b>Time (min)</b>',\n",
    "        'font': {'size': 15, 'family': 'Arial'}\n",
    "    },\n",
    "    yaxis_title={'text':''},\n",
    "    title={'text':'<b>How do People Spend Their Time in the World</b>',\n",
    "                'font':{'size': 20, 'family': 'Arial'}\n",
    "    },\n",
    "    title_x=0.55,\n",
    "    showlegend=False,\n",
    "    yaxis={'tickfont':{'size': 13, 'family': 'Arial Black'}}\n",
    ")\n",
    "\n",
    "fig.update_traces(\n",
    "    hovertemplate = '<i>In <b>%{y}</b></i>, spend <b>%{x:.0f} mins</b><br>on %{customdata[0]}<extra></extra>'\n",
    ")\n",
    "fig.show()"
   ]
  },
  {
   "cell_type": "code",
   "execution_count": null,
   "id": "ufJ-Hxadvp1t",
   "metadata": {
    "id": "ufJ-Hxadvp1t"
   },
   "outputs": [],
   "source": [
    "#scatter geo plots via plotly of the same data\n",
    "# print(df4_combinecat_long.head(50))\n",
    "# print(df4_combinecat_long.loc[df4_combinecat_long.isna().any(axis=1),:])\n",
    "df4_combinecat_long.dropna(inplace=True)"
   ]
  },
  {
   "cell_type": "code",
   "execution_count": null,
   "id": "RNtO94lodGWn",
   "metadata": {
    "colab": {
     "base_uri": "https://localhost:8080/",
     "height": 717
    },
    "id": "RNtO94lodGWn",
    "outputId": "1fadf9b9-9b46-43ab-e051-85356cdb4bfe"
   },
   "outputs": [
    {
     "data": {
      "application/vnd.plotly.v1+json": {
       "config": {
        "plotlyServerURL": "https://plot.ly"
       },
       "data": [
        {
         "customdata": [
          [
           "Australia",
           211,
           "Paid work"
          ],
          [
           "Austria",
           280,
           "Paid work"
          ],
          [
           "Belgium",
           194,
           "Paid work"
          ],
          [
           "Canada",
           269,
           "Paid work"
          ],
          [
           "China",
           315,
           "Paid work"
          ],
          [
           "Denmark",
           200,
           "Paid work"
          ],
          [
           "Estonia",
           231,
           "Paid work"
          ],
          [
           "Finland",
           200,
           "Paid work"
          ],
          [
           "France",
           170,
           "Paid work"
          ],
          [
           "Germany",
           224,
           "Paid work"
          ],
          [
           "Greece",
           187,
           "Paid work"
          ],
          [
           "Hungary",
           199,
           "Paid work"
          ],
          [
           "India",
           272,
           "Paid work"
          ],
          [
           "Ireland",
           231,
           "Paid work"
          ],
          [
           "Italy ",
           149,
           "Paid work"
          ],
          [
           "Japan",
           326,
           "Paid work"
          ],
          [
           "Korea",
           288,
           "Paid work"
          ],
          [
           "Latvia",
           317,
           "Paid work"
          ],
          [
           "Lithuania",
           304,
           "Paid work"
          ],
          [
           "Luxembourg",
           247,
           "Paid work"
          ],
          [
           "Mexico",
           302,
           "Paid work"
          ],
          [
           "Netherlands",
           218,
           "Paid work"
          ],
          [
           "New Zealand",
           241,
           "Paid work"
          ],
          [
           "Norway ",
           201,
           "Paid work"
          ],
          [
           "Poland",
           229,
           "Paid work"
          ],
          [
           "Portugal",
           259,
           "Paid work"
          ],
          [
           "Slovenia",
           227,
           "Paid work"
          ],
          [
           "South Africa",
           189,
           "Paid work"
          ],
          [
           "Spain",
           176,
           "Paid work"
          ],
          [
           "Sweden",
           262,
           "Paid work"
          ],
          [
           "Turkey",
           217,
           "Paid work"
          ],
          [
           "UK",
           235,
           "Paid work"
          ],
          [
           "USA",
           251,
           "Paid work"
          ]
         ],
         "geo": "geo",
         "hovertemplate": "<i>In <b>%{customdata[0]}</b></i>, spend <b>%{customdata[1]} mins</b><br>on %{customdata[2]}<extra></extra>",
         "hovertext": [
          "Australia",
          "Austria",
          "Belgium",
          "Canada",
          "China",
          "Denmark",
          "Estonia",
          "Finland",
          "France",
          "Germany",
          "Greece",
          "Hungary",
          "India",
          "Ireland",
          "Italy ",
          "Japan",
          "Korea",
          "Latvia",
          "Lithuania",
          "Luxembourg",
          "Mexico",
          "Netherlands",
          "New Zealand",
          "Norway ",
          "Poland",
          "Portugal",
          "Slovenia",
          "South Africa",
          "Spain",
          "Sweden",
          "Turkey",
          "UK",
          "USA"
         ],
         "legendgroup": "",
         "locationmode": "country names",
         "locations": [
          "Australia",
          "Austria",
          "Belgium",
          "Canada",
          "China",
          "Denmark",
          "Estonia",
          "Finland",
          "France",
          "Germany",
          "Greece",
          "Hungary",
          "India",
          "Ireland",
          "Italy ",
          "Japan",
          "Korea",
          "Latvia",
          "Lithuania",
          "Luxembourg",
          "Mexico",
          "Netherlands",
          "New Zealand",
          "Norway ",
          "Poland",
          "Portugal",
          "Slovenia",
          "South Africa",
          "Spain",
          "Sweden",
          "Turkey",
          "UK",
          "USA"
         ],
         "marker": {
          "color": "#636efa",
          "size": [
           211,
           280,
           194,
           269,
           315,
           200,
           231,
           200,
           170,
           224,
           187,
           199,
           272,
           231,
           149,
           326,
           288,
           317,
           304,
           247,
           302,
           218,
           241,
           201,
           229,
           259,
           227,
           189,
           176,
           262,
           217,
           235,
           251
          ],
          "sizemode": "area",
          "sizeref": 1.3825,
          "symbol": "circle"
         },
         "mode": "markers",
         "name": "",
         "showlegend": false,
         "type": "scattergeo"
        }
       ],
       "frames": [
        {
         "data": [
          {
           "customdata": [
            [
             "Australia",
             211,
             "Paid work"
            ],
            [
             "Austria",
             280,
             "Paid work"
            ],
            [
             "Belgium",
             194,
             "Paid work"
            ],
            [
             "Canada",
             269,
             "Paid work"
            ],
            [
             "China",
             315,
             "Paid work"
            ],
            [
             "Denmark",
             200,
             "Paid work"
            ],
            [
             "Estonia",
             231,
             "Paid work"
            ],
            [
             "Finland",
             200,
             "Paid work"
            ],
            [
             "France",
             170,
             "Paid work"
            ],
            [
             "Germany",
             224,
             "Paid work"
            ],
            [
             "Greece",
             187,
             "Paid work"
            ],
            [
             "Hungary",
             199,
             "Paid work"
            ],
            [
             "India",
             272,
             "Paid work"
            ],
            [
             "Ireland",
             231,
             "Paid work"
            ],
            [
             "Italy ",
             149,
             "Paid work"
            ],
            [
             "Japan",
             326,
             "Paid work"
            ],
            [
             "Korea",
             288,
             "Paid work"
            ],
            [
             "Latvia",
             317,
             "Paid work"
            ],
            [
             "Lithuania",
             304,
             "Paid work"
            ],
            [
             "Luxembourg",
             247,
             "Paid work"
            ],
            [
             "Mexico",
             302,
             "Paid work"
            ],
            [
             "Netherlands",
             218,
             "Paid work"
            ],
            [
             "New Zealand",
             241,
             "Paid work"
            ],
            [
             "Norway ",
             201,
             "Paid work"
            ],
            [
             "Poland",
             229,
             "Paid work"
            ],
            [
             "Portugal",
             259,
             "Paid work"
            ],
            [
             "Slovenia",
             227,
             "Paid work"
            ],
            [
             "South Africa",
             189,
             "Paid work"
            ],
            [
             "Spain",
             176,
             "Paid work"
            ],
            [
             "Sweden",
             262,
             "Paid work"
            ],
            [
             "Turkey",
             217,
             "Paid work"
            ],
            [
             "UK",
             235,
             "Paid work"
            ],
            [
             "USA",
             251,
             "Paid work"
            ]
           ],
           "geo": "geo",
           "hovertemplate": "<b>%{hovertext}</b><br><br>Category=Paid work<br>Time (minutes)=%{marker.size}<br>Country=%{location}<extra></extra>",
           "hovertext": [
            "Australia",
            "Austria",
            "Belgium",
            "Canada",
            "China",
            "Denmark",
            "Estonia",
            "Finland",
            "France",
            "Germany",
            "Greece",
            "Hungary",
            "India",
            "Ireland",
            "Italy ",
            "Japan",
            "Korea",
            "Latvia",
            "Lithuania",
            "Luxembourg",
            "Mexico",
            "Netherlands",
            "New Zealand",
            "Norway ",
            "Poland",
            "Portugal",
            "Slovenia",
            "South Africa",
            "Spain",
            "Sweden",
            "Turkey",
            "UK",
            "USA"
           ],
           "legendgroup": "",
           "locationmode": "country names",
           "locations": [
            "Australia",
            "Austria",
            "Belgium",
            "Canada",
            "China",
            "Denmark",
            "Estonia",
            "Finland",
            "France",
            "Germany",
            "Greece",
            "Hungary",
            "India",
            "Ireland",
            "Italy ",
            "Japan",
            "Korea",
            "Latvia",
            "Lithuania",
            "Luxembourg",
            "Mexico",
            "Netherlands",
            "New Zealand",
            "Norway ",
            "Poland",
            "Portugal",
            "Slovenia",
            "South Africa",
            "Spain",
            "Sweden",
            "Turkey",
            "UK",
            "USA"
           ],
           "marker": {
            "color": "#636efa",
            "size": [
             211,
             280,
             194,
             269,
             315,
             200,
             231,
             200,
             170,
             224,
             187,
             199,
             272,
             231,
             149,
             326,
             288,
             317,
             304,
             247,
             302,
             218,
             241,
             201,
             229,
             259,
             227,
             189,
             176,
             262,
             217,
             235,
             251
            ],
            "sizemode": "area",
            "sizeref": 1.3825,
            "symbol": "circle"
           },
           "mode": "markers",
           "name": "",
           "showlegend": false,
           "type": "scattergeo"
          }
         ],
         "name": "Paid work"
        },
        {
         "data": [
          {
           "customdata": [
            [
             "Australia",
             27,
             "Education"
            ],
            [
             "Austria",
             27,
             "Education"
            ],
            [
             "Belgium",
             41,
             "Education"
            ],
            [
             "Canada",
             36,
             "Education"
            ],
            [
             "China",
             25,
             "Education"
            ],
            [
             "Denmark",
             25,
             "Education"
            ],
            [
             "Estonia",
             25,
             "Education"
            ],
            [
             "Finland",
             29,
             "Education"
            ],
            [
             "France",
             34,
             "Education"
            ],
            [
             "Germany",
             24,
             "Education"
            ],
            [
             "Greece",
             40,
             "Education"
            ],
            [
             "Hungary",
             38,
             "Education"
            ],
            [
             "India",
             23,
             "Education"
            ],
            [
             "Ireland",
             37,
             "Education"
            ],
            [
             "Italy ",
             28,
             "Education"
            ],
            [
             "Japan",
             37,
             "Education"
            ],
            [
             "Korea",
             57,
             "Education"
            ],
            [
             "Latvia",
             13,
             "Education"
            ],
            [
             "Lithuania",
             12,
             "Education"
            ],
            [
             "Luxembourg",
             37,
             "Education"
            ],
            [
             "Mexico",
             45,
             "Education"
            ],
            [
             "Netherlands",
             25,
             "Education"
            ],
            [
             "New Zealand",
             29,
             "Education"
            ],
            [
             "Norway ",
             40,
             "Education"
            ],
            [
             "Poland",
             30,
             "Education"
            ],
            [
             "Portugal",
             36,
             "Education"
            ],
            [
             "Slovenia",
             38,
             "Education"
            ],
            [
             "South Africa",
             39,
             "Education"
            ],
            [
             "Spain",
             26,
             "Education"
            ],
            [
             "Sweden",
             31,
             "Education"
            ],
            [
             "Turkey",
             29,
             "Education"
            ],
            [
             "UK",
             27,
             "Education"
            ],
            [
             "USA",
             31,
             "Education"
            ]
           ],
           "geo": "geo",
           "hovertemplate": "<b>%{hovertext}</b><br><br>Category=Education<br>Time (minutes)=%{marker.size}<br>Country=%{location}<extra></extra>",
           "hovertext": [
            "Australia",
            "Austria",
            "Belgium",
            "Canada",
            "China",
            "Denmark",
            "Estonia",
            "Finland",
            "France",
            "Germany",
            "Greece",
            "Hungary",
            "India",
            "Ireland",
            "Italy ",
            "Japan",
            "Korea",
            "Latvia",
            "Lithuania",
            "Luxembourg",
            "Mexico",
            "Netherlands",
            "New Zealand",
            "Norway ",
            "Poland",
            "Portugal",
            "Slovenia",
            "South Africa",
            "Spain",
            "Sweden",
            "Turkey",
            "UK",
            "USA"
           ],
           "legendgroup": "",
           "locationmode": "country names",
           "locations": [
            "Australia",
            "Austria",
            "Belgium",
            "Canada",
            "China",
            "Denmark",
            "Estonia",
            "Finland",
            "France",
            "Germany",
            "Greece",
            "Hungary",
            "India",
            "Ireland",
            "Italy ",
            "Japan",
            "Korea",
            "Latvia",
            "Lithuania",
            "Luxembourg",
            "Mexico",
            "Netherlands",
            "New Zealand",
            "Norway ",
            "Poland",
            "Portugal",
            "Slovenia",
            "South Africa",
            "Spain",
            "Sweden",
            "Turkey",
            "UK",
            "USA"
           ],
           "marker": {
            "color": "#636efa",
            "size": [
             27,
             27,
             41,
             36,
             25,
             25,
             25,
             29,
             34,
             24,
             40,
             38,
             23,
             37,
             28,
             37,
             57,
             13,
             12,
             37,
             45,
             25,
             29,
             40,
             30,
             36,
             38,
             39,
             26,
             31,
             29,
             27,
             31
            ],
            "sizemode": "area",
            "sizeref": 1.3825,
            "symbol": "circle"
           },
           "mode": "markers",
           "name": "",
           "showlegend": false,
           "type": "scattergeo"
          }
         ],
         "name": "Education"
        },
        {
         "data": [
          {
           "customdata": [
            [
             "Australia",
             512,
             "Sleep"
            ],
            [
             "Austria",
             498,
             "Sleep"
            ],
            [
             "Belgium",
             513,
             "Sleep"
            ],
            [
             "Canada",
             520,
             "Sleep"
            ],
            [
             "China",
             542,
             "Sleep"
            ],
            [
             "Denmark",
             489,
             "Sleep"
            ],
            [
             "Estonia",
             530,
             "Sleep"
            ],
            [
             "Finland",
             508,
             "Sleep"
            ],
            [
             "France",
             513,
             "Sleep"
            ],
            [
             "Germany",
             498,
             "Sleep"
            ],
            [
             "Greece",
             500,
             "Sleep"
            ],
            [
             "Hungary",
             506,
             "Sleep"
            ],
            [
             "India",
             528,
             "Sleep"
            ],
            [
             "Ireland",
             491,
             "Sleep"
            ],
            [
             "Italy ",
             513,
             "Sleep"
            ],
            [
             "Japan",
             442,
             "Sleep"
            ],
            [
             "Korea",
             471,
             "Sleep"
            ],
            [
             "Latvia",
             512,
             "Sleep"
            ],
            [
             "Lithuania",
             503,
             "Sleep"
            ],
            [
             "Luxembourg",
             518,
             "Sleep"
            ],
            [
             "Mexico",
             499,
             "Sleep"
            ],
            [
             "Netherlands",
             503,
             "Sleep"
            ],
            [
             "New Zealand",
             526,
             "Sleep"
            ],
            [
             "Norway ",
             492,
             "Sleep"
            ],
            [
             "Poland",
             509,
             "Sleep"
            ],
            [
             "Portugal",
             506,
             "Sleep"
            ],
            [
             "Slovenia",
             501,
             "Sleep"
            ],
            [
             "South Africa",
             553,
             "Sleep"
            ],
            [
             "Spain",
             516,
             "Sleep"
            ],
            [
             "Sweden",
             483,
             "Sleep"
            ],
            [
             "Turkey",
             515,
             "Sleep"
            ],
            [
             "UK",
             508,
             "Sleep"
            ],
            [
             "USA",
             528,
             "Sleep"
            ]
           ],
           "geo": "geo",
           "hovertemplate": "<b>%{hovertext}</b><br><br>Category=Sleep<br>Time (minutes)=%{marker.size}<br>Country=%{location}<extra></extra>",
           "hovertext": [
            "Australia",
            "Austria",
            "Belgium",
            "Canada",
            "China",
            "Denmark",
            "Estonia",
            "Finland",
            "France",
            "Germany",
            "Greece",
            "Hungary",
            "India",
            "Ireland",
            "Italy ",
            "Japan",
            "Korea",
            "Latvia",
            "Lithuania",
            "Luxembourg",
            "Mexico",
            "Netherlands",
            "New Zealand",
            "Norway ",
            "Poland",
            "Portugal",
            "Slovenia",
            "South Africa",
            "Spain",
            "Sweden",
            "Turkey",
            "UK",
            "USA"
           ],
           "legendgroup": "",
           "locationmode": "country names",
           "locations": [
            "Australia",
            "Austria",
            "Belgium",
            "Canada",
            "China",
            "Denmark",
            "Estonia",
            "Finland",
            "France",
            "Germany",
            "Greece",
            "Hungary",
            "India",
            "Ireland",
            "Italy ",
            "Japan",
            "Korea",
            "Latvia",
            "Lithuania",
            "Luxembourg",
            "Mexico",
            "Netherlands",
            "New Zealand",
            "Norway ",
            "Poland",
            "Portugal",
            "Slovenia",
            "South Africa",
            "Spain",
            "Sweden",
            "Turkey",
            "UK",
            "USA"
           ],
           "marker": {
            "color": "#636efa",
            "size": [
             512,
             498,
             513,
             520,
             542,
             489,
             530,
             508,
             513,
             498,
             500,
             506,
             528,
             491,
             513,
             442,
             471,
             512,
             503,
             518,
             499,
             503,
             526,
             492,
             509,
             506,
             501,
             553,
             516,
             483,
             515,
             508,
             528
            ],
            "sizemode": "area",
            "sizeref": 1.3825,
            "symbol": "circle"
           },
           "mode": "markers",
           "name": "",
           "showlegend": false,
           "type": "scattergeo"
          }
         ],
         "name": "Sleep"
        },
        {
         "data": [
          {
           "customdata": [
            [
             "Australia",
             103,
             "Other unpaid work, care work and volunteer"
            ],
            [
             "Austria",
             66,
             "Other unpaid work, care work and volunteer"
            ],
            [
             "Belgium",
             52,
             "Other unpaid work, care work and volunteer"
            ],
            [
             "Canada",
             81,
             "Other unpaid work, care work and volunteer"
            ],
            [
             "China",
             56,
             "Other unpaid work, care work and volunteer"
            ],
            [
             "Denmark",
             73,
             "Other unpaid work, care work and volunteer"
            ],
            [
             "Estonia",
             68,
             "Other unpaid work, care work and volunteer"
            ],
            [
             "Finland",
             104,
             "Other unpaid work, care work and volunteer"
            ],
            [
             "France",
             39,
             "Other unpaid work, care work and volunteer"
            ],
            [
             "Germany",
             72,
             "Other unpaid work, care work and volunteer"
            ],
            [
             "Greece",
             45,
             "Other unpaid work, care work and volunteer"
            ],
            [
             "Hungary",
             69,
             "Other unpaid work, care work and volunteer"
            ],
            [
             "India",
             43,
             "Other unpaid work, care work and volunteer"
            ],
            [
             "Ireland",
             133,
             "Other unpaid work, care work and volunteer"
            ],
            [
             "Italy ",
             70,
             "Other unpaid work, care work and volunteer"
            ],
            [
             "Japan",
             98,
             "Other unpaid work, care work and volunteer"
            ],
            [
             "Korea",
             70,
             "Other unpaid work, care work and volunteer"
            ],
            [
             "Latvia",
             54,
             "Other unpaid work, care work and volunteer"
            ],
            [
             "Lithuania",
             61,
             "Other unpaid work, care work and volunteer"
            ],
            [
             "Luxembourg",
             62,
             "Other unpaid work, care work and volunteer"
            ],
            [
             "Mexico",
             84,
             "Other unpaid work, care work and volunteer"
            ],
            [
             "Netherlands",
             68,
             "Other unpaid work, care work and volunteer"
            ],
            [
             "New Zealand",
             89,
             "Other unpaid work, care work and volunteer"
            ],
            [
             "Norway ",
             100,
             "Other unpaid work, care work and volunteer"
            ],
            [
             "Poland",
             77,
             "Other unpaid work, care work and volunteer"
            ],
            [
             "Portugal",
             52,
             "Other unpaid work, care work and volunteer"
            ],
            [
             "Slovenia",
             53,
             "Other unpaid work, care work and volunteer"
            ],
            [
             "South Africa",
             59,
             "Other unpaid work, care work and volunteer"
            ],
            [
             "Spain",
             89,
             "Other unpaid work, care work and volunteer"
            ],
            [
             "Sweden",
             66,
             "Other unpaid work, care work and volunteer"
            ],
            [
             "Turkey",
             89,
             "Other unpaid work, care work and volunteer"
            ],
            [
             "UK",
             94,
             "Other unpaid work, care work and volunteer"
            ],
            [
             "USA",
             96,
             "Other unpaid work, care work and volunteer"
            ]
           ],
           "geo": "geo",
           "hovertemplate": "<b>%{hovertext}</b><br><br>Category=Other unpaid work, care work and volunteer<br>Time (minutes)=%{marker.size}<br>Country=%{location}<extra></extra>",
           "hovertext": [
            "Australia",
            "Austria",
            "Belgium",
            "Canada",
            "China",
            "Denmark",
            "Estonia",
            "Finland",
            "France",
            "Germany",
            "Greece",
            "Hungary",
            "India",
            "Ireland",
            "Italy ",
            "Japan",
            "Korea",
            "Latvia",
            "Lithuania",
            "Luxembourg",
            "Mexico",
            "Netherlands",
            "New Zealand",
            "Norway ",
            "Poland",
            "Portugal",
            "Slovenia",
            "South Africa",
            "Spain",
            "Sweden",
            "Turkey",
            "UK",
            "USA"
           ],
           "legendgroup": "",
           "locationmode": "country names",
           "locations": [
            "Australia",
            "Austria",
            "Belgium",
            "Canada",
            "China",
            "Denmark",
            "Estonia",
            "Finland",
            "France",
            "Germany",
            "Greece",
            "Hungary",
            "India",
            "Ireland",
            "Italy ",
            "Japan",
            "Korea",
            "Latvia",
            "Lithuania",
            "Luxembourg",
            "Mexico",
            "Netherlands",
            "New Zealand",
            "Norway ",
            "Poland",
            "Portugal",
            "Slovenia",
            "South Africa",
            "Spain",
            "Sweden",
            "Turkey",
            "UK",
            "USA"
           ],
           "marker": {
            "color": "#636efa",
            "size": [
             103,
             66,
             52,
             81,
             56,
             73,
             68,
             104,
             39,
             72,
             45,
             69,
             43,
             133,
             70,
             98,
             70,
             54,
             61,
             62,
             84,
             68,
             89,
             100,
             77,
             52,
             53,
             59,
             89,
             66,
             89,
             94,
             96
            ],
            "sizemode": "area",
            "sizeref": 1.3825,
            "symbol": "circle"
           },
           "mode": "markers",
           "name": "",
           "showlegend": false,
           "type": "scattergeo"
          }
         ],
         "name": "Other unpaid work, care work and volunteer"
        },
        {
         "data": [
          {
           "customdata": [
            [
             "Australia",
             161,
             "Housework and shopping"
            ],
            [
             "Austria",
             146,
             "Housework and shopping"
            ],
            [
             "Belgium",
             150,
             "Housework and shopping"
            ],
            [
             "Canada",
             139,
             "Housework and shopping"
            ],
            [
             "China",
             123,
             "Housework and shopping"
            ],
            [
             "Denmark",
             154,
             "Housework and shopping"
            ],
            [
             "Estonia",
             145,
             "Housework and shopping"
            ],
            [
             "Finland",
             135,
             "Housework and shopping"
            ],
            [
             "France",
             151,
             "Housework and shopping"
            ],
            [
             "Germany",
             141,
             "Housework and shopping"
            ],
            [
             "Greece",
             141,
             "Housework and shopping"
            ],
            [
             "Hungary",
             169,
             "Housework and shopping"
            ],
            [
             "India",
             160,
             "Housework and shopping"
            ],
            [
             "Ireland",
             119,
             "Housework and shopping"
            ],
            [
             "Italy ",
             163,
             "Housework and shopping"
            ],
            [
             "Japan",
             105,
             "Housework and shopping"
            ],
            [
             "Korea",
             89,
             "Housework and shopping"
            ],
            [
             "Latvia",
             146,
             "Housework and shopping"
            ],
            [
             "Lithuania",
             171,
             "Housework and shopping"
            ],
            [
             "Luxembourg",
             131,
             "Housework and shopping"
            ],
            [
             "Mexico",
             201,
             "Housework and shopping"
            ],
            [
             "Netherlands",
             133,
             "Housework and shopping"
            ],
            [
             "New Zealand",
             134,
             "Housework and shopping"
            ],
            [
             "Norway ",
             103,
             "Housework and shopping"
            ],
            [
             "Poland",
             160,
             "Housework and shopping"
            ],
            [
             "Portugal",
             176,
             "Housework and shopping"
            ],
            [
             "Slovenia",
             184,
             "Housework and shopping"
            ],
            [
             "South Africa",
             139,
             "Housework and shopping"
            ],
            [
             "Spain",
             141,
             "Housework and shopping"
            ],
            [
             "Sweden",
             130,
             "Housework and shopping"
            ],
            [
             "Turkey",
             138,
             "Housework and shopping"
            ],
            [
             "UK",
             133,
             "Housework and shopping"
            ],
            [
             "USA",
             122,
             "Housework and shopping"
            ]
           ],
           "geo": "geo",
           "hovertemplate": "<b>%{hovertext}</b><br><br>Category=Housework and shopping<br>Time (minutes)=%{marker.size}<br>Country=%{location}<extra></extra>",
           "hovertext": [
            "Australia",
            "Austria",
            "Belgium",
            "Canada",
            "China",
            "Denmark",
            "Estonia",
            "Finland",
            "France",
            "Germany",
            "Greece",
            "Hungary",
            "India",
            "Ireland",
            "Italy ",
            "Japan",
            "Korea",
            "Latvia",
            "Lithuania",
            "Luxembourg",
            "Mexico",
            "Netherlands",
            "New Zealand",
            "Norway ",
            "Poland",
            "Portugal",
            "Slovenia",
            "South Africa",
            "Spain",
            "Sweden",
            "Turkey",
            "UK",
            "USA"
           ],
           "legendgroup": "",
           "locationmode": "country names",
           "locations": [
            "Australia",
            "Austria",
            "Belgium",
            "Canada",
            "China",
            "Denmark",
            "Estonia",
            "Finland",
            "France",
            "Germany",
            "Greece",
            "Hungary",
            "India",
            "Ireland",
            "Italy ",
            "Japan",
            "Korea",
            "Latvia",
            "Lithuania",
            "Luxembourg",
            "Mexico",
            "Netherlands",
            "New Zealand",
            "Norway ",
            "Poland",
            "Portugal",
            "Slovenia",
            "South Africa",
            "Spain",
            "Sweden",
            "Turkey",
            "UK",
            "USA"
           ],
           "marker": {
            "color": "#636efa",
            "size": [
             161,
             146,
             150,
             139,
             123,
             154,
             145,
             135,
             151,
             141,
             141,
             169,
             160,
             119,
             163,
             105,
             89,
             146,
             171,
             131,
             201,
             133,
             134,
             103,
             160,
             176,
             184,
             139,
             141,
             130,
             138,
             133,
             122
            ],
            "sizemode": "area",
            "sizeref": 1.3825,
            "symbol": "circle"
           },
           "mode": "markers",
           "name": "",
           "showlegend": false,
           "type": "scattergeo"
          }
         ],
         "name": "Housework and shopping"
        },
        {
         "data": [
          {
           "customdata": [
            [
             "Australia",
             56,
             "Personal care"
            ],
            [
             "Austria",
             55,
             "Personal care"
            ],
            [
             "Belgium",
             53,
             "Personal care"
            ],
            [
             "Canada",
             52,
             "Personal care"
            ],
            [
             "China",
             52,
             "Personal care"
            ],
            [
             "Denmark",
             52,
             "Personal care"
            ],
            [
             "Estonia",
             54,
             "Personal care"
            ],
            [
             "Finland",
             52,
             "Personal care"
            ],
            [
             "France",
             107,
             "Personal care"
            ],
            [
             "Germany",
             55,
             "Personal care"
            ],
            [
             "Greece",
             57,
             "Personal care"
            ],
            [
             "Hungary",
             76,
             "Personal care"
            ],
            [
             "India",
             75,
             "Personal care"
            ],
            [
             "Ireland",
             42,
             "Personal care"
            ],
            [
             "Italy ",
             68,
             "Personal care"
            ],
            [
             "Japan",
             85,
             "Personal care"
            ],
            [
             "Korea",
             90,
             "Personal care"
            ],
            [
             "Latvia",
             40,
             "Personal care"
            ],
            [
             "Lithuania",
             54,
             "Personal care"
            ],
            [
             "Luxembourg",
             55,
             "Personal care"
            ],
            [
             "Mexico",
             58,
             "Personal care"
            ],
            [
             "Netherlands",
             65,
             "Personal care"
            ],
            [
             "New Zealand",
             42,
             "Personal care"
            ],
            [
             "Norway ",
             56,
             "Personal care"
            ],
            [
             "Poland",
             57,
             "Personal care"
            ],
            [
             "Portugal",
             58,
             "Personal care"
            ],
            [
             "Slovenia",
             41,
             "Personal care"
            ],
            [
             "South Africa",
             70,
             "Personal care"
            ],
            [
             "Spain",
             51,
             "Personal care"
            ],
            [
             "Sweden",
             57,
             "Personal care"
            ],
            [
             "Turkey",
             50,
             "Personal care"
            ],
            [
             "UK",
             58,
             "Personal care"
            ],
            [
             "USA",
             57,
             "Personal care"
            ]
           ],
           "geo": "geo",
           "hovertemplate": "<b>%{hovertext}</b><br><br>Category=Personal care<br>Time (minutes)=%{marker.size}<br>Country=%{location}<extra></extra>",
           "hovertext": [
            "Australia",
            "Austria",
            "Belgium",
            "Canada",
            "China",
            "Denmark",
            "Estonia",
            "Finland",
            "France",
            "Germany",
            "Greece",
            "Hungary",
            "India",
            "Ireland",
            "Italy ",
            "Japan",
            "Korea",
            "Latvia",
            "Lithuania",
            "Luxembourg",
            "Mexico",
            "Netherlands",
            "New Zealand",
            "Norway ",
            "Poland",
            "Portugal",
            "Slovenia",
            "South Africa",
            "Spain",
            "Sweden",
            "Turkey",
            "UK",
            "USA"
           ],
           "legendgroup": "",
           "locationmode": "country names",
           "locations": [
            "Australia",
            "Austria",
            "Belgium",
            "Canada",
            "China",
            "Denmark",
            "Estonia",
            "Finland",
            "France",
            "Germany",
            "Greece",
            "Hungary",
            "India",
            "Ireland",
            "Italy ",
            "Japan",
            "Korea",
            "Latvia",
            "Lithuania",
            "Luxembourg",
            "Mexico",
            "Netherlands",
            "New Zealand",
            "Norway ",
            "Poland",
            "Portugal",
            "Slovenia",
            "South Africa",
            "Spain",
            "Sweden",
            "Turkey",
            "UK",
            "USA"
           ],
           "marker": {
            "color": "#636efa",
            "size": [
             56,
             55,
             53,
             52,
             52,
             52,
             54,
             52,
             107,
             55,
             57,
             76,
             75,
             42,
             68,
             85,
             90,
             40,
             54,
             55,
             58,
             65,
             42,
             56,
             57,
             58,
             41,
             70,
             51,
             57,
             50,
             58,
             57
            ],
            "sizemode": "area",
            "sizeref": 1.3825,
            "symbol": "circle"
           },
           "mode": "markers",
           "name": "",
           "showlegend": false,
           "type": "scattergeo"
          }
         ],
         "name": "Personal care"
        },
        {
         "data": [
          {
           "customdata": [
            [
             "Australia",
             89,
             "Eating and drinking"
            ],
            [
             "Austria",
             79,
             "Eating and drinking"
            ],
            [
             "Belgium",
             99,
             "Eating and drinking"
            ],
            [
             "Canada",
             65,
             "Eating and drinking"
            ],
            [
             "China",
             100,
             "Eating and drinking"
            ],
            [
             "Denmark",
             119,
             "Eating and drinking"
            ],
            [
             "Estonia",
             79,
             "Eating and drinking"
            ],
            [
             "Finland",
             81,
             "Eating and drinking"
            ],
            [
             "France",
             133,
             "Eating and drinking"
            ],
            [
             "Germany",
             95,
             "Eating and drinking"
            ],
            [
             "Greece",
             128,
             "Eating and drinking"
            ],
            [
             "Hungary",
             101,
             "Eating and drinking"
            ],
            [
             "India",
             84,
             "Eating and drinking"
            ],
            [
             "Ireland",
             75,
             "Eating and drinking"
            ],
            [
             "Italy ",
             127,
             "Eating and drinking"
            ],
            [
             "Japan",
             93,
             "Eating and drinking"
            ],
            [
             "Korea",
             117,
             "Eating and drinking"
            ],
            [
             "Latvia",
             89,
             "Eating and drinking"
            ],
            [
             "Lithuania",
             88,
             "Eating and drinking"
            ],
            [
             "Luxembourg",
             112,
             "Eating and drinking"
            ],
            [
             "Mexico",
             77,
             "Eating and drinking"
            ],
            [
             "Netherlands",
             114,
             "Eating and drinking"
            ],
            [
             "New Zealand",
             80,
             "Eating and drinking"
            ],
            [
             "Norway ",
             79,
             "Eating and drinking"
            ],
            [
             "Poland",
             91,
             "Eating and drinking"
            ],
            [
             "Portugal",
             112,
             "Eating and drinking"
            ],
            [
             "Slovenia",
             86,
             "Eating and drinking"
            ],
            [
             "South Africa",
             72,
             "Eating and drinking"
            ],
            [
             "Spain",
             126,
             "Eating and drinking"
            ],
            [
             "Sweden",
             83,
             "Eating and drinking"
            ],
            [
             "Turkey",
             118,
             "Eating and drinking"
            ],
            [
             "UK",
             79,
             "Eating and drinking"
            ],
            [
             "USA",
             63,
             "Eating and drinking"
            ]
           ],
           "geo": "geo",
           "hovertemplate": "<b>%{hovertext}</b><br><br>Category=Eating and drinking<br>Time (minutes)=%{marker.size}<br>Country=%{location}<extra></extra>",
           "hovertext": [
            "Australia",
            "Austria",
            "Belgium",
            "Canada",
            "China",
            "Denmark",
            "Estonia",
            "Finland",
            "France",
            "Germany",
            "Greece",
            "Hungary",
            "India",
            "Ireland",
            "Italy ",
            "Japan",
            "Korea",
            "Latvia",
            "Lithuania",
            "Luxembourg",
            "Mexico",
            "Netherlands",
            "New Zealand",
            "Norway ",
            "Poland",
            "Portugal",
            "Slovenia",
            "South Africa",
            "Spain",
            "Sweden",
            "Turkey",
            "UK",
            "USA"
           ],
           "legendgroup": "",
           "locationmode": "country names",
           "locations": [
            "Australia",
            "Austria",
            "Belgium",
            "Canada",
            "China",
            "Denmark",
            "Estonia",
            "Finland",
            "France",
            "Germany",
            "Greece",
            "Hungary",
            "India",
            "Ireland",
            "Italy ",
            "Japan",
            "Korea",
            "Latvia",
            "Lithuania",
            "Luxembourg",
            "Mexico",
            "Netherlands",
            "New Zealand",
            "Norway ",
            "Poland",
            "Portugal",
            "Slovenia",
            "South Africa",
            "Spain",
            "Sweden",
            "Turkey",
            "UK",
            "USA"
           ],
           "marker": {
            "color": "#636efa",
            "size": [
             89,
             79,
             99,
             65,
             100,
             119,
             79,
             81,
             133,
             95,
             128,
             101,
             84,
             75,
             127,
             93,
             117,
             89,
             88,
             112,
             77,
             114,
             80,
             79,
             91,
             112,
             86,
             72,
             126,
             83,
             118,
             79,
             63
            ],
            "sizemode": "area",
            "sizeref": 1.3825,
            "symbol": "circle"
           },
           "mode": "markers",
           "name": "",
           "showlegend": false,
           "type": "scattergeo"
          }
         ],
         "name": "Eating and drinking"
        },
        {
         "data": [
          {
           "customdata": [
            [
             "Australia",
             140,
             "TV and Radio"
            ],
            [
             "Austria",
             109,
             "TV and Radio"
            ],
            [
             "Belgium",
             131,
             "TV and Radio"
            ],
            [
             "Canada",
             109,
             "TV and Radio"
            ],
            [
             "China",
             127,
             "TV and Radio"
            ],
            [
             "Denmark",
             123,
             "TV and Radio"
            ],
            [
             "Estonia",
             122,
             "TV and Radio"
            ],
            [
             "Finland",
             118,
             "TV and Radio"
            ],
            [
             "France",
             114,
             "TV and Radio"
            ],
            [
             "Germany",
             118,
             "TV and Radio"
            ],
            [
             "Greece",
             137,
             "TV and Radio"
            ],
            [
             "Hungary",
             134,
             "TV and Radio"
            ],
            [
             "India",
             61,
             "TV and Radio"
            ],
            [
             "Ireland",
             85,
             "TV and Radio"
            ],
            [
             "Italy ",
             104,
             "TV and Radio"
            ],
            [
             "Japan",
             103,
             "TV and Radio"
            ],
            [
             "Korea",
             102,
             "TV and Radio"
            ],
            [
             "Latvia",
             123,
             "TV and Radio"
            ],
            [
             "Lithuania",
             137,
             "TV and Radio"
            ],
            [
             "Luxembourg",
             116,
             "TV and Radio"
            ],
            [
             "Mexico",
             66,
             "TV and Radio"
            ],
            [
             "Netherlands",
             113,
             "TV and Radio"
            ],
            [
             "New Zealand",
             124,
             "TV and Radio"
            ],
            [
             "Norway ",
             129,
             "TV and Radio"
            ],
            [
             "Poland",
             122,
             "TV and Radio"
            ],
            [
             "Portugal",
             114,
             "TV and Radio"
            ],
            [
             "Slovenia",
             120,
             "TV and Radio"
            ],
            [
             "South Africa",
             132,
             "TV and Radio"
            ],
            [
             "Spain",
             129,
             "TV and Radio"
            ],
            [
             "Sweden",
             113,
             "TV and Radio"
            ],
            [
             "Turkey",
             124,
             "TV and Radio"
            ],
            [
             "UK",
             133,
             "TV and Radio"
            ],
            [
             "USA",
             148,
             "TV and Radio"
            ]
           ],
           "geo": "geo",
           "hovertemplate": "<b>%{hovertext}</b><br><br>Category=TV and Radio<br>Time (minutes)=%{marker.size}<br>Country=%{location}<extra></extra>",
           "hovertext": [
            "Australia",
            "Austria",
            "Belgium",
            "Canada",
            "China",
            "Denmark",
            "Estonia",
            "Finland",
            "France",
            "Germany",
            "Greece",
            "Hungary",
            "India",
            "Ireland",
            "Italy ",
            "Japan",
            "Korea",
            "Latvia",
            "Lithuania",
            "Luxembourg",
            "Mexico",
            "Netherlands",
            "New Zealand",
            "Norway ",
            "Poland",
            "Portugal",
            "Slovenia",
            "South Africa",
            "Spain",
            "Sweden",
            "Turkey",
            "UK",
            "USA"
           ],
           "legendgroup": "",
           "locationmode": "country names",
           "locations": [
            "Australia",
            "Austria",
            "Belgium",
            "Canada",
            "China",
            "Denmark",
            "Estonia",
            "Finland",
            "France",
            "Germany",
            "Greece",
            "Hungary",
            "India",
            "Ireland",
            "Italy ",
            "Japan",
            "Korea",
            "Latvia",
            "Lithuania",
            "Luxembourg",
            "Mexico",
            "Netherlands",
            "New Zealand",
            "Norway ",
            "Poland",
            "Portugal",
            "Slovenia",
            "South Africa",
            "Spain",
            "Sweden",
            "Turkey",
            "UK",
            "USA"
           ],
           "marker": {
            "color": "#636efa",
            "size": [
             140,
             109,
             131,
             109,
             127,
             123,
             122,
             118,
             114,
             118,
             137,
             134,
             61,
             85,
             104,
             103,
             102,
             123,
             137,
             116,
             66,
             113,
             124,
             129,
             122,
             114,
             120,
             132,
             129,
             113,
             124,
             133,
             148
            ],
            "sizemode": "area",
            "sizeref": 1.3825,
            "symbol": "circle"
           },
           "mode": "markers",
           "name": "",
           "showlegend": false,
           "type": "scattergeo"
          }
         ],
         "name": "TV and Radio"
        },
        {
         "data": [
          {
           "customdata": [
            [
             "Australia",
             40,
             "Seeing friends"
            ],
            [
             "Austria",
             82,
             "Seeing friends"
            ],
            [
             "Belgium",
             50,
             "Seeing friends"
            ],
            [
             "Canada",
             53,
             "Seeing friends"
            ],
            [
             "China",
             23,
             "Seeing friends"
            ],
            [
             "Denmark",
             81,
             "Seeing friends"
            ],
            [
             "Estonia",
             38,
             "Seeing friends"
            ],
            [
             "Finland",
             55,
             "Seeing friends"
            ],
            [
             "France",
             55,
             "Seeing friends"
            ],
            [
             "Germany",
             61,
             "Seeing friends"
            ],
            [
             "Greece",
             56,
             "Seeing friends"
            ],
            [
             "Hungary",
             35,
             "Seeing friends"
            ],
            [
             "India",
             73,
             "Seeing friends"
            ],
            [
             "Ireland",
             49,
             "Seeing friends"
            ],
            [
             "Italy ",
             65,
             "Seeing friends"
            ],
            [
             "Japan",
             17,
             "Seeing friends"
            ],
            [
             "Korea",
             42,
             "Seeing friends"
            ],
            [
             "Latvia",
             35,
             "Seeing friends"
            ],
            [
             "Lithuania",
             32,
             "Seeing friends"
            ],
            [
             "Luxembourg",
             32,
             "Seeing friends"
            ],
            [
             "Mexico",
             44,
             "Seeing friends"
            ],
            [
             "Netherlands",
             73,
             "Seeing friends"
            ],
            [
             "New Zealand",
             69,
             "Seeing friends"
            ],
            [
             "Norway ",
             57,
             "Seeing friends"
            ],
            [
             "Poland",
             45,
             "Seeing friends"
            ],
            [
             "Portugal",
             44,
             "Seeing friends"
            ],
            [
             "Slovenia",
             62,
             "Seeing friends"
            ],
            [
             "South Africa",
             82,
             "Seeing friends"
            ],
            [
             "Spain",
             51,
             "Seeing friends"
            ],
            [
             "Sweden",
             53,
             "Seeing friends"
            ],
            [
             "Turkey",
             68,
             "Seeing friends"
            ],
            [
             "UK",
             47,
             "Seeing friends"
            ],
            [
             "USA",
             44,
             "Seeing friends"
            ]
           ],
           "geo": "geo",
           "hovertemplate": "<b>%{hovertext}</b><br><br>Category=Seeing friends<br>Time (minutes)=%{marker.size}<br>Country=%{location}<extra></extra>",
           "hovertext": [
            "Australia",
            "Austria",
            "Belgium",
            "Canada",
            "China",
            "Denmark",
            "Estonia",
            "Finland",
            "France",
            "Germany",
            "Greece",
            "Hungary",
            "India",
            "Ireland",
            "Italy ",
            "Japan",
            "Korea",
            "Latvia",
            "Lithuania",
            "Luxembourg",
            "Mexico",
            "Netherlands",
            "New Zealand",
            "Norway ",
            "Poland",
            "Portugal",
            "Slovenia",
            "South Africa",
            "Spain",
            "Sweden",
            "Turkey",
            "UK",
            "USA"
           ],
           "legendgroup": "",
           "locationmode": "country names",
           "locations": [
            "Australia",
            "Austria",
            "Belgium",
            "Canada",
            "China",
            "Denmark",
            "Estonia",
            "Finland",
            "France",
            "Germany",
            "Greece",
            "Hungary",
            "India",
            "Ireland",
            "Italy ",
            "Japan",
            "Korea",
            "Latvia",
            "Lithuania",
            "Luxembourg",
            "Mexico",
            "Netherlands",
            "New Zealand",
            "Norway ",
            "Poland",
            "Portugal",
            "Slovenia",
            "South Africa",
            "Spain",
            "Sweden",
            "Turkey",
            "UK",
            "USA"
           ],
           "marker": {
            "color": "#636efa",
            "size": [
             40,
             82,
             50,
             53,
             23,
             81,
             38,
             55,
             55,
             61,
             56,
             35,
             73,
             49,
             65,
             17,
             42,
             35,
             32,
             32,
             44,
             73,
             69,
             57,
             45,
             44,
             62,
             82,
             51,
             53,
             68,
             47,
             44
            ],
            "sizemode": "area",
            "sizeref": 1.3825,
            "symbol": "circle"
           },
           "mode": "markers",
           "name": "",
           "showlegend": false,
           "type": "scattergeo"
          }
         ],
         "name": "Seeing friends"
        },
        {
         "data": [
          {
           "customdata": [
            [
             "Australia",
             101,
             "Other leisure"
            ],
            [
             "Austria",
             100,
             "Other leisure"
            ],
            [
             "Belgium",
             158,
             "Other leisure"
            ],
            [
             "Canada",
             116,
             "Other leisure"
            ],
            [
             "China",
             78,
             "Other leisure"
            ],
            [
             "Denmark",
             124,
             "Other leisure"
            ],
            [
             "Estonia",
             149,
             "Other leisure"
            ],
            [
             "Finland",
             158,
             "Other leisure"
            ],
            [
             "France",
             125,
             "Other leisure"
            ],
            [
             "Germany",
             152,
             "Other leisure"
            ],
            [
             "Greece",
             148,
             "Other leisure"
            ],
            [
             "Hungary",
             113,
             "Other leisure"
            ],
            [
             "India",
             119,
             "Other leisure"
            ],
            [
             "Ireland",
             178,
             "Other leisure"
            ],
            [
             "Italy ",
             154,
             "Other leisure"
            ],
            [
             "Korea",
             113,
             "Other leisure"
            ],
            [
             "Latvia",
             111,
             "Other leisure"
            ],
            [
             "Lithuania",
             78,
             "Other leisure"
            ],
            [
             "Luxembourg",
             127,
             "Other leisure"
            ],
            [
             "Mexico",
             62,
             "Other leisure"
            ],
            [
             "Netherlands",
             130,
             "Other leisure"
            ],
            [
             "New Zealand",
             108,
             "Other leisure"
            ],
            [
             "Norway ",
             183,
             "Other leisure"
            ],
            [
             "Poland",
             119,
             "Other leisure"
            ],
            [
             "Portugal",
             83,
             "Other leisure"
            ],
            [
             "Slovenia",
             129,
             "Other leisure"
            ],
            [
             "South Africa",
             92,
             "Other leisure"
            ],
            [
             "Spain",
             136,
             "Other leisure"
            ],
            [
             "Sweden",
             155,
             "Other leisure"
            ],
            [
             "Turkey",
             94,
             "Other leisure"
            ],
            [
             "UK",
             124,
             "Other leisure"
            ],
            [
             "USA",
             99,
             "Other leisure"
            ]
           ],
           "geo": "geo",
           "hovertemplate": "<b>%{hovertext}</b><br><br>Category=Other leisure<br>Time (minutes)=%{marker.size}<br>Country=%{location}<extra></extra>",
           "hovertext": [
            "Australia",
            "Austria",
            "Belgium",
            "Canada",
            "China",
            "Denmark",
            "Estonia",
            "Finland",
            "France",
            "Germany",
            "Greece",
            "Hungary",
            "India",
            "Ireland",
            "Italy ",
            "Korea",
            "Latvia",
            "Lithuania",
            "Luxembourg",
            "Mexico",
            "Netherlands",
            "New Zealand",
            "Norway ",
            "Poland",
            "Portugal",
            "Slovenia",
            "South Africa",
            "Spain",
            "Sweden",
            "Turkey",
            "UK",
            "USA"
           ],
           "legendgroup": "",
           "locationmode": "country names",
           "locations": [
            "Australia",
            "Austria",
            "Belgium",
            "Canada",
            "China",
            "Denmark",
            "Estonia",
            "Finland",
            "France",
            "Germany",
            "Greece",
            "Hungary",
            "India",
            "Ireland",
            "Italy ",
            "Korea",
            "Latvia",
            "Lithuania",
            "Luxembourg",
            "Mexico",
            "Netherlands",
            "New Zealand",
            "Norway ",
            "Poland",
            "Portugal",
            "Slovenia",
            "South Africa",
            "Spain",
            "Sweden",
            "Turkey",
            "UK",
            "USA"
           ],
           "marker": {
            "color": "#636efa",
            "size": [
             101,
             100,
             158,
             116,
             78,
             124,
             149,
             158,
             125,
             152,
             148,
             113,
             119,
             178,
             154,
             113,
             111,
             78,
             127,
             62,
             130,
             108,
             183,
             119,
             83,
             129,
             92,
             136,
             155,
             94,
             124,
             99
            ],
            "sizemode": "area",
            "sizeref": 1.3825,
            "symbol": "circle"
           },
           "mode": "markers",
           "name": "",
           "showlegend": false,
           "type": "scattergeo"
          }
         ],
         "name": "Other leisure"
        }
       ],
       "layout": {
        "geo": {
         "center": {},
         "domain": {
          "x": [
           0,
           1
          ],
          "y": [
           0,
           1
          ]
         }
        },
        "height": 700,
        "legend": {
         "itemsizing": "constant",
         "tracegroupgap": 0
        },
        "margin": {
         "t": 60
        },
        "sliders": [
         {
          "active": 0,
          "currentvalue": {
           "prefix": "Category="
          },
          "len": 0.9,
          "pad": {
           "b": 10,
           "t": 60
          },
          "steps": [
           {
            "args": [
             [
              "Paid work"
             ],
             {
              "frame": {
               "duration": 0,
               "redraw": true
              },
              "fromcurrent": true,
              "mode": "immediate",
              "transition": {
               "duration": 0,
               "easing": "linear"
              }
             }
            ],
            "label": "Paid work",
            "method": "animate"
           },
           {
            "args": [
             [
              "Education"
             ],
             {
              "frame": {
               "duration": 0,
               "redraw": true
              },
              "fromcurrent": true,
              "mode": "immediate",
              "transition": {
               "duration": 0,
               "easing": "linear"
              }
             }
            ],
            "label": "Education",
            "method": "animate"
           },
           {
            "args": [
             [
              "Sleep"
             ],
             {
              "frame": {
               "duration": 0,
               "redraw": true
              },
              "fromcurrent": true,
              "mode": "immediate",
              "transition": {
               "duration": 0,
               "easing": "linear"
              }
             }
            ],
            "label": "Sleep",
            "method": "animate"
           },
           {
            "args": [
             [
              "Other unpaid work, care work and volunteer"
             ],
             {
              "frame": {
               "duration": 0,
               "redraw": true
              },
              "fromcurrent": true,
              "mode": "immediate",
              "transition": {
               "duration": 0,
               "easing": "linear"
              }
             }
            ],
            "label": "Other unpaid work, care work and volunteer",
            "method": "animate"
           },
           {
            "args": [
             [
              "Housework and shopping"
             ],
             {
              "frame": {
               "duration": 0,
               "redraw": true
              },
              "fromcurrent": true,
              "mode": "immediate",
              "transition": {
               "duration": 0,
               "easing": "linear"
              }
             }
            ],
            "label": "Housework and shopping",
            "method": "animate"
           },
           {
            "args": [
             [
              "Personal care"
             ],
             {
              "frame": {
               "duration": 0,
               "redraw": true
              },
              "fromcurrent": true,
              "mode": "immediate",
              "transition": {
               "duration": 0,
               "easing": "linear"
              }
             }
            ],
            "label": "Personal care",
            "method": "animate"
           },
           {
            "args": [
             [
              "Eating and drinking"
             ],
             {
              "frame": {
               "duration": 0,
               "redraw": true
              },
              "fromcurrent": true,
              "mode": "immediate",
              "transition": {
               "duration": 0,
               "easing": "linear"
              }
             }
            ],
            "label": "Eating and drinking",
            "method": "animate"
           },
           {
            "args": [
             [
              "TV and Radio"
             ],
             {
              "frame": {
               "duration": 0,
               "redraw": true
              },
              "fromcurrent": true,
              "mode": "immediate",
              "transition": {
               "duration": 0,
               "easing": "linear"
              }
             }
            ],
            "label": "TV and Radio",
            "method": "animate"
           },
           {
            "args": [
             [
              "Seeing friends"
             ],
             {
              "frame": {
               "duration": 0,
               "redraw": true
              },
              "fromcurrent": true,
              "mode": "immediate",
              "transition": {
               "duration": 0,
               "easing": "linear"
              }
             }
            ],
            "label": "Seeing friends",
            "method": "animate"
           },
           {
            "args": [
             [
              "Other leisure"
             ],
             {
              "frame": {
               "duration": 0,
               "redraw": true
              },
              "fromcurrent": true,
              "mode": "immediate",
              "transition": {
               "duration": 0,
               "easing": "linear"
              }
             }
            ],
            "label": "Other leisure",
            "method": "animate"
           }
          ],
          "x": 0.1,
          "xanchor": "left",
          "y": 0,
          "yanchor": "top"
         }
        ],
        "template": {
         "data": {
          "bar": [
           {
            "error_x": {
             "color": "#2a3f5f"
            },
            "error_y": {
             "color": "#2a3f5f"
            },
            "marker": {
             "line": {
              "color": "#E5ECF6",
              "width": 0.5
             },
             "pattern": {
              "fillmode": "overlay",
              "size": 10,
              "solidity": 0.2
             }
            },
            "type": "bar"
           }
          ],
          "barpolar": [
           {
            "marker": {
             "line": {
              "color": "#E5ECF6",
              "width": 0.5
             },
             "pattern": {
              "fillmode": "overlay",
              "size": 10,
              "solidity": 0.2
             }
            },
            "type": "barpolar"
           }
          ],
          "carpet": [
           {
            "aaxis": {
             "endlinecolor": "#2a3f5f",
             "gridcolor": "white",
             "linecolor": "white",
             "minorgridcolor": "white",
             "startlinecolor": "#2a3f5f"
            },
            "baxis": {
             "endlinecolor": "#2a3f5f",
             "gridcolor": "white",
             "linecolor": "white",
             "minorgridcolor": "white",
             "startlinecolor": "#2a3f5f"
            },
            "type": "carpet"
           }
          ],
          "choropleth": [
           {
            "colorbar": {
             "outlinewidth": 0,
             "ticks": ""
            },
            "type": "choropleth"
           }
          ],
          "contour": [
           {
            "colorbar": {
             "outlinewidth": 0,
             "ticks": ""
            },
            "colorscale": [
             [
              0,
              "#0d0887"
             ],
             [
              0.1111111111111111,
              "#46039f"
             ],
             [
              0.2222222222222222,
              "#7201a8"
             ],
             [
              0.3333333333333333,
              "#9c179e"
             ],
             [
              0.4444444444444444,
              "#bd3786"
             ],
             [
              0.5555555555555556,
              "#d8576b"
             ],
             [
              0.6666666666666666,
              "#ed7953"
             ],
             [
              0.7777777777777778,
              "#fb9f3a"
             ],
             [
              0.8888888888888888,
              "#fdca26"
             ],
             [
              1,
              "#f0f921"
             ]
            ],
            "type": "contour"
           }
          ],
          "contourcarpet": [
           {
            "colorbar": {
             "outlinewidth": 0,
             "ticks": ""
            },
            "type": "contourcarpet"
           }
          ],
          "heatmap": [
           {
            "colorbar": {
             "outlinewidth": 0,
             "ticks": ""
            },
            "colorscale": [
             [
              0,
              "#0d0887"
             ],
             [
              0.1111111111111111,
              "#46039f"
             ],
             [
              0.2222222222222222,
              "#7201a8"
             ],
             [
              0.3333333333333333,
              "#9c179e"
             ],
             [
              0.4444444444444444,
              "#bd3786"
             ],
             [
              0.5555555555555556,
              "#d8576b"
             ],
             [
              0.6666666666666666,
              "#ed7953"
             ],
             [
              0.7777777777777778,
              "#fb9f3a"
             ],
             [
              0.8888888888888888,
              "#fdca26"
             ],
             [
              1,
              "#f0f921"
             ]
            ],
            "type": "heatmap"
           }
          ],
          "heatmapgl": [
           {
            "colorbar": {
             "outlinewidth": 0,
             "ticks": ""
            },
            "colorscale": [
             [
              0,
              "#0d0887"
             ],
             [
              0.1111111111111111,
              "#46039f"
             ],
             [
              0.2222222222222222,
              "#7201a8"
             ],
             [
              0.3333333333333333,
              "#9c179e"
             ],
             [
              0.4444444444444444,
              "#bd3786"
             ],
             [
              0.5555555555555556,
              "#d8576b"
             ],
             [
              0.6666666666666666,
              "#ed7953"
             ],
             [
              0.7777777777777778,
              "#fb9f3a"
             ],
             [
              0.8888888888888888,
              "#fdca26"
             ],
             [
              1,
              "#f0f921"
             ]
            ],
            "type": "heatmapgl"
           }
          ],
          "histogram": [
           {
            "marker": {
             "pattern": {
              "fillmode": "overlay",
              "size": 10,
              "solidity": 0.2
             }
            },
            "type": "histogram"
           }
          ],
          "histogram2d": [
           {
            "colorbar": {
             "outlinewidth": 0,
             "ticks": ""
            },
            "colorscale": [
             [
              0,
              "#0d0887"
             ],
             [
              0.1111111111111111,
              "#46039f"
             ],
             [
              0.2222222222222222,
              "#7201a8"
             ],
             [
              0.3333333333333333,
              "#9c179e"
             ],
             [
              0.4444444444444444,
              "#bd3786"
             ],
             [
              0.5555555555555556,
              "#d8576b"
             ],
             [
              0.6666666666666666,
              "#ed7953"
             ],
             [
              0.7777777777777778,
              "#fb9f3a"
             ],
             [
              0.8888888888888888,
              "#fdca26"
             ],
             [
              1,
              "#f0f921"
             ]
            ],
            "type": "histogram2d"
           }
          ],
          "histogram2dcontour": [
           {
            "colorbar": {
             "outlinewidth": 0,
             "ticks": ""
            },
            "colorscale": [
             [
              0,
              "#0d0887"
             ],
             [
              0.1111111111111111,
              "#46039f"
             ],
             [
              0.2222222222222222,
              "#7201a8"
             ],
             [
              0.3333333333333333,
              "#9c179e"
             ],
             [
              0.4444444444444444,
              "#bd3786"
             ],
             [
              0.5555555555555556,
              "#d8576b"
             ],
             [
              0.6666666666666666,
              "#ed7953"
             ],
             [
              0.7777777777777778,
              "#fb9f3a"
             ],
             [
              0.8888888888888888,
              "#fdca26"
             ],
             [
              1,
              "#f0f921"
             ]
            ],
            "type": "histogram2dcontour"
           }
          ],
          "mesh3d": [
           {
            "colorbar": {
             "outlinewidth": 0,
             "ticks": ""
            },
            "type": "mesh3d"
           }
          ],
          "parcoords": [
           {
            "line": {
             "colorbar": {
              "outlinewidth": 0,
              "ticks": ""
             }
            },
            "type": "parcoords"
           }
          ],
          "pie": [
           {
            "automargin": true,
            "type": "pie"
           }
          ],
          "scatter": [
           {
            "fillpattern": {
             "fillmode": "overlay",
             "size": 10,
             "solidity": 0.2
            },
            "type": "scatter"
           }
          ],
          "scatter3d": [
           {
            "line": {
             "colorbar": {
              "outlinewidth": 0,
              "ticks": ""
             }
            },
            "marker": {
             "colorbar": {
              "outlinewidth": 0,
              "ticks": ""
             }
            },
            "type": "scatter3d"
           }
          ],
          "scattercarpet": [
           {
            "marker": {
             "colorbar": {
              "outlinewidth": 0,
              "ticks": ""
             }
            },
            "type": "scattercarpet"
           }
          ],
          "scattergeo": [
           {
            "marker": {
             "colorbar": {
              "outlinewidth": 0,
              "ticks": ""
             }
            },
            "type": "scattergeo"
           }
          ],
          "scattergl": [
           {
            "marker": {
             "colorbar": {
              "outlinewidth": 0,
              "ticks": ""
             }
            },
            "type": "scattergl"
           }
          ],
          "scattermapbox": [
           {
            "marker": {
             "colorbar": {
              "outlinewidth": 0,
              "ticks": ""
             }
            },
            "type": "scattermapbox"
           }
          ],
          "scatterpolar": [
           {
            "marker": {
             "colorbar": {
              "outlinewidth": 0,
              "ticks": ""
             }
            },
            "type": "scatterpolar"
           }
          ],
          "scatterpolargl": [
           {
            "marker": {
             "colorbar": {
              "outlinewidth": 0,
              "ticks": ""
             }
            },
            "type": "scatterpolargl"
           }
          ],
          "scatterternary": [
           {
            "marker": {
             "colorbar": {
              "outlinewidth": 0,
              "ticks": ""
             }
            },
            "type": "scatterternary"
           }
          ],
          "surface": [
           {
            "colorbar": {
             "outlinewidth": 0,
             "ticks": ""
            },
            "colorscale": [
             [
              0,
              "#0d0887"
             ],
             [
              0.1111111111111111,
              "#46039f"
             ],
             [
              0.2222222222222222,
              "#7201a8"
             ],
             [
              0.3333333333333333,
              "#9c179e"
             ],
             [
              0.4444444444444444,
              "#bd3786"
             ],
             [
              0.5555555555555556,
              "#d8576b"
             ],
             [
              0.6666666666666666,
              "#ed7953"
             ],
             [
              0.7777777777777778,
              "#fb9f3a"
             ],
             [
              0.8888888888888888,
              "#fdca26"
             ],
             [
              1,
              "#f0f921"
             ]
            ],
            "type": "surface"
           }
          ],
          "table": [
           {
            "cells": {
             "fill": {
              "color": "#EBF0F8"
             },
             "line": {
              "color": "white"
             }
            },
            "header": {
             "fill": {
              "color": "#C8D4E3"
             },
             "line": {
              "color": "white"
             }
            },
            "type": "table"
           }
          ]
         },
         "layout": {
          "annotationdefaults": {
           "arrowcolor": "#2a3f5f",
           "arrowhead": 0,
           "arrowwidth": 1
          },
          "autotypenumbers": "strict",
          "coloraxis": {
           "colorbar": {
            "outlinewidth": 0,
            "ticks": ""
           }
          },
          "colorscale": {
           "diverging": [
            [
             0,
             "#8e0152"
            ],
            [
             0.1,
             "#c51b7d"
            ],
            [
             0.2,
             "#de77ae"
            ],
            [
             0.3,
             "#f1b6da"
            ],
            [
             0.4,
             "#fde0ef"
            ],
            [
             0.5,
             "#f7f7f7"
            ],
            [
             0.6,
             "#e6f5d0"
            ],
            [
             0.7,
             "#b8e186"
            ],
            [
             0.8,
             "#7fbc41"
            ],
            [
             0.9,
             "#4d9221"
            ],
            [
             1,
             "#276419"
            ]
           ],
           "sequential": [
            [
             0,
             "#0d0887"
            ],
            [
             0.1111111111111111,
             "#46039f"
            ],
            [
             0.2222222222222222,
             "#7201a8"
            ],
            [
             0.3333333333333333,
             "#9c179e"
            ],
            [
             0.4444444444444444,
             "#bd3786"
            ],
            [
             0.5555555555555556,
             "#d8576b"
            ],
            [
             0.6666666666666666,
             "#ed7953"
            ],
            [
             0.7777777777777778,
             "#fb9f3a"
            ],
            [
             0.8888888888888888,
             "#fdca26"
            ],
            [
             1,
             "#f0f921"
            ]
           ],
           "sequentialminus": [
            [
             0,
             "#0d0887"
            ],
            [
             0.1111111111111111,
             "#46039f"
            ],
            [
             0.2222222222222222,
             "#7201a8"
            ],
            [
             0.3333333333333333,
             "#9c179e"
            ],
            [
             0.4444444444444444,
             "#bd3786"
            ],
            [
             0.5555555555555556,
             "#d8576b"
            ],
            [
             0.6666666666666666,
             "#ed7953"
            ],
            [
             0.7777777777777778,
             "#fb9f3a"
            ],
            [
             0.8888888888888888,
             "#fdca26"
            ],
            [
             1,
             "#f0f921"
            ]
           ]
          },
          "colorway": [
           "#636efa",
           "#EF553B",
           "#00cc96",
           "#ab63fa",
           "#FFA15A",
           "#19d3f3",
           "#FF6692",
           "#B6E880",
           "#FF97FF",
           "#FECB52"
          ],
          "font": {
           "color": "#2a3f5f"
          },
          "geo": {
           "bgcolor": "white",
           "lakecolor": "white",
           "landcolor": "#E5ECF6",
           "showlakes": true,
           "showland": true,
           "subunitcolor": "white"
          },
          "hoverlabel": {
           "align": "left"
          },
          "hovermode": "closest",
          "mapbox": {
           "style": "light"
          },
          "paper_bgcolor": "white",
          "plot_bgcolor": "#E5ECF6",
          "polar": {
           "angularaxis": {
            "gridcolor": "white",
            "linecolor": "white",
            "ticks": ""
           },
           "bgcolor": "#E5ECF6",
           "radialaxis": {
            "gridcolor": "white",
            "linecolor": "white",
            "ticks": ""
           }
          },
          "scene": {
           "xaxis": {
            "backgroundcolor": "#E5ECF6",
            "gridcolor": "white",
            "gridwidth": 2,
            "linecolor": "white",
            "showbackground": true,
            "ticks": "",
            "zerolinecolor": "white"
           },
           "yaxis": {
            "backgroundcolor": "#E5ECF6",
            "gridcolor": "white",
            "gridwidth": 2,
            "linecolor": "white",
            "showbackground": true,
            "ticks": "",
            "zerolinecolor": "white"
           },
           "zaxis": {
            "backgroundcolor": "#E5ECF6",
            "gridcolor": "white",
            "gridwidth": 2,
            "linecolor": "white",
            "showbackground": true,
            "ticks": "",
            "zerolinecolor": "white"
           }
          },
          "shapedefaults": {
           "line": {
            "color": "#2a3f5f"
           }
          },
          "ternary": {
           "aaxis": {
            "gridcolor": "white",
            "linecolor": "white",
            "ticks": ""
           },
           "baxis": {
            "gridcolor": "white",
            "linecolor": "white",
            "ticks": ""
           },
           "bgcolor": "#E5ECF6",
           "caxis": {
            "gridcolor": "white",
            "linecolor": "white",
            "ticks": ""
           }
          },
          "title": {
           "x": 0.05
          },
          "xaxis": {
           "automargin": true,
           "gridcolor": "white",
           "linecolor": "white",
           "ticks": "",
           "title": {
            "standoff": 15
           },
           "zerolinecolor": "white",
           "zerolinewidth": 2
          },
          "yaxis": {
           "automargin": true,
           "gridcolor": "white",
           "linecolor": "white",
           "ticks": "",
           "title": {
            "standoff": 15
           },
           "zerolinecolor": "white",
           "zerolinewidth": 2
          }
         }
        },
        "title": {
         "font": {
          "family": "Arial",
          "size": 20
         },
         "text": "<b>How do People Spend Their Time in the World</b>",
         "x": 0.5
        },
        "updatemenus": [
         {
          "buttons": [
           {
            "args": [
             null,
             {
              "frame": {
               "duration": 500,
               "redraw": true
              },
              "fromcurrent": true,
              "mode": "immediate",
              "transition": {
               "duration": 500,
               "easing": "linear"
              }
             }
            ],
            "label": "&#9654;",
            "method": "animate"
           },
           {
            "args": [
             [
              null
             ],
             {
              "frame": {
               "duration": 0,
               "redraw": true
              },
              "fromcurrent": true,
              "mode": "immediate",
              "transition": {
               "duration": 0,
               "easing": "linear"
              }
             }
            ],
            "label": "&#9724;",
            "method": "animate"
           }
          ],
          "direction": "left",
          "pad": {
           "r": 10,
           "t": 70
          },
          "showactive": false,
          "type": "buttons",
          "x": 0.1,
          "xanchor": "right",
          "y": 0,
          "yanchor": "top"
         }
        ],
        "width": 1000
       }
      },
      "text/html": [
       "<div>                            <div id=\"308d8c06-8e4b-4b38-b9b8-2cfccade28d8\" class=\"plotly-graph-div\" style=\"height:700px; width:1000px;\"></div>            <script type=\"text/javascript\">                require([\"plotly\"], function(Plotly) {                    window.PLOTLYENV=window.PLOTLYENV || {};                                    if (document.getElementById(\"308d8c06-8e4b-4b38-b9b8-2cfccade28d8\")) {                    Plotly.newPlot(                        \"308d8c06-8e4b-4b38-b9b8-2cfccade28d8\",                        [{\"customdata\":[[\"Australia\",211.0,\"Paid work\"],[\"Austria\",280.0,\"Paid work\"],[\"Belgium\",194.0,\"Paid work\"],[\"Canada\",269.0,\"Paid work\"],[\"China\",315.0,\"Paid work\"],[\"Denmark\",200.0,\"Paid work\"],[\"Estonia\",231.0,\"Paid work\"],[\"Finland\",200.0,\"Paid work\"],[\"France\",170.0,\"Paid work\"],[\"Germany\",224.0,\"Paid work\"],[\"Greece\",187.0,\"Paid work\"],[\"Hungary\",199.0,\"Paid work\"],[\"India\",272.0,\"Paid work\"],[\"Ireland\",231.0,\"Paid work\"],[\"Italy \",149.0,\"Paid work\"],[\"Japan\",326.0,\"Paid work\"],[\"Korea\",288.0,\"Paid work\"],[\"Latvia\",317.0,\"Paid work\"],[\"Lithuania\",304.0,\"Paid work\"],[\"Luxembourg\",247.0,\"Paid work\"],[\"Mexico\",302.0,\"Paid work\"],[\"Netherlands\",218.0,\"Paid work\"],[\"New Zealand\",241.0,\"Paid work\"],[\"Norway \",201.0,\"Paid work\"],[\"Poland\",229.0,\"Paid work\"],[\"Portugal\",259.0,\"Paid work\"],[\"Slovenia\",227.0,\"Paid work\"],[\"South Africa\",189.0,\"Paid work\"],[\"Spain\",176.0,\"Paid work\"],[\"Sweden\",262.0,\"Paid work\"],[\"Turkey\",217.0,\"Paid work\"],[\"UK\",235.0,\"Paid work\"],[\"USA\",251.0,\"Paid work\"]],\"geo\":\"geo\",\"hovertemplate\":\"\\u003ci\\u003eIn \\u003cb\\u003e%{customdata[0]}\\u003c\\u002fb\\u003e\\u003c\\u002fi\\u003e, spend \\u003cb\\u003e%{customdata[1]} mins\\u003c\\u002fb\\u003e\\u003cbr\\u003eon %{customdata[2]}\\u003cextra\\u003e\\u003c\\u002fextra\\u003e\",\"hovertext\":[\"Australia\",\"Austria\",\"Belgium\",\"Canada\",\"China\",\"Denmark\",\"Estonia\",\"Finland\",\"France\",\"Germany\",\"Greece\",\"Hungary\",\"India\",\"Ireland\",\"Italy \",\"Japan\",\"Korea\",\"Latvia\",\"Lithuania\",\"Luxembourg\",\"Mexico\",\"Netherlands\",\"New Zealand\",\"Norway \",\"Poland\",\"Portugal\",\"Slovenia\",\"South Africa\",\"Spain\",\"Sweden\",\"Turkey\",\"UK\",\"USA\"],\"legendgroup\":\"\",\"locationmode\":\"country names\",\"locations\":[\"Australia\",\"Austria\",\"Belgium\",\"Canada\",\"China\",\"Denmark\",\"Estonia\",\"Finland\",\"France\",\"Germany\",\"Greece\",\"Hungary\",\"India\",\"Ireland\",\"Italy \",\"Japan\",\"Korea\",\"Latvia\",\"Lithuania\",\"Luxembourg\",\"Mexico\",\"Netherlands\",\"New Zealand\",\"Norway \",\"Poland\",\"Portugal\",\"Slovenia\",\"South Africa\",\"Spain\",\"Sweden\",\"Turkey\",\"UK\",\"USA\"],\"marker\":{\"color\":\"#636efa\",\"size\":[211.0,280.0,194.0,269.0,315.0,200.0,231.0,200.0,170.0,224.0,187.0,199.0,272.0,231.0,149.0,326.0,288.0,317.0,304.0,247.0,302.0,218.0,241.0,201.0,229.0,259.0,227.0,189.0,176.0,262.0,217.0,235.0,251.0],\"sizemode\":\"area\",\"sizeref\":1.3825,\"symbol\":\"circle\"},\"mode\":\"markers\",\"name\":\"\",\"showlegend\":false,\"type\":\"scattergeo\"}],                        {\"template\":{\"data\":{\"histogram2dcontour\":[{\"type\":\"histogram2dcontour\",\"colorbar\":{\"outlinewidth\":0,\"ticks\":\"\"},\"colorscale\":[[0.0,\"#0d0887\"],[0.1111111111111111,\"#46039f\"],[0.2222222222222222,\"#7201a8\"],[0.3333333333333333,\"#9c179e\"],[0.4444444444444444,\"#bd3786\"],[0.5555555555555556,\"#d8576b\"],[0.6666666666666666,\"#ed7953\"],[0.7777777777777778,\"#fb9f3a\"],[0.8888888888888888,\"#fdca26\"],[1.0,\"#f0f921\"]]}],\"choropleth\":[{\"type\":\"choropleth\",\"colorbar\":{\"outlinewidth\":0,\"ticks\":\"\"}}],\"histogram2d\":[{\"type\":\"histogram2d\",\"colorbar\":{\"outlinewidth\":0,\"ticks\":\"\"},\"colorscale\":[[0.0,\"#0d0887\"],[0.1111111111111111,\"#46039f\"],[0.2222222222222222,\"#7201a8\"],[0.3333333333333333,\"#9c179e\"],[0.4444444444444444,\"#bd3786\"],[0.5555555555555556,\"#d8576b\"],[0.6666666666666666,\"#ed7953\"],[0.7777777777777778,\"#fb9f3a\"],[0.8888888888888888,\"#fdca26\"],[1.0,\"#f0f921\"]]}],\"heatmap\":[{\"type\":\"heatmap\",\"colorbar\":{\"outlinewidth\":0,\"ticks\":\"\"},\"colorscale\":[[0.0,\"#0d0887\"],[0.1111111111111111,\"#46039f\"],[0.2222222222222222,\"#7201a8\"],[0.3333333333333333,\"#9c179e\"],[0.4444444444444444,\"#bd3786\"],[0.5555555555555556,\"#d8576b\"],[0.6666666666666666,\"#ed7953\"],[0.7777777777777778,\"#fb9f3a\"],[0.8888888888888888,\"#fdca26\"],[1.0,\"#f0f921\"]]}],\"heatmapgl\":[{\"type\":\"heatmapgl\",\"colorbar\":{\"outlinewidth\":0,\"ticks\":\"\"},\"colorscale\":[[0.0,\"#0d0887\"],[0.1111111111111111,\"#46039f\"],[0.2222222222222222,\"#7201a8\"],[0.3333333333333333,\"#9c179e\"],[0.4444444444444444,\"#bd3786\"],[0.5555555555555556,\"#d8576b\"],[0.6666666666666666,\"#ed7953\"],[0.7777777777777778,\"#fb9f3a\"],[0.8888888888888888,\"#fdca26\"],[1.0,\"#f0f921\"]]}],\"contourcarpet\":[{\"type\":\"contourcarpet\",\"colorbar\":{\"outlinewidth\":0,\"ticks\":\"\"}}],\"contour\":[{\"type\":\"contour\",\"colorbar\":{\"outlinewidth\":0,\"ticks\":\"\"},\"colorscale\":[[0.0,\"#0d0887\"],[0.1111111111111111,\"#46039f\"],[0.2222222222222222,\"#7201a8\"],[0.3333333333333333,\"#9c179e\"],[0.4444444444444444,\"#bd3786\"],[0.5555555555555556,\"#d8576b\"],[0.6666666666666666,\"#ed7953\"],[0.7777777777777778,\"#fb9f3a\"],[0.8888888888888888,\"#fdca26\"],[1.0,\"#f0f921\"]]}],\"surface\":[{\"type\":\"surface\",\"colorbar\":{\"outlinewidth\":0,\"ticks\":\"\"},\"colorscale\":[[0.0,\"#0d0887\"],[0.1111111111111111,\"#46039f\"],[0.2222222222222222,\"#7201a8\"],[0.3333333333333333,\"#9c179e\"],[0.4444444444444444,\"#bd3786\"],[0.5555555555555556,\"#d8576b\"],[0.6666666666666666,\"#ed7953\"],[0.7777777777777778,\"#fb9f3a\"],[0.8888888888888888,\"#fdca26\"],[1.0,\"#f0f921\"]]}],\"mesh3d\":[{\"type\":\"mesh3d\",\"colorbar\":{\"outlinewidth\":0,\"ticks\":\"\"}}],\"scatter\":[{\"fillpattern\":{\"fillmode\":\"overlay\",\"size\":10,\"solidity\":0.2},\"type\":\"scatter\"}],\"parcoords\":[{\"type\":\"parcoords\",\"line\":{\"colorbar\":{\"outlinewidth\":0,\"ticks\":\"\"}}}],\"scatterpolargl\":[{\"type\":\"scatterpolargl\",\"marker\":{\"colorbar\":{\"outlinewidth\":0,\"ticks\":\"\"}}}],\"bar\":[{\"error_x\":{\"color\":\"#2a3f5f\"},\"error_y\":{\"color\":\"#2a3f5f\"},\"marker\":{\"line\":{\"color\":\"#E5ECF6\",\"width\":0.5},\"pattern\":{\"fillmode\":\"overlay\",\"size\":10,\"solidity\":0.2}},\"type\":\"bar\"}],\"scattergeo\":[{\"type\":\"scattergeo\",\"marker\":{\"colorbar\":{\"outlinewidth\":0,\"ticks\":\"\"}}}],\"scatterpolar\":[{\"type\":\"scatterpolar\",\"marker\":{\"colorbar\":{\"outlinewidth\":0,\"ticks\":\"\"}}}],\"histogram\":[{\"marker\":{\"pattern\":{\"fillmode\":\"overlay\",\"size\":10,\"solidity\":0.2}},\"type\":\"histogram\"}],\"scattergl\":[{\"type\":\"scattergl\",\"marker\":{\"colorbar\":{\"outlinewidth\":0,\"ticks\":\"\"}}}],\"scatter3d\":[{\"type\":\"scatter3d\",\"line\":{\"colorbar\":{\"outlinewidth\":0,\"ticks\":\"\"}},\"marker\":{\"colorbar\":{\"outlinewidth\":0,\"ticks\":\"\"}}}],\"scattermapbox\":[{\"type\":\"scattermapbox\",\"marker\":{\"colorbar\":{\"outlinewidth\":0,\"ticks\":\"\"}}}],\"scatterternary\":[{\"type\":\"scatterternary\",\"marker\":{\"colorbar\":{\"outlinewidth\":0,\"ticks\":\"\"}}}],\"scattercarpet\":[{\"type\":\"scattercarpet\",\"marker\":{\"colorbar\":{\"outlinewidth\":0,\"ticks\":\"\"}}}],\"carpet\":[{\"aaxis\":{\"endlinecolor\":\"#2a3f5f\",\"gridcolor\":\"white\",\"linecolor\":\"white\",\"minorgridcolor\":\"white\",\"startlinecolor\":\"#2a3f5f\"},\"baxis\":{\"endlinecolor\":\"#2a3f5f\",\"gridcolor\":\"white\",\"linecolor\":\"white\",\"minorgridcolor\":\"white\",\"startlinecolor\":\"#2a3f5f\"},\"type\":\"carpet\"}],\"table\":[{\"cells\":{\"fill\":{\"color\":\"#EBF0F8\"},\"line\":{\"color\":\"white\"}},\"header\":{\"fill\":{\"color\":\"#C8D4E3\"},\"line\":{\"color\":\"white\"}},\"type\":\"table\"}],\"barpolar\":[{\"marker\":{\"line\":{\"color\":\"#E5ECF6\",\"width\":0.5},\"pattern\":{\"fillmode\":\"overlay\",\"size\":10,\"solidity\":0.2}},\"type\":\"barpolar\"}],\"pie\":[{\"automargin\":true,\"type\":\"pie\"}]},\"layout\":{\"autotypenumbers\":\"strict\",\"colorway\":[\"#636efa\",\"#EF553B\",\"#00cc96\",\"#ab63fa\",\"#FFA15A\",\"#19d3f3\",\"#FF6692\",\"#B6E880\",\"#FF97FF\",\"#FECB52\"],\"font\":{\"color\":\"#2a3f5f\"},\"hovermode\":\"closest\",\"hoverlabel\":{\"align\":\"left\"},\"paper_bgcolor\":\"white\",\"plot_bgcolor\":\"#E5ECF6\",\"polar\":{\"bgcolor\":\"#E5ECF6\",\"angularaxis\":{\"gridcolor\":\"white\",\"linecolor\":\"white\",\"ticks\":\"\"},\"radialaxis\":{\"gridcolor\":\"white\",\"linecolor\":\"white\",\"ticks\":\"\"}},\"ternary\":{\"bgcolor\":\"#E5ECF6\",\"aaxis\":{\"gridcolor\":\"white\",\"linecolor\":\"white\",\"ticks\":\"\"},\"baxis\":{\"gridcolor\":\"white\",\"linecolor\":\"white\",\"ticks\":\"\"},\"caxis\":{\"gridcolor\":\"white\",\"linecolor\":\"white\",\"ticks\":\"\"}},\"coloraxis\":{\"colorbar\":{\"outlinewidth\":0,\"ticks\":\"\"}},\"colorscale\":{\"sequential\":[[0.0,\"#0d0887\"],[0.1111111111111111,\"#46039f\"],[0.2222222222222222,\"#7201a8\"],[0.3333333333333333,\"#9c179e\"],[0.4444444444444444,\"#bd3786\"],[0.5555555555555556,\"#d8576b\"],[0.6666666666666666,\"#ed7953\"],[0.7777777777777778,\"#fb9f3a\"],[0.8888888888888888,\"#fdca26\"],[1.0,\"#f0f921\"]],\"sequentialminus\":[[0.0,\"#0d0887\"],[0.1111111111111111,\"#46039f\"],[0.2222222222222222,\"#7201a8\"],[0.3333333333333333,\"#9c179e\"],[0.4444444444444444,\"#bd3786\"],[0.5555555555555556,\"#d8576b\"],[0.6666666666666666,\"#ed7953\"],[0.7777777777777778,\"#fb9f3a\"],[0.8888888888888888,\"#fdca26\"],[1.0,\"#f0f921\"]],\"diverging\":[[0,\"#8e0152\"],[0.1,\"#c51b7d\"],[0.2,\"#de77ae\"],[0.3,\"#f1b6da\"],[0.4,\"#fde0ef\"],[0.5,\"#f7f7f7\"],[0.6,\"#e6f5d0\"],[0.7,\"#b8e186\"],[0.8,\"#7fbc41\"],[0.9,\"#4d9221\"],[1,\"#276419\"]]},\"xaxis\":{\"gridcolor\":\"white\",\"linecolor\":\"white\",\"ticks\":\"\",\"title\":{\"standoff\":15},\"zerolinecolor\":\"white\",\"automargin\":true,\"zerolinewidth\":2},\"yaxis\":{\"gridcolor\":\"white\",\"linecolor\":\"white\",\"ticks\":\"\",\"title\":{\"standoff\":15},\"zerolinecolor\":\"white\",\"automargin\":true,\"zerolinewidth\":2},\"scene\":{\"xaxis\":{\"backgroundcolor\":\"#E5ECF6\",\"gridcolor\":\"white\",\"linecolor\":\"white\",\"showbackground\":true,\"ticks\":\"\",\"zerolinecolor\":\"white\",\"gridwidth\":2},\"yaxis\":{\"backgroundcolor\":\"#E5ECF6\",\"gridcolor\":\"white\",\"linecolor\":\"white\",\"showbackground\":true,\"ticks\":\"\",\"zerolinecolor\":\"white\",\"gridwidth\":2},\"zaxis\":{\"backgroundcolor\":\"#E5ECF6\",\"gridcolor\":\"white\",\"linecolor\":\"white\",\"showbackground\":true,\"ticks\":\"\",\"zerolinecolor\":\"white\",\"gridwidth\":2}},\"shapedefaults\":{\"line\":{\"color\":\"#2a3f5f\"}},\"annotationdefaults\":{\"arrowcolor\":\"#2a3f5f\",\"arrowhead\":0,\"arrowwidth\":1},\"geo\":{\"bgcolor\":\"white\",\"landcolor\":\"#E5ECF6\",\"subunitcolor\":\"white\",\"showland\":true,\"showlakes\":true,\"lakecolor\":\"white\"},\"title\":{\"x\":0.05},\"mapbox\":{\"style\":\"light\"}}},\"geo\":{\"domain\":{\"x\":[0.0,1.0],\"y\":[0.0,1.0]},\"center\":{}},\"legend\":{\"tracegroupgap\":0,\"itemsizing\":\"constant\"},\"margin\":{\"t\":60},\"height\":700,\"width\":1000,\"updatemenus\":[{\"buttons\":[{\"args\":[null,{\"frame\":{\"duration\":500,\"redraw\":true},\"mode\":\"immediate\",\"fromcurrent\":true,\"transition\":{\"duration\":500,\"easing\":\"linear\"}}],\"label\":\"&#9654;\",\"method\":\"animate\"},{\"args\":[[null],{\"frame\":{\"duration\":0,\"redraw\":true},\"mode\":\"immediate\",\"fromcurrent\":true,\"transition\":{\"duration\":0,\"easing\":\"linear\"}}],\"label\":\"&#9724;\",\"method\":\"animate\"}],\"direction\":\"left\",\"pad\":{\"r\":10,\"t\":70},\"showactive\":false,\"type\":\"buttons\",\"x\":0.1,\"xanchor\":\"right\",\"y\":0,\"yanchor\":\"top\"}],\"sliders\":[{\"active\":0,\"currentvalue\":{\"prefix\":\"Category=\"},\"len\":0.9,\"pad\":{\"b\":10,\"t\":60},\"steps\":[{\"args\":[[\"Paid work\"],{\"frame\":{\"duration\":0,\"redraw\":true},\"mode\":\"immediate\",\"fromcurrent\":true,\"transition\":{\"duration\":0,\"easing\":\"linear\"}}],\"label\":\"Paid work\",\"method\":\"animate\"},{\"args\":[[\"Education\"],{\"frame\":{\"duration\":0,\"redraw\":true},\"mode\":\"immediate\",\"fromcurrent\":true,\"transition\":{\"duration\":0,\"easing\":\"linear\"}}],\"label\":\"Education\",\"method\":\"animate\"},{\"args\":[[\"Sleep\"],{\"frame\":{\"duration\":0,\"redraw\":true},\"mode\":\"immediate\",\"fromcurrent\":true,\"transition\":{\"duration\":0,\"easing\":\"linear\"}}],\"label\":\"Sleep\",\"method\":\"animate\"},{\"args\":[[\"Other unpaid work, care work and volunteer\"],{\"frame\":{\"duration\":0,\"redraw\":true},\"mode\":\"immediate\",\"fromcurrent\":true,\"transition\":{\"duration\":0,\"easing\":\"linear\"}}],\"label\":\"Other unpaid work, care work and volunteer\",\"method\":\"animate\"},{\"args\":[[\"Housework and shopping\"],{\"frame\":{\"duration\":0,\"redraw\":true},\"mode\":\"immediate\",\"fromcurrent\":true,\"transition\":{\"duration\":0,\"easing\":\"linear\"}}],\"label\":\"Housework and shopping\",\"method\":\"animate\"},{\"args\":[[\"Personal care\"],{\"frame\":{\"duration\":0,\"redraw\":true},\"mode\":\"immediate\",\"fromcurrent\":true,\"transition\":{\"duration\":0,\"easing\":\"linear\"}}],\"label\":\"Personal care\",\"method\":\"animate\"},{\"args\":[[\"Eating and drinking\"],{\"frame\":{\"duration\":0,\"redraw\":true},\"mode\":\"immediate\",\"fromcurrent\":true,\"transition\":{\"duration\":0,\"easing\":\"linear\"}}],\"label\":\"Eating and drinking\",\"method\":\"animate\"},{\"args\":[[\"TV and Radio\"],{\"frame\":{\"duration\":0,\"redraw\":true},\"mode\":\"immediate\",\"fromcurrent\":true,\"transition\":{\"duration\":0,\"easing\":\"linear\"}}],\"label\":\"TV and Radio\",\"method\":\"animate\"},{\"args\":[[\"Seeing friends\"],{\"frame\":{\"duration\":0,\"redraw\":true},\"mode\":\"immediate\",\"fromcurrent\":true,\"transition\":{\"duration\":0,\"easing\":\"linear\"}}],\"label\":\"Seeing friends\",\"method\":\"animate\"},{\"args\":[[\"Other leisure\"],{\"frame\":{\"duration\":0,\"redraw\":true},\"mode\":\"immediate\",\"fromcurrent\":true,\"transition\":{\"duration\":0,\"easing\":\"linear\"}}],\"label\":\"Other leisure\",\"method\":\"animate\"}],\"x\":0.1,\"xanchor\":\"left\",\"y\":0,\"yanchor\":\"top\"}],\"title\":{\"font\":{\"size\":20,\"family\":\"Arial\"},\"text\":\"\\u003cb\\u003eHow do People Spend Their Time in the World\\u003c\\u002fb\\u003e\",\"x\":0.5}},                        {\"responsive\": true}                    ).then(function(){\n",
       "                            Plotly.addFrames('308d8c06-8e4b-4b38-b9b8-2cfccade28d8', [{\"data\":[{\"customdata\":[[\"Australia\",211.0,\"Paid work\"],[\"Austria\",280.0,\"Paid work\"],[\"Belgium\",194.0,\"Paid work\"],[\"Canada\",269.0,\"Paid work\"],[\"China\",315.0,\"Paid work\"],[\"Denmark\",200.0,\"Paid work\"],[\"Estonia\",231.0,\"Paid work\"],[\"Finland\",200.0,\"Paid work\"],[\"France\",170.0,\"Paid work\"],[\"Germany\",224.0,\"Paid work\"],[\"Greece\",187.0,\"Paid work\"],[\"Hungary\",199.0,\"Paid work\"],[\"India\",272.0,\"Paid work\"],[\"Ireland\",231.0,\"Paid work\"],[\"Italy \",149.0,\"Paid work\"],[\"Japan\",326.0,\"Paid work\"],[\"Korea\",288.0,\"Paid work\"],[\"Latvia\",317.0,\"Paid work\"],[\"Lithuania\",304.0,\"Paid work\"],[\"Luxembourg\",247.0,\"Paid work\"],[\"Mexico\",302.0,\"Paid work\"],[\"Netherlands\",218.0,\"Paid work\"],[\"New Zealand\",241.0,\"Paid work\"],[\"Norway \",201.0,\"Paid work\"],[\"Poland\",229.0,\"Paid work\"],[\"Portugal\",259.0,\"Paid work\"],[\"Slovenia\",227.0,\"Paid work\"],[\"South Africa\",189.0,\"Paid work\"],[\"Spain\",176.0,\"Paid work\"],[\"Sweden\",262.0,\"Paid work\"],[\"Turkey\",217.0,\"Paid work\"],[\"UK\",235.0,\"Paid work\"],[\"USA\",251.0,\"Paid work\"]],\"geo\":\"geo\",\"hovertemplate\":\"\\u003cb\\u003e%{hovertext}\\u003c\\u002fb\\u003e\\u003cbr\\u003e\\u003cbr\\u003eCategory=Paid work\\u003cbr\\u003eTime (minutes)=%{marker.size}\\u003cbr\\u003eCountry=%{location}\\u003cextra\\u003e\\u003c\\u002fextra\\u003e\",\"hovertext\":[\"Australia\",\"Austria\",\"Belgium\",\"Canada\",\"China\",\"Denmark\",\"Estonia\",\"Finland\",\"France\",\"Germany\",\"Greece\",\"Hungary\",\"India\",\"Ireland\",\"Italy \",\"Japan\",\"Korea\",\"Latvia\",\"Lithuania\",\"Luxembourg\",\"Mexico\",\"Netherlands\",\"New Zealand\",\"Norway \",\"Poland\",\"Portugal\",\"Slovenia\",\"South Africa\",\"Spain\",\"Sweden\",\"Turkey\",\"UK\",\"USA\"],\"legendgroup\":\"\",\"locationmode\":\"country names\",\"locations\":[\"Australia\",\"Austria\",\"Belgium\",\"Canada\",\"China\",\"Denmark\",\"Estonia\",\"Finland\",\"France\",\"Germany\",\"Greece\",\"Hungary\",\"India\",\"Ireland\",\"Italy \",\"Japan\",\"Korea\",\"Latvia\",\"Lithuania\",\"Luxembourg\",\"Mexico\",\"Netherlands\",\"New Zealand\",\"Norway \",\"Poland\",\"Portugal\",\"Slovenia\",\"South Africa\",\"Spain\",\"Sweden\",\"Turkey\",\"UK\",\"USA\"],\"marker\":{\"color\":\"#636efa\",\"size\":[211.0,280.0,194.0,269.0,315.0,200.0,231.0,200.0,170.0,224.0,187.0,199.0,272.0,231.0,149.0,326.0,288.0,317.0,304.0,247.0,302.0,218.0,241.0,201.0,229.0,259.0,227.0,189.0,176.0,262.0,217.0,235.0,251.0],\"sizemode\":\"area\",\"sizeref\":1.3825,\"symbol\":\"circle\"},\"mode\":\"markers\",\"name\":\"\",\"showlegend\":false,\"type\":\"scattergeo\"}],\"name\":\"Paid work\"},{\"data\":[{\"customdata\":[[\"Australia\",27.0,\"Education\"],[\"Austria\",27.0,\"Education\"],[\"Belgium\",41.0,\"Education\"],[\"Canada\",36.0,\"Education\"],[\"China\",25.0,\"Education\"],[\"Denmark\",25.0,\"Education\"],[\"Estonia\",25.0,\"Education\"],[\"Finland\",29.0,\"Education\"],[\"France\",34.0,\"Education\"],[\"Germany\",24.0,\"Education\"],[\"Greece\",40.0,\"Education\"],[\"Hungary\",38.0,\"Education\"],[\"India\",23.0,\"Education\"],[\"Ireland\",37.0,\"Education\"],[\"Italy \",28.0,\"Education\"],[\"Japan\",37.0,\"Education\"],[\"Korea\",57.0,\"Education\"],[\"Latvia\",13.0,\"Education\"],[\"Lithuania\",12.0,\"Education\"],[\"Luxembourg\",37.0,\"Education\"],[\"Mexico\",45.0,\"Education\"],[\"Netherlands\",25.0,\"Education\"],[\"New Zealand\",29.0,\"Education\"],[\"Norway \",40.0,\"Education\"],[\"Poland\",30.0,\"Education\"],[\"Portugal\",36.0,\"Education\"],[\"Slovenia\",38.0,\"Education\"],[\"South Africa\",39.0,\"Education\"],[\"Spain\",26.0,\"Education\"],[\"Sweden\",31.0,\"Education\"],[\"Turkey\",29.0,\"Education\"],[\"UK\",27.0,\"Education\"],[\"USA\",31.0,\"Education\"]],\"geo\":\"geo\",\"hovertemplate\":\"\\u003cb\\u003e%{hovertext}\\u003c\\u002fb\\u003e\\u003cbr\\u003e\\u003cbr\\u003eCategory=Education\\u003cbr\\u003eTime (minutes)=%{marker.size}\\u003cbr\\u003eCountry=%{location}\\u003cextra\\u003e\\u003c\\u002fextra\\u003e\",\"hovertext\":[\"Australia\",\"Austria\",\"Belgium\",\"Canada\",\"China\",\"Denmark\",\"Estonia\",\"Finland\",\"France\",\"Germany\",\"Greece\",\"Hungary\",\"India\",\"Ireland\",\"Italy \",\"Japan\",\"Korea\",\"Latvia\",\"Lithuania\",\"Luxembourg\",\"Mexico\",\"Netherlands\",\"New Zealand\",\"Norway \",\"Poland\",\"Portugal\",\"Slovenia\",\"South Africa\",\"Spain\",\"Sweden\",\"Turkey\",\"UK\",\"USA\"],\"legendgroup\":\"\",\"locationmode\":\"country names\",\"locations\":[\"Australia\",\"Austria\",\"Belgium\",\"Canada\",\"China\",\"Denmark\",\"Estonia\",\"Finland\",\"France\",\"Germany\",\"Greece\",\"Hungary\",\"India\",\"Ireland\",\"Italy \",\"Japan\",\"Korea\",\"Latvia\",\"Lithuania\",\"Luxembourg\",\"Mexico\",\"Netherlands\",\"New Zealand\",\"Norway \",\"Poland\",\"Portugal\",\"Slovenia\",\"South Africa\",\"Spain\",\"Sweden\",\"Turkey\",\"UK\",\"USA\"],\"marker\":{\"color\":\"#636efa\",\"size\":[27.0,27.0,41.0,36.0,25.0,25.0,25.0,29.0,34.0,24.0,40.0,38.0,23.0,37.0,28.0,37.0,57.0,13.0,12.0,37.0,45.0,25.0,29.0,40.0,30.0,36.0,38.0,39.0,26.0,31.0,29.0,27.0,31.0],\"sizemode\":\"area\",\"sizeref\":1.3825,\"symbol\":\"circle\"},\"mode\":\"markers\",\"name\":\"\",\"showlegend\":false,\"type\":\"scattergeo\"}],\"name\":\"Education\"},{\"data\":[{\"customdata\":[[\"Australia\",512.0,\"Sleep\"],[\"Austria\",498.0,\"Sleep\"],[\"Belgium\",513.0,\"Sleep\"],[\"Canada\",520.0,\"Sleep\"],[\"China\",542.0,\"Sleep\"],[\"Denmark\",489.0,\"Sleep\"],[\"Estonia\",530.0,\"Sleep\"],[\"Finland\",508.0,\"Sleep\"],[\"France\",513.0,\"Sleep\"],[\"Germany\",498.0,\"Sleep\"],[\"Greece\",500.0,\"Sleep\"],[\"Hungary\",506.0,\"Sleep\"],[\"India\",528.0,\"Sleep\"],[\"Ireland\",491.0,\"Sleep\"],[\"Italy \",513.0,\"Sleep\"],[\"Japan\",442.0,\"Sleep\"],[\"Korea\",471.0,\"Sleep\"],[\"Latvia\",512.0,\"Sleep\"],[\"Lithuania\",503.0,\"Sleep\"],[\"Luxembourg\",518.0,\"Sleep\"],[\"Mexico\",499.0,\"Sleep\"],[\"Netherlands\",503.0,\"Sleep\"],[\"New Zealand\",526.0,\"Sleep\"],[\"Norway \",492.0,\"Sleep\"],[\"Poland\",509.0,\"Sleep\"],[\"Portugal\",506.0,\"Sleep\"],[\"Slovenia\",501.0,\"Sleep\"],[\"South Africa\",553.0,\"Sleep\"],[\"Spain\",516.0,\"Sleep\"],[\"Sweden\",483.0,\"Sleep\"],[\"Turkey\",515.0,\"Sleep\"],[\"UK\",508.0,\"Sleep\"],[\"USA\",528.0,\"Sleep\"]],\"geo\":\"geo\",\"hovertemplate\":\"\\u003cb\\u003e%{hovertext}\\u003c\\u002fb\\u003e\\u003cbr\\u003e\\u003cbr\\u003eCategory=Sleep\\u003cbr\\u003eTime (minutes)=%{marker.size}\\u003cbr\\u003eCountry=%{location}\\u003cextra\\u003e\\u003c\\u002fextra\\u003e\",\"hovertext\":[\"Australia\",\"Austria\",\"Belgium\",\"Canada\",\"China\",\"Denmark\",\"Estonia\",\"Finland\",\"France\",\"Germany\",\"Greece\",\"Hungary\",\"India\",\"Ireland\",\"Italy \",\"Japan\",\"Korea\",\"Latvia\",\"Lithuania\",\"Luxembourg\",\"Mexico\",\"Netherlands\",\"New Zealand\",\"Norway \",\"Poland\",\"Portugal\",\"Slovenia\",\"South Africa\",\"Spain\",\"Sweden\",\"Turkey\",\"UK\",\"USA\"],\"legendgroup\":\"\",\"locationmode\":\"country names\",\"locations\":[\"Australia\",\"Austria\",\"Belgium\",\"Canada\",\"China\",\"Denmark\",\"Estonia\",\"Finland\",\"France\",\"Germany\",\"Greece\",\"Hungary\",\"India\",\"Ireland\",\"Italy \",\"Japan\",\"Korea\",\"Latvia\",\"Lithuania\",\"Luxembourg\",\"Mexico\",\"Netherlands\",\"New Zealand\",\"Norway \",\"Poland\",\"Portugal\",\"Slovenia\",\"South Africa\",\"Spain\",\"Sweden\",\"Turkey\",\"UK\",\"USA\"],\"marker\":{\"color\":\"#636efa\",\"size\":[512.0,498.0,513.0,520.0,542.0,489.0,530.0,508.0,513.0,498.0,500.0,506.0,528.0,491.0,513.0,442.0,471.0,512.0,503.0,518.0,499.0,503.0,526.0,492.0,509.0,506.0,501.0,553.0,516.0,483.0,515.0,508.0,528.0],\"sizemode\":\"area\",\"sizeref\":1.3825,\"symbol\":\"circle\"},\"mode\":\"markers\",\"name\":\"\",\"showlegend\":false,\"type\":\"scattergeo\"}],\"name\":\"Sleep\"},{\"data\":[{\"customdata\":[[\"Australia\",103.0,\"Other unpaid work, care work and volunteer\"],[\"Austria\",66.0,\"Other unpaid work, care work and volunteer\"],[\"Belgium\",52.0,\"Other unpaid work, care work and volunteer\"],[\"Canada\",81.0,\"Other unpaid work, care work and volunteer\"],[\"China\",56.0,\"Other unpaid work, care work and volunteer\"],[\"Denmark\",73.0,\"Other unpaid work, care work and volunteer\"],[\"Estonia\",68.0,\"Other unpaid work, care work and volunteer\"],[\"Finland\",104.0,\"Other unpaid work, care work and volunteer\"],[\"France\",39.0,\"Other unpaid work, care work and volunteer\"],[\"Germany\",72.0,\"Other unpaid work, care work and volunteer\"],[\"Greece\",45.0,\"Other unpaid work, care work and volunteer\"],[\"Hungary\",69.0,\"Other unpaid work, care work and volunteer\"],[\"India\",43.0,\"Other unpaid work, care work and volunteer\"],[\"Ireland\",133.0,\"Other unpaid work, care work and volunteer\"],[\"Italy \",70.0,\"Other unpaid work, care work and volunteer\"],[\"Japan\",98.0,\"Other unpaid work, care work and volunteer\"],[\"Korea\",70.0,\"Other unpaid work, care work and volunteer\"],[\"Latvia\",54.0,\"Other unpaid work, care work and volunteer\"],[\"Lithuania\",61.0,\"Other unpaid work, care work and volunteer\"],[\"Luxembourg\",62.0,\"Other unpaid work, care work and volunteer\"],[\"Mexico\",84.0,\"Other unpaid work, care work and volunteer\"],[\"Netherlands\",68.0,\"Other unpaid work, care work and volunteer\"],[\"New Zealand\",89.0,\"Other unpaid work, care work and volunteer\"],[\"Norway \",100.0,\"Other unpaid work, care work and volunteer\"],[\"Poland\",77.0,\"Other unpaid work, care work and volunteer\"],[\"Portugal\",52.0,\"Other unpaid work, care work and volunteer\"],[\"Slovenia\",53.0,\"Other unpaid work, care work and volunteer\"],[\"South Africa\",59.0,\"Other unpaid work, care work and volunteer\"],[\"Spain\",89.0,\"Other unpaid work, care work and volunteer\"],[\"Sweden\",66.0,\"Other unpaid work, care work and volunteer\"],[\"Turkey\",89.0,\"Other unpaid work, care work and volunteer\"],[\"UK\",94.0,\"Other unpaid work, care work and volunteer\"],[\"USA\",96.0,\"Other unpaid work, care work and volunteer\"]],\"geo\":\"geo\",\"hovertemplate\":\"\\u003cb\\u003e%{hovertext}\\u003c\\u002fb\\u003e\\u003cbr\\u003e\\u003cbr\\u003eCategory=Other unpaid work, care work and volunteer\\u003cbr\\u003eTime (minutes)=%{marker.size}\\u003cbr\\u003eCountry=%{location}\\u003cextra\\u003e\\u003c\\u002fextra\\u003e\",\"hovertext\":[\"Australia\",\"Austria\",\"Belgium\",\"Canada\",\"China\",\"Denmark\",\"Estonia\",\"Finland\",\"France\",\"Germany\",\"Greece\",\"Hungary\",\"India\",\"Ireland\",\"Italy \",\"Japan\",\"Korea\",\"Latvia\",\"Lithuania\",\"Luxembourg\",\"Mexico\",\"Netherlands\",\"New Zealand\",\"Norway \",\"Poland\",\"Portugal\",\"Slovenia\",\"South Africa\",\"Spain\",\"Sweden\",\"Turkey\",\"UK\",\"USA\"],\"legendgroup\":\"\",\"locationmode\":\"country names\",\"locations\":[\"Australia\",\"Austria\",\"Belgium\",\"Canada\",\"China\",\"Denmark\",\"Estonia\",\"Finland\",\"France\",\"Germany\",\"Greece\",\"Hungary\",\"India\",\"Ireland\",\"Italy \",\"Japan\",\"Korea\",\"Latvia\",\"Lithuania\",\"Luxembourg\",\"Mexico\",\"Netherlands\",\"New Zealand\",\"Norway \",\"Poland\",\"Portugal\",\"Slovenia\",\"South Africa\",\"Spain\",\"Sweden\",\"Turkey\",\"UK\",\"USA\"],\"marker\":{\"color\":\"#636efa\",\"size\":[103.0,66.0,52.0,81.0,56.0,73.0,68.0,104.0,39.0,72.0,45.0,69.0,43.0,133.0,70.0,98.0,70.0,54.0,61.0,62.0,84.0,68.0,89.0,100.0,77.0,52.0,53.0,59.0,89.0,66.0,89.0,94.0,96.0],\"sizemode\":\"area\",\"sizeref\":1.3825,\"symbol\":\"circle\"},\"mode\":\"markers\",\"name\":\"\",\"showlegend\":false,\"type\":\"scattergeo\"}],\"name\":\"Other unpaid work, care work and volunteer\"},{\"data\":[{\"customdata\":[[\"Australia\",161.0,\"Housework and shopping\"],[\"Austria\",146.0,\"Housework and shopping\"],[\"Belgium\",150.0,\"Housework and shopping\"],[\"Canada\",139.0,\"Housework and shopping\"],[\"China\",123.0,\"Housework and shopping\"],[\"Denmark\",154.0,\"Housework and shopping\"],[\"Estonia\",145.0,\"Housework and shopping\"],[\"Finland\",135.0,\"Housework and shopping\"],[\"France\",151.0,\"Housework and shopping\"],[\"Germany\",141.0,\"Housework and shopping\"],[\"Greece\",141.0,\"Housework and shopping\"],[\"Hungary\",169.0,\"Housework and shopping\"],[\"India\",160.0,\"Housework and shopping\"],[\"Ireland\",119.0,\"Housework and shopping\"],[\"Italy \",163.0,\"Housework and shopping\"],[\"Japan\",105.0,\"Housework and shopping\"],[\"Korea\",89.0,\"Housework and shopping\"],[\"Latvia\",146.0,\"Housework and shopping\"],[\"Lithuania\",171.0,\"Housework and shopping\"],[\"Luxembourg\",131.0,\"Housework and shopping\"],[\"Mexico\",201.0,\"Housework and shopping\"],[\"Netherlands\",133.0,\"Housework and shopping\"],[\"New Zealand\",134.0,\"Housework and shopping\"],[\"Norway \",103.0,\"Housework and shopping\"],[\"Poland\",160.0,\"Housework and shopping\"],[\"Portugal\",176.0,\"Housework and shopping\"],[\"Slovenia\",184.0,\"Housework and shopping\"],[\"South Africa\",139.0,\"Housework and shopping\"],[\"Spain\",141.0,\"Housework and shopping\"],[\"Sweden\",130.0,\"Housework and shopping\"],[\"Turkey\",138.0,\"Housework and shopping\"],[\"UK\",133.0,\"Housework and shopping\"],[\"USA\",122.0,\"Housework and shopping\"]],\"geo\":\"geo\",\"hovertemplate\":\"\\u003cb\\u003e%{hovertext}\\u003c\\u002fb\\u003e\\u003cbr\\u003e\\u003cbr\\u003eCategory=Housework and shopping\\u003cbr\\u003eTime (minutes)=%{marker.size}\\u003cbr\\u003eCountry=%{location}\\u003cextra\\u003e\\u003c\\u002fextra\\u003e\",\"hovertext\":[\"Australia\",\"Austria\",\"Belgium\",\"Canada\",\"China\",\"Denmark\",\"Estonia\",\"Finland\",\"France\",\"Germany\",\"Greece\",\"Hungary\",\"India\",\"Ireland\",\"Italy \",\"Japan\",\"Korea\",\"Latvia\",\"Lithuania\",\"Luxembourg\",\"Mexico\",\"Netherlands\",\"New Zealand\",\"Norway \",\"Poland\",\"Portugal\",\"Slovenia\",\"South Africa\",\"Spain\",\"Sweden\",\"Turkey\",\"UK\",\"USA\"],\"legendgroup\":\"\",\"locationmode\":\"country names\",\"locations\":[\"Australia\",\"Austria\",\"Belgium\",\"Canada\",\"China\",\"Denmark\",\"Estonia\",\"Finland\",\"France\",\"Germany\",\"Greece\",\"Hungary\",\"India\",\"Ireland\",\"Italy \",\"Japan\",\"Korea\",\"Latvia\",\"Lithuania\",\"Luxembourg\",\"Mexico\",\"Netherlands\",\"New Zealand\",\"Norway \",\"Poland\",\"Portugal\",\"Slovenia\",\"South Africa\",\"Spain\",\"Sweden\",\"Turkey\",\"UK\",\"USA\"],\"marker\":{\"color\":\"#636efa\",\"size\":[161.0,146.0,150.0,139.0,123.0,154.0,145.0,135.0,151.0,141.0,141.0,169.0,160.0,119.0,163.0,105.0,89.0,146.0,171.0,131.0,201.0,133.0,134.0,103.0,160.0,176.0,184.0,139.0,141.0,130.0,138.0,133.0,122.0],\"sizemode\":\"area\",\"sizeref\":1.3825,\"symbol\":\"circle\"},\"mode\":\"markers\",\"name\":\"\",\"showlegend\":false,\"type\":\"scattergeo\"}],\"name\":\"Housework and shopping\"},{\"data\":[{\"customdata\":[[\"Australia\",56.0,\"Personal care\"],[\"Austria\",55.0,\"Personal care\"],[\"Belgium\",53.0,\"Personal care\"],[\"Canada\",52.0,\"Personal care\"],[\"China\",52.0,\"Personal care\"],[\"Denmark\",52.0,\"Personal care\"],[\"Estonia\",54.0,\"Personal care\"],[\"Finland\",52.0,\"Personal care\"],[\"France\",107.0,\"Personal care\"],[\"Germany\",55.0,\"Personal care\"],[\"Greece\",57.0,\"Personal care\"],[\"Hungary\",76.0,\"Personal care\"],[\"India\",75.0,\"Personal care\"],[\"Ireland\",42.0,\"Personal care\"],[\"Italy \",68.0,\"Personal care\"],[\"Japan\",85.0,\"Personal care\"],[\"Korea\",90.0,\"Personal care\"],[\"Latvia\",40.0,\"Personal care\"],[\"Lithuania\",54.0,\"Personal care\"],[\"Luxembourg\",55.0,\"Personal care\"],[\"Mexico\",58.0,\"Personal care\"],[\"Netherlands\",65.0,\"Personal care\"],[\"New Zealand\",42.0,\"Personal care\"],[\"Norway \",56.0,\"Personal care\"],[\"Poland\",57.0,\"Personal care\"],[\"Portugal\",58.0,\"Personal care\"],[\"Slovenia\",41.0,\"Personal care\"],[\"South Africa\",70.0,\"Personal care\"],[\"Spain\",51.0,\"Personal care\"],[\"Sweden\",57.0,\"Personal care\"],[\"Turkey\",50.0,\"Personal care\"],[\"UK\",58.0,\"Personal care\"],[\"USA\",57.0,\"Personal care\"]],\"geo\":\"geo\",\"hovertemplate\":\"\\u003cb\\u003e%{hovertext}\\u003c\\u002fb\\u003e\\u003cbr\\u003e\\u003cbr\\u003eCategory=Personal care\\u003cbr\\u003eTime (minutes)=%{marker.size}\\u003cbr\\u003eCountry=%{location}\\u003cextra\\u003e\\u003c\\u002fextra\\u003e\",\"hovertext\":[\"Australia\",\"Austria\",\"Belgium\",\"Canada\",\"China\",\"Denmark\",\"Estonia\",\"Finland\",\"France\",\"Germany\",\"Greece\",\"Hungary\",\"India\",\"Ireland\",\"Italy \",\"Japan\",\"Korea\",\"Latvia\",\"Lithuania\",\"Luxembourg\",\"Mexico\",\"Netherlands\",\"New Zealand\",\"Norway \",\"Poland\",\"Portugal\",\"Slovenia\",\"South Africa\",\"Spain\",\"Sweden\",\"Turkey\",\"UK\",\"USA\"],\"legendgroup\":\"\",\"locationmode\":\"country names\",\"locations\":[\"Australia\",\"Austria\",\"Belgium\",\"Canada\",\"China\",\"Denmark\",\"Estonia\",\"Finland\",\"France\",\"Germany\",\"Greece\",\"Hungary\",\"India\",\"Ireland\",\"Italy \",\"Japan\",\"Korea\",\"Latvia\",\"Lithuania\",\"Luxembourg\",\"Mexico\",\"Netherlands\",\"New Zealand\",\"Norway \",\"Poland\",\"Portugal\",\"Slovenia\",\"South Africa\",\"Spain\",\"Sweden\",\"Turkey\",\"UK\",\"USA\"],\"marker\":{\"color\":\"#636efa\",\"size\":[56.0,55.0,53.0,52.0,52.0,52.0,54.0,52.0,107.0,55.0,57.0,76.0,75.0,42.0,68.0,85.0,90.0,40.0,54.0,55.0,58.0,65.0,42.0,56.0,57.0,58.0,41.0,70.0,51.0,57.0,50.0,58.0,57.0],\"sizemode\":\"area\",\"sizeref\":1.3825,\"symbol\":\"circle\"},\"mode\":\"markers\",\"name\":\"\",\"showlegend\":false,\"type\":\"scattergeo\"}],\"name\":\"Personal care\"},{\"data\":[{\"customdata\":[[\"Australia\",89.0,\"Eating and drinking\"],[\"Austria\",79.0,\"Eating and drinking\"],[\"Belgium\",99.0,\"Eating and drinking\"],[\"Canada\",65.0,\"Eating and drinking\"],[\"China\",100.0,\"Eating and drinking\"],[\"Denmark\",119.0,\"Eating and drinking\"],[\"Estonia\",79.0,\"Eating and drinking\"],[\"Finland\",81.0,\"Eating and drinking\"],[\"France\",133.0,\"Eating and drinking\"],[\"Germany\",95.0,\"Eating and drinking\"],[\"Greece\",128.0,\"Eating and drinking\"],[\"Hungary\",101.0,\"Eating and drinking\"],[\"India\",84.0,\"Eating and drinking\"],[\"Ireland\",75.0,\"Eating and drinking\"],[\"Italy \",127.0,\"Eating and drinking\"],[\"Japan\",93.0,\"Eating and drinking\"],[\"Korea\",117.0,\"Eating and drinking\"],[\"Latvia\",89.0,\"Eating and drinking\"],[\"Lithuania\",88.0,\"Eating and drinking\"],[\"Luxembourg\",112.0,\"Eating and drinking\"],[\"Mexico\",77.0,\"Eating and drinking\"],[\"Netherlands\",114.0,\"Eating and drinking\"],[\"New Zealand\",80.0,\"Eating and drinking\"],[\"Norway \",79.0,\"Eating and drinking\"],[\"Poland\",91.0,\"Eating and drinking\"],[\"Portugal\",112.0,\"Eating and drinking\"],[\"Slovenia\",86.0,\"Eating and drinking\"],[\"South Africa\",72.0,\"Eating and drinking\"],[\"Spain\",126.0,\"Eating and drinking\"],[\"Sweden\",83.0,\"Eating and drinking\"],[\"Turkey\",118.0,\"Eating and drinking\"],[\"UK\",79.0,\"Eating and drinking\"],[\"USA\",63.0,\"Eating and drinking\"]],\"geo\":\"geo\",\"hovertemplate\":\"\\u003cb\\u003e%{hovertext}\\u003c\\u002fb\\u003e\\u003cbr\\u003e\\u003cbr\\u003eCategory=Eating and drinking\\u003cbr\\u003eTime (minutes)=%{marker.size}\\u003cbr\\u003eCountry=%{location}\\u003cextra\\u003e\\u003c\\u002fextra\\u003e\",\"hovertext\":[\"Australia\",\"Austria\",\"Belgium\",\"Canada\",\"China\",\"Denmark\",\"Estonia\",\"Finland\",\"France\",\"Germany\",\"Greece\",\"Hungary\",\"India\",\"Ireland\",\"Italy \",\"Japan\",\"Korea\",\"Latvia\",\"Lithuania\",\"Luxembourg\",\"Mexico\",\"Netherlands\",\"New Zealand\",\"Norway \",\"Poland\",\"Portugal\",\"Slovenia\",\"South Africa\",\"Spain\",\"Sweden\",\"Turkey\",\"UK\",\"USA\"],\"legendgroup\":\"\",\"locationmode\":\"country names\",\"locations\":[\"Australia\",\"Austria\",\"Belgium\",\"Canada\",\"China\",\"Denmark\",\"Estonia\",\"Finland\",\"France\",\"Germany\",\"Greece\",\"Hungary\",\"India\",\"Ireland\",\"Italy \",\"Japan\",\"Korea\",\"Latvia\",\"Lithuania\",\"Luxembourg\",\"Mexico\",\"Netherlands\",\"New Zealand\",\"Norway \",\"Poland\",\"Portugal\",\"Slovenia\",\"South Africa\",\"Spain\",\"Sweden\",\"Turkey\",\"UK\",\"USA\"],\"marker\":{\"color\":\"#636efa\",\"size\":[89.0,79.0,99.0,65.0,100.0,119.0,79.0,81.0,133.0,95.0,128.0,101.0,84.0,75.0,127.0,93.0,117.0,89.0,88.0,112.0,77.0,114.0,80.0,79.0,91.0,112.0,86.0,72.0,126.0,83.0,118.0,79.0,63.0],\"sizemode\":\"area\",\"sizeref\":1.3825,\"symbol\":\"circle\"},\"mode\":\"markers\",\"name\":\"\",\"showlegend\":false,\"type\":\"scattergeo\"}],\"name\":\"Eating and drinking\"},{\"data\":[{\"customdata\":[[\"Australia\",140.0,\"TV and Radio\"],[\"Austria\",109.0,\"TV and Radio\"],[\"Belgium\",131.0,\"TV and Radio\"],[\"Canada\",109.0,\"TV and Radio\"],[\"China\",127.0,\"TV and Radio\"],[\"Denmark\",123.0,\"TV and Radio\"],[\"Estonia\",122.0,\"TV and Radio\"],[\"Finland\",118.0,\"TV and Radio\"],[\"France\",114.0,\"TV and Radio\"],[\"Germany\",118.0,\"TV and Radio\"],[\"Greece\",137.0,\"TV and Radio\"],[\"Hungary\",134.0,\"TV and Radio\"],[\"India\",61.0,\"TV and Radio\"],[\"Ireland\",85.0,\"TV and Radio\"],[\"Italy \",104.0,\"TV and Radio\"],[\"Japan\",103.0,\"TV and Radio\"],[\"Korea\",102.0,\"TV and Radio\"],[\"Latvia\",123.0,\"TV and Radio\"],[\"Lithuania\",137.0,\"TV and Radio\"],[\"Luxembourg\",116.0,\"TV and Radio\"],[\"Mexico\",66.0,\"TV and Radio\"],[\"Netherlands\",113.0,\"TV and Radio\"],[\"New Zealand\",124.0,\"TV and Radio\"],[\"Norway \",129.0,\"TV and Radio\"],[\"Poland\",122.0,\"TV and Radio\"],[\"Portugal\",114.0,\"TV and Radio\"],[\"Slovenia\",120.0,\"TV and Radio\"],[\"South Africa\",132.0,\"TV and Radio\"],[\"Spain\",129.0,\"TV and Radio\"],[\"Sweden\",113.0,\"TV and Radio\"],[\"Turkey\",124.0,\"TV and Radio\"],[\"UK\",133.0,\"TV and Radio\"],[\"USA\",148.0,\"TV and Radio\"]],\"geo\":\"geo\",\"hovertemplate\":\"\\u003cb\\u003e%{hovertext}\\u003c\\u002fb\\u003e\\u003cbr\\u003e\\u003cbr\\u003eCategory=TV and Radio\\u003cbr\\u003eTime (minutes)=%{marker.size}\\u003cbr\\u003eCountry=%{location}\\u003cextra\\u003e\\u003c\\u002fextra\\u003e\",\"hovertext\":[\"Australia\",\"Austria\",\"Belgium\",\"Canada\",\"China\",\"Denmark\",\"Estonia\",\"Finland\",\"France\",\"Germany\",\"Greece\",\"Hungary\",\"India\",\"Ireland\",\"Italy \",\"Japan\",\"Korea\",\"Latvia\",\"Lithuania\",\"Luxembourg\",\"Mexico\",\"Netherlands\",\"New Zealand\",\"Norway \",\"Poland\",\"Portugal\",\"Slovenia\",\"South Africa\",\"Spain\",\"Sweden\",\"Turkey\",\"UK\",\"USA\"],\"legendgroup\":\"\",\"locationmode\":\"country names\",\"locations\":[\"Australia\",\"Austria\",\"Belgium\",\"Canada\",\"China\",\"Denmark\",\"Estonia\",\"Finland\",\"France\",\"Germany\",\"Greece\",\"Hungary\",\"India\",\"Ireland\",\"Italy \",\"Japan\",\"Korea\",\"Latvia\",\"Lithuania\",\"Luxembourg\",\"Mexico\",\"Netherlands\",\"New Zealand\",\"Norway \",\"Poland\",\"Portugal\",\"Slovenia\",\"South Africa\",\"Spain\",\"Sweden\",\"Turkey\",\"UK\",\"USA\"],\"marker\":{\"color\":\"#636efa\",\"size\":[140.0,109.0,131.0,109.0,127.0,123.0,122.0,118.0,114.0,118.0,137.0,134.0,61.0,85.0,104.0,103.0,102.0,123.0,137.0,116.0,66.0,113.0,124.0,129.0,122.0,114.0,120.0,132.0,129.0,113.0,124.0,133.0,148.0],\"sizemode\":\"area\",\"sizeref\":1.3825,\"symbol\":\"circle\"},\"mode\":\"markers\",\"name\":\"\",\"showlegend\":false,\"type\":\"scattergeo\"}],\"name\":\"TV and Radio\"},{\"data\":[{\"customdata\":[[\"Australia\",40.0,\"Seeing friends\"],[\"Austria\",82.0,\"Seeing friends\"],[\"Belgium\",50.0,\"Seeing friends\"],[\"Canada\",53.0,\"Seeing friends\"],[\"China\",23.0,\"Seeing friends\"],[\"Denmark\",81.0,\"Seeing friends\"],[\"Estonia\",38.0,\"Seeing friends\"],[\"Finland\",55.0,\"Seeing friends\"],[\"France\",55.0,\"Seeing friends\"],[\"Germany\",61.0,\"Seeing friends\"],[\"Greece\",56.0,\"Seeing friends\"],[\"Hungary\",35.0,\"Seeing friends\"],[\"India\",73.0,\"Seeing friends\"],[\"Ireland\",49.0,\"Seeing friends\"],[\"Italy \",65.0,\"Seeing friends\"],[\"Japan\",17.0,\"Seeing friends\"],[\"Korea\",42.0,\"Seeing friends\"],[\"Latvia\",35.0,\"Seeing friends\"],[\"Lithuania\",32.0,\"Seeing friends\"],[\"Luxembourg\",32.0,\"Seeing friends\"],[\"Mexico\",44.0,\"Seeing friends\"],[\"Netherlands\",73.0,\"Seeing friends\"],[\"New Zealand\",69.0,\"Seeing friends\"],[\"Norway \",57.0,\"Seeing friends\"],[\"Poland\",45.0,\"Seeing friends\"],[\"Portugal\",44.0,\"Seeing friends\"],[\"Slovenia\",62.0,\"Seeing friends\"],[\"South Africa\",82.0,\"Seeing friends\"],[\"Spain\",51.0,\"Seeing friends\"],[\"Sweden\",53.0,\"Seeing friends\"],[\"Turkey\",68.0,\"Seeing friends\"],[\"UK\",47.0,\"Seeing friends\"],[\"USA\",44.0,\"Seeing friends\"]],\"geo\":\"geo\",\"hovertemplate\":\"\\u003cb\\u003e%{hovertext}\\u003c\\u002fb\\u003e\\u003cbr\\u003e\\u003cbr\\u003eCategory=Seeing friends\\u003cbr\\u003eTime (minutes)=%{marker.size}\\u003cbr\\u003eCountry=%{location}\\u003cextra\\u003e\\u003c\\u002fextra\\u003e\",\"hovertext\":[\"Australia\",\"Austria\",\"Belgium\",\"Canada\",\"China\",\"Denmark\",\"Estonia\",\"Finland\",\"France\",\"Germany\",\"Greece\",\"Hungary\",\"India\",\"Ireland\",\"Italy \",\"Japan\",\"Korea\",\"Latvia\",\"Lithuania\",\"Luxembourg\",\"Mexico\",\"Netherlands\",\"New Zealand\",\"Norway \",\"Poland\",\"Portugal\",\"Slovenia\",\"South Africa\",\"Spain\",\"Sweden\",\"Turkey\",\"UK\",\"USA\"],\"legendgroup\":\"\",\"locationmode\":\"country names\",\"locations\":[\"Australia\",\"Austria\",\"Belgium\",\"Canada\",\"China\",\"Denmark\",\"Estonia\",\"Finland\",\"France\",\"Germany\",\"Greece\",\"Hungary\",\"India\",\"Ireland\",\"Italy \",\"Japan\",\"Korea\",\"Latvia\",\"Lithuania\",\"Luxembourg\",\"Mexico\",\"Netherlands\",\"New Zealand\",\"Norway \",\"Poland\",\"Portugal\",\"Slovenia\",\"South Africa\",\"Spain\",\"Sweden\",\"Turkey\",\"UK\",\"USA\"],\"marker\":{\"color\":\"#636efa\",\"size\":[40.0,82.0,50.0,53.0,23.0,81.0,38.0,55.0,55.0,61.0,56.0,35.0,73.0,49.0,65.0,17.0,42.0,35.0,32.0,32.0,44.0,73.0,69.0,57.0,45.0,44.0,62.0,82.0,51.0,53.0,68.0,47.0,44.0],\"sizemode\":\"area\",\"sizeref\":1.3825,\"symbol\":\"circle\"},\"mode\":\"markers\",\"name\":\"\",\"showlegend\":false,\"type\":\"scattergeo\"}],\"name\":\"Seeing friends\"},{\"data\":[{\"customdata\":[[\"Australia\",101.0,\"Other leisure\"],[\"Austria\",100.0,\"Other leisure\"],[\"Belgium\",158.0,\"Other leisure\"],[\"Canada\",116.0,\"Other leisure\"],[\"China\",78.0,\"Other leisure\"],[\"Denmark\",124.0,\"Other leisure\"],[\"Estonia\",149.0,\"Other leisure\"],[\"Finland\",158.0,\"Other leisure\"],[\"France\",125.0,\"Other leisure\"],[\"Germany\",152.0,\"Other leisure\"],[\"Greece\",148.0,\"Other leisure\"],[\"Hungary\",113.0,\"Other leisure\"],[\"India\",119.0,\"Other leisure\"],[\"Ireland\",178.0,\"Other leisure\"],[\"Italy \",154.0,\"Other leisure\"],[\"Korea\",113.0,\"Other leisure\"],[\"Latvia\",111.0,\"Other leisure\"],[\"Lithuania\",78.0,\"Other leisure\"],[\"Luxembourg\",127.0,\"Other leisure\"],[\"Mexico\",62.0,\"Other leisure\"],[\"Netherlands\",130.0,\"Other leisure\"],[\"New Zealand\",108.0,\"Other leisure\"],[\"Norway \",183.0,\"Other leisure\"],[\"Poland\",119.0,\"Other leisure\"],[\"Portugal\",83.0,\"Other leisure\"],[\"Slovenia\",129.0,\"Other leisure\"],[\"South Africa\",92.0,\"Other leisure\"],[\"Spain\",136.0,\"Other leisure\"],[\"Sweden\",155.0,\"Other leisure\"],[\"Turkey\",94.0,\"Other leisure\"],[\"UK\",124.0,\"Other leisure\"],[\"USA\",99.0,\"Other leisure\"]],\"geo\":\"geo\",\"hovertemplate\":\"\\u003cb\\u003e%{hovertext}\\u003c\\u002fb\\u003e\\u003cbr\\u003e\\u003cbr\\u003eCategory=Other leisure\\u003cbr\\u003eTime (minutes)=%{marker.size}\\u003cbr\\u003eCountry=%{location}\\u003cextra\\u003e\\u003c\\u002fextra\\u003e\",\"hovertext\":[\"Australia\",\"Austria\",\"Belgium\",\"Canada\",\"China\",\"Denmark\",\"Estonia\",\"Finland\",\"France\",\"Germany\",\"Greece\",\"Hungary\",\"India\",\"Ireland\",\"Italy \",\"Korea\",\"Latvia\",\"Lithuania\",\"Luxembourg\",\"Mexico\",\"Netherlands\",\"New Zealand\",\"Norway \",\"Poland\",\"Portugal\",\"Slovenia\",\"South Africa\",\"Spain\",\"Sweden\",\"Turkey\",\"UK\",\"USA\"],\"legendgroup\":\"\",\"locationmode\":\"country names\",\"locations\":[\"Australia\",\"Austria\",\"Belgium\",\"Canada\",\"China\",\"Denmark\",\"Estonia\",\"Finland\",\"France\",\"Germany\",\"Greece\",\"Hungary\",\"India\",\"Ireland\",\"Italy \",\"Korea\",\"Latvia\",\"Lithuania\",\"Luxembourg\",\"Mexico\",\"Netherlands\",\"New Zealand\",\"Norway \",\"Poland\",\"Portugal\",\"Slovenia\",\"South Africa\",\"Spain\",\"Sweden\",\"Turkey\",\"UK\",\"USA\"],\"marker\":{\"color\":\"#636efa\",\"size\":[101.0,100.0,158.0,116.0,78.0,124.0,149.0,158.0,125.0,152.0,148.0,113.0,119.0,178.0,154.0,113.0,111.0,78.0,127.0,62.0,130.0,108.0,183.0,119.0,83.0,129.0,92.0,136.0,155.0,94.0,124.0,99.0],\"sizemode\":\"area\",\"sizeref\":1.3825,\"symbol\":\"circle\"},\"mode\":\"markers\",\"name\":\"\",\"showlegend\":false,\"type\":\"scattergeo\"}],\"name\":\"Other leisure\"}]);\n",
       "                        }).then(function(){\n",
       "                            \n",
       "var gd = document.getElementById('308d8c06-8e4b-4b38-b9b8-2cfccade28d8');\n",
       "var x = new MutationObserver(function (mutations, observer) {{\n",
       "        var display = window.getComputedStyle(gd).display;\n",
       "        if (!display || display === 'none') {{\n",
       "            console.log([gd, 'removed!']);\n",
       "            Plotly.purge(gd);\n",
       "            observer.disconnect();\n",
       "        }}\n",
       "}});\n",
       "\n",
       "// Listen for the removal of the full notebook cells\n",
       "var notebookContainer = gd.closest('#notebook-container');\n",
       "if (notebookContainer) {{\n",
       "    x.observe(notebookContainer, {childList: true});\n",
       "}}\n",
       "\n",
       "// Listen for the clearing of the current output cell\n",
       "var outputEl = gd.closest('.output');\n",
       "if (outputEl) {{\n",
       "    x.observe(outputEl, {childList: true});\n",
       "}}\n",
       "\n",
       "                        })                };                });            </script>        </div>"
      ]
     },
     "metadata": {},
     "output_type": "display_data"
    }
   ],
   "source": [
    "fig = px.scatter_geo(df4_combinecat_long,\n",
    "                     locations='Country',\n",
    "                     hover_name='Country', # Display country name on hover\n",
    "                     size='Time (minutes)', # Size of points by population\n",
    "                     locationmode='country names',\n",
    "                     animation_frame='Category',\n",
    "                     height=700,\n",
    "                     width=1000,\n",
    "                     custom_data=['Country','Time (minutes)','Category']\n",
    "                     )\n",
    "\n",
    "fig.update_layout(\n",
    "    title={'text':'<b>How do People Spend Their Time in the World</b>',\n",
    "           'font':{'size': 20, 'family': 'Arial'}\n",
    "    },\n",
    "    title_x=0.5\n",
    ")\n",
    "\n",
    "fig.update_traces(\n",
    "    hovertemplate = '<i>In <b>%{customdata[0]}</b></i>, spend <b>%{customdata[1]} mins</b><br>on %{customdata[2]}<extra></extra>'\n",
    ")\n",
    "\n",
    "fig.show()"
   ]
  },
  {
   "cell_type": "markdown",
   "id": "t-UXXVrm-g5D",
   "metadata": {
    "id": "t-UXXVrm-g5D"
   },
   "source": [
    "#### **Thoughts re. visualization:**\n",
    "- The world data of how people spend their time works best with the horizontal stacked bar chart as presented in the ourworldindata bar chart\n",
    "- I made an animated map figure with bubble size corresponding to the time spent in each country shown on map. While the map show the location of the data, the map didn't add new insight to visualization\n",
    "- The time spent in each category is similar in each country. It was hard to see which country spend the most time in each category with the geo scatter plot\n",
    "- The geo scatter plot can be much suitable for other data and purpose\n",
    "\n"
   ]
  }
 ],
 "metadata": {
  "colab": {
   "provenance": []
  },
  "kernelspec": {
   "display_name": "Python 3 (ipykernel)",
   "language": "python",
   "name": "python3"
  },
  "language_info": {
   "codemirror_mode": {
    "name": "ipython",
    "version": 3
   },
   "file_extension": ".py",
   "mimetype": "text/x-python",
   "name": "python",
   "nbconvert_exporter": "python",
   "pygments_lexer": "ipython3",
   "version": "3.12.7"
  }
 },
 "nbformat": 4,
 "nbformat_minor": 5
}
